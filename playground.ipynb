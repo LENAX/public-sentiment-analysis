{
 "cells": [
  {
   "cell_type": "code",
   "execution_count": null,
   "metadata": {},
   "outputs": [],
   "source": [
    "import asyncio\n",
    "import nest_asyncio\n",
    "nest_asyncio.apply()\n",
    "loop = asyncio.get_event_loop()"
   ]
  },
  {
   "cell_type": "code",
   "execution_count": null,
   "metadata": {},
   "outputs": [],
   "source": [
    "from motor.motor_asyncio import AsyncIOMotorClient\n",
    "\n",
    "\n",
    "def create_client(host: str, username: str,\n",
    "                  password: str, port: int,\n",
    "                  db_name: str) -> AsyncIOMotorClient:\n",
    "    return AsyncIOMotorClient(\n",
    "            f\"mongodb://{username}:{password}@{host}:{port}/{db_name}?authSource=admin\")\n"
   ]
  },
  {
   "cell_type": "code",
   "execution_count": null,
   "metadata": {},
   "outputs": [],
   "source": [
    "from typing import Any, List\n",
    "\n",
    "\n",
    "class AsyncCRUDBase(object):\n",
    "\n",
    "    @staticmethod\n",
    "    async def get(db: Any, query: Any, **kwargs):\n",
    "        return NotImplemented\n",
    "\n",
    "    @staticmethod\n",
    "    async def delete(db: Any, query: Any, **kwargs):\n",
    "        return NotImplemented\n",
    "\n",
    "    @staticmethod\n",
    "    async def insert_many(db: Any, data: Any, **kwargs):\n",
    "        return NotImplemented\n",
    "\n",
    "    async def save(self, db, collection):\n",
    "        return NotImplemented\n",
    "\n",
    "\n",
    "class AsyncMongoCRUDBase(AsyncCRUDBase):\n",
    "    \"\"\" Provides minimal support for writing to MongoDB\n",
    "    \"\"\"\n",
    "    \n",
    "    @staticmethod\n",
    "    async def get(collection: Any,  query: Any, **kwargs) -> List[object]:\n",
    "        result = [data async for data in collection.find(query)]\n",
    "        return result\n",
    "\n",
    "    @staticmethod\n",
    "    async def delete(collection: Any, query: Any, **kwargs):\n",
    "        return NotImplemented\n",
    "\n",
    "    @staticmethod\n",
    "    async def insert_many(collection: Any, data: Any, **kwargs):\n",
    "        await collection.insert_many(data)\n",
    "\n",
    "    async def save(self, collection):\n",
    "        return NotImplemented\n"
   ]
  },
  {
   "cell_type": "code",
   "execution_count": null,
   "metadata": {},
   "outputs": [],
   "source": [
    "from pydantic import BaseModel\n",
    "from bson import ObjectId\n",
    "from datetime import datetime, date\n",
    "from typing import Optional, List\n",
    "\n",
    "class MongoModel(BaseModel, AsyncMongoCRUDBase):\n",
    "\n",
    "    class Config:\n",
    "        allow_population_by_field_name = True\n",
    "        json_encoders = {\n",
    "            datetime: lambda dt: dt.isoformat(),\n",
    "            ObjectId: lambda oid: str(oid),\n",
    "        }\n",
    "\n",
    "    @classmethod\n",
    "    def from_mongo(cls, data: dict):\n",
    "        \"\"\"We must convert _id into \"id\". \"\"\"\n",
    "        if not data:\n",
    "            return data\n",
    "        id = data.pop('_id', None)\n",
    "        return cls(**dict(data, id=id))\n",
    "\n",
    "    def mongo(self, **kwargs):\n",
    "        exclude_unset = kwargs.pop('exclude_unset', True)\n",
    "        by_alias = kwargs.pop('by_alias', True)\n",
    "\n",
    "        parsed = self.dict(\n",
    "            exclude_unset=exclude_unset,\n",
    "            by_alias=by_alias,\n",
    "            **kwargs,\n",
    "        )\n",
    "\n",
    "        # Mongo uses `_id` as default key. We should stick to that as well.\n",
    "        if '_id' not in parsed and 'id' in parsed:\n",
    "            parsed['_id'] = parsed.pop('id')\n",
    "\n",
    "        return parsed\n",
    "    \n",
    "    @staticmethod\n",
    "    async def insert_many(collection: Any, data: List[AsyncMongoCRUDBase], **kwargs):\n",
    "        await collection.insert_many([d.mongo() for d in data])\n",
    "\n",
    "    @classmethod\n",
    "    async def get(cls, collection: Any,  query: Any, **kwargs) -> List[object]:\n",
    "        result = [cls.from_mongo(data) async for data in collection.find(query)]\n",
    "        return result\n",
    "\n",
    "    async def save(self, db, collection_name:str):\n",
    "        try:\n",
    "            await db[collection_name].insert_one(self.mongo())\n",
    "        except Exception as e:\n",
    "            print(e)\n"
   ]
  },
  {
   "cell_type": "code",
   "execution_count": null,
   "metadata": {},
   "outputs": [],
   "source": [
    "import re\n",
    "\n",
    "domain_pattern = re.compile(\"^(?:https?:\\/\\/)?(?:[^@\\/\\n]+@)?(?:www\\.)?([^:\\/?\\n]+)\")"
   ]
  },
  {
   "cell_type": "code",
   "execution_count": null,
   "metadata": {},
   "outputs": [],
   "source": [
    "from enum import Enum\n",
    "\n",
    "\n",
    "class JobState(str, Enum):\n",
    "    PENDING= 'pending'\n",
    "    DONE = 'done'\n",
    "    WORKING = 'working'\n",
    "    FAILED = 'failed'\n",
    "\n",
    "\n",
    "class ContentType(str, Enum):\n",
    "    WEBPAGE: str = 'webpage'\n",
    "    IMAGE: str = 'image'\n",
    "    AUDIO: str = 'audio'\n",
    "    VIDEO: str = 'video'\n",
    "\n",
    "\n",
    "class JobType(str, Enum):\n",
    "    \"\"\" Job types supported by spiders\n",
    "\n",
    "    BASIC_PAGE_SCRAPING: only scrape the provided urls and return the html of those urls,\n",
    "    SEARCH_RESULT_AGGREGATION: perform searches on search engines or general search page and retrieve their results,\n",
    "    WEB_CRAWLING: Start from seed urls, follow all links available.\n",
    "    \"\"\"\n",
    "    BASIC_PAGE_SCRAPING: str = 'basic_page_scraping'\n",
    "    SEARCH_RESULT_AGGREGATION: str = 'search_result_aggregation'\n",
    "    # WEB_CRAWLING: str = 'web_crawling'"
   ]
  },
  {
   "cell_type": "code",
   "execution_count": null,
   "metadata": {},
   "outputs": [],
   "source": [
    "class KeywordRules(BaseModel):\n",
    "    include: List[str] = []\n",
    "    exclude: List[str] = []\n",
    "\n",
    "\n",
    "class SizeLimit(BaseModel):\n",
    "    max_pages: Optional[int]\n",
    "    max_size: Optional[int]\n",
    "\n",
    "\n",
    "class TimeRange(BaseModel):\n",
    "    past_days: Optional[int]\n",
    "    date_before: Optional[date]\n",
    "    date_after: Optional[date]\n",
    "\n",
    "\n",
    "class RegexPattern(BaseModel):\n",
    "    patterns: Optional[List[str]] = []\n",
    "\n",
    "\n",
    "class ScrapeRules(BaseModel):\n",
    "    \"\"\" Describes rules a spider should follow\n",
    "\n",
    "    Fields:\n",
    "        keywords: Optional[KeywordRules]\n",
    "        size_limit: Optional[SizeLimit]\n",
    "        time_range: Optional[TimeRange]\n",
    "        regular_expressions: Optional[RegexPattern]\n",
    "        max_retry: Optional[int] = 1  \n",
    "    \"\"\"\n",
    "    keywords: Optional[KeywordRules]\n",
    "    size_limit: Optional[SizeLimit]\n",
    "    time_range: Optional[TimeRange]\n",
    "    regular_expressions: Optional[RegexPattern]\n",
    "    max_retry: Optional[int] = 1\n",
    "\n",
    "\n",
    "\n",
    "class JobSpecification(BaseModel):\n",
    "    \"\"\" Describes what kind of task a spider should perform\n",
    "\n",
    "    Fields:\n",
    "        urls: List[str]\n",
    "        job_type: JobType\n",
    "        scrape_rules: ScrapeRules\n",
    "        data_collection: str = 'test'\n",
    "    \"\"\"\n",
    "    urls: List[str]\n",
    "    job_type: JobType\n",
    "    scrape_rules: ScrapeRules\n",
    "    data_collection: str = 'test'\n",
    "    job_collection: str = \"jobs\""
   ]
  },
  {
   "cell_type": "code",
   "execution_count": null,
   "metadata": {},
   "outputs": [],
   "source": [
    "from typing import Optional, List, Any\n",
    "from datetime import datetime, timedelta\n",
    "\n",
    "class JobStatus(MongoModel):\n",
    "    job_id: str\n",
    "    create_dt: datetime\n",
    "    page_count: int = 0\n",
    "    time_consumed: Optional[timedelta]\n",
    "    current_state: JobState\n",
    "    specification: JobSpecification\n"
   ]
  },
  {
   "cell_type": "code",
   "execution_count": null,
   "metadata": {},
   "outputs": [],
   "source": [
    "job_spec = JobSpecification(\n",
    "    urls=['http://www.qq.com',\n",
    "          \"http://www.taobao.com\",\n",
    "          \"http://www.baidu.com\",\n",
    "          'http://www.guancha.cn',\n",
    "          'http://www.sina.com.cn']*5,\n",
    "    job_type=JobType.BASIC_PAGE_SCRAPING,\n",
    "    scrape_rules=ScrapeRules(\n",
    "        sizelimit=SizeLimit(max_pages=10)\n",
    "    )\n",
    ")\n",
    "job_spec"
   ]
  },
  {
   "cell_type": "code",
   "execution_count": null,
   "metadata": {},
   "outputs": [],
   "source": [
    "from uuid import uuid4\n",
    "job_status = JobStatus(\n",
    "            job_id=str(uuid4()),\n",
    "            create_dt=datetime.now(),\n",
    "            page_count=0,\n",
    "            specification=job_spec,\n",
    "            current_state=JobState.PENDING,\n",
    "            time_consumed=timedelta(seconds=0))\n",
    "job_status"
   ]
  },
  {
   "cell_type": "code",
   "execution_count": null,
   "metadata": {},
   "outputs": [],
   "source": [
    "import asyncio\n",
    "import time\n",
    "\n",
    "\n",
    "def timeit(func):\n",
    "    async def process(func, *args, **params):\n",
    "        if asyncio.iscoroutinefunction(func):\n",
    "            print('this function is a coroutine: {}'.format(func.__name__))\n",
    "            return await func(*args, **params)\n",
    "        else:\n",
    "            print('this is not a coroutine')\n",
    "            return func(*args, **params)\n",
    "\n",
    "    async def helper(*args, **params):\n",
    "        print('{}.time'.format(func.__name__))\n",
    "        start = time.time()\n",
    "        result = await process(func, *args, **params)\n",
    "\n",
    "        # Test normal function route...\n",
    "        # result = await process(lambda *a, **p: print(*a, **p), *args, **params)\n",
    "\n",
    "        print('>>>', time.time() - start)\n",
    "        return result\n",
    "\n",
    "    return helper\n"
   ]
  },
  {
   "cell_type": "code",
   "execution_count": null,
   "metadata": {},
   "outputs": [],
   "source": [
    "from typing import Optional, List\n",
    "from datetime import datetime\n",
    "\n",
    "class URL(BaseModel):\n",
    "    \"\"\" Holds an url and its domain name.\n",
    "\n",
    "    If domain name is not specified, it will be guessed from the url\n",
    "\n",
    "    Fields:\n",
    "        url: str\n",
    "        domain: Optional[str]\n",
    "    \"\"\"\n",
    "    url: str\n",
    "    domain: Optional[str] = None\n",
    "\n",
    "    def __init__(self, **data: Any) -> None:\n",
    "        super().__init__(**data)\n",
    "        parsed_domain = domain_pattern.findall(self.url)\n",
    "\n",
    "        if self.domain is None and len(parsed_domain):\n",
    "            # auto fills domain name if not provided\n",
    "            self.domain = parsed_domain[0]\n",
    "\n",
    "\n",
    "class HTMLData(MongoModel):\n",
    "    \"\"\" Builds a html data representation\n",
    "\n",
    "    Fields:\n",
    "        url: URL\n",
    "        html: str\n",
    "        create_dt: datetime\n",
    "        job_id: Optional[str]\n",
    "        keywords: Optional[List[str]] = []\n",
    "    \"\"\"\n",
    "    url: URL\n",
    "    html: str\n",
    "    create_dt: datetime\n",
    "    job_id: Optional[str]\n",
    "    keywords: Optional[List[str]] = []\n"
   ]
  },
  {
   "cell_type": "code",
   "execution_count": null,
   "metadata": {},
   "outputs": [],
   "source": [
    "def periodic(period):\n",
    "    def scheduler(fcn):\n",
    "\n",
    "        async def wrapper(*args, **kwargs):\n",
    "\n",
    "            while True:\n",
    "                asyncio.create_task(fcn(*args, **kwargs))\n",
    "                await asyncio.sleep(period)\n",
    "\n",
    "        return wrapper\n",
    "\n",
    "    return scheduler"
   ]
  },
  {
   "cell_type": "code",
   "execution_count": null,
   "metadata": {},
   "outputs": [],
   "source": [
    "from abc import ABC\n",
    "from typing import Callable\n",
    "import aiohttp\n",
    "\n",
    "class AsyncIterator:\n",
    "    def __init__(self, seq):\n",
    "        self.iter = iter(seq)\n",
    "\n",
    "    def __aiter__(self):\n",
    "        return self\n",
    "\n",
    "    async def __anext__(self):\n",
    "        try:\n",
    "            return next(self.iter)\n",
    "        except StopIteration:\n",
    "            raise StopAsyncIteration\n",
    "\n",
    "\n",
    "class BaseSpiderService(ABC):\n",
    "    \"\"\" Defines common interface for spider services.\n",
    "    \"\"\"\n",
    "\n",
    "    def get(self, data_src: URL) -> Any:\n",
    "        return NotImplemented\n",
    "\n",
    "    def get_many(self, data_src: List[URL], rules: Any) -> Any:\n",
    "        return NotImplemented\n",
    "\n",
    "class HTMLSpiderService(BaseSpiderService):\n",
    "\n",
    "    def __init__(self, session: aiohttp.ClientSession, job_id: str = None):\n",
    "        BaseSpiderService.__init__(self)\n",
    "        self.session = session\n",
    "        self.html_data: List[HTMLData] = []\n",
    "        self.job_id = job_id\n",
    "        self.page_count = 0\n",
    "\n",
    "    async def get(self, data_src: URL) -> None:\n",
    "        async with self.session.get(data_src.url) as response:\n",
    "            html = await response.text()\n",
    "            return html\n",
    "\n",
    "    async def get_many(self, data_src: List[str], rules: ScrapeRules,\n",
    "                       async_db_action: Callable = None, async_in_progress_callback: Callable = None,\n",
    "                       async_job_done_callback: Callable = None, execute_job_callback_interval: int = 1,\n",
    "                       **kwargs) -> None:\n",
    "        \"\"\" Get html data given the data source\n",
    "        \n",
    "        Pass callback coroutines to this method when using a BackgroundTask scheduler.\n",
    "\n",
    "        Args: \n",
    "            data_src: List[str]\n",
    "            rules: ScrapeRules\n",
    "            async_in_progress_callback: corountine for handling job status during scraping\n",
    "            async_job_done_callback: corountine for handling job status after\n",
    "            async_db_action: coroutine for handling database operations\n",
    "            execute_job_callback_interval: time interval for executing in_progress_callback\n",
    "            kwargs: arguments for callbacks\n",
    "        \"\"\"\n",
    "        self.html_data = []\n",
    "        self.page_count = 0\n",
    "        \n",
    "        loop = asyncio.get_running_loop()\n",
    "        \n",
    "        async def scrape(url):\n",
    "            target_url = URL(url=url)\n",
    "            html = await self.get(target_url)\n",
    "            html_data = HTMLData(url=target_url, html=html,\n",
    "                                 create_dt=datetime.now(),\n",
    "                                 job_id=self.job_id)\n",
    "            self.page_count += 1\n",
    "            self.html_data.append(html_data)\n",
    "            \n",
    "        @periodic(1)\n",
    "        async def tick():\n",
    "#             if async_in_progress_callback:\n",
    "            await asyncio.sleep(1)\n",
    "            print(\"tik tok\")\n",
    "        \n",
    "        def unblock_periodic_task(task):\n",
    "            return lambda task: task.cancel()\n",
    "            \n",
    "        async def execute_db_action_after(tasks, periodic_task):\n",
    "            await asyncio.gather(*tasks)\n",
    "            if async_db_action:\n",
    "                await async_db_action(data=self.html_data, **kwargs)\n",
    "                periodic_task.cancel()\n",
    "            print(\"done\")\n",
    "        \n",
    "        tasks = [scrape(url) for url in data_src]\n",
    "        periodic_in_progress_task = loop.create_task(tick())\n",
    "#         loop.call_later(1, unblock_periodic_task(periodic_in_progress_task))\n",
    "        db_task = asyncio.create_task(execute_db_action_after(tasks, periodic_in_progress_task))\n",
    "        \n",
    "#         await periodic_in_progress_task\n",
    "        await db_task\n",
    "        \n",
    "            \n",
    "        return self.html_data\n"
   ]
  },
  {
   "cell_type": "code",
   "execution_count": null,
   "metadata": {},
   "outputs": [],
   "source": [
    "session = aiohttp.ClientSession()"
   ]
  },
  {
   "cell_type": "code",
   "execution_count": null,
   "metadata": {},
   "outputs": [],
   "source": [
    "spider = HTMLSpiderService(session, job_id=str(uuid4()))"
   ]
  },
  {
   "cell_type": "code",
   "execution_count": null,
   "metadata": {},
   "outputs": [],
   "source": [
    "job_spec = JobSpecification(\n",
    "    urls=[\n",
    "          \"http://www.taobao.com\",\n",
    "          \"http://www.baidu.com\",\n",
    "          'http://www.guancha.cn',\n",
    "          'http://www.sina.com.cn'],\n",
    "    job_type=JobType.BASIC_PAGE_SCRAPING,\n",
    "    scrape_rules=ScrapeRules(\n",
    "        sizelimit=SizeLimit(max_pages=10)\n",
    "    )\n",
    ")"
   ]
  },
  {
   "cell_type": "code",
   "execution_count": null,
   "metadata": {},
   "outputs": [],
   "source": [
    "client = create_client(username=\"admin\", password=\"root\", host=\"localhost\", port=27017, db_name=\"spiderDB\")\n",
    "test_collection = client.spiderDB.test"
   ]
  },
  {
   "cell_type": "code",
   "execution_count": null,
   "metadata": {},
   "outputs": [],
   "source": [
    "start_time = time.time()\n",
    "data = asyncio.run(spider.get_many(job_spec.urls, job_spec.scrape_rules, async_db_action=HTMLData.insert_many, collection=test_collection))\n",
    "used_time = time.time() - start_time\n",
    "print(f\"used {used_time} seconds\")\n",
    "print(f\"Collected {len(data)} entries\")"
   ]
  },
  {
   "cell_type": "code",
   "execution_count": null,
   "metadata": {},
   "outputs": [],
   "source": []
  },
  {
   "cell_type": "code",
   "execution_count": null,
   "metadata": {},
   "outputs": [],
   "source": [
    "@timeit\n",
    "async def test_scrape(spider):\n",
    "    data = await spider.get_many(job_spec.urls, job_spec.scrape_rules, async_db_action=HTMLData.insert_many, collection=test_collection)\n",
    "    return data"
   ]
  },
  {
   "cell_type": "code",
   "execution_count": null,
   "metadata": {},
   "outputs": [],
   "source": [
    "time.time()"
   ]
  },
  {
   "cell_type": "code",
   "execution_count": null,
   "metadata": {},
   "outputs": [],
   "source": [
    "import asyncio\n",
    "\n",
    "async def factorial(name, number):\n",
    "    f = 1\n",
    "    for i in range(2, number + 1):\n",
    "        print(f\"Task {name}: Compute factorial({number}), currently i={i}...\")\n",
    "        await asyncio.sleep(1)\n",
    "        f *= i\n",
    "    print(f\"Task {name}: factorial({number}) = {f}\")\n",
    "    return f\n",
    "\n",
    "async def main():\n",
    "    # Schedule three calls *concurrently*:\n",
    "    L = await asyncio.gather(\n",
    "        factorial(\"A\", 2),\n",
    "        factorial(\"B\", 3),\n",
    "        factorial(\"C\", 4),\n",
    "    )\n",
    "    print(L)\n",
    "\n",
    "asyncio.run(main())\n"
   ]
  },
  {
   "cell_type": "code",
   "execution_count": null,
   "metadata": {},
   "outputs": [],
   "source": [
    "async def find_all(test_collection):\n",
    "    print(test_collection)\n",
    "    data = [HTMLData(**d) async for d in test_collection.find({})]\n",
    "    return data"
   ]
  },
  {
   "cell_type": "code",
   "execution_count": null,
   "metadata": {},
   "outputs": [],
   "source": []
  },
  {
   "cell_type": "code",
   "execution_count": null,
   "metadata": {},
   "outputs": [],
   "source": [
    "test_data = HTMLData(url=URL(url='http://www.bbc.com'), html='<p>news</p>', create_dt=datetime(1976, 5, 28, 4, 21, 11, 901000), job_id='1', keywords=[])"
   ]
  },
  {
   "cell_type": "code",
   "execution_count": null,
   "metadata": {},
   "outputs": [],
   "source": [
    "asyncio.run(test_data.save(client.spiderDB, 'test'))"
   ]
  },
  {
   "cell_type": "code",
   "execution_count": null,
   "metadata": {},
   "outputs": [],
   "source": [
    "asyncio.run(HTMLData.get(client.spiderDB.test, {}))"
   ]
  },
  {
   "cell_type": "code",
   "execution_count": null,
   "metadata": {},
   "outputs": [],
   "source": [
    "from uuid import uuid4"
   ]
  },
  {
   "cell_type": "code",
   "execution_count": null,
   "metadata": {},
   "outputs": [],
   "source": [
    "test_set = [HTMLData(url=URL(url=f'http://www.{s}.com'), html=f'<p>{s}</p>', create_dt=datetime.now(), job_id=str(uuid4()), keywords=[]) for s in \"abcde\" ]"
   ]
  },
  {
   "cell_type": "code",
   "execution_count": null,
   "metadata": {},
   "outputs": [],
   "source": [
    "test_set"
   ]
  },
  {
   "cell_type": "code",
   "execution_count": null,
   "metadata": {},
   "outputs": [],
   "source": [
    "asyncio.run(HTMLData.insert_many(client.spiderDB.test, test_set))"
   ]
  },
  {
   "cell_type": "code",
   "execution_count": null,
   "metadata": {},
   "outputs": [],
   "source": [
    "from enum import Enum"
   ]
  },
  {
   "cell_type": "code",
   "execution_count": null,
   "metadata": {},
   "outputs": [],
   "source": [
    "class RequestStatus(str, Enum):\n",
    "    \"\"\" Maps common HTTP status codes to their corresponding meanings\n",
    "    \"\"\"\n",
    "    CREATED = 'created'\n",
    "    WAITING = 'waiting'\n",
    "    SUCCESS = 'success'\n",
    "    TIMEOUT = 'timeout'\n",
    "    CLIENT_ERROR = 'client_error'\n",
    "    SERVER_ERROR = 'server_error'\n",
    "    BAD_REQUEST = 'bad_request'\n",
    "    UNAUTHORIZED = 'unauthorized'\n",
    "    FORBIDDEN = 'forbidden'\n",
    "    NOT_FOUND = 'not_found'\n",
    "    INTERNAL_SERVER_ERROR = 'internal_server_error'\n",
    "    TOO_MANY_REQUESTS = 'too_many_requests'\n",
    "    REDIRECTED = 'redirected'\n",
    "\n",
    "    @classmethod\n",
    "    def from_status_code(cls, status_code: int):\n",
    "        \"\"\" Convert a status code to its string representation \"\"\"\n",
    "        # checks whether status code is between 200 and 206, but\n",
    "        # range is exclusive on the right hand side\n",
    "        if 200 <= status_code <= 206:\n",
    "            return cls.SUCCESS\n",
    "        elif 300 <= status_code <= 309:\n",
    "            return cls.REDIRECTED\n",
    "        elif status_code == 400:\n",
    "            return cls.BAD_REQUEST\n",
    "        elif status_code == 401:\n",
    "            return cls.UNAUTHORIZED\n",
    "        elif status_code == 403:\n",
    "            return cls.FORBIDDEN\n",
    "        elif status_code == 404:\n",
    "            return cls.NOT_FOUND\n",
    "        elif status_code == 429:\n",
    "            return cls.TOO_MANY_REQUESTS\n",
    "        elif 405 <= status_code <= 452:\n",
    "            return cls.CLIENT_ERROR\n",
    "        elif status_code == 429:\n",
    "            return cls.TOO_MANY_REQUESTS\n",
    "        elif status_code == 500:\n",
    "            return cls.INTERNAL_SERVER_ERROR\n",
    "        elif 501 <= status_code <= 511:\n",
    "            return cls.SERVER_ERROR"
   ]
  },
  {
   "cell_type": "code",
   "execution_count": null,
   "metadata": {},
   "outputs": [],
   "source": [
    "RequestStatus.from_status_code(403)"
   ]
  },
  {
   "cell_type": "code",
   "execution_count": null,
   "metadata": {},
   "outputs": [],
   "source": [
    "from pydantic import BaseModel\n",
    "from typing import Optional, List, Any, Union\n",
    "\n",
    "class ParseRuleType(str, Enum):\n",
    "    \"\"\" Parse rule types supported by parsers \n",
    "    \n",
    "    One of:\n",
    "        XPATH,\n",
    "        CSS_SELECTOR,\n",
    "        REGEX\n",
    "    \"\"\"\n",
    "    XPATH: str = 'xpath'\n",
    "    CSS_SELECTOR: str = 'css_selector'\n",
    "    REGEX: str = 'regex'\n",
    "\n",
    "        \n",
    "class ParseRule(BaseModel):\n",
    "    \"\"\" Defines the parse rule for a parser\n",
    "    \n",
    "    Fields:\n",
    "        field_name: str\n",
    "        field_value: str\n",
    "        rule: str\n",
    "        rule_type: ParseRuleType        \n",
    "    \"\"\"\n",
    "    field_name: str\n",
    "    field_value: str\n",
    "    rule: str\n",
    "    rule_type: ParseRuleType\n",
    "\n",
    "\n",
    "class ParseResult(BaseModel):\n",
    "    \"\"\" Defines the parse result from a parser\n",
    "    \n",
    "    Fields:\n",
    "        field_name: str\n",
    "        field_value: str  \n",
    "    \"\"\"\n",
    "    name: str\n",
    "    value: str\n",
    "\n",
    "        \n",
    "class URL(BaseModel):\n",
    "    \"\"\" Holds an url and its domain name.\n",
    "\n",
    "    If domain name is not specified, it will be guessed from the url\n",
    "\n",
    "    Fields:\n",
    "        url: str\n",
    "        domain: Optional[str]\n",
    "    \"\"\"\n",
    "    url: str\n",
    "    domain: Optional[str] = None\n",
    "\n",
    "    def __init__(self, **data: Any) -> None:\n",
    "        super().__init__(**data)\n",
    "        parsed_domain = domain_pattern.findall(self.url)\n",
    "\n",
    "        if self.domain is None and len(parsed_domain):\n",
    "            # auto fills domain name if not provided\n",
    "            self.domain = parsed_domain[0]\n"
   ]
  },
  {
   "cell_type": "code",
   "execution_count": null,
   "metadata": {},
   "outputs": [],
   "source": [
    "from bs4 import BeautifulSoup\n",
    "from abc import ABC\n",
    "from typing import Any, List, Dict\n",
    "# from ..models.data_models import ParseRule, ParseResult, URL\n",
    "\n",
    "\n",
    "\n",
    "class BaseParser(ABC):\n",
    "\n",
    "    def parse(self, text: str, rules: List[ParseRule]) -> List[ParseResult]:\n",
    "        return NotImplemented\n",
    "\n",
    "\n",
    "class LinkParser(BaseParser):\n",
    "    _parser = BeautifulSoup\n",
    "\n",
    "    def parse(self, text: str) -> List[URL]:\n",
    "        return NotImplemented"
   ]
  },
  {
   "cell_type": "code",
   "execution_count": null,
   "metadata": {},
   "outputs": [],
   "source": [
    "dir(LinkParser)"
   ]
  },
  {
   "cell_type": "code",
   "execution_count": null,
   "metadata": {},
   "outputs": [],
   "source": [
    "import requests"
   ]
  },
  {
   "cell_type": "code",
   "execution_count": null,
   "metadata": {},
   "outputs": [],
   "source": [
    "url = \"https://cuiqingcai.com/1319.html\"  \n"
   ]
  },
  {
   "cell_type": "code",
   "execution_count": null,
   "metadata": {},
   "outputs": [],
   "source": [
    "test_page = requests.get(url).text"
   ]
  },
  {
   "cell_type": "code",
   "execution_count": null,
   "metadata": {},
   "outputs": [],
   "source": [
    "page = BeautifulSoup(test_page, 'lxml')"
   ]
  },
  {
   "cell_type": "code",
   "execution_count": null,
   "metadata": {},
   "outputs": [],
   "source": [
    "page"
   ]
  },
  {
   "cell_type": "code",
   "execution_count": null,
   "metadata": {},
   "outputs": [],
   "source": [
    "contents = page.select(\"*:is(p)\")"
   ]
  },
  {
   "cell_type": "code",
   "execution_count": null,
   "metadata": {},
   "outputs": [],
   "source": [
    "contents"
   ]
  },
  {
   "cell_type": "code",
   "execution_count": null,
   "metadata": {},
   "outputs": [],
   "source": [
    "text = [content.text.strip() for content in contents if len(content.text.strip()) > 0]"
   ]
  },
  {
   "cell_type": "code",
   "execution_count": null,
   "metadata": {},
   "outputs": [],
   "source": [
    "text"
   ]
  },
  {
   "cell_type": "code",
   "execution_count": null,
   "metadata": {},
   "outputs": [],
   "source": [
    "import lxml"
   ]
  },
  {
   "cell_type": "code",
   "execution_count": null,
   "metadata": {},
   "outputs": [],
   "source": [
    "from lxml.html import fromstring"
   ]
  },
  {
   "cell_type": "code",
   "execution_count": null,
   "metadata": {},
   "outputs": [],
   "source": [
    "# html_tree = lxml.etree.HTML(test_page)\n",
    "html_tree = fromstring(test_page)"
   ]
  },
  {
   "cell_type": "code",
   "execution_count": null,
   "metadata": {},
   "outputs": [],
   "source": [
    "html_tree"
   ]
  },
  {
   "cell_type": "code",
   "execution_count": null,
   "metadata": {},
   "outputs": [],
   "source": [
    "contents = html_tree.xpath('//article/div')"
   ]
  },
  {
   "cell_type": "code",
   "execution_count": null,
   "metadata": {},
   "outputs": [],
   "source": [
    "str.strip??"
   ]
  },
  {
   "cell_type": "code",
   "execution_count": null,
   "metadata": {},
   "outputs": [],
   "source": [
    "for c in contents:\n",
    "    print(c.text_content().strip('\\n '))"
   ]
  },
  {
   "cell_type": "code",
   "execution_count": null,
   "metadata": {},
   "outputs": [],
   "source": [
    "link = links[1]"
   ]
  },
  {
   "cell_type": "code",
   "execution_count": null,
   "metadata": {},
   "outputs": [],
   "source": [
    "hasattr(link, \"href\")\n",
    "link.text_content()"
   ]
  },
  {
   "cell_type": "code",
   "execution_count": null,
   "metadata": {},
   "outputs": [],
   "source": [
    "css_select = getattr(page, 'select')"
   ]
  },
  {
   "cell_type": "code",
   "execution_count": null,
   "metadata": {},
   "outputs": [],
   "source": [
    "xpath_select = html_tree.xpath"
   ]
  },
  {
   "cell_type": "code",
   "execution_count": null,
   "metadata": {},
   "outputs": [],
   "source": [
    "css_select(\"a[href^=http]\")"
   ]
  },
  {
   "cell_type": "code",
   "execution_count": null,
   "metadata": {},
   "outputs": [],
   "source": [
    "xpath_select('(//body//a)')"
   ]
  },
  {
   "cell_type": "code",
   "execution_count": null,
   "metadata": {},
   "outputs": [],
   "source": [
    "for link in links:\n",
    "    print(link.get(\"href\"))"
   ]
  },
  {
   "cell_type": "code",
   "execution_count": null,
   "metadata": {},
   "outputs": [],
   "source": [
    "class URL(BaseModel):\n",
    "    \"\"\" Holds an url and its domain name.\n",
    "\n",
    "    If domain name is not specified, it will be guessed from the url\n",
    "\n",
    "    Fields:\n",
    "        url: str\n",
    "        domain: Optional[str]\n",
    "    \"\"\"\n",
    "    url: str\n",
    "    domain: Optional[str] = None\n",
    "\n",
    "    def __init__(self, domain_pattern = re.compile(\"^(?:https?:\\/\\/)?(?:[^@\\/\\n]+@)?(?:www\\.)?([^:\\/?\\n]+)\"), **data: Any) -> None:\n",
    "        super().__init__(**data)\n",
    "        parsed_domain = domain_pattern.findall(self.url)\n",
    "\n",
    "        if self.domain is None and len(parsed_domain):\n",
    "            # auto fills domain name if not provided\n",
    "            self.domain = parsed_domain[0]\n",
    "\n",
    "    def __hash__(self):\n",
    "        return hash(self.__repr__())\n"
   ]
  },
  {
   "cell_type": "code",
   "execution_count": null,
   "metadata": {},
   "outputs": [],
   "source": [
    "import re\n",
    "\n",
    "domain_pattern = re.compile(\"^(?:https?:\\/\\/)?(?:[^@\\/\\n]+@)?(?:www\\.)?([^:\\/?\\n]+)\")"
   ]
  },
  {
   "cell_type": "code",
   "execution_count": null,
   "metadata": {},
   "outputs": [],
   "source": [
    "url = URL(url=\"https://www.google.com.hk/\")\n",
    "url2 = URL(url=\"https://www.google.com.hk/\")"
   ]
  },
  {
   "cell_type": "code",
   "execution_count": null,
   "metadata": {},
   "outputs": [],
   "source": [
    "url"
   ]
  },
  {
   "cell_type": "code",
   "execution_count": null,
   "metadata": {},
   "outputs": [],
   "source": [
    "url_set = set()"
   ]
  },
  {
   "cell_type": "code",
   "execution_count": null,
   "metadata": {},
   "outputs": [],
   "source": [
    "url_set.add(url)"
   ]
  },
  {
   "cell_type": "code",
   "execution_count": null,
   "metadata": {},
   "outputs": [],
   "source": [
    "url_set.add(url2)"
   ]
  },
  {
   "cell_type": "code",
   "execution_count": null,
   "metadata": {},
   "outputs": [],
   "source": [
    "url_set"
   ]
  },
  {
   "cell_type": "code",
   "execution_count": null,
   "metadata": {},
   "outputs": [],
   "source": [
    "u = URL(url=\"/s?wd=%E6%9D%8E%E5%8D%8E%E6%98%8E&rsv_idx=2&tn=baiduhome_pg&ie=utf-8&rsv_cq=beautifulsoup&rsv_dl=0_right_recommends_merge_20826&rsv_pq=faaa1a190003f124&oq=beautifulsoup&rsv_t=bbf8OkBM1xh84iXdDDdaz41CQON4kTR7nMiUX74PVrfLJY0TjYocHz6G%2BUASur4Iv%2B6Y&euri=ac2c31061cbe4a86b95a0086cc39f6e1\")"
   ]
  },
  {
   "cell_type": "code",
   "execution_count": null,
   "metadata": {},
   "outputs": [],
   "source": [
    "u"
   ]
  },
  {
   "cell_type": "code",
   "execution_count": null,
   "metadata": {},
   "outputs": [],
   "source": [
    "BeautifulSoup.select(BeautifulSoup(test_page), 'a')"
   ]
  },
  {
   "cell_type": "code",
   "execution_count": null,
   "metadata": {},
   "outputs": [],
   "source": [
    "getattr(page, 'select')"
   ]
  },
  {
   "cell_type": "code",
   "execution_count": null,
   "metadata": {},
   "outputs": [],
   "source": [
    "from lxml import etree"
   ]
  },
  {
   "cell_type": "code",
   "execution_count": null,
   "metadata": {},
   "outputs": [],
   "source": [
    "getattr(etree.HTML(test_page),'xpath')"
   ]
  },
  {
   "cell_type": "code",
   "execution_count": null,
   "metadata": {},
   "outputs": [],
   "source": [
    "html_tree = etree.HTML(test_page)"
   ]
  },
  {
   "cell_type": "code",
   "execution_count": null,
   "metadata": {},
   "outputs": [],
   "source": [
    "html_tree.xpath()"
   ]
  },
  {
   "cell_type": "code",
   "execution_count": null,
   "metadata": {},
   "outputs": [],
   "source": [
    "dir(etree.HTML)"
   ]
  },
  {
   "cell_type": "code",
   "execution_count": null,
   "metadata": {},
   "outputs": [],
   "source": [
    "html_tree.cssselect('a[href^=http]')"
   ]
  },
  {
   "cell_type": "code",
   "execution_count": null,
   "metadata": {},
   "outputs": [],
   "source": [
    "l = html_tree.cssselect('a[href^=http]')[0]"
   ]
  },
  {
   "cell_type": "code",
   "execution_count": null,
   "metadata": {},
   "outputs": [],
   "source": [
    "dir(l)"
   ]
  },
  {
   "cell_type": "code",
   "execution_count": null,
   "metadata": {},
   "outputs": [],
   "source": [
    "l.attrib"
   ]
  },
  {
   "cell_type": "code",
   "execution_count": null,
   "metadata": {},
   "outputs": [],
   "source": [
    "from functools import partial"
   ]
  },
  {
   "cell_type": "code",
   "execution_count": null,
   "metadata": {},
   "outputs": [],
   "source": [
    "select = partial(BeautifulSoup.select, etree.HTML(test_page))"
   ]
  },
  {
   "cell_type": "code",
   "execution_count": null,
   "metadata": {},
   "outputs": [],
   "source": [
    "select('a')"
   ]
  },
  {
   "cell_type": "code",
   "execution_count": null,
   "metadata": {},
   "outputs": [],
   "source": [
    "type(page)"
   ]
  },
  {
   "cell_type": "code",
   "execution_count": 295,
   "metadata": {},
   "outputs": [],
   "source": [
    "urls = [\n",
    "#     \"https://www.google.com/search?q=scrapy&sxsrf=ALeKk03bcpnii8K22lvJxH--rR2KqJXLbw:1623390101257&ei=lffCYLukD5Hl-gTVmL3ADQ&start=10&sa=N&ved=2ahUKEwj7wsSy747xAhWRsp4KHVVMD9gQ8tMDegQIARA7\", \n",
    "#     \"https://www.google.com/search?q=scrapy&sxsrf=ALeKk03bcpnii8K22lvJxH--rR2KqJXLbw:1623390101257&ei=lffCYLukD5Hl-gTVmL3ADQ&start=40&sa=N&ved=2ahUKEwj7wsSy747xAhWRsp4KHVVMD9gQ8tMDegQIARBB\",\n",
    "    \n",
    "    \"https://www.baidu.com/s?wd=scrapy&pn=20&oq=scrapy&tn=baiduhome_pg&ie=utf-8&usm=4&rsv_idx=2&rsv_pq=9e4bcc9400012ea1&rsv_t=2516n0hjetaZMGZKNUuRvN1VMSf30%2B5WZ%2FXekpewX2ta1xYQC1ywaqoTETrYz2WZFvgK&gpc=stf&tfflag=0&rsv_page=1\",\n",
    "    \"https://www.baidu.com/s?wd=scrapy&pn=10&oq=scrapy&tn=baiduhome_pg&ie=utf-8&rsv_idx=2&rsv_pq=c145f364000074cf&rsv_t=1060Jw36QPVOtvTjzEupgZ1u1SF1HXn%2BLIKV%2BqbBDYiKJE5kEB7m4%2BeL8wCauWXjWOR5&gpc=stf%3D1622785207%2C1623390007%7Cstftype%3D1&tfflag=1&rsv_page=1\",\n",
    "]"
   ]
  },
  {
   "cell_type": "code",
   "execution_count": 296,
   "metadata": {},
   "outputs": [],
   "source": [
    "param1, param2 = [set(u.split(\"?\")[-1].split(\"&\")) for u in urls]"
   ]
  },
  {
   "cell_type": "code",
   "execution_count": 303,
   "metadata": {},
   "outputs": [
    {
     "data": {
      "text/plain": [
       "({'gpc=stf',\n",
       "  'ie=utf-8',\n",
       "  'oq=scrapy',\n",
       "  'pn=20',\n",
       "  'rsv_idx=2',\n",
       "  'rsv_page=1',\n",
       "  'rsv_pq=9e4bcc9400012ea1',\n",
       "  'rsv_t=2516n0hjetaZMGZKNUuRvN1VMSf30%2B5WZ%2FXekpewX2ta1xYQC1ywaqoTETrYz2WZFvgK',\n",
       "  'tfflag=0',\n",
       "  'tn=baiduhome_pg',\n",
       "  'usm=4',\n",
       "  'wd=scrapy'},\n",
       " {'gpc=stf%3D1622785207%2C1623390007%7Cstftype%3D1',\n",
       "  'ie=utf-8',\n",
       "  'oq=scrapy',\n",
       "  'pn=10',\n",
       "  'rsv_idx=2',\n",
       "  'rsv_page=1',\n",
       "  'rsv_pq=c145f364000074cf',\n",
       "  'rsv_t=1060Jw36QPVOtvTjzEupgZ1u1SF1HXn%2BLIKV%2BqbBDYiKJE5kEB7m4%2BeL8wCauWXjWOR5',\n",
       "  'tfflag=1',\n",
       "  'tn=baiduhome_pg',\n",
       "  'wd=scrapy'})"
      ]
     },
     "execution_count": 303,
     "metadata": {},
     "output_type": "execute_result"
    }
   ],
   "source": [
    "param1,param2"
   ]
  },
  {
   "cell_type": "code",
   "execution_count": 292,
   "metadata": {},
   "outputs": [],
   "source": [
    "import re"
   ]
  },
  {
   "cell_type": "code",
   "execution_count": 301,
   "metadata": {},
   "outputs": [],
   "source": [
    "paging_param_pattern = re.compile(\"^(start|page|p|pn|\\w+)=\\d{1,3}$\")"
   ]
  },
  {
   "cell_type": "code",
   "execution_count": 304,
   "metadata": {},
   "outputs": [
    {
     "ename": "ValueError",
     "evalue": "too many values to unpack (expected 2)",
     "output_type": "error",
     "traceback": [
      "\u001b[0;31m---------------------------------------------------------------------------\u001b[0m",
      "\u001b[0;31mValueError\u001b[0m                                Traceback (most recent call last)",
      "\u001b[0;32m<ipython-input-304-a2787f15740c>\u001b[0m in \u001b[0;36m<module>\u001b[0;34m\u001b[0m\n\u001b[0;32m----> 1\u001b[0;31m \u001b[0;32mfor\u001b[0m \u001b[0ms1\u001b[0m\u001b[0;34m,\u001b[0m \u001b[0ms2\u001b[0m \u001b[0;32min\u001b[0m \u001b[0;34m(\u001b[0m\u001b[0mparam1\u001b[0m\u001b[0;34m,\u001b[0m \u001b[0mparam2\u001b[0m\u001b[0;34m)\u001b[0m\u001b[0;34m:\u001b[0m\u001b[0;34m\u001b[0m\u001b[0;34m\u001b[0m\u001b[0m\n\u001b[0m\u001b[1;32m      2\u001b[0m     \u001b[0;32mif\u001b[0m \u001b[0mpaging_param_pattern\u001b[0m\u001b[0;34m.\u001b[0m\u001b[0mmatch\u001b[0m\u001b[0;34m(\u001b[0m\u001b[0ms1\u001b[0m\u001b[0;34m)\u001b[0m \u001b[0;32mand\u001b[0m \u001b[0mpaging_param_pattern\u001b[0m\u001b[0;34m.\u001b[0m\u001b[0mmatch\u001b[0m\u001b[0;34m(\u001b[0m\u001b[0ms2\u001b[0m\u001b[0;34m)\u001b[0m\u001b[0;34m:\u001b[0m\u001b[0;34m\u001b[0m\u001b[0;34m\u001b[0m\u001b[0m\n\u001b[1;32m      3\u001b[0m         \u001b[0mprint\u001b[0m\u001b[0;34m(\u001b[0m\u001b[0ms1\u001b[0m\u001b[0;34m,\u001b[0m \u001b[0ms2\u001b[0m\u001b[0;34m)\u001b[0m\u001b[0;34m\u001b[0m\u001b[0;34m\u001b[0m\u001b[0m\n",
      "\u001b[0;31mValueError\u001b[0m: too many values to unpack (expected 2)"
     ]
    }
   ],
   "source": [
    "for s1, s2 in (param1, param2):\n",
    "    if paging_param_pattern.match(s1) and paging_param_pattern.match(s2):\n",
    "        print(s1, s2)"
   ]
  },
  {
   "cell_type": "code",
   "execution_count": 20,
   "metadata": {},
   "outputs": [],
   "source": [
    "import re\n",
    "from datetime import datetime, timedelta\n",
    "\n",
    "cn_time_string_extractors = {\n",
    "            re.compile('\\d{1,2}秒前'):\n",
    "                lambda now, time_str: now -\n",
    "                timedelta(seconds=int(re.search('\\d+', time_str).group(0))),\n",
    "            re.compile('\\d{1,2}分钟前'):\n",
    "                lambda now, time_str: now -\n",
    "                timedelta(minutes=int(re.search('\\d+', time_str).group(0))),\n",
    "            re.compile('\\d{1,2}小时前'):\n",
    "                lambda now, time_str: now -\n",
    "                timedelta(hours=int(re.search('\\d+', time_str).group(0))),\n",
    "            re.compile('\\d{1,2}天前'):\n",
    "                lambda now, time_str: now -\n",
    "                timedelta(days=int(re.search('\\d+', time_str).group(0))),\n",
    "            re.compile('昨天\\d{1,2}:\\d{1,2}'):\n",
    "                lambda now, time_str: datetime(\n",
    "                    now.year, now.month, now.day-1,\n",
    "                    int(re.findall('\\d+', time_str)[0]),\n",
    "                    int(re.findall('\\d+', time_str)[1])\n",
    "                    \n",
    "            ),\n",
    "            re.compile('\\d{1,2}月\\d{1,2}日'):\n",
    "                lambda now, time_str: datetime(\n",
    "                    now.year,\n",
    "                    int(re.findall('\\d+', time_str)[0]),\n",
    "                        int(re.findall('\\d+', time_str)[1])),\n",
    "            \n",
    "            re.compile('\\d{1,2}年\\d{1,2}月\\d{1,2}日'):\n",
    "                lambda now, time_str: datetime(\n",
    "                    *(re.findall('\\d+', time_str))\n",
    "                )\n",
    "        }"
   ]
  },
  {
   "cell_type": "code",
   "execution_count": 22,
   "metadata": {},
   "outputs": [],
   "source": [
    "ts = [\"58分钟前\", '1小时前', '昨天13:15', '6月5日', '5天前']"
   ]
  },
  {
   "cell_type": "code",
   "execution_count": 23,
   "metadata": {},
   "outputs": [
    {
     "name": "stdout",
     "output_type": "stream",
     "text": [
      "2021-06-16 18:41:43.457528\n",
      "2021-06-16 18:39:43.457528\n",
      "2021-06-15 13:15:00\n",
      "2021-06-05 00:00:00\n",
      "2021-06-11 19:39:43.457528\n"
     ]
    }
   ],
   "source": [
    "now = datetime.now()\n",
    "for time_str in ts:\n",
    "    for pattern in cn_time_string_extractors:\n",
    "        if pattern.match(time_str):\n",
    "            converted = cn_time_string_extractors[pattern](now, time_str)\n",
    "            print(converted)"
   ]
  },
  {
   "cell_type": "code",
   "execution_count": 15,
   "metadata": {},
   "outputs": [
    {
     "data": {
      "text/plain": [
       "datetime.datetime(2021, 1, 1, 0, 0)"
      ]
     },
     "execution_count": 15,
     "metadata": {},
     "output_type": "execute_result"
    }
   ],
   "source": [
    "datetime(2021,1,1)"
   ]
  },
  {
   "cell_type": "code",
   "execution_count": null,
   "metadata": {},
   "outputs": [],
   "source": [
    "re.compile('\\d{1,2}秒前'):\\\n",
    "                lambda now, time_str: now -\n",
    "                timedelta(seconds=int(re.search('\\d+', time_str).group(0))),\n",
    "            re.compile('\\d{1,2}分钟前'):\\\n",
    "                lambda now, time_str: now -\n",
    "                timedelta(minutes=int(re.search('\\d+', time_str).group(0))),\n",
    "            re.compile('\\d{1,2}小时前'):\\\n",
    "                lambda now, time_str: now -\n",
    "                timedelta(hours=int(re.search('\\d+', time_str).group(0))),\n",
    "            re.compile('\\d{1,2}天前'):\\\n",
    "                lambda now, time_str: now -\n",
    "                timedelta(days=int(re.search('\\d+', time_str).group(0))),\n",
    "            re.compile('\\d{1,2}月\\d{1,2}日'):\\\n",
    "                lambda now, time_str: datetime.date(\n",
    "                    now.year,\n",
    "                    int(re.findall('\\d+', time_str)[0],\n",
    "                        int(re.findall('\\d+', time_str)[1]),"
   ]
  },
  {
   "cell_type": "code",
   "execution_count": 44,
   "metadata": {},
   "outputs": [],
   "source": [
    "paragraph = [\"\"\"\n",
    "据“中国载人航天”微信公众号消息，\"\"\",\n",
    "\"\"\"中国载人航天工程办公室：\"\"\",\n",
    "\"\"\"执行神舟十二号载人航天飞行任务的载人飞船及长征二号F遥十二运载火箭完成出厂前所有研制工作，\"\"\"\n",
    "]"
   ]
  },
  {
   "cell_type": "code",
   "execution_count": 54,
   "metadata": {},
   "outputs": [],
   "source": [
    "exclude_pattern = re.compile(\"(?!(执行))*\")"
   ]
  },
  {
   "cell_type": "code",
   "execution_count": 57,
   "metadata": {},
   "outputs": [
    {
     "data": {
      "text/plain": [
       "<re.Match object; span=(0, 0), match=''>"
      ]
     },
     "execution_count": 57,
     "metadata": {},
     "output_type": "execute_result"
    }
   ],
   "source": [
    "re.search(exclude_pattern, paragraph[2])"
   ]
  },
  {
   "cell_type": "code",
   "execution_count": 81,
   "metadata": {},
   "outputs": [
    {
     "name": "stdout",
     "output_type": "stream",
     "text": [
      "<re.Match object; span=(18, 30), match='中国载人航天工程办公室：'>\n",
      "<re.Match object; span=(77, 110), match='日前，已分批安全运抵酒泉卫星发射中心，开展发射场区总装和测试工作。'>\n",
      "<re.Match object; span=(111, 114), match='目前，'>\n",
      "<re.Match object; span=(115, 127), match='发射场设施设备状态良好，'>\n"
     ]
    }
   ],
   "source": [
    "s = '''据“中国载人航天”微信公众号消息，\n",
    "中国载人航天工程办公室：\n",
    "执行神舟十二号载人航天飞行任务的载人飞船及长征二号F遥十二运载火箭完成出厂前所有研制工作，\n",
    "日前，已分批安全运抵酒泉卫星发射中心，开展发射场区总装和测试工作。\n",
    "目前，\n",
    "发射场设施设备状态良好，\n",
    "参试各系统正在有序开展各项任务准备，\n",
    "执行本次载人航天飞行任务的航天员乘组正在进行强化训练。'''\n",
    "for match in re.finditer('^((?!微信公众号|任务).)*$', s, flags=re.M):\n",
    "    print(match)"
   ]
  },
  {
   "cell_type": "code",
   "execution_count": 73,
   "metadata": {},
   "outputs": [],
   "source": [
    "pattern = re.compile('^((?!计算机).)*$')"
   ]
  },
  {
   "cell_type": "code",
   "execution_count": 77,
   "metadata": {},
   "outputs": [],
   "source": [
    "re.search(pattern, s)"
   ]
  },
  {
   "cell_type": "code",
   "execution_count": 78,
   "metadata": {},
   "outputs": [
    {
     "data": {
      "text/plain": [
       "\u001b[0;31mSignature:\u001b[0m \u001b[0mre\u001b[0m\u001b[0;34m.\u001b[0m\u001b[0mfinditer\u001b[0m\u001b[0;34m(\u001b[0m\u001b[0mpattern\u001b[0m\u001b[0;34m,\u001b[0m \u001b[0mstring\u001b[0m\u001b[0;34m,\u001b[0m \u001b[0mflags\u001b[0m\u001b[0;34m=\u001b[0m\u001b[0;36m0\u001b[0m\u001b[0;34m)\u001b[0m\u001b[0;34m\u001b[0m\u001b[0;34m\u001b[0m\u001b[0m\n",
       "\u001b[0;31mDocstring:\u001b[0m\n",
       "Return an iterator over all non-overlapping matches in the\n",
       "string.  For each match, the iterator returns a Match object.\n",
       "\n",
       "Empty matches are included in the result.\n",
       "\u001b[0;31mFile:\u001b[0m      ~/anaconda3/lib/python3.7/re.py\n",
       "\u001b[0;31mType:\u001b[0m      function\n"
      ]
     },
     "metadata": {},
     "output_type": "display_data"
    }
   ],
   "source": [
    "re.finditer?"
   ]
  },
  {
   "cell_type": "code",
   "execution_count": 85,
   "metadata": {},
   "outputs": [],
   "source": [
    "import requests\n",
    "from lxml.html import fromstring"
   ]
  },
  {
   "cell_type": "code",
   "execution_count": 97,
   "metadata": {},
   "outputs": [
    {
     "data": {
      "text/plain": [
       "'<!DOCTYPE html>\\n<!--STATUS OK-->\\n\\r\\n\\r\\n\\r\\n\\r\\n\\r\\n\\r\\n\\r\\n\\r\\n\\r\\n\\r\\n\\r\\n\\r\\n\\r\\n\\r\\n\\r\\n\\r\\n\\r\\n\\r\\n\\r\\n\\r\\n\\r\\n\\r\\n\\r\\n\\r\\n\\r\\n\\r\\n\\r\\n\\r\\n\\r\\n\\r\\n\\r\\n\\r\\n\\r\\n\\r\\n\\r\\n\\r\\n\\r\\n\\r\\n\\r\\n\\r\\n\\r\\n\\r\\n\\r\\n\\r\\n\\r\\n\\r\\n\\r\\n\\r\\n\\r\\n\\r\\n\\r\\n\\r\\n\\r\\n\\r\\n\\r\\n\\r\\n\\t\\r\\n\\r\\n\\r\\n\\r\\n\\r\\n\\r\\n\\r\\n                    \\r\\n\\r\\n\\r\\n\\r\\n\\r\\n    \\n\\n\\n\\n\\n<html>\\n\\t<head>\\n\\t\\t\\n\\t\\t<meta http-equiv=\"X-UA-Compatible\" content=\"IE=edge,chrome=1\">\\n\\t\\t<meta http-equiv=\"content-type\" content=\"text/html;charset=utf-8\">\\n\\t\\t<meta content=\"always\" name=\"referrer\">\\n        <meta name=\"theme-color\" content=\"#2932e1\">\\n        <link rel=\"shortcut icon\" href=\"/favicon.ico\" type=\"image/x-icon\" />\\n        <link rel=\"icon\" sizes=\"any\" mask href=\"//www.baidu.com/img/baidu_85beaf5496f291521eb75ba38eacbd87.svg\">\\n        <link rel=\"search\" type=\"application/opensearchdescription+xml\" href=\"/content-search.xml\" title=\"百度搜索\" />\\n\\t\\t\\n\\t\\t\\n<title>asyncio_百度搜索</title>\\n\\n\\t\\t\\n\\n\\t\\t\\n<style data-for=\"result\" type=\"text/css\" id=\"css_newi_result\">body{color:#333;background:#fff;padding:6px 0 0;margin:0;position:relative}\\nbody,th,td,.p1,.p2{font-family:arial}\\np,form,ol,ul,li,dl,dt,dd,h3{margin:0;padding:0;list-style:none}\\ninput{padding-top:0;padding-bottom:0;-moz-box-sizing:border-box;-webkit-box-sizing:border-box;box-sizing:border-box}\\ntable,img{border:0}\\ntd{font-size:9pt;line-height:18px}\\nem{font-style:normal}\\nem{font-style:normal;color:#c00}\\na em{text-decoration:underline}\\ncite{font-style:normal;color:green}\\n.m,a.m{color:#666}\\na.m:visited{color:#606}\\n.g,a.g{color:green}\\n.c{color:#77c}\\n.f14{font-size:14px}\\n.f10{font-size:10.5pt}\\n.f16{font-size:16px}\\n.f13{font-size:13px}\\n.bg{background-image:url(http://s1.bdstatic.com/r/www/cache/static/global/img/icons_441e82f.png);_background-image:url(http://s1.bdstatic.com/r/www/cache/static/global/img/icons_d5b04cc.gif);background-repeat:no-repeat}\\n#u,#head,#tool,#search,#foot{font-size:12px}\\n.logo{width:117px;height:38px;cursor:pointer}\\n.p1{line-height:120%;margin-left:-12pt}\\n.p2{width:100%;line-height:120%;margin-left:-12pt}\\n#wrapper{_zoom:1}\\n#container{word-break:break-all;word-wrap:break-word;position:relative}\\n.container_s{width:1002px}\\n.container_l{width:1222px}\\n#content_left{width:636px;float:left;padding-left:35px}\\n#content_right{border-left:1px solid #e1e1e1;float:right}\\n.container_s #content_right{width:271px}\\n.container_l #content_right{width:434px}\\n.content_none{padding-left:35px}\\n#u{color:#999;white-space:nowrap;position:absolute;right:10px;top:4px;z-index:299}\\n#u a{color:#00c;margin:0 5px}\\n#u .reg{margin:0}\\n#u .last{margin-right:0}\\n#u .un{font-weight:700;margin-right:5px}\\n#u ul{width:100%;background:#fff;border:1px solid #9b9b9b}\\n#u li{height:25px}\\n#u li a{width:100%;height:25px;line-height:25px;display:block;text-align:left;text-decoration:none;text-indent:6px;margin:0;filter:none\\\\9}\\n#u li a:hover{background:#ebebeb}\\n#u li.nl{border-top:1px solid #ebebeb}\\n#user{display:inline-block}\\n#user_center{position:relative;display:inline-block}\\n#user_center .user_center_btn{margin-right:5px}\\n.userMenu{width:64px;position:absolute;right:7px;_right:2px;top:15px;top:14px\\\\9;*top:15px;padding-top:4px;display:none;*background:#fff}\\n#head{padding-left:35px;margin-bottom:20px;width:900px}\\n.fm{clear:both;position:relative;z-index:297}\\n.nv a,.nv b,.btn,#page,#more{font-size:14px}\\n.s_nav{height:45px}\\n.s_nav .s_logo{margin-right:20px;float:left}\\n.s_nav .s_logo img{border:0;display:block}\\n.s_tab{line-height:18px;padding:20px 0 0;float:left}\\n.s_nav a{color:#00c;font-size:14px}\\n.s_nav b{font-size:14px}\\n.s_ipt_wr{width:536px;height:30px;display:inline-block;margin-right:5px;background-position:0 -96px;border:1px solid #b6b6b6;border-color:#7b7b7b #b6b6b6 #b6b6b6 #7b7b7b;vertical-align:top}\\n.s_ipt{width:523px;height:22px;font:16px/18px arial;line-height:22px;margin:5px 0 0 7px;padding:0;background:#fff;border:0;outline:0;-webkit-appearance:none}\\n.s_btn{width:95px;height:32px;padding-top:2px\\\\9;font-size:14px;padding:0;background-color:#ddd;background-position:0 -48px;border:0;cursor:pointer}\\n.s_btn_h{background-position:-240px -48px}\\n.s_btn_wr{width:97px;height:34px;display:inline-block;background-position:-120px -48px;*position:relative;z-index:0;vertical-align:top}\\n.fm_red .s_ipt_wr,.fm_red .s_ipt_wr.iptfocus,.fm_red .s_ipt_wr:hover,.fm_red .s_ipt_wr.ipthover{border-color:#e10602 transparent #e10602 #e10602}\\n.fm_red .s_btn{background-color:#e10602;border-bottom:1px solid #c30602}\\n.yy_fm .s_ipt_wr,.yy_fm .s_ipt_wr.iptfocus,.yy_fm .s_ipt_wr:hover,.yy_fm .s_ipt_wr.ipthover{border-color:#e10602 transparent #e10602 #e10602;animation:yy-ipt .2s;-moz-animation:yy-ipt .2s;-webkit-animation:yy-ipt .2s;-o-animation:yy-ipt .2s}\\n.yy_fm .s_btn{background-color:#e10602;border-bottom:1px solid #c30602;animation:yunying .2s;-moz-animation:yunying .2s;-webkit-animation:yunying .2s;-o-animation:yunying .2s}\\n.yy_fm_blue .s_ipt_wr,.yy_fm_blue .s_ipt_wr.iptfocus,.yy_fm_blue .s_ipt_wr:hover,.yy_fm_blue .s_ipt_wr.ipthover{animation:yy-ipt-blue .2s;border-color:#4791ff transparent #4791ff #4791ff}\\n.yy_fm_blue .s_btn{animation:yunying-blue .2s;background-color:#3385ff;border-bottom:1px solid #2d78f4}\\n@keyframes yy-ipt{0%{border-color:#4791ff transparent #4791ff #4791ff}\\n100%{border-color:#e10602 transparent #e10602 #e10602}}\\n@-moz-keyframes yy-ipt{0%{border-color:#4791ff transparent #4791ff #4791ff}\\n100%{border-color:#e10602 transparent #e10602 #e10602}}\\n@-webkit-keyframes yy-ipt{0%{border-color:#4791ff transparent #4791ff #4791ff}\\n100%{border-color:#e10602 transparent #e10602 #e10602}}\\n@-o-keyframes yy-ipt{0%{border-color:#4791ff transparent #4791ff #4791ff}\\n100%{border-color:#e10602 transparent #e10602 #e10602}}\\n@keyframes yy-ipt-blue{0%{border-color:#e10602 transparent #e10602 #e10602}\\n100%{border-color:#4791ff transparent #4791ff #4791ff}}\\n@-moz-keyframes yy-ipt-blue{0%{border-color:#e10602 transparent #e10602 #e10602}\\n100%{border-color:#4791ff transparent #4791ff #4791ff}}\\n@-webkit-keyframes yy-ipt-blue{0%{border-color:#e10602 transparent #e10602 #e10602}\\n100%{border-color:#4791ff transparent #4791ff #4791ff}}\\n@-o-keyframes yy-ipt-blue{0%{border-color:#e10602 transparent #e10602 #e10602}\\n100%{border-color:#4791ff transparent #4791ff #4791ff}}\\n@keyframes yunying{0%{background-color:#3385ff;border-bottom:1px solid #2d78f4}\\n100%{background-color:#e10602;border-bottom:1px solid #c30602}}\\n@-moz-keyframes yunying{0%{background-color:#3385ff;border-bottom:1px solid #2d78f4}\\n100%{background-color:#e10602;border-bottom:1px solid #c30602}}\\n@-webkit-keyframes yunying{0%{background-color:#3385ff;border-bottom:1px solid #2d78f4}\\n100%{background-color:#e10602;border-bottom:1px solid #c30602}}\\n@-o-keyframes yunying{0%{background-color:#3385ff;border-bottom:1px solid #2d78f4}\\n100%{background-color:#e10602;border-bottom:1px solid #c30602}}\\n@keyframes yunying-blue{0%{background-color:#e10602;border-bottom:1px solid #c30602}\\n100%{background-color:#3385ff;border-bottom:1px solid #2d78f4}}\\n@-moz-keyframes yunying-blue{0%{background-color:#e10602;border-bottom:1px solid #c30602}\\n100%{background-color:#3385ff;border-bottom:1px solid #2d78f4}}\\n@-webkit-keyframes yunying-blue{0%{background-color:#e10602;border-bottom:1px solid #c30602}\\n100%{background-color:#3385ff;border-bottom:1px solid #2d78f4}}\\n@-o-keyframes yunying-blue{0%{background-color:#e10602;border-bottom:1px solid #c30602}\\n100%{background-color:#3385ff;border-bottom:1px solid #2d78f4}}\\n.sethf{padding:0;margin:0;font-size:14px}\\n.set_h{display:none;behavior:url(#default#homepage)}\\n.set_f{display:none}\\n.shouji{margin-left:19px}\\n.shouji a{text-decoration:none}\\n#head .bdsug{top:33px}\\n#search form{position:relative}\\n#search form .bdsug{bottom:33px}\\n.bdsug{display:none;position:absolute;z-index:1;width:538px;background:#fff;border:1px solid #ccc;_overflow:hidden;box-shadow:1px 1px 3px #ededed;-webkit-box-shadow:1px 1px 3px #ededed;-moz-box-shadow:1px 1px 3px #ededed;-o-box-shadow:1px 1px 3px #ededed}\\n.bdsug.bdsugbg ul{background:url(http://s1.bdstatic.com/r/www/cache/static/home/img/sugbg_1762fe7.png) 100% 100% no-repeat;background-size:100px 110px;background-image:url(http://s1.bdstatic.com/r/www/cache/static/home/img/sugbg_90fc9cf.gif)\\\\9}\\n.bdsug li{width:522px;color:#000;font:14px arial;line-height:22px;padding:0 8px;position:relative;cursor:default}\\n.bdsug li.bdsug-s{background:#f0f0f0}\\n.bdsug-store span,.bdsug-store b{color:#7A77C8}\\n.bdsug-store-del{font-size:12px;color:#666;text-decoration:underline;position:absolute;right:8px;top:0;cursor:pointer;display:none}\\n.bdsug-s .bdsug-store-del{display:inline-block}\\n.bdsug-ala{display:inline-block;border-bottom:1px solid #e6e6e6}\\n.bdsug-ala h3{line-height:14px;background:url(//www.baidu.com/img/sug_bd.png) no-repeat left center;margin:8px 0 5px;font-size:12px;font-weight:400;color:#7B7B7B;padding-left:20px}\\n.bdsug-ala p{font-size:14px;font-weight:700;padding-left:20px}\\n.bdsug .bdsug-direct{width:auto;padding:0;border-bottom:1px solid #f1f1f1}\\n.bdsug .bdsug-direct p{color:#00c;font-weight:700;line-height:34px;padding:0 8px;cursor:pointer;white-space:nowrap;overflow:hidden}\\n.bdsug .bdsug-direct p img{width:16px;height:16px;margin:7px 6px 9px 0;vertical-align:middle}\\n.bdsug .bdsug-direct p span{margin-left:8px}\\n.bdsug .bdsug-direct p i{font-size:12px;line-height:100%;font-style:normal;font-weight:400;color:#fff;background-color:#2b99ff;display:inline;text-align:center;padding:1px 5px;*padding:2px 5px 0;margin-left:8px;overflow:hidden}\\n.bdsug .bdsug-pcDirect{color:#000;font-size:14px;line-height:30px;height:30px;background-color:#f8f8f8}\\n.bdsug .bdsug-pc-direct-tip{position:absolute;right:15px;top:8px;width:55px;height:15px;display:block;background:url(http://s1.bdstatic.com/r/www/cache/static/global/img/pc_direct_42d6311.png) no-repeat 0 0}\\n.bdsug li.bdsug-pcDirect-s{background-color:#f0f0f0}\\n.bdsug .bdsug-pcDirect-is{color:#000;font-size:14px;line-height:22px;background-color:#f8f8f8}\\n.bdsug .bdsug-pc-direct-tip-is{position:absolute;right:15px;top:3px;width:55px;height:15px;display:block;background:url(http://s1.bdstatic.com/r/www/cache/static/global/img/pc_direct_42d6311.png) no-repeat 0 0}\\n.bdsug li.bdsug-pcDirect-is-s{background-color:#f0f0f0}\\n.bdsug .bdsug-pcDirect-s .bdsug-pc-direct-tip,.bdsug .bdsug-pcDirect-is-s .bdsug-pc-direct-tip-is{background-position:0 -15px}\\n.bdsug .bdsug-newicon{color:#929292;opacity:.7;font-size:12px;display:inline-block;line-height:22px;letter-spacing:2px}\\n.bdsug .bdsug-s .bdsug-newicon{opacity:1}\\n.bdsug .bdsug-newicon i{letter-spacing:0;font-style:normal}\\n.bdsug .bdsug-feedback-wrap{text-align:right;background:#fafafa;color:#666;height:25px;line-height:27px}\\n.bdsug .bdsug-feedback{margin-right:10px;text-decoration:underline;color:#666}\\n.toggle-underline{text-decoration:none}\\n.toggle-underline:hover{text-decoration:underline}\\n#tb_mr{color:#00c;cursor:pointer;position:relative;z-index:298}\\n#tb_mr b{font-weight:400;text-decoration:underline}\\n#tb_mr small{font-size:11px}\\n#page{font:14px arial;white-space:nowrap;padding-left:35px}\\n#page a,#page strong{display:inline-block;vertical-align:text-bottom;height:66px;text-align:center;line-height:34px;text-decoration:none;overflow:hidden;margin-right:9px;background:#fff}\\n#page a{cursor:pointer}\\n#page a:hover{background:0 0}\\n#page .n:hover,#page a:hover .pc{background:#f2f8ff;border:1px solid #38f}\\n#page .n{height:34px;padding:0 18px;border:1px solid #e1e2e3}\\n#page span{display:block}\\n#page .pc{width:34px;height:34px;border:1px solid #e1e2e3;cursor:pointer}\\n#page .fk{width:24px;height:24px;margin-bottom:6px;margin-left:6px;cursor:pointer}\\n#page strong .fk,#page strong .pc{cursor:auto}\\n#page .fk .c-icon-bear-pn{top:-3px;position:relative}\\n#page .fkd .c-icon-bear-pn{top:3px;position:relative}\\n#page .fk_cur .c-icon-bear-p{top:-2px;position:relative}\\n#page strong .pc{border:0;width:36px;height:36px;line-height:36px}\\n#page .nums{display:inline-block;vertical-align:text-bottom;height:36px;line-height:36px;margin-left:10px}\\n#rs{width:900px;background:#fff;padding:8px 0;margin:20px 0 0 15px}\\n#rs td{width:5%}\\n#rs th{font-size:14px;font-weight:400;line-height:19px;white-space:nowrap;text-align:left;vertical-align:top}\\n#rs .tt{font-weight:700;padding:0 10px 0 20px}\\n#rs .tt_normal{font-weight:400}\\n#rs_top{font-size:14px;margin-bottom:22px}\\n#rs_top a{margin-right:18px}\\n#container .rs{margin:30px 0 20px;padding:5px 0 15px;font-size:14px;width:540px;padding-left:121px;position:relative;background-color:#fafafa}\\n#container .noback{background-color:#fff}\\n#content_left .rs{margin-left:-121px}\\n#container .rs table{width:540px}\\n#container .rs td{width:5px}\\n#container .rs th{font-size:14px;font-weight:400;white-space:nowrap;text-align:left;vertical-align:top;width:175px;line-height:22px}\\n#container .rs .tt{font-weight:700;padding:0 10px 0 20px;padding:0;line-height:30px;font-size:16px}\\n#container .rs a{margin:0;height:24px;width:173px;display:inline-block;line-height:25px;border:1px solid #ebebeb;text-align:center;vertical-align:middle;overflow:hidden;outline:0;color:#333;background-color:#fff;text-decoration:none}\\n#container .rs a:hover{border-color:#388bff}\\n.c-tip-con .c-tip-menu-b ul{width:100px}\\n.c-tip-con .c-tip-menu-b ul{text-align:center}\\n.c-tip-con .c-tip-menu-b li a{display:block;text-decoration:none;cursor:pointer;background-color:#fff;padding:3px 0;color:#666}\\n.c-tip-con .c-tip-menu-b li a:hover{display:block;background-color:#ebebeb}\\n.c-tip-con.baozhang-r-tip{visibility:hidden}\\n.aviation-new a{background:0 0;color:#91B9F7;font-size:16px;width:16px;height:auto;vertical-align:top}\\n.aviation-new a:hover{border:0;color:#3151fb;text-decoration:none}\\n.c-tip-con.aviation-wrap-tip{box-shadow:0 2px 10px 0 rgba(0,0,0,.1);border-radius:12px;border:0;padding:12px}\\n.c-tip-con.aviation-wrap-tip .c-tip-info{margin:0;width:auto}\\n.c-tip-con.aviation-wrap-tip .c-tip-item-i{padding:0;line-height:1}\\n.c-tip-con.aviation-wrap-tip .c-tip-item-i .c-tip-item-icon{margin-left:0}\\n.c-tip-con.aviation-wrap-tip .aviation-title{line-height:1}\\n#search{width:900px;padding:35px 0 16px 35px}\\n#search .s_help{position:relative;top:10px}\\n#foot{height:20px;line-height:20px;color:#77c;background:#e6e6e6;text-align:center}\\n#foot span{color:#666}\\n.site_tip{font-size:12px;margin-bottom:20px}\\n.site_tip_icon{width:56px;height:56px;background:url(//www.baidu.com/aladdin/img/tools/tools-3.png) -288px 0 no-repeat}\\n.to_zhidao,.to_tieba,.to_zhidao_bottom{font-size:16px;line-height:24px;margin:20px 0 0 35px}\\n.to_tieba .c-icon-tieba{float:left}\\n.f{line-height:115%;*line-height:120%;font-size:100%;width:33.7em;word-break:break-all;word-wrap:break-word}\\n.h{margin-left:8px;width:100%}\\n.r{word-break:break-all;cursor:hand;width:238px}\\n.t{font-weight:400;font-size:medium;margin-bottom:1px}\\n.pl{padding-left:3px;height:8px;padding-right:2px;font-size:14px}\\n.mo,a.mo:link,a.mo:visited{color:#666;font-size:100%;line-height:10px}\\n.htb{margin-bottom:5px}\\n.jc a{color:#c00}\\na font[size=\"3\"] font,font[size=\"3\"] a font{text-decoration:underline}\\ndiv.blog,div.bbs{color:#707070;padding-top:2px;font-size:13px}\\n.result{width:33.7em;table-layout:fixed}\\n.result-op .f{word-wrap:normal}\\n.nums{font-size:12px;color:#999}\\n.tools{position:absolute;top:10px;white-space:nowrap}\\n#mHolder{width:62px;position:relative;z-index:296;top:-18px;margin-left:9px;margin-right:-12px;display:none}\\n#mCon{height:18px;position:absolute;top:3px;top:6px\\\\9;cursor:pointer;line-height:18px}\\n.wrapper_l #mCon{right:7px}\\n#mCon span{color:#00c;display:block}\\n#mCon .hw{text-decoration:underline;cursor:pointer;display:inline-block}\\n#mCon .pinyin{display:inline-block}\\n#mCon .c-icon-chevron-unfold2{margin-left:5px}\\n#mMenu{width:56px;border:1px solid #9b9b9b;position:absolute;right:7px;top:23px;display:none;background:#fff}\\n#mMenu a{width:100%;height:100%;color:#00c;display:block;line-height:22px;text-indent:6px;text-decoration:none;filter:none\\\\9}\\n#mMenu a:hover{background:#ebebeb}\\n#mMenu .ln{height:1px;background:#ebebeb;overflow:hidden;font-size:1px;line-height:1px;margin-top:-1px}\\n.op_LAMP{background:url(//www.baidu.com/cache/global/img/aladdinIcon-1.0.gif) no-repeat 0 2px;color:#77C;display:inline-block;font-size:13px;height:12px;*height:14px;width:16px;text-decoration:none;zoom:1}\\n.EC_mr15{margin-left:0}\\n.pd15{padding-left:0}\\n.map_1{width:30em;font-size:80%;line-height:145%}\\n.map_2{width:25em;font-size:80%;line-height:145%}\\n.favurl{background-repeat:no-repeat;background-position:0 1px;padding-left:20px}\\n.dan_tip{font-size:12px;margin-top:4px}\\n.dan_tip a{color:#b95b07}\\n#more,#u ul,#mMenu,.msg_holder{box-shadow:1px 1px 2px #ccc;-moz-box-shadow:1px 1px 2px #ccc;-webkit-box-shadow:1px 1px 2px #ccc;filter:progid:DXImageTransform.Microsoft.Shadow(Strength=2, Direction=135, Color=#cccccc)\\\\9}\\n.hit_top{line-height:18px;margin:0 15px 10px 0;width:516px}\\n.hit_top .c-icon-bear{height:18px;margin-right:4px}\\n#rs_top_new,.hit_top_new{width:538px;font-size:13px;line-height:1.54;word-wrap:break-word;word-break:break-all;margin:0 0 14px}\\n.zhannei-si{margin:0 0 10px 121px}\\n.zhannei-si-none{margin:10px 0 -10px 121px}\\n.zhannei-search{margin:10px 0 0 121px;color:#999;font-size:14px}\\n.f a font[size=\"3\"] font,.f font[size=\"-1\"] a font{text-decoration:underline}\\nh3 a font{text-decoration:underline}\\n.c-title{font-weight:400;font-size:16px}\\n.c-title-size{font-size:16px}\\n.c-abstract{font-size:13px}\\n.c-abstract-size{font-size:13px}\\n.c-showurl{color:green;font-size:13px}\\n.c-showurl-color{color:green}\\n.c-cache-color{color:#666}\\n.c-lightblue{color:#77c}\\n.c-highlight-color{color:#c00}\\n.c-clearfix:after{content:\".\";display:block;height:0;clear:both;visibility:hidden}\\n.c-clearfix{zoom:1}\\n.c-wrap{word-break:break-all;word-wrap:break-word}\\n.c-icons-outer{overflow:hidden;display:inline-block;vertical-align:bottom;*vertical-align:-1px;_vertical-align:bottom}\\n.c-icons-inner{margin-left:-4px;display:inline-block}\\n.c-container table.result,.c-container table.result-op{width:100%}\\n.c-container td.f{font-size:13px;line-height:1.54;width:auto}\\n.c-container .vd_newest_main{width:auto}\\n.c-customicon{display:inline-block;width:16px;height:16px;vertical-align:text-bottom;font-style:normal;overflow:hidden}\\n.c-tip-icon i{display:inline-block;cursor:pointer}\\n.c-tip-con{position:absolute;z-index:1;top:22px;left:-35px;background:#fff;border:1px solid #dcdcdc;border:1px solid rgba(0,0,0,.2);-webkit-transition:opacity .218s;transition:opacity .218s;-webkit-box-shadow:0 2px 4px rgba(0,0,0,.2);box-shadow:0 2px 4px rgba(0,0,0,.2);padding:5px 0;display:none;font-size:12px;line-height:20px}\\n.c-tip-arrow{width:0;height:0;font-size:0;line-height:0;display:block;position:absolute;top:-16px}\\n.c-tip-arrow-down{top:auto;bottom:0}\\n.c-tip-arrow em,.c-tip-arrow ins{width:0;height:0;font-size:0;line-height:0;display:block;position:absolute;border:8px solid transparent;border-style:dashed dashed solid}\\n.c-tip-arrow em{border-bottom-color:#d8d8d8}\\n.c-tip-arrow ins{border-bottom-color:#fff;top:2px}\\n.c-tip-arrow-down em,.c-tip-arrow-down ins{border-style:solid dashed dashed;border-color:transparent}\\n.c-tip-arrow-down em{border-top-color:#d8d8d8}\\n.c-tip-arrow-down ins{border-top-color:#fff;top:-2px}\\n.c-tip-arrow .c-tip-arrow-r{border-bottom-color:#82c9fa;top:2px}\\n.c-tip-arrow-down .c-tip-arrow-r{border-bottom-color:transparent;top:-2px}\\n.c-tip-arrow .c-tip-arrow-c{border-bottom-color:#fecc47;top:2px}\\n.c-tip-arrow-down .c-tip-arrow-c{border-bottom-color:transparent;top:-2px}\\n.c-tip-con h3{font-size:12px}\\n.c-tip-con .c-tip-title{margin:0 10px;display:inline-block;width:239px}\\n.c-tip-con .c-tip-info{color:#666;margin:0 10px 1px;width:239px}\\n.c-tip-con .c-tip-cer{width:370px;color:#666;margin:0 10px 1px}\\n.c-tip-con .c-tip-title{width:auto;_width:354px}\\n.c-tip-con .c-tip-item-i{padding:3px 0 3px 20px;line-height:14px}\\n.c-tip-con .c-tip-item-i .c-tip-item-icon{margin-left:-20px}\\n.c-tip-con .c-tip-menu ul{width:74px}\\n.c-tip-con .c-tip-menu ul{text-align:center}\\n.c-tip-con .c-tip-menu li a{display:block;text-decoration:none;cursor:pointer;background-color:#fff;padding:3px 0;color:#0000d0}\\n.c-tip-con .c-tip-menu li a:hover{display:block;background-color:#ebebeb}\\n.c-tip-con .c-tip-notice{width:239px;padding:0 10px}\\n.c-tip-con .c-tip-notice .c-tip-notice-succ{color:#4cbd37}\\n.c-tip-con .c-tip-notice .c-tip-notice-fail{color:#f13F40}\\n.c-tip-con .c-tip-notice .c-tip-item-succ{color:#444}\\n.c-tip-con .c-tip-notice .c-tip-item-fail{color:#aaa}\\n.c-tip-con .c-tip-notice .c-tip-item-fail a{color:#aaa}\\n.c-tip-close{right:10px;position:absolute;cursor:pointer}\\n.ecard{height:86px;overflow:hidden}\\n.c-tools{display:inline}\\n.c-tools-share{width:239px;padding:0 10px}\\n.c-fanyi{display:none;width:20px;height:20px;border:solid 1px #d1d1d1;cursor:pointer;position:absolute;margin-left:516px;text-align:center;color:#333;line-height:22px;opacity:.9;background-color:#fff}\\n.c-fanyi:hover{background-color:#39f;color:#fff;border-color:#39f;opacity:1}\\n.c-fanyi-title,.c-fanyi-abstract{display:none}\\n.icp_info{color:#666;margin-top:2px;font-size:13px}\\n.icon-gw,.icon-unsafe-icon{background:#2c99ff;vertical-align:text-bottom;*vertical-align:baseline;height:16px;padding-top:0;padding-bottom:0;padding-left:6px;padding-right:6px;line-height:16px;_padding-top:2px;_height:14px;_line-height:14px;font-size:12px;font-family:simsun;margin-left:10px;overflow:hidden;display:inline-block;-moz-border-radius:1px;-webkit-border-radius:1px;border-radius:1px;color:#fff}\\na.icon-gw{color:#fff;background:#2196ff;text-decoration:none;cursor:pointer}\\na.icon-gw:hover{background:#1e87ef}\\na.icon-gw:active{height:15px;_height:13px;line-height:15px;_line-height:13px;padding-left:5px;background:#1c80d9;border-left:1px solid #145997;border-top:1px solid #145997}\\n.icon-unsafe-icon{background:#e54d4b}\\n#con-at{margin-bottom:9px;padding-left:121px}\\n#con-at .result-op{font-size:13px;line-height:1.52em}\\n.wrapper_l #con-at .result-op{width:1058px}\\n.wrapper_s #con-at .result-op{width:869px}\\n#con-ar{margin-bottom:40px}\\n#con-ar .result-op{margin-bottom:28px;font-size:13px;line-height:1.52em}\\n.result_hidden{position:absolute;top:-10000px;left:-10000px}\\n#content_left .result-op,#content_left .result{margin-bottom:14px;border-collapse:collapse}\\n#content_left .c-border .result-op,#content_left .c-border .result{margin-bottom:25px}\\n#content_left .c-border .result-op:last-child,#content_left .c-border .result:last-child{margin-bottom:12px}\\n#content_left .result .f,#content_left .result-op .f{padding:0}\\n.subLink_factory{border-collapse:collapse}\\n.subLink_factory td{padding:0}\\n.subLink_factory td.middle,.subLink_factory td.last{color:#666}\\n.subLink_factory td a{text-decoration:underline}\\n.subLink_factory td.rightTd{text-align:right}\\n.subLink_factory_right{width:100%}\\n.subLink_factory_left td{padding-right:26px}\\n.subLink_factory_left td.last{padding:0}\\n.subLink_factory_left td.first{padding-right:75px}\\n.subLink_factory_right td{width:90px}\\n.subLink_factory_right td.first{width:auto}\\n.subLink_answer{padding-top:4px}\\n.subLink_answer li{margin-bottom:4px}\\n.subLink_answer h4{margin:0;padding:0;font-weight:400}\\n.subLink_answer .label_wrap span{display:inline-block;color:#9195A3;margin-right:8px}\\n.subLink_answer .label_wrap span em{color:#666;padding-left:8px}\\n.subLink_answer span.c-icon{margin-right:4px}\\n.subLink_answer_dis{padding:0 3px}\\n.subLink_answer .date{color:#666}\\n.general_image_pic a{background:#fff no-repeat center center;text-decoration:none;display:block;overflow:hidden;text-align:left}\\n.res_top_banner{height:36px;text-align:left;border-bottom:1px solid #e3e3e3;background:#f7f7f7;font-size:13px;padding-left:8px;color:#333;position:relative;z-index:302}\\n.res_top_banner span{_zoom:1}\\n.res_top_banner .res_top_banner_icon{background-position:0 -216px;width:18px;height:18px;margin:9px 10px 0 0}\\n.res_top_banner .res_top_banner_icon_baiduapp{background:url(http://s1.bdstatic.com/r/www/cache/static/global/img/baiduappLogo_de45621.png) no-repeat 0 0;width:24px;height:24px;margin:3px 10px 0 0;position:relative;top:3px}\\n.res_top_banner .res_top_banner_icon_windows{background:url(http://s1.bdstatic.com/r/www/cache/static/global/img/winlogo_e925689.png) no-repeat 0 0;width:18px;height:18px;margin:9px 10px 0 0}\\n.res_top_banner .res_top_banner_download{display:inline-block;width:65px;line-height:21px;_padding-top:1px;margin:0 0 0 10px;color:#333;background:#fbfbfb;border:1px solid #b4b6b8;text-align:center;text-decoration:none}\\n.res_top_banner .res_top_banner_download:hover{border:1px solid #38f}\\n.res_top_banner .res_top_banner_download:active{background:#f0f0f0;border:1px solid #b4b6b8}\\n.res_top_banner .res_top_banner_close{background-position:-672px -144px;cursor:pointer;position:absolute;right:10px;top:10px}\\n.res_top_banner_for_win{height:34px;text-align:left;border-bottom:1px solid #f0f0f0;background:#fdfdfd;font-size:13px;padding-left:12px;color:#333;position:relative;z-index:302}\\n.res_top_banner_for_win span{_zoom:1;color:#666}\\n.res_top_banner_for_win .res_top_banner_download{display:inline-block;width:auto;line-height:21px;_padding-top:1px;margin:0 0 0 16px;color:#333;text-align:left;text-decoration:underline}\\n.res_top_banner_for_win .res_top_banner_icon_windows{background:url(http://s1.bdstatic.com/r/www/cache/static/global/img/winlogo_e925689.png) no-repeat 0 0;width:18px;height:18px;margin:8px 8px 0 0}\\n.res_top_banner_for_win .res_top_banner_close{background-position:-672px -144px;cursor:pointer;position:absolute;right:10px;top:10px}\\n.res-gap-right16{margin-right:16px}\\n.res-border-top{border-top:1px solid #f3f3f3}\\n.res-border-bottom{border-bottom:1px solid #f3f3f3}\\n.res-queryext-pos{position:relative;top:1px;_top:0}\\n.res-queryext-pos-new{position:relative;top:-2px;_top:0}\\n.c-trust-ecard{height:86px;_height:97px;overflow:hidden}\\n.op-recommend-sp-gap{margin-right:6px}\\n@-moz-document url-prefix(){.result,.f{width:538px}}\\n#ftCon{display:none}\\n#qrcode{display:none}\\n#pad-version{display:none}\\n#index_guide{display:none}\\n#index_logo{display:none}\\n#u1{display:none}\\n.s_ipt_wr{height:32px}\\nbody{padding:0}\\n.s_form:after,.s_tab:after{content:\".\";display:block;height:0;clear:both;visibility:hidden}\\n.s_form{zoom:1;height:55px;padding:0 0 0 10px}\\n#result_logo{float:left;margin:7px 0 0}\\n#result_logo img{width:101px;height:33px}\\n#result_logo.qm-activity{filter:progid:DXImageTransform.Microsoft.BasicImage(grayscale=1);-webkit-filter:grayscale(100%);-moz-filter:grayscale(100%);-ms-filter:grayscale(100%);-o-filter:grayscale(100%);filter:grayscale(100%);filter:gray}\\n#head{padding:0;margin:0;width:100%;position:absolute;z-index:301;min-width:1000px;background:#fff;border-bottom:1px solid #ebebeb;position:fixed;_position:absolute;-webkit-transform:translateZ(0)}\\n#head .head_wrapper{_width:1000px}\\n#head.s_down{box-shadow:0 0 5px #888}\\n.fm{clear:none;float:left;margin:11px 0 0 10px}\\n#s_tab{background:#f8f8f8;line-height:36px;height:38px;padding:55px 0 0 121px;float:none;zoom:1}\\n#s_tab a,#s_tab b{width:54px;display:inline-block;text-decoration:none;text-align:center;color:#666;font-size:14px}\\n#s_tab b{border-bottom:2px solid #38f;font-weight:700;color:#323232}\\n#s_tab a:hover{color:#323232}\\n#content_left{width:540px;padding-left:121px;padding-top:5px}\\n#content_right{margin-top:45px}\\n.sam_newgrid #content_right{margin-top:40px}\\n#content_bottom{width:540px;padding-left:121px}\\n#page{padding:0 0 0 121px;margin:30px 0 40px}\\n.to_tieba,.to_zhidao_bottom{margin:10px 0 0 121px;padding-top:5px}\\n.nums{margin:0 0 0 121px;height:42px;line-height:42px}\\n.new_nums{font-size:13px;height:41px;line-height:41px}\\n#rs{padding:0;margin:6px 0 0 121px;width:600px}\\n#rs th{width:175px;line-height:22px}\\n#rs .tt{padding:0;line-height:30px}\\n#rs td{width:5px}\\n#rs table{width:540px}\\n#help{background:#f5f6f5;zoom:1;padding:0 0 0 50px;float:right}\\n#help a{color:#777;padding:0 15px;text-decoration:none}\\n#help a.emphasize{font-weight:700;text-decoration:underline}\\n#help a:hover{color:#333}\\n#foot{background:#f5f6f5;border-top:1px solid #ebebeb;text-align:left;height:42px;line-height:42px;margin-top:40px;*margin-top:0}\\n#foot .foot_c{float:left;padding:0 0 0 121px}\\n.content_none{padding:45px 0 25px 121px;float:left;width:560px}\\n.nors p{font-size:18px;color:#000}\\n.nors p em{color:#c00}\\n.nors .tip_head{color:#666;font-size:13px;line-height:28px}\\n.nors li{color:#333;line-height:28px;font-size:13px;list-style-type:none}\\n#mCon{top:5px}\\n.s_ipt_wr.bg,.s_btn_wr.bg,#su.bg{background-image:none}\\n.s_btn_wr{width:auto;height:auto;border-bottom:1px solid transparent;*border-bottom:0}\\n.s_btn{width:100px;height:34px;color:#fff;letter-spacing:1px;background:#3385ff;border-bottom:1px solid #2d78f4;outline:medium;*border-bottom:0;-webkit-appearance:none;-webkit-border-radius:0}\\n.s_btn.btnhover{background:#317ef3;border-bottom:1px solid #2868c8;*border-bottom:0;box-shadow:1px 1px 1px #ccc}\\n.s_btn_h{background:#3075dc;box-shadow:inset 1px 1px 3px #2964bb;-webkit-box-shadow:inset 1px 1px 3px #2964bb;-moz-box-shadow:inset 1px 1px 3px #2964bb;-o-box-shadow:inset 1px 1px 3px #2964bb}\\n.yy_fm .s_btn.btnhover,.fm_red .s_btn.btnhover{background:#D10400;border-bottom:1px solid #D10400}\\n.yy_fm .s_btn_h,.fm_red .s_btn_h{background:#C00400;box-shadow:inset 1px 1px 3px #A00300;-webkit-box-shadow:inset 1px 1px 3px #A00300}\\n#wrapper_wrapper .container_l .EC_ppim_top,#wrapper_wrapper .container_xl .EC_ppim_top{width:640px}\\n#wrapper_wrapper .container_s .EC_ppim_top{width:570px}\\n#head .c-icon-bear-round{display:none}\\n.container_l #content_right{width:384px}\\n.container_l{width:1212px}\\n.container_xl #content_right{width:384px}\\n.container_xl{width:1257px}\\n.index_tab_top{display:none}\\n.index_tab_bottom{display:none}\\n#lg{display:none}\\n#m{display:none}\\n#ftCon{display:none}\\n#ent_sug{position:absolute;margin:141px 0 0 130px;font-size:13px;color:#666}\\n.foot_fixed_bottom{position:fixed;bottom:0;width:100%;_position:absolute;_bottom:auto}\\n#head .headBlock{margin:-5px 0 6px 121px}\\n#content_left .leftBlock{margin-bottom:14px;padding-bottom:5px;border-bottom:1px solid #f3f3f3}\\n.hint_toprq_tips{position:relative;width:537px;height:19px;line-height:19px;overflow:hidden;display:none}\\n.hint_toprq_tips span{color:#666}\\n.hint_toprq_icon{margin:0 4px 0 0}\\n.hint_toprq_tips_items{width:444px;_width:440px;max-height:38px;position:absolute;left:95px;top:1px}\\n.hint_toprq_tips_items div{display:inline-block;float:left;height:19px;margin-right:18px;white-space:nowrap;word-break:keep-all}\\n.translateContent{max-width:350px}\\n.translateContent .translateTool{height:16px;margin:-3px 2px}\\n.translateContent .action-translate,.translateContent .action-search{display:inline-block;width:20px;height:16px;background:url(http://s1.bdstatic.com/r/www/cache/static/global/img/translate_tool_icon_57087b6.gif) no-repeat}\\n.translateContent .action-translate{background-position:0 0;border-right:1px solid #dcdcdc}\\n.translateContent .action-translate:hover{background-position:0 -20px}\\n.translateContent .action-search{background-position:-20px 0}\\n.translateContent .action-search:hover{background-position:-20px -20px}\\n.nums{width:538px}\\n.search_tool{_padding-top:15px}\\n.head_nums_cont_outer{height:40px;overflow:hidden;position:relative}\\n.new_head_nums_cont_outer{height:35px}\\n.head_nums_cont_inner{position:relative}\\n.search_tool_conter .c-gap-left{margin-left:23px}\\n.search_tool_conter .c-icon-triangle-down{opacity:.6}\\n.search_tool_conter .c-icon-triangle-down:hover{opacity:1}\\n.search_tool,.search_tool_close{float:right}\\n.search_tool,.search_tool_conter span{cursor:pointer;color:#666}\\n.search_tool:hover,.search_tool_conter span:hover{color:#333}\\n.search_tool_conter{font-size:12px;color:#666;margin:0 0 0 121px;height:42px;width:538px;line-height:42px;*height:auto;*line-height:normal;*padding:14px 0}\\n.new_search_tool_conter{font-size:12px;color:#666;margin:0 0 0 121px;height:41px;width:538px;line-height:39px;*height:auto;*line-height:normal;*padding:14px 0}\\n.search_tool_conter span strong{color:#666}\\n.c-tip-con .c-tip-langfilter ul{width:80px;text-align:left;color:#666}\\n.c-tip-con .c-tip-langfilter li a{text-indent:15px;color:#666}\\n.c-tip-con .c-tip-langfilter li span{text-indent:15px;padding:3px 0;color:#999;display:block}\\n.c-tip-con .c-tip-timerfilter ul{width:117px;text-align:left;color:#666}\\n.c-tip-con .c-tip-timerfilter-ft ul{width:180px}\\n.c-tip-con .c-tip-timerfilter-si ul{width:206px;padding:7px 10px 10px}\\n.c-tip-con .c-tip-timerfilter li a{text-indent:15px;color:#666}\\n.c-tip-con .c-tip-timerfilter li span{text-indent:15px;padding:3px 0;color:#999;display:block}\\n.c-tip-con .c-tip-timerfilter-ft li a,.c-tip-con .c-tip-timerfilter-ft li span{text-indent:20px}\\n.c-tip-custom{padding:0 15px 10px;position:relative;zoom:1}\\n.c-tip-custom hr{border:0;height:0;border-top:1px solid #ebebeb}\\n.c-tip-custom p{color:#b6b6b6;height:25px;line-height:25px;margin:2px 0}\\n.c-tip-custom .c-tip-custom-et{margin-bottom:7px}\\n.c-tip-custom-input,.c-tip-si-input{display:inline-block;font-size:11px;color:#333;margin-left:4px;padding:0 2px;width:74%;height:16px;line-height:16px\\\\9;border:1px solid #ebebeb;outline:0;box-sizing:content-box;-webkit-box-sizing:content-box;-moz-box-sizing:content-box;overflow:hidden;position:relative}\\n.c-tip-custom-input-init{color:#d4d4d4}\\n.c-tip-custom-input-focus,.c-tip-si-input-focus{border:1px solid #3385ff}\\n.c-tip-timerfilter-si .c-tip-si-input{width:138px;height:22px;line-height:22px;vertical-align:0;*vertical-align:-6px;_vertical-align:-5px;padding:0 5px;margin-left:0}\\n.c-tip-con .c-tip-timerfilter li .c-tip-custom-submit,.c-tip-con .c-tip-timerfilter li .c-tip-timerfilter-si-submit{display:inline;padding:4px 10px;margin:0;color:#333;border:1px solid #d8d8d8;font-family:inherit;font-weight:400;text-align:center;vertical-align:0;background-color:#f9f9f9;outline:0}\\n.c-tip-con .c-tip-timerfilter li .c-tip-custom-submit:hover,.c-tip-con .c-tip-timerfilter li .c-tip-timerfilter-si-submit:hover{display:inline;border-color:#388bff}\\n.c-tip-timerfilter-si-error,.c-tip-timerfilter-custom-error{display:none;color:#3385FF;padding-left:4px}\\n.c-tip-timerfilter-custom-error{padding:0;margin:-5px -13px 7px 0}\\n#c-tip-custom-calenderCont{position:absolute;background:#fff;white-space:nowrap;padding:5px 10px;color:#000;border:1px solid #e4e4e4;-webkit-box-shadow:0 2px 4px rgba(0,0,0,.2);box-shadow:0 2px 4px rgba(0,0,0,.2)}\\n#c-tip-custom-calenderCont p{text-align:center;padding:2px 0 4px;*padding:4px 0}\\n#c-tip-custom-calenderCont p i{color:#8e9977;cursor:pointer;text-decoration:underline;font-size:13px}\\n#c-tip-custom-calenderCont .op_cal{background:#fff}\\n.op_cal table{background:#eeefea;margin:0;border-collapse:separate}\\n.op_btn_pre_month,.op_btn_next_month{cursor:pointer;display:block;margin-top:6px}\\n.op_btn_pre_month{float:left;background-position:0 -46px}\\n.op_btn_next_month{float:right;background-position:-18px -46px}\\n.op_cal .op_mon_pre1{padding:0}\\n.op_mon th{text-align:center;font-size:12px;background:#FFF;font-weight:700;border:1px solid #FFF;padding:0}\\n.op_mon td{text-align:center;cursor:pointer}\\n.op_mon h5{margin:0;padding:0 4px;text-align:center;font-size:14px;background:#FFF;height:28px;line-height:28px;border-bottom:1px solid #f5f5f5;margin-bottom:5px}\\n.op_mon strong{font-weight:700}\\n.op_mon td{padding:0 5px;border:1px solid #fff;font-size:12px;background:#fff;height:100%}\\n.op_mon td.op_mon_pre_month{color:#a4a4a4}\\n.op_mon td.op_mon_cur_month{color:#00c}\\n.op_mon td.op_mon_next_month{color:#a4a4a4}\\n.op_mon td.op_mon_day_hover{color:#000;border:1px solid #278df2}\\n.op_mon td.op_mon_day_selected{color:#FFF;border:1px solid #278df2;background:#278df2}\\n.op_mon td.op_mon_day_disabled{cursor:not-allowed;color:#ddd}\\n.zhannei-si-none,.zhannei-si,.hit_quet,.zhannei-search{display:none}\\n#c-tip-custom-calenderCont .op_mon td.op_mon_cur_month{color:#000}\\n#c-tip-custom-calenderCont .op_mon td.op_mon_day_selected{color:#fff}\\n.c-icon-toen{width:24px;height:24px;line-height:24px;background-color:#1cb7fd;color:#fff;font-size:14px;font-weight:700;font-style:normal;display:block;display:inline-block;float:left;text-align:center}\\n.hint_common_restop{width:538px;color:#999;font-size:12px;text-align:left;margin:5px 0 10px 121px}\\n.hint_common_restop.hint-adrisk-pro{margin-top:4px;margin-bottom:13px}\\n.hint_common_restop .hint-adrisk-title{color:#333;margin-bottom:3px}\\n#con-at~#wrapper_wrapper .hint_common_restop{padding-top:7px}\\n.sitelink{overflow:auto;zoom:1}\\n.sitelink_summary{float:left;width:47%;padding-right:30px}\\n.sitelink_summary a{font-size:1.1em;position:relative}\\n.sitelink_summary_last{padding-right:0}\\n.sitelink_en{overflow:auto;zoom:1}\\n.sitelink_en_summary{float:left;width:47%;padding-right:30px}\\n.sitelink_en_summary a{font-size:1.1em;position:relative}\\n.sitelink_en_summary_last{padding-right:0}\\n.sitelink_en_summary_title,.sitelink_en_summary .m{height:22px;overflow:hidden}\\n.without-summary-sitelink-en-container{overflow:hidden;height:22px}\\n.without-summary-sitelink-en{float:left}\\n.without-summary-sitelink-en-delimiter{margin-right:5px;margin-left:5px}\\n.wise-qrcode-wrapper{height:42px;line-height:42px;position:absolute;margin-left:8px;top:0;z-index:300}\\n.wise-qrcode-icon-outer{overflow:hidden}\\n.wise-qrcode-icon{position:relative;display:inline-block;width:15px;height:15px;vertical-align:text-bottom;overflow:hidden;opacity:.5;background:url(http://s1.bdstatic.com/r/www/cache/static/global/img/qrcode_icon_ae03227.png) no-repeat;-webkit-transform:translateY(42px);-ms-transform:translateY(42px);transform:translateY(42px);-webkit-background-size:100% 100%;background-size:100%}\\n.wise-qrcode-container{padding:15px;background:#fff;display:none;top:61px;left:0;-webkit-transform:translateX(-50%);-ms-transform:translateX(-50%);transform:translateX(-50%);-webkit-box-shadow:0 0 1px rgba(0,0,0,.5);box-shadow:0 0 1px rgba(0,0,0,.5)}\\n.wise-qrcode-wrapper.show:hover .wise-qrcode-container{display:block}\\n.wise-qrcode-image{width:90px;height:90px;display:inline-block;vertical-align:middle}\\n.wise-qrcode-image .wise-qrcode-canvas{width:100%;height:100%}\\n.wise-qrcode-right{display:inline-block;vertical-align:middle;margin-left:15px}\\n.wise-qrcode-title{font-size:16px;color:#000;line-height:26px}\\n.wise-qrcode-text{font-size:12px;line-height:22px;color:#555}\\n#container.sam_newgrid{margin-left:150px}\\n#container.sam_newgrid #content_right{border-left:0;padding:0}\\n#container.sam_newgrid #content_left{padding-left:0}\\n#container.sam_newgrid #content_left .result-op,#container.sam_newgrid #content_left .result{margin-bottom:20px}\\n#container.sam_newgrid #con-ar .result-op{margin-bottom:20px;line-height:21px}\\n#container.sam_newgrid .c-container .t,#container.sam_newgrid .c-container .c-title{margin-bottom:4px}\\n#container.sam_newgrid .c-container .t a,#container.sam_newgrid .c-container .c-title a{display:inline-block;text-decoration:underline}\\n#container.sam_newgrid .c-container .t a em,#container.sam_newgrid .c-container .c-title a em{text-decoration:underline}\\n#container.sam_newgrid .c-container .t.c-title-border-gap,#container.sam_newgrid .c-container .c-title.c-title-border-gap{margin-bottom:8px}\\n#container.sam_newgrid a .t,#container.sam_newgrid a .c-title{text-decoration:underline}\\n#container.sam_newgrid a .t em,#container.sam_newgrid a .c-title em{text-decoration:underline}\\n#container.sam_newgrid .hint_common_restop,#container.sam_newgrid .nums,#container.sam_newgrid #rs,#container.sam_newgrid .search_tool_conter{margin-left:0}\\n#container.sam_newgrid #page,#container.sam_newgrid .content_none{padding-left:0}\\n#container.sam_newgrid .result .c-tools,#container.sam_newgrid .result-op .c-tools{margin-left:8px;cursor:pointer}\\n#container.sam_newgrid .result .c-tools .c-icon,#container.sam_newgrid .result-op .c-tools .c-icon{font-size:13px;color:rgba(0,0,0,.1);height:17px;width:13px;text-decoration:none;overflow:visible}\\n#container.sam_newgrid .se_st_footer .c-tools .c-icon{position:relative;top:-1px}\\n#container.sam_newgrid .c-showurl{color:#626675;font-family:Arial,sans-serif}\\n#container.sam_newgrid .c-showurl-hover{text-decoration:underline;color:#315efb}\\n#container.sam_newgrid .c-showem{text-decoration:underline;color:#f73131}\\n#container.sam_newgrid .c-icons-inner{margin-left:0}\\n#container.sam_newgrid .c-trust-as{cursor:pointer}\\n#container.sam_newgrid .c-icon-xls-new{color:#8bba75}\\n#container.sam_newgrid .c-icon-txt-new{color:#708cf6}\\n#container.sam_newgrid .c-icon-pdf-new{color:#e56755}\\n#container.sam_newgrid .c-icon-ppt-new{color:#e27c59}\\n#container.sam_newgrid .c-icon-doc-new{color:#509de0}\\n#container.sam_newgrid .se-st-default-abs-icon{font-size:16px;width:16px;height:18px}\\n#container.sam_newgrid .se-st-default-t-icon{width:20px;height:22px;position:relative;font-size:20px;top:-1px}\\n.new-pmd .subLink_answer{padding-top:3px}\\n.new-pmd .subLink_answer li{margin-bottom:5px}\\n.new-pmd .subLink_answer li:last-child{margin-bottom:4px}\\n.new-pmd .normal-gf-icon{font-size:12px;padding:0 3px;position:relative;top:-3px}\\n.new-pmd .kuaizhao:hover{text-decoration:none;color:#626675}\\n.new-pmd .sitelink_summary{width:272px;padding-right:16px}\\n.new-pmd .sitelink_summary_last{padding-right:0}\\n.new-pmd.bd_weixin_popup .c-tips-icon-close{font-size:16px!important;position:absolute;right:-6px;top:-6px;height:16px;width:16px;line-height:16px;cursor:pointer;text-align:center;color:#d7d9e0}\\n.new-pmd.bd_weixin_popup .c-tips-icon-close:active,.new-pmd.bd_weixin_popup .c-tips-icon-close:hover{color:#626675}\\n.new-pmd .c-tools-share-tip-con{padding-bottom:0}\\n.new-pmd .c-tools-favo-tip-con{padding-bottom:10px}\\n.new-pmd .c-tools-favo-tip-con .favo-icon{background-image:url(http://s1.bdstatic.com/r/www/cache/static/global/img/favo_sprites_e33db52.png);background-repeat:no-repeat;height:16px;width:16px;background-size:32px 16px;display:inline-block;vertical-align:text-bottom}\\n.new-pmd .c-tools-favo-tip-con .success-icon{background-position:0 0}\\n.new-pmd .c-tools-favo-tip-con .fail-icon{background-position:-16px 0}\\n.new-pmd .c-tools-tip-con{box-shadow:0 2px 10px 0 rgba(0,0,0,.1);border-radius:6px;border:0;font-size:13px!important;line-height:13px;padding:11px 10px 10px}\\n.new-pmd .c-tools-tip-con h3{font-size:13px!important}\\n.new-pmd .c-tools-tip-con a{text-decoration:none}\\n.new-pmd .c-tools-tip-con .c-tip-menu li{margin-bottom:13px}\\n.new-pmd .c-tools-tip-con .c-tip-menu li a{color:#333;line-height:13px;padding:0}\\n.new-pmd .c-tools-tip-con .c-tip-menu li a:hover{color:#315efb;background:none!important;text-decoration:none}\\n.new-pmd .c-tools-tip-con .c-tip-menu li a:active{color:#f73131}\\n.new-pmd .c-tools-tip-con .c-tip-menu li:last-child{margin-bottom:0}\\n.new-pmd .c-tools-tip-con .c-tip-menu ul{width:auto;padding:0}\\n.new-pmd .c-tools-tip-con .c-tip-notice{width:164px;padding:0}\\n.new-pmd .c-tools-tip-con .c-tip-notice .c-tip-notice-succ{color:#333;font-weight:400;padding-bottom:10px}\\n.new-pmd .c-tools-tip-con .c-tip-notice .c-tip-item-succ:first-child{padding-bottom:8px}\\n.new-pmd .c-tools-tip-con .c-tip-notice .c-tip-item-succ a{color:#2440b3}\\n.new-pmd .c-tools-tip-con .c-tip-notice .c-tip-item-succ a:hover{text-decoration:underline;color:#315efb}\\n.new-pmd .c-tools-tip-con .c-tip-notice .c-tip-item-succ a:active{color:#f73131}\\n.new-pmd .c-tools-tip-con .c-tip-notice .c-tip-item-fail{color:#9195A3}\\n.new-pmd .c-tools-tip-con .c-tip-notice .c-tip-item-fail a:hover{text-decoration:underline;color:#315efb}\\n.new-pmd .c-tools-tip-con .c-tip-notice .c-tip-item-fail a:active{color:#f73131}\\n.new-pmd .c-tools-tip-con .c-tips-icon-close{font-size:13px!important;width:13px;line-height:13px;color:#C4C7CE}\\n.new-pmd .c-tools-tip-con .c-tips-icon-close:hover,.new-pmd .c-tools-tip-con .c-tips-icon-close:active{color:#626675}\\n.new-pmd .c-tools-tip-con .c-tools-share{padding:0}\\n.new-pmd .c-tools-tip-con .c-tools-share a:hover{color:#315efb}\\n.new-pmd .c-tools-tip-con .c-tools-share a:active{color:#f73131}\\n.new-pmd .c-tools-tip-con .c-tools-share .bds_v2_share_box{margin-right:0}\\n.new-pmd .c-tools-tip-con .c-tip-arrow{top:-5px}\\n.new-pmd .c-tools-tip-con .c-tip-arrow em{border-width:0 4px 5px;border-style:solid;border-color:transparent;border-bottom-color:#fff;box-shadow:0 2px 10px 0 rgba(0,0,0,.1)}\\n.new-pmd .c-tools-tip-con .c-tip-arrow ins{display:none}\\nbody{min-width:1060px}\\n.wrapper_new{font-family:Arial,sans-serif}\\n.wrapper_new #head{border-bottom:0;min-width:1060px}\\n.wrapper_new #head.s_down{box-shadow:0 2px 10px 0 rgba(0,0,0,.1)}\\n.wrapper_new .s_form{height:70px;padding-left:16px}\\n.wrapper_new #result_logo{margin:17px 0 0}\\n.wrapper_new .fm{margin:15px 0 15px 16px}\\n.wrapper_new .quickdelete{display:none!important}\\n@media screen and (min-width:1921px){.wrapper_new #s_tab.s_tab .s_tab_inner{padding-left:106px}}\\n.wrapper_new .s_ipt_wr{width:590px;height:36px;border:2px solid #c4c7ce;border-radius:10px 0 0 10px;border-right:0;overflow:visible}\\n.wrapper_new .s_ipt_wr.new-ipt-focus{border-color:#4e6ef2}\\n.wrapper_new.wrapper_s .s_ipt_wr{width:478px}\\n.wrapper_new .iptfocus.s_ipt_wr{border-color:#4e71f2!important}\\n.wrapper_new .s_ipt_wr:hover{border-color:#A7AAB5}\\n.wrapper_new .head_wrapper input{outline:0;-webkit-appearance:none}\\n.wrapper_new .s_ipt{height:38px;font:16px/18px arial;padding:10px 0 10px 14px;margin:0;width:484px;background:transparent;border:0;outline:0;-webkit-appearance:none}\\n.wrapper_new.wrapper_l #kw.s_ipt{width:484px}\\n.wrapper_new .s_ipt_tip{height:37px;line-height:35px}\\n.wrapper_new .s_btn_wr{width:112px;position:relative;z-index:2;zoom:1;border:0}\\n.wrapper_new .s_btn_wr .s_btn{cursor:pointer;width:112px;height:40px;line-height:41px;line-height:40px\\\\9;background-color:#4e6ef2;border-radius:0 10px 10px 0;font-size:17px;box-shadow:none;font-weight:400;border:0;outline:0;letter-spacing:normal}\\n.wrapper_new .s_btn_wr .s_btn:hover{background:#4662D9}\\n.wrapper_new .ipt_rec,.wrapper_new .soutu-btn{background:url(http://s1.bdstatic.com/r/www/cache/static/global/img/nicon_10750f3.png) no-repeat;width:24px;height:20px}\\n.wrapper_new .ipt_rec{background-position:0 -2px;top:50%;right:52px!important;margin-top:-10px}\\n.wrapper_new .ipt_rec:hover{background:url(http://s1.bdstatic.com/r/www/cache/static/global/img/nicon_10750f3.png) no-repeat;background-position:0 -26px}\\n.wrapper_new .ipt_rec:after{display:none}\\n.wrapper_new .soutu-btn{background-position:0 -51px;right:16px;margin-top:-9px}\\n.wrapper_new .soutu-btn:hover{background-position:0 -75px}\\n@media only screen and (-webkit-min-device-pixel-ratio:2){.wrapper_new .soutu-btn,.wrapper_new .ipt_rec{background-image:url(http://s1.bdstatic.com/r/www/cache/static/global/img/nicon-2x_6258e1c.png);background-size:24px 96px}\\n.wrapper_new .ipt_rec:hover{background-image:url(http://s1.bdstatic.com/r/www/cache/static/global/img/nicon-2x_6258e1c.png);background-size:24px 96px}}\\n.wrapper_new #s_tab{color:#626675;padding-top:59px;background:0 0;padding-left:150px}\\n.wrapper_new #s_tab a{color:#626675}\\n.wrapper_new #s_tab a,.wrapper_new #s_tab b{width:auto;min-width:44px;margin-right:27px;line-height:28px;text-align:left;margin-top:4px}\\n.wrapper_new #s_tab i{font-size:14px;font-weight:400}\\n.wrapper_new #s_tab .cur-tab{color:#222;font-weight:400;border-bottom:0}\\n.wrapper_new #s_tab .cur-tab:before{font-family:cIconfont!important;color:#626675;margin-right:2px;content:\\'\\\\e608\\'}\\n.wrapper_new #s_tab .cur-tab:after{content:\\'\\';width:auto;min-width:44px;height:2px;background:#4e6ef2;border-radius:1px;display:block;margin-top:1px}\\n.wrapper_new.wrapper_s #s_tab a,.wrapper_new.wrapper_s #s_tab b{margin-right:15px}\\n.wrapper_new #s_tab .s-tab-item:hover{color:#222}\\n.wrapper_new #s_tab .s-tab-item:hover:before{color:#626675}\\n.wrapper_new #s_tab .s-tab-item:before{font-family:cIconfont!important;font-style:normal;-webkit-font-smoothing:antialiased;background:initial;margin-right:2px;color:#C0C2C8;display:inline-block}\\n.wrapper_new #s_tab .s-tab-news:before{content:\\'\\\\e606\\'}\\n.wrapper_new #s_tab .s-tab-video:before{content:\\'\\\\e604\\'}\\n.wrapper_new #s_tab .s-tab-pic:before{content:\\'\\\\e607\\'}\\n.wrapper_new #s_tab .s-tab-zhidao:before{content:\\'\\\\e633\\'}\\n.wrapper_new #s_tab .s-tab-wenku:before{content:\\'\\\\e605\\'}\\n.wrapper_new #s_tab .s-tab-tieba:before{content:\\'\\\\e609\\'}\\n.wrapper_new #s_tab .s-tab-b2b:before{content:\\'\\\\e603\\'}\\n.wrapper_new #s_tab .s-tab-map:before{content:\\'\\\\e630\\'}\\n.wrapper_new #u{height:60px;margin:4px 0 0;padding-right:24px}\\n.wrapper_new #u>a{text-decoration:none;line-height:24px;font-size:13px;margin:19px 0 0 24px;display:inline-block;vertical-align:top;cursor:pointer;color:#222}\\n.wrapper_new #u>a:hover,#user .username:hover{text-decoration:none;color:#315efb}\\n.wrapper_new #u .pf .c-icon-triangle-down{display:none}\\n.wrapper_new #u .lb{color:#fff;background-color:#4e71f2;height:24px;width:48px;line-height:24px;border-radius:6px;display:inline-block;text-align:center;margin-top:18px}\\n.wrapper_new #u .lb:hover{color:#fff}\\n.wrapper_new #u #s-top-loginbtn,.wrapper_new #u #user{position:relative;display:inline-block}\\n.wrapper_new #u #s-top-loginbtn a{margin-left:24px;margin-right:0}\\n.wrapper_new #u #s-top-loginbtn a:hover{text-decoration:none}\\n.wrapper_new #u .username{margin-left:24px;margin-top:15px;display:inline-block;height:30px}\\n.wrapper_new #u .s-msg-count{display:none;margin-left:4px}\\n.wrapper_new #u .s-top-img-wrapper{position:relative;width:28px;height:28px;border:1px solid #4e71f2;display:inline-block;border-radius:50%}\\n.wrapper_new #u .s-top-img-wrapper img{padding:2px;width:24px;height:24px;border-radius:50%}\\n.wrapper_new #u .s-top-username{display:inline-block;max-width:100px;overflow:hidden;white-space:nowrap;text-overflow:ellipsis;-o-text-overflow:ellipsis;vertical-align:top;margin-top:3px;margin-left:6px;font:13px/23px \\'PingFang SC\\',Arial,\\'Microsoft YaHei\\',sans-serif}\\n.wrapper_new #u .username .c-icon{display:none}\\n#wrapper.wrapper_new .bdnuarrow{display:none}\\n#wrapper.wrapper_new .bdpfmenu{display:none}\\n#wrapper.wrapper_new .bdpfmenu,#wrapper.wrapper_new .usermenu{width:84px;padding:8px 0;background:#fff;box-shadow:0 2px 10px 0 rgba(0,0,0,.15);-webkit-box-shadow:0 2px 10px 0 rgba(0,0,0,.15);-moz-box-shadow:0 2px 10px 0 rgba(0,0,0,.15);-o-box-shadow:0 2px 10px 0 rgba(0,0,0,.15);border-radius:12px;*border:1px solid #d7d9e0;border:0;overflow:hidden}\\n.wrapper_new .s-top-img-wrapper{display:none}\\n.wrapper_new .bdpfmenu a,.wrapper_new .usermenu a{padding:3px 0 3px 16px;color:#333;font-size:13px;line-height:23px}\\n.wrapper_new #u .bdpfmenu a:hover,.wrapper_new #u .usermenu a:hover{color:#315efb;text-decoration:none;background:0 0}\\n.wrapper_new .sam_newgrid~#page{background-color:#F5F5F6;margin:30px 0 0;padding-left:0}\\n.wrapper_new .page-inner{padding:14px 0 14px 150px}\\n.wrapper_new .sam_newgrid~#page .fk{display:none}\\n.wrapper_new .sam_newgrid~#page strong,.wrapper_new .sam_newgrid~#page a{width:36px;height:36px;border:0;border-radius:6px;background-color:#fff;color:#3951B3;margin-right:12px}\\n.wrapper_new .sam_newgrid~#page a .pc{border:0;width:36px;height:36px;line-height:36px}\\n.wrapper_new .sam_newgrid~#page strong{background:#4E6EF2;color:#fff;font-weight:400}\\n.wrapper_new .sam_newgrid~#page .n{width:80px;padding:0;line-height:36px}\\n.wrapper_new .sam_newgrid~#page a:hover,.wrapper_new .sam_newgrid~#page a:hover .pc,.wrapper_new .sam_newgrid~#page .n:hover{border:0;background:#4E6EF2;color:#fff}\\n.wrapper_new #foot{border-top:0;margin-top:0;background-color:#F5F5F6}\\n.wrapper_new #foot #help{padding-left:150px!important;background:#F5F5F6}\\n.wrapper_new #foot a{color:#9195A3;padding:0 12px}\\n.wrapper_new #foot a:hover{color:#222}\\n.wrapper_new #foot a:first-child{padding-left:0}\\n.wrapper_new #form .bdsug-new{width:590px;top:31px;border-radius:0 0 10px 10px;border:2px solid #4e71f2!important;border-top:0!important;box-shadow:none;font-family:\\'Microsoft YaHei\\',Arial,sans-serif;z-index:1}\\n.wrapper_new.wrapper_s #form .bdsug-new{width:478px}\\n.wrapper_new #form .bdsug-new ul{margin:7px 14px 0;padding:8px 0 7px;background:0 0;border-top:2px solid #f5f5f6}\\n.wrapper_new.wrapper_s #form .bdsug-new ul li{width:440px}\\n.wrapper_new #form .bdsug-new ul li{width:530px;padding:0;color:#626675;line-height:28px;background:0 0;font-family:\\'Microsoft YaHei\\',Arial,sans-serif}\\n.wrapper_new #form .bdsug-new ul li span{color:#626675}\\n.wrapper_new #form .bdsug-new ul li b{font-weight:400;color:#222}\\n.wrapper_new #form .bdsug-new .bdsug-store-del{font-size:13px;text-decoration:none;color:#9195A3;right:3px}\\n.wrapper_new #form .bdsug-new .bdsug-store-del:hover{color:#315EFB;cursor:pointer}\\n.wrapper_new #form .bdsug-new ul li:hover,.wrapper_new #form .bdsug-new ul li:hover span,.wrapper_new #form .bdsug-new ul li:hover b{cursor:pointer}\\n#head .s-down #form .bdsug-new{top:32px}\\n.wrapper_new #form .bdsug-new .bdsug-s,.wrapper_new #form .bdsug-new .bdsug-s span,.wrapper_new #form .bdsug-new .bdsug-s b{color:#315EFB}\\n.wrapper_new #form .bdsug-new>div span:hover,.wrapper_new #form .bdsug-new>div a:hover{color:#315EFB!important}\\n.wrapper_new #form #kw.new-ipt-focus{border-color:#4e6ef2}\\n.wrapper_new .bdsug-new .bdsug-feedback-wrap{border-radius:0 0 10px 10px;background:0 0;line-height:19px;margin-bottom:3px;margin-top:-7px}\\n.wrapper_new .bdsug-new .bdsug-feedback-wrap span{text-decoration:none;color:#9195A3;font-size:13px;cursor:pointer;margin-right:14px}\\n.wrapper_new .bdsug-new .bdsug-feedback-wrap span:hover{color:#315EFB}\\n.wrapper_new .soutu-env-new .soutu-layer{width:704px}\\n.wrapper_new .soutu-env-new .soutu-layer .soutu-url-wrap,.wrapper_new .soutu-env-new .soutu-layer #soutu-url-kw{width:592px;height:40px}\\n.wrapper_new.wrapper_s .soutu-env-new .soutu-layer{width:592px}\\n.wrapper_new.wrapper_s .soutu-env-new .soutu-layer .soutu-url-wrap,.wrapper_new.wrapper_s .soutu-env-new .soutu-layer #soutu-url-kw{width:480px;height:40px}\\n.wrapper_new .soutu-env-new .soutu-layer .soutu-url-btn-new{width:112px;height:40px;line-height:41px;line-height:40px\\\\9}\\n.wrapper_new .soutu-hover-tip,.wrapper_new .voice-hover{top:50px}\\n.wrapper_new .bdlayer .c-icon{width:16px;height:100%;vertical-align:top}\\n.wrapper_new #content_left{padding-left:140px}\\n.wrapper_new .search_tool_conter,.wrapper_new .nums,.wrapper_new #rs,.wrapper_new .hint_common_restop{margin-left:140px}\\n.wrapper_new #rs{margin-bottom:10px}\\n.wrapper_new #rs th{font-family:\\'Microsoft YaHei\\',Arial,sans-serif}\\n@media screen and (min-width:1921px){.wrapper_new .page-inner{width:1212px;margin:0 auto;box-sizing:border-box;padding:14px 0 14px 140px}}\\n#help .activity{font-weight:700;text-decoration:underline}\\n.index-logo-peak{display:none}\\n.baozhang-new-v2{margin-left:8px}\\n.c-trust-as.baozhang-new-v2 i{display:inline-block;vertical-align:text-bottom;font-family:none;width:43px;height:17px;background-image:url(http://s1.bdstatic.com/r/www/cache/static/global/img/bao_02f5d40.svg);background-repeat:no-repeat;background-size:contain;position:relative;top:1px}\\n.c-trust-as.baozhang-new-v2+.c-trust-as.vstar a{position:relative;top:1px}\\n@supports (-ms-ime-align:auto){.c-trust-as.baozhang-new-v2+.c-trust-as.vstar a{top:0}}\\n#head_wrapper.s-down .soutu-env-new .soutu-layer #soutu-url-kw{height:40px!important}\\n.c-frame{margin-bottom:18px}\\n.c-offset{padding-left:10px}\\n.c-gray{color:#666}\\n.c-gap-top-small{margin-top:5px}\\n.c-gap-top{margin-top:10px}\\n.c-gap-bottom-small{margin-bottom:5px}\\n.c-gap-bottom{margin-bottom:10px}\\n.c-gap-left{margin-left:12px}\\n.c-gap-left-small{margin-left:6px}\\n.c-gap-right{margin-right:12px}\\n.c-gap-right-small{margin-right:6px}\\n.c-gap-right-large{margin-right:16px}\\n.c-gap-left-large{margin-left:16px}\\n.c-gap-icon-right-small{margin-right:5px}\\n.c-gap-icon-right{margin-right:10px}\\n.c-gap-icon-left-small{margin-left:5px}\\n.c-gap-icon-left{margin-left:10px}\\n.c-container{width:538px;font-size:13px;line-height:1.54;word-wrap:break-word;word-break:break-word}\\n.c-container .c-container{width:auto}\\n.c-container table{border-collapse:collapse;border-spacing:0}\\n.c-container td{font-size:13px;line-height:1.54}\\n.c-default{font-size:13px;line-height:1.54;word-wrap:break-word;word-break:break-all}\\n.c-container .t,.c-default .t{line-height:1.54}\\n.c-default .t{margin-bottom:0}\\n.cr-content{width:259px;font-size:13px;line-height:1.54;color:#333;word-wrap:break-word;word-break:normal}\\n.cr-content table{border-collapse:collapse;border-spacing:0}\\n.cr-content td{font-size:13px;line-height:1.54;vertical-align:top}\\n.cr-offset{padding-left:17px}\\n.cr-title{font-size:14px;line-height:1.29;font-weight:700}\\n.cr-title-sub{float:right;font-size:13px;font-weight:400}\\n.c-row{*zoom:1}\\n.c-row:after{display:block;height:0;content:\"\";clear:both;visibility:hidden}\\n.c-span2{width:29px}\\n.c-span3{width:52px}\\n.c-span4{width:75px}\\n.c-span5{width:98px}\\n.c-span6{width:121px}\\n.c-span7{width:144px}\\n.c-span8{width:167px}\\n.c-span9{width:190px}\\n.c-span10{width:213px}\\n.c-span11{width:236px}\\n.c-span12{width:259px}\\n.c-span13{width:282px}\\n.c-span14{width:305px}\\n.c-span15{width:328px}\\n.c-span16{width:351px}\\n.c-span17{width:374px}\\n.c-span18{width:397px}\\n.c-span19{width:420px}\\n.c-span20{width:443px}\\n.c-span21{width:466px}\\n.c-span22{width:489px}\\n.c-span23{width:512px}\\n.c-span24{width:535px}\\n.c-span2,.c-span3,.c-span4,.c-span5,.c-span6,.c-span7,.c-span8,.c-span9,.c-span10,.c-span11,.c-span12,.c-span13,.c-span14,.c-span15,.c-span16,.c-span17,.c-span18,.c-span19,.c-span20,.c-span21,.c-span22,.c-span23,.c-span24{float:left;_display:inline;margin-right:17px;list-style:none}\\n.c-span-last{margin-right:0}\\n.c-span-last-s{margin-right:0}\\n.container_l .cr-content{width:351px}\\n.container_l .cr-content .c-span-last-s{margin-right:17px}\\n.container_l .cr-content-narrow{width:259px}\\n.container_l .cr-content-narrow .c-span-last-s{margin-right:0}\\n.c-border{width:518px;padding:9px;border:1px solid #e3e3e3;border-bottom-color:#e0e0e0;border-right-color:#ececec;box-shadow:1px 2px 1px rgba(0,0,0,.072);-webkit-box-shadow:1px 2px 1px rgba(0,0,0,.072);-moz-box-shadow:1px 2px 1px rgba(0,0,0,.072);-o-box-shadow:1px 2px 1px rgba(0,0,0,.072)}\\n.c-border .c-gap-left{margin-left:10px}\\n.c-border .c-gap-left-small{margin-left:5px}\\n.c-border .c-gap-right{margin-right:10px}\\n.c-border .c-gap-right-small{margin-right:5px}\\n.c-border .c-border{width:auto;padding:0;border:0;box-shadow:none;-webkit-box-shadow:none;-moz-box-shadow:none;-o-box-shadow:none}\\n.c-border .c-span2{width:34px}\\n.c-border .c-span3{width:56px}\\n.c-border .c-span4{width:78px}\\n.c-border .c-span5{width:100px}\\n.c-border .c-span6{width:122px}\\n.c-border .c-span7{width:144px}\\n.c-border .c-span8{width:166px}\\n.c-border .c-span9{width:188px}\\n.c-border .c-span10{width:210px}\\n.c-border .c-span11{width:232px}\\n.c-border .c-span12{width:254px}\\n.c-border .c-span13{width:276px}\\n.c-border .c-span14{width:298px}\\n.c-border .c-span15{width:320px}\\n.c-border .c-span16{width:342px}\\n.c-border .c-span17{width:364px}\\n.c-border .c-span18{width:386px}\\n.c-border .c-span19{width:408px}\\n.c-border .c-span20{width:430px}\\n.c-border .c-span21{width:452px}\\n.c-border .c-span22{width:474px}\\n.c-border .c-span23{width:496px}\\n.c-border .c-span24{width:518px}\\n.c-border .c-span2,.c-border .c-span3,.c-border .c-span4,.c-border .c-span5,.c-border .c-span6,.c-border .c-span7,.c-border .c-span8,.c-border .c-span9,.c-border .c-span10,.c-border .c-span11,.c-border .c-span12,.c-border .c-span13,.c-border .c-span14,.c-border .c-span15,.c-border .c-span16,.c-border .c-span17,.c-border .c-span18,.c-border .c-span19,.c-border .c-span20,.c-border .c-span21,.c-border .c-span22,.c-border .c-span23,.c-border .c-span24{margin-right:10px}\\n.c-border .c-span-last{margin-right:0}\\n.c-loading{display:block;width:50px;height:50px;background:url(//www.baidu.com/aladdin/img/tools/loading.gif) no-repeat 0 0}\\n.c-vline{display:inline-block;margin:0 3px;border-left:1px solid #ddd;width:0;height:12px;_vertical-align:middle;_overflow:hidden}\\n.c-icon{background:url(http://s1.bdstatic.com/r/www/cache/static/global/img/icons_441e82f.png) no-repeat 0 0;_background-image:url(http://s1.bdstatic.com/r/www/cache/static/global/img/icons_d5b04cc.gif)}\\n.c-icon{display:inline-block;width:14px;height:14px;vertical-align:text-bottom;font-style:normal;overflow:hidden}\\n.c-icon-unfold,.c-icon-fold,.c-icon-chevron-unfold,.c-icon-chevron-fold{width:12px;height:12px}\\n.c-icon-star,.c-icon-star-gray{width:60px}\\n.c-icon-qa-empty,.c-icon-safeguard,.c-icon-register-empty,.c-icon-zan,.c-icon-music,.c-icon-music-gray,.c-icon-location,.c-icon-warning,.c-icon-doc,.c-icon-xls,.c-icon-ppt,.c-icon-pdf,.c-icon-txt,.c-icon-play-black,.c-icon-gift,.c-icon-baidu-share,.c-icon-bear,.c-icon-bear-border,.c-icon-location-blue,.c-icon-hotAirBall,.c-icon-moon,.c-icon-streetMap,.c-icon-mv,.c-icon-zhidao-s,.c-icon-shopping{width:16px;height:16px}\\n.c-icon-bear-circle,.c-icon-warning-circle,.c-icon-warning-triangle,.c-icon-warning-circle-gray{width:18px;height:18px}\\n.c-icon-tieba,.c-icon-zhidao,.c-icon-bear-p,.c-icon-bear-pn{width:24px;height:24px}\\n.c-icon-ball-blue,.c-icon-ball-red{width:38px;height:38px}\\n.c-icon-unfold:hover,.c-icon-fold:hover,.c-icon-chevron-unfold:hover,.c-icon-chevron-fold:hover,.c-icon-download:hover,.c-icon-lyric:hover,.c-icon-v:hover,.c-icon-hui:hover,.c-icon-bao:hover,.c-icon-newbao:hover,.c-icon-person:hover,.c-icon-high-v:hover,.c-icon-phone:hover,.c-icon-nuo:hover,.c-icon-fan:hover,.c-icon-med:hover,.c-icon-air:hover,.c-icon-share2:hover,.c-icon-v1:hover,.c-icon-v2:hover,.c-icon-write:hover,.c-icon-R:hover{border-color:#388bff}\\n.c-icon-unfold:active,.c-icon-fold:active,.c-icon-chevron-unfold:active,.c-icon-chevron-fold:active,.c-icon-download:active,.c-icon-lyric:active,.c-icon-v:active,.c-icon-hui:active,.c-icon-bao:active,.c-icon-newbao:active,.c-icon-person:active,.c-icon-high-v:active,.c-icon-phone:active,.c-icon-nuo:active,.c-icon-fan:active,.c-icon-med:active,.c-icon-air:active,.c-icon-share2:active,.c-icon-v1:active,.c-icon-v2:active,.c-icon-write:active,.c-icon-R:active{border-color:#a2a6ab;background-color:#f0f0f0;box-shadow:inset 1px 1px 1px #c7c7c7;-webkit-box-shadow:inset 1px 1px 1px #c7c7c7;-moz-box-shadow:inset 1px 1px 1px #c7c7c7;-o-box-shadow:inset 1px 1px 1px #c7c7c7}\\n.c-icon-v3:hover{border-color:#ffb300}\\n.c-icon-v3:active{border-color:#a2a6ab;background-color:#f0f0f0;box-shadow:inset 1px 1px 1px #c7c7c7;-webkit-box-shadow:inset 1px 1px 1px #c7c7c7;-moz-box-shadow:inset 1px 1px 1px #c7c7c7;-o-box-shadow:inset 1px 1px 1px #c7c7c7}\\n.c-icon-unfold,.c-icon-fold,.c-icon-chevron-unfold,.c-icon-chevron-fold,.c-icon-download,.c-icon-lyric{border:1px solid #d8d8d8;cursor:pointer}\\n.c-icon-v,.c-icon-hui,.c-icon-bao,.c-icon-newbao,.c-icon-person,.c-icon-high-v,.c-icon-phone,.c-icon-nuo,.c-icon-fan,.c-icon-med,.c-icon-air,.c-icon-share2,.c-icon-v1,.c-icon-v2,.c-icon-v3,.c-icon-write,.c-icon-R{border:1px solid #d8d8d8;cursor:pointer;border-color:transparent;_border-color:tomato;_filter:chroma(color=#ff6347)}\\n.c-icon-v1,.c-icon-v2,.c-icon-v3,.c-icon-v1-noborder,.c-icon-v2-noborder,.c-icon-v3-noborder,.c-icon-v1-noborder-disable,.c-icon-v2-noborder-disable,.c-icon-v3-noborder-disable{width:19px}\\n.c-icon-download,.c-icon-lyric{width:16px;height:16px}\\n.c-icon-play-circle,.c-icon-stop-circle{width:18px;height:18px}\\n.c-icon-play-circle-middle,.c-icon-stop-circle-middle{width:24px;height:24px}\\n.c-icon-play-black-large,.c-icon-stop-black-large{width:36px;height:36px}\\n.c-icon-play-black-larger,.c-icon-stop-black-larger{width:52px;height:52px}\\n.c-icon-flag{background-position:0 -144px}\\n.c-icon-bus{background-position:-24px -144px}\\n.c-icon-calendar{background-position:-48px -144px}\\n.c-icon-street{background-position:-72px -144px}\\n.c-icon-map{background-position:-96px -144px}\\n.c-icon-bag{background-position:-120px -144px}\\n.c-icon-money{background-position:-144px -144px}\\n.c-icon-game{background-position:-168px -144px}\\n.c-icon-user{background-position:-192px -144px}\\n.c-icon-globe{background-position:-216px -144px}\\n.c-icon-lock{background-position:-240px -144px}\\n.c-icon-plane{background-position:-264px -144px}\\n.c-icon-list{background-position:-288px -144px}\\n.c-icon-star-gray{background-position:-312px -144px}\\n.c-icon-circle-gray{background-position:-384px -144px}\\n.c-icon-triangle-down{background-position:-408px -144px}\\n.c-icon-triangle-up{background-position:-432px -144px}\\n.c-icon-triangle-up-empty{background-position:-456px -144px}\\n.c-icon-sort-gray{background-position:-480px -144px}\\n.c-icon-sort-up{background-position:-504px -144px}\\n.c-icon-sort-down{background-position:-528px -144px}\\n.c-icon-down-gray{background-position:-552px -144px}\\n.c-icon-up-gray{background-position:-576px -144px}\\n.c-icon-download-noborder{background-position:-600px -144px}\\n.c-icon-lyric-noborder{background-position:-624px -144px}\\n.c-icon-download-white{background-position:-648px -144px}\\n.c-icon-close{background-position:-672px -144px}\\n.c-icon-fail{background-position:-696px -144px}\\n.c-icon-success{background-position:-720px -144px}\\n.c-icon-triangle-down-g{background-position:-744px -144px}\\n.c-icon-refresh{background-position:-768px -144px}\\n.c-icon-chevron-left-gray{background-position:-816px -144px}\\n.c-icon-chevron-right-gray{background-position:-840px -144px}\\n.c-icon-setting{background-position:-864px -144px}\\n.c-icon-close2{background-position:-888px -144px}\\n.c-icon-chevron-top-gray-s{background-position:-912px -144px}\\n.c-icon-fullscreen{background-position:0 -168px}\\n.c-icon-safe{background-position:-24px -168px}\\n.c-icon-exchange{background-position:-48px -168px}\\n.c-icon-chevron-bottom{background-position:-72px -168px}\\n.c-icon-chevron-top{background-position:-96px -168px}\\n.c-icon-unfold{background-position:-120px -168px}\\n.c-icon-fold{background-position:-144px -168px}\\n.c-icon-chevron-unfold{background-position:-168px -168px}\\n.c-icon-qa{background-position:-192px -168px}\\n.c-icon-register{background-position:-216px -168px}\\n.c-icon-star{background-position:-240px -168px}\\n.c-icon-star-gray{position:relative}\\n.c-icon-star-gray .c-icon-star{position:absolute;top:0;left:0}\\n.c-icon-play-blue{background-position:-312px -168px}\\n.c-icon-pic{width:16px;background-position:-336px -168px}\\n.c-icon-chevron-fold{background-position:-360px -168px}\\n.c-icon-video{width:18px;background-position:-384px -168px}\\n.c-icon-circle-blue{background-position:-408px -168px}\\n.c-icon-circle-yellow{background-position:-432px -168px}\\n.c-icon-play-white{background-position:-456px -168px}\\n.c-icon-triangle-down-blue{background-position:-480px -168px}\\n.c-icon-chevron-unfold2{background-position:-504px -168px}\\n.c-icon-right{background-position:-528px -168px}\\n.c-icon-right-empty{background-position:-552px -168px}\\n.c-icon-new-corner{width:15px;background-position:-576px -168px}\\n.c-icon-horn{background-position:-600px -168px}\\n.c-icon-right-large{width:18px;background-position:-624px -168px}\\n.c-icon-wrong-large{background-position:-648px -168px}\\n.c-icon-circle-blue-s{background-position:-672px -168px}\\n.c-icon-play-gray{background-position:-696px -168px}\\n.c-icon-up{background-position:-720px -168px}\\n.c-icon-down{background-position:-744px -168px}\\n.c-icon-stable{background-position:-768px -168px}\\n.c-icon-calendar-blue{background-position:-792px -168px}\\n.c-icon-triangle-down-blue2{background-position:-816px -168px}\\n.c-icon-triangle-up-blue2{background-position:-840px -168px}\\n.c-icon-down-blue{background-position:-864px -168px}\\n.c-icon-up-blue{background-position:-888px -168px}\\n.c-icon-ting{background-position:-912px -168px}\\n.c-icon-piao{background-position:-936px -168px}\\n.c-icon-wrong-empty{background-position:-960px -168px}\\n.c-icon-warning-circle-s{background-position:-984px -168px}\\n.c-icon-chevron-left{background-position:-1008px -168px}\\n.c-icon-chevron-right{background-position:-1032px -168px}\\n.c-icon-circle-gray-s{background-position:-1056px -168px}\\n.c-icon-v,.c-icon-v-noborder{background-position:0 -192px}\\n.c-icon-hui{background-position:-24px -192px}\\n.c-icon-bao{background-position:-48px -192px}\\n.c-icon-newbao{background-position:-97px -218px}\\n.c-icon-phone{background-position:-72px -192px}\\n.c-icon-qa-empty{background-position:-96px -192px}\\n.c-icon-safeguard{background-position:-120px -192px}\\n.c-icon-register-empty{background-position:-144px -192px}\\n.c-icon-zan{background-position:-168px -192px}\\n.c-icon-music{background-position:-192px -192px}\\n.c-icon-music-gray{background-position:-216px -192px}\\n.c-icon-location{background-position:-240px -192px}\\n.c-icon-warning{background-position:-264px -192px}\\n.c-icon-doc{background-position:-288px -192px}\\n.c-icon-xls{background-position:-312px -192px}\\n.c-icon-ppt{background-position:-336px -192px}\\n.c-icon-pdf{background-position:-360px -192px}\\n.c-icon-txt{background-position:-384px -192px}\\n.c-icon-play-black{background-position:-408px -192px}\\n.c-icon-play-black:hover{background-position:-432px -192px}\\n.c-icon-gift{background-position:-456px -192px}\\n.c-icon-baidu-share{background-position:-480px -192px}\\n.c-icon-bear{background-position:-504px -192px}\\n.c-icon-R{background-position:-528px -192px}\\n.c-icon-bear-border{background-position:-576px -192px}\\n.c-icon-person,.c-icon-person-noborder{background-position:-600px -192px}\\n.c-icon-location-blue{background-position:-624px -192px}\\n.c-icon-hotAirBall{background-position:-648px -192px}\\n.c-icon-moon{background-position:-672px -192px}\\n.c-icon-streetMap{background-position:-696px -192px}\\n.c-icon-high-v,.c-icon-high-v-noborder{background-position:-720px -192px}\\n.c-icon-nuo{background-position:-744px -192px}\\n.c-icon-mv{background-position:-768px -192px}\\n.c-icon-fan{background-position:-792px -192px}\\n.c-icon-med{background-position:-816px -192px}\\n.c-icon-air{background-position:-840px -192px}\\n.c-icon-share2{background-position:-864px -192px}\\n.c-icon-v1,.c-icon-v1-noborder{background-position:-888px -192px}\\n.c-icon-v2,.c-icon-v2-noborder{background-position:-912px -192px}\\n.c-icon-v3,.c-icon-v3-noborder{background-position:-936px -192px}\\n.c-icon-v1-noborder-disable{background-position:-960px -192px}\\n.c-icon-v2-noborder-disable{background-position:-984px -192px}\\n.c-icon-v3-noborder-disable{background-position:-1008px -192px}\\n.c-icon-write{background-position:-1032px -192px}\\n.c-icon-zhidao-s{background-position:-1056px -192px}\\n.c-icon-shopping{background-position:-1080px -192px}\\n.c-icon-bear-circle{background-position:0 -216px}\\n.c-icon-warning-circle{background-position:-24px -216px}\\n.c-icon-warning-triangle{width:24px;background-position:-48px -216px}\\n.c-icon-warning-circle-gray{background-position:-72px -216px}\\n.c-icon-ball-red{background-position:0 -240px}\\n.c-icon-ball-blue{background-position:-48px -240px}\\n.c-icon-tieba{background-position:0 -288px}\\n.c-icon-zhidao{background-position:-48px -288px}\\n.c-icon-bear-p{background-position:-96px -288px}\\n.c-icon-bear-pn{background-position:-144px -288px}\\n.c-icon-download{background-position:0 -336px}\\n.c-icon-lyric{background-position:-24px -336px}\\n.c-icon-play-circle{background-position:-48px -336px}\\n.c-icon-play-circle:hover{background-position:-72px -336px}\\n.c-icon-stop-circle{background-position:-96px -336px}\\n.c-icon-stop-circle:hover{background-position:-120px -336px}\\n.c-icon-play-circle-middle{background-position:0 -360px}\\n.c-icon-play-circle-middle:hover{background-position:-48px -360px}\\n.c-icon-stop-circle-middle{background-position:-96px -360px}\\n.c-icon-stop-circle-middle:hover{background-position:-144px -360px}\\n.c-icon-play-black-large{background-position:0 -408px}\\n.c-icon-play-black-large:hover{background-position:-48px -408px}\\n.c-icon-stop-black-large{background-position:-96px -408px}\\n.c-icon-stop-black-large:hover{background-position:-144px -408px}\\n.c-icon-play-black-larger{background-position:0 -456px}\\n.c-icon-play-black-larger:hover{background-position:-72px -456px}\\n.c-icon-stop-black-larger{background-position:-144px -456px}\\n.c-icon-stop-black-larger:hover{background-position:-216px -456px}\\n.c-recommend{font-size:0;padding:5px 0;border:1px solid #f3f3f3;border-left:0;border-right:0}\\n.c-recommend .c-icon{margin-bottom:-4px}\\n.c-recommend .c-gray,.c-recommend a{font-size:13px}\\n.c-recommend-notopline{padding-top:0;border-top:0}\\n.c-recommend-vline{display:inline-block;margin:0 10px -2px;border-left:1px solid #d8d8d8;width:0;height:12px;_vertical-align:middle;_overflow:hidden}\\n.c-text{display:inline-block;padding:2px;text-align:center;vertical-align:text-bottom;font-size:12px;line-height:100%;font-style:normal;font-weight:400;color:#fff;overflow:hidden}\\na.c-text,a.c-text:hover,a.c-text:active,a.c-text:visited{color:#fff;text-decoration:none}\\n.c-text-new{background-color:#f13f40}\\n.c-text-info{padding-left:0;padding-right:0;font-weight:700;color:#2b99ff;*vertical-align:baseline;_position:relative;_top:2px}\\na.c-text-info,a.c-text-info:hover,a.c-text-info:active,a.c-text-info:visited{color:#2b99ff}\\n.c-text-info b{_position:relative;_top:-1px}\\n.c-text-info span{padding:0 2px;font-weight:400}\\n.c-text-important{background-color:#1cb7fd}\\n.c-text-public{background-color:#2b99ff}\\n.c-text-warning{background-color:#ff830f}\\n.c-text-prompt{background-color:#f5c537}\\n.c-text-danger{background-color:#f13f40}\\n.c-text-safe{background-color:#52c277}\\n.c-text-empty{padding-top:1px;padding-bottom:1px;border:1px solid #d8d8d8;cursor:pointer;color:#23b9fd;background-color:#fff}\\na.c-text-empty,a.c-text-empty:visited{color:#23b9fd}\\n.c-text-empty:hover{border-color:#388bff;color:#23b9fd}\\n.c-text-empty:active{color:#23b9fd;border-color:#a2a6ab;background-color:#f0f0f0;box-shadow:inset 1px 1px 1px #c7c7c7;-webkit-box-shadow:inset 1px 1px 1px #c7c7c7;-moz-box-shadow:inset 1px 1px 1px #c7c7c7;-o-box-shadow:inset 1px 1px 1px #c7c7c7}\\n.c-text-mult{padding-left:5px;padding-right:5px}\\n.c-text-gray{background-color:#666}\\n.c-btn,.c-btn:visited{color:#333!important}\\n.c-btn{display:inline-block;padding:0 14px;margin:0;height:24px;line-height:25px;font-size:13px;filter:chroma(color=#000000);*zoom:1;border:1px solid #d8d8d8;cursor:pointer;font-family:inherit;font-weight:400;text-align:center;vertical-align:middle;background-color:#f9f9f9;overflow:hidden;outline:0}\\n.c-btn:hover{border-color:#388bff}\\n.c-btn:active{border-color:#a2a6ab;background-color:#f0f0f0;box-shadow:inset 1px 1px 1px #c7c7c7;-webkit-box-shadow:inset 1px 1px 1px #c7c7c7;-moz-box-shadow:inset 1px 1px 1px #c7c7c7;-o-box-shadow:inset 1px 1px 1px #c7c7c7}\\na.c-btn{text-decoration:none}\\nbutton.c-btn{height:26px;_line-height:18px;*overflow:visible}\\nbutton.c-btn::-moz-focus-inner{padding:0;border:0}\\n.c-btn .c-icon{margin-top:5px}\\n.c-btn-disable{color:#999!important}\\n.c-btn-disable:visited{color:#999!important}\\n.c-btn-disable:hover{border:1px solid #d8d8d8;cursor:default}\\n.c-btn-disable:active{border-color:#d8d8d8;background-color:#f9f9f9;box-shadow:none;-webkit-box-shadow:none;-moz-box-shadow:none;-o-box-shadow:none}\\n.c-btn-mini{padding-left:5px;padding-right:5px;height:18px;line-height:18px;font-size:12px}\\nbutton.c-btn-mini{height:20px;_height:18px;_line-height:14px}\\n.c-btn-mini .c-icon{margin-top:2px}\\n.c-btn-large{height:28px;line-height:28px;font-size:14px;font-family:\"微软雅黑\",\"黑体\"}\\nbutton.c-btn-large{height:30px;_line-height:24px}\\n.c-btn-large .c-icon{margin-top:7px;_margin-top:6px}\\n.c-btn-primary,.c-btn-primary:visited{color:#fff!important}\\n.c-btn-primary{background-color:#388bff;border-color:#3c8dff #408ffe #3680e6}\\n.c-btn-primary:hover{border-color:#2678ec #2575e7 #1c6fe2 #2677e7;background-color:#388bff;background-image:url(data:image/png;base64,iVBORw0KGgoAAAANSUhEUgAAAAEAAAACCAMAAACuX0YVAAAABlBMVEVnpv85i/9PO5r4AAAAD0lEQVR42gEEAPv/AAAAAQAFAAIros7PAAAAAElFTkSuQmCC);*background-image:none;background-repeat:repeat-x;box-shadow:1px 1px 1px rgba(0,0,0,.4);-webkit-box-shadow:1px 1px 1px rgba(0,0,0,.4);-moz-box-shadow:1px 1px 1px rgba(0,0,0,.4);-o-box-shadow:1px 1px 1px rgba(0,0,0,.4)}\\n.c-btn-primary:active{border-color:#178ee3 #1784d0 #177bbf #1780ca;background-color:#388bff;background-image:none;box-shadow:inset 1px 1px 1px rgba(0,0,0,.15);-webkit-box-shadow:inset 1px 1px 1px rgba(0,0,0,.15);-moz-box-shadow:inset 1px 1px 1px rgba(0,0,0,.15);-o-box-shadow:inset 1px 1px 1px rgba(0,0,0,.15)}\\n.c-btn .c-icon{float:left}\\n.c-dropdown2{position:relative;display:inline-block;width:100%;height:26px;line-height:26px;font-size:13px;vertical-align:middle;outline:0;_font-family:SimSun;background-color:#fff;word-wrap:normal;word-break:normal}\\n.c-dropdown2 .c-dropdown2-btn-group{position:relative;height:24px;border:1px solid #999;border-bottom-color:#d8d8d8;border-right-color:#d8d8d8;-moz-user-select:none;-webkit-user-select:none;user-select:none}\\n.c-dropdown2:hover .c-dropdown2-btn-group,.c-dropdown2-hover .c-dropdown2-btn-group{box-shadow:inset 1px 1px 0 0 #d8d8d8;-webkit-box-shadow:inset 1px 1px 0 0 #d8d8d8;-moz-box-shadow:inset 1px 1px 0 0 #d8d8d8;-o-box-shadow:inset 1px 1px 0 0 #d8d8d8}\\n.c-dropdown2:hover .c-dropdown2-btn-icon,.c-dropdown2-hover .c-dropdown2-btn-icon{box-shadow:inset 0 1px 0 0 #d8d8d8;-webkit-box-shadow:inset 0 1px 0 0 #d8d8d8;-moz-box-shadow:inset 0 1px 0 0 #d8d8d8;-o-box-shadow:inset 0 1px 0 0 #d8d8d8}\\n.c-dropdown2:hover .c-dropdown2-btn-icon-border,.c-dropdown2-hover .c-dropdown2-btn-icon-border{background-color:#f2f2f2}\\n.c-dropdown2 .c-dropdown2-btn{height:24px;padding-left:10px;padding-right:10px;cursor:default;overflow:hidden;white-space:nowrap}\\n.c-dropdown2 .c-dropdown2-btn-icon{position:absolute;top:0;right:0;width:23px;height:24px;line-height:24px;background-color:#fff;padding:0 1px 0 10px}\\n.c-dropdown2 .c-dropdown2-btn-icon-border{height:24px;width:23px;border-left:1px solid #d9d9d9;text-align:center;zoom:1}\\n.c-dropdown2 .c-icon-triangle-down{*margin-top:5px;_margin-left:2px}\\n.c-dropdown2 .c-dropdown2-menu{position:absolute;left:0;top:100%;_margin-top:0;width:100%;overflow:hidden;border:1px solid #bbb;background:#fff;visibility:hidden}\\n.c-dropdown2 .c-dropdown2-menu-inner{overflow:hidden}\\n.c-dropdown2 .c-dropdown2-option{background-color:#fff;cursor:pointer}\\n.c-dropdown2 .c-dropdown2-selected{background-color:#f5f5f5}\\n.c-dropdown2-common ul,.c-dropdown2-common li{margin:0;padding:0;list-style:none}\\n.c-dropdown2-common .c-dropdown2-option{height:26px;line-height:26px;font-size:12px;color:#333;white-space:nowrap;cursor:pointer;padding-left:10px}\\n.c-dropdown2-common .c-dropdown2-selected{background-color:#f5f5f5}\\n.c-dropdown2-common .c-dropdown2-menu-group .c-dropdown2-group{padding-left:10px;font-weight:700;cursor:default}\\n.c-dropdown2-common .c-dropdown2-menu-group .c-dropdown2-option{padding-left:20px}\\n.c-img{display:block;min-height:1px;border:0 0}\\n.c-img3{width:52px}\\n.c-img4{width:75px}\\n.c-img6{width:121px}\\n.c-img7{width:144px}\\n.c-img12{width:259px}\\n.c-img15{width:328px}\\n.c-img18{width:397px}\\n.c-border .c-img3{width:56px}\\n.c-border .c-img4{width:78px}\\n.c-border .c-img7{width:144px}\\n.c-border .c-img12{width:254px}\\n.c-border .c-img15{width:320px}\\n.c-border .c-img18{width:386px}\\n.c-index{display:inline-block;padding:1px 0;color:#fff;width:14px;line-height:100%;font-size:12px;text-align:center;background-color:#8eb9f5}\\n.c-index-hot,.c-index-hot1{background-color:#f54545}\\n.c-index-hot2{background-color:#ff8547}\\n.c-index-hot3{background-color:#ffac38}\\n.c-input{display:inline-block;padding:0 4px;height:24px;line-height:24px\\\\9;font-size:13px;border:1px solid #999;border-bottom-color:#d8d8d8;border-right-color:#d8d8d8;outline:0;box-sizing:content-box;-webkit-box-sizing:content-box;-moz-box-sizing:content-box;vertical-align:top;overflow:hidden}\\n.c-input:hover{box-shadow:inset 1px 1px 1px 0 #d8d8d8;-webkit-box-shadow:inset 1px 1px 1px 0 #d8d8d8;-moz-box-shadow:inset 1px 1px 1px 0 #d8d8d8;-o-box-shadow:inset 1px 1px 1px 0 #d8d8d8}\\n.c-input .c-icon{float:right;margin-top:6px}\\n.c-input .c-icon-left{float:left;margin-right:4px}\\n.c-input input{float:left;height:22px;*padding-top:4px;margin-top:2px;font-size:13px;border:0;outline:0}\\n.c-input{width:180px}\\n.c-input input{width:162px}\\n.c-input-xmini{width:65px}\\n.c-input-xmini input{width:47px}\\n.c-input-mini{width:88px}\\n.c-input-mini input{width:70px}\\n.c-input-small{width:157px}\\n.c-input-small input{width:139px}\\n.c-input-large{width:203px}\\n.c-input-large input{width:185px}\\n.c-input-xlarge{width:341px}\\n.c-input-xlarge input{width:323px}\\n.c-input12{width:249px}\\n.c-input12 input{width:231px}\\n.c-input20{width:433px}\\n.c-input20 input{width:415px}\\n.c-border .c-input{width:178px}\\n.c-border .c-input input{width:160px}\\n.c-border .c-input-xmini{width:68px}\\n.c-border .c-input-xmini input{width:50px}\\n.c-border .c-input-mini{width:90px}\\n.c-border .c-input-mini input{width:72px}\\n.c-border .c-input-small{width:156px}\\n.c-border .c-input-small input{width:138px}\\n.c-border .c-input-large{width:200px}\\n.c-border .c-input-large input{width:182px}\\n.c-border .c-input-xlarge{width:332px}\\n.c-border .c-input-xlarge input{width:314px}\\n.c-border .c-input12{width:244px}\\n.c-border .c-input12 input{width:226px}\\n.c-border .c-input20{width:420px}\\n.c-border .c-input20 input{width:402px}\\n.c-numberset{*zoom:1}\\n.c-numberset:after{display:block;height:0;content:\"\";clear:both;visibility:hidden}\\n.c-numberset li{float:left;margin-right:17px;list-style:none}\\n.c-numberset .c-numberset-last{margin-right:0}\\n.c-numberset a{display:block;width:50px;text-decoration:none;text-align:center;border:1px solid #d8d8d8;cursor:pointer}\\n.c-numberset a:hover{border-color:#388bff}\\n.c-border .c-numberset li{margin-right:10px}\\n.c-border .c-numberset .c-numberset-last{margin-right:0}\\n.c-border .c-numberset a{width:54px}\\n.c-table{width:100%;border-collapse:collapse;border-spacing:0}\\n.c-table th,.c-table td{padding-left:10px;line-height:1.54;font-size:13px;border-bottom:1px solid #f3f3f3;text-align:left}\\n.cr-content .c-table th:first-child,.cr-content .c-table td:first-child{padding-left:0}\\n.c-table th{padding-top:4px;padding-bottom:4px;font-weight:400;color:#666;border-color:#f0f0f0;white-space:nowrap;background-color:#fafafa}\\n.c-table td{padding-top:6.5px;padding-bottom:6.5px}\\n.c-table-hasimg td{padding-top:10px;padding-bottom:10px}\\n.c-table a,.c-table em{text-decoration:none}\\n.c-table a:hover,.c-table a:hover em{text-decoration:underline}\\n.c-table a.c-icon:hover{text-decoration:none}\\n.c-table .c-btn:hover,.c-table .c-btn:hover em{text-decoration:none}\\n.c-table-nohihead th{background-color:transparent}\\n.c-table-noborder td{border-bottom:0}\\n.c-tabs-nav-movetop{margin:-10px -9px 0 -10px;position:relative}\\n.c-tabs-nav{border-bottom:1px solid #d9d9d9;background-color:#fafafa;line-height:1.54;font-size:0;*zoom:1;_overflow-x:hidden;_position:relative}\\n.c-tabs-nav:after{display:block;height:0;content:\"\";clear:both;visibility:hidden}\\n.c-tabs-nav .c-tabs-nav-btn{float:right;_position:absolute;_top:0;_right:0;_z-index:1;background:#fafafa}\\n.c-tabs-nav .c-tabs-nav-btn .c-tabs-nav-btn-prev,.c-tabs-nav .c-tabs-nav-btn .c-tabs-nav-btn-next{float:left;padding:6px 2px;cursor:pointer}\\n.c-tabs-nav .c-tabs-nav-btn .c-tabs-nav-btn-disable{cursor:default}\\n.c-tabs-nav .c-tabs-nav-view{_position:relative;overflow:hidden;*zoom:1;margin-bottom:-1px}\\n.c-tabs-nav .c-tabs-nav-view .c-tabs-nav-li{margin-bottom:0}\\n.c-tabs-nav .c-tabs-nav-more{float:left;white-space:nowrap}\\n.c-tabs-nav li,.c-tabs-nav a{color:#666;font-size:13px;*zoom:1}\\n.c-tabs-nav li{display:inline-block;margin-bottom:-1px;*display:inline;padding:3px 15px;vertical-align:bottom;border-style:solid;border-width:2px 1px 0;border-color:transparent;_border-color:tomato;_filter:chroma(color=#ff6347);list-style:none;cursor:pointer;white-space:nowrap;overflow:hidden}\\n.c-tabs-nav a{text-decoration:none}\\n.c-tabs-nav .c-tabs-nav-sep{height:16px;width:0;padding:0;margin-bottom:4px;border-style:solid;border-width:0 1px;border-color:transparent #fff transparent #dedede}\\n.c-tabs-nav .c-tabs-nav-selected{_position:relative;border-color:#2c99ff #e4e4e4 #fff #dedede;background-color:#fff;color:#000;cursor:default}\\n.c-tabs-nav-one .c-tabs-nav-selected{border-color:transparent;_border-color:tomato;_filter:chroma(color=#ff6347);background-color:transparent;color:#666}\\n.c-tabs .c-tabs .c-tabs-nav{padding:10px 0 5px;border:0 0;background-color:#fff}\\n.c-tabs .c-tabs .c-tabs-nav li,.c-tabs .c-tabs .c-tabs-nav a{color:#00c}\\n.c-tabs .c-tabs .c-tabs-nav li{padding:0 5px;position:static;margin:0 10px;border:0 0;cursor:pointer;white-space:nowrap}\\n.c-tabs .c-tabs .c-tabs-nav .c-tabs-nav-sep{height:11px;width:0;padding:0;margin:0 0 4px;border:0 0;border-left:1px solid #d8d8d8}\\n.c-tabs .c-tabs .c-tabs-nav .c-tabs-nav-selected{background-color:#2c99ff;color:#fff;cursor:default}\\n.c-tag{padding-top:3px;margin-bottom:3px;height:1.7em;font-size:13px;line-height:1.4em;transition:height .3s ease-in;-webkit-transition:height .3s ease-in;-moz-transition:height .3s ease-in;-ms-transition:height .3s ease-in;-o-transition:height .3s ease-in;*zoom:1;overflow:hidden}\\n.c-tag:after{display:block;height:0;content:\"\";clear:both;visibility:hidden}\\n.c-tag-cont{overflow:hidden;*zoom:1}\\n.c-tag-type,.c-tag-li,.c-tag-more,.c-tag-cont span{margin:2px 0}\\n.c-tag-type,.c-tag-li,.c-tag-cont span{float:left}\\n.c-tag-type,.c-tag-more{color:#666}\\n.c-tag-li,.c-tag-cont span{padding:0 4px;display:inline-block;margin-right:12px;white-space:nowrap;cursor:pointer;color:#00c}\\n.c-tag .c-tag-selected{background:#388bff;color:#fff}\\n.c-tag-more{float:right;background:#fff;cursor:pointer;*height:18px}\\n.c-tool{display:inline-block;width:56px;height:56px;background:url(//www.baidu.com/aladdin/img/tools/tools-5.png) no-repeat}\\n.c-tool-region{background-position:0 0}\\n.c-tool-calendar{background-position:-72px 0}\\n.c-tool-city{background-position:-144px 0}\\n.c-tool-phone-pos{background-position:-216px 0}\\n.c-tool-other{background-position:-288px 0}\\n.c-tool-midnight{background-position:-360px 0}\\n.c-tool-kefu{width:121px;background-position:-432px 0}\\n.c-tool-phone{background-position:-576px 0}\\n.c-tool-car{background-position:-648px 0}\\n.c-tool-station{background-position:0 -72px}\\n.c-tool-cheat{background-position:-72px -72px}\\n.c-tool-counter{background-position:-144px -72px}\\n.c-tool-time{background-position:-216px -72px}\\n.c-tool-zip{background-position:-288px -72px}\\n.c-tool-warning{background-position:-360px -72px}\\n.c-tool-ip{background-position:0 -144px}\\n.c-tool-unit{background-position:-72px -144px}\\n.c-tool-rate{background-position:-144px -144px}\\n.c-tool-conversion{background-position:-288px -144px}\\n.c-tool-ads{background-position:-360px -144px}\\n.c-icon-baozhang-new{width:14px;height:14px;background-image:url(http://s1.bdstatic.com/r/www/cache/static/global/img/pc-bao_96f4fc0.png);background-size:140px 14px;background-repeat:no-repeat;cursor:pointer;border-color:transparent;margin-left:11px;margin-right:3px}\\n.c-icon-baozhang-new.animate{-webkit-animation-name:keyframesBao;animation-name:keyframesBao;-webkit-animation-duration:1s;animation-duration:1s;-webkit-animation-delay:0s;animation-delay:0s;-webkit-animation-iteration-count:1;animation-iteration-count:1;-webkit-animation-fill-mode:forwards;animation-fill-mode:forwards;-webkit-animation-timing-function:steps(1);animation-timing-function:steps(1)}\\n@-webkit-keyframes keyframesBao{0%{background-position:0 0}\\n10%{background-position:-14px 0}\\n20%{background-position:-28px 0}\\n30%{background-position:-42px 0}\\n40%{background-position:-56px 0}\\n50%{background-position:-70px 0}\\n60%{background-position:-84px 0}\\n70%{background-position:-98px 0}\\n80%{background-position:-112px 0}\\n90%,100%{background-position:-126px 0}}\\n@keyframes keyframesBao{0%{background-position:0 0}\\n10%{background-position:-14px 0}\\n20%{background-position:-28px 0}\\n30%{background-position:-42px 0}\\n40%{background-position:-56px 0}\\n50%{background-position:-70px 0}\\n60%{background-position:-84px 0}\\n70%{background-position:-98px 0}\\n80%{background-position:-112px 0}\\n90%,100%{background-position:-126px 0}}\\n.opui-honourCard4-new-bao-title{font-size:12px;line-height:16px;color:#333;margin:3px 10px 0}\\n.c-tip-con .opui-honourCard4-new-bao-style{width:100%;margin-top:4px}\\n.c-tip-con .opui-honourCard4-new-bao-style a,.c-tip-con .opui-honourCard4-new-bao-style a:visited{color:#666}\\n.new-pmd{}\\n.new-pmd .c-gap-top-small{margin-top:6px}\\n.new-pmd .c-gap-top{margin-top:8px}\\n.new-pmd .c-gap-top-large{margin-top:12px}\\n.new-pmd .c-gap-top-mini{margin-top:2px}\\n.new-pmd .c-gap-top-xsmall{margin-top:4px}\\n.new-pmd .c-gap-top-middle{margin-top:10px}\\n.new-pmd .c-gap-bottom-small{margin-bottom:6px}\\n.new-pmd .c-gap-bottom{margin-bottom:8px}\\n.new-pmd .c-gap-bottom-large{margin-bottom:12px}\\n.new-pmd .c-gap-bottom-mini{margin-bottom:2px}\\n.new-pmd .c-gap-bottom-xsmall{margin-bottom:4px}\\n.new-pmd .c-gap-bottom-middle{margin-bottom:10px}\\n.new-pmd .c-gap-left{margin-left:12px}\\n.new-pmd .c-gap-left-small{margin-left:8px}\\n.new-pmd .c-gap-left-xsmall{margin-left:4px}\\n.new-pmd .c-gap-left-mini{margin-left:2px}\\n.new-pmd .c-gap-left-large{margin-left:16px}\\n.new-pmd .c-gap-left-middle{margin-left:10px}\\n.new-pmd .c-gap-right{margin-right:12px}\\n.new-pmd .c-gap-right-small{margin-right:8px}\\n.new-pmd .c-gap-right-xsmall{margin-right:4px}\\n.new-pmd .c-gap-right-mini{margin-right:2px}\\n.new-pmd .c-gap-right-large{margin-right:16px}\\n.new-pmd .c-gap-right-middle{margin-right:10px}\\n.new-pmd .c-gap-icon-right-small{margin-right:5px}\\n.new-pmd .c-gap-icon-right{margin-right:10px}\\n.new-pmd .c-gap-icon-left-small{margin-left:5px}\\n.new-pmd .c-gap-icon-left{margin-left:10px}\\n.new-pmd .c-row{*zoom:1}\\n.new-pmd .c-row:after{display:block;height:0;content:\"\";clear:both;visibility:hidden}\\n.new-pmd .c-span1{width:32px}\\n.new-pmd .c-span2{width:80px}\\n.new-pmd .c-span3{width:128px}\\n.new-pmd .c-span4{width:176px}\\n.new-pmd .c-span5{width:224px}\\n.new-pmd .c-span6{width:272px}\\n.new-pmd .c-span7{width:320px}\\n.new-pmd .c-span8{width:368px}\\n.new-pmd .c-span9{width:416px}\\n.new-pmd .c-span10{width:464px}\\n.new-pmd .c-span11{width:512px}\\n.new-pmd .c-span12{width:560px}\\n.new-pmd .c-span2,.new-pmd .c-span3,.new-pmd .c-span4,.new-pmd .c-span5,.new-pmd .c-span6,.new-pmd .c-span7,.new-pmd .c-span8,.new-pmd .c-span9,.new-pmd .c-span10,.new-pmd .c-span11,.new-pmd .c-span12{float:left;_display:inline;margin-right:16px;list-style:none}\\n.new-pmd .c-span-last{margin-right:0}\\n.new-pmd .c-span-last-s{margin-right:0}\\n.new-pmd .c-icon{font-family:cIconfont!important;font-style:normal;-webkit-font-smoothing:antialiased;-moz-osx-font-smoothing:grayscale}\\n.new-pmd .c-index{display:inline-block;width:14px;padding:1px 0;line-height:100%;text-align:center;color:#fff;background-color:#8eb9f5;font-size:12px}\\n.new-pmd .c-index-hot,.new-pmd .c-index-hot1{background-color:#f54545}\\n.new-pmd .c-index-hot2{background-color:#ff8547}\\n.new-pmd .c-index-hot3{background-color:#ffac38}\\n.new-pmd .c-index-single{display:inline-block;background:0 0;color:#9195A3;width:18px;font-size:15px;letter-spacing:-1px}\\n.new-pmd .c-index-single-hot,.new-pmd .c-index-single-hot1{color:#FE2D46}\\n.new-pmd .c-index-single-hot2{color:#F60}\\n.new-pmd .c-index-single-hot3{color:#FAA90E}\\n.new-pmd .c-text{display:inline-block;padding:0 2px;text-align:center;vertical-align:middle;font-style:normal;color:#fff;overflow:hidden;line-height:16px;height:16px;font-size:12px;border-radius:4px;font-weight:200}\\n.new-pmd a.c-text{text-decoration:none!important}\\n.new-pmd .c-text-info{padding-left:0;padding-right:0;font-weight:700;color:#2b99ff;vertical-align:text-bottom}\\n.new-pmd .c-text-info span{padding:0 2px;font-weight:400}\\n.new-pmd .c-text-important{background-color:#1cb7fd}\\n.new-pmd .c-text-public{background-color:#4E6EF2}\\n.new-pmd .c-text-warning{background-color:#f60}\\n.new-pmd .c-text-prompt{background-color:#ffc20d}\\n.new-pmd .c-text-danger{background-color:#f73131}\\n.new-pmd .c-text-safe{background-color:#39b362}\\n.new-pmd .c-text-mult{padding:0 4px;line-height:18px;height:18px;border-radius:4px;font-weight:400}\\n.new-pmd .c-text-blue{background-color:#4E6EF2}\\n.new-pmd .c-text-blue-border{border:1px solid #CBD2FF;padding:0 8px;border-radius:4px;font-weight:400;color:#4E6EF2!important}\\n.new-pmd .c-text-green{background-color:#39b362}\\n.new-pmd .c-text-green-border{border:1px solid #C9E7CD;padding:0 8px;border-radius:4px;font-weight:400;color:#39b362!important}\\n.new-pmd .c-text-red{background-color:#f73131}\\n.new-pmd .c-text-red-border{border:1px solid #F0C8BD;padding:0 8px;border-radius:4px;font-weight:400;color:#f73131!important}\\n.new-pmd .c-text-yellow{background-color:#ffc20d}\\n.new-pmd .c-text-yellow-border{border:1px solid #FCEDB1;padding:0 8px;border-radius:4px;font-weight:400;color:#ffc20d!important}\\n.new-pmd .c-text-orange{background-color:#f60}\\n.new-pmd .c-text-orange-border{border:1px solid #F8D2B0;padding:0 8px;border-radius:4px;font-weight:400;color:#f60!important}\\n.new-pmd .c-text-pink{background-color:#fc3274}\\n.new-pmd .c-text-pink-border{border:1px solid #F6C4D7;padding:0 8px;border-radius:4px;font-weight:400;color:#fc3274!important}\\n.new-pmd .c-text-gray{background-color:#858585}\\n.new-pmd .c-text-gray-border{border:1px solid #DBDBDB;padding:0 8px;border-radius:4px;font-weight:400;color:#858585!important}\\n.new-pmd .c-text-dark-red{background-color:#CC2929}\\n.new-pmd .c-text-gray-opacity{background-color:rgba(0,0,0,.3)}\\n.new-pmd .c-text-white-border{border:1px solid rgba(255,255,255,.8);padding:0 8px;border-radius:4px;font-weight:400;color:#fff!important}\\n.new-pmd .c-text-hot{background-color:#FF9812}\\n.new-pmd .c-text-new{background-color:#FF455B}\\n.new-pmd .c-text-fei{background-color:#FF7413}\\n.new-pmd .c-text-bao{background-color:#D61A6E}\\n.new-pmd .c-text-rec{background-color:#3CA6FF}\\n.new-pmd .c-text-time{background-color:rgba(0,0,0,.3)}\\n.new-pmd .c-btn,.new-pmd .c-btn:visited{color:#333!important}\\n.new-pmd .c-btn{display:inline-block;overflow:hidden;font-family:inherit;font-weight:400;text-align:center;vertical-align:middle;outline:0;border:0;height:30px;width:80px;line-height:30px;font-size:13px;border-radius:6px;padding:0;background-color:#F5F5F6;*zoom:1;cursor:pointer}\\n.new-pmd a.c-btn{text-decoration:none}\\n.new-pmd button.c-btn{*overflow:visible;border:0;outline:0}\\n.new-pmd button.c-btn::-moz-focus-inner{padding:0;border:0}\\n.new-pmd .c-btn-disable{color:#C4C7CE!important}\\n.new-pmd .c-btn-disable:visited{color:#C4C7CE!important}\\n.new-pmd .c-btn-disable:hover{cursor:default;color:#C4C7CE!important;background-color:#F5F5F6}\\n.new-pmd .c-btn-mini{height:24px;width:48px;line-height:24px}\\n.new-pmd .c-btn-mini .c-icon{margin-top:2px}\\n.new-pmd .c-btn-large{height:30px;line-height:30px;font-size:14px}\\n.new-pmd button.c-btn-large{height:30px}\\n.new-pmd .c-btn-large .c-icon{margin-top:7px}\\n.new-pmd .c-btn-primary,.new-pmd .c-btn-primary:visited{color:#fff!important}\\n.new-pmd .c-btn-primary{background-color:#4E6EF2}\\n.new-pmd .c-btn-primary:hover{background-color:#315EFB;border:0!important;box-shadow:none!important;background-image:none!important}\\n.new-pmd .c-btn-primary:active{border:0!important;box-shadow:none!important;background-image:none!important}\\n.new-pmd .c-btn-default:hover{background-color:#315EFB;color:#FFF!important}\\n.new-pmd .c-btn-weak{height:24px;line-height:24px;border-radius:4px;font-size:12px}\\n.new-pmd .c-btn-add{width:32px;height:32px;line-height:32px;text-align:center;color:#9195A3!important}\\n.new-pmd .c-btn-add:hover{background-color:#4E6EF2;color:#fff!important}\\n.new-pmd .c-btn-add .c-icon{float:none}\\n.new-pmd .c-btn-add-disable:hover{cursor:default;color:#C4C7CE!important;background-color:#F5F5F6}\\n.new-pmd .c-tag{color:#333;display:inline-block;padding:0 8px;height:30px;line-height:30px;font-size:13px;border-radius:6px;background-color:#f5f5f6;cursor:pointer}\\n.new-pmd .c-img{position:relative;display:block;min-height:0;border:0;line-height:0;background:#f5f5f6;overflow:hidden}\\n.new-pmd .c-img img{width:100%}\\n.new-pmd .c-img1{width:32px}\\n.new-pmd .c-img2{width:80px}\\n.new-pmd .c-img3{width:128px}\\n.new-pmd .c-img4{width:176px}\\n.new-pmd .c-img6{width:272px}\\n.new-pmd .c-img12{width:560px}\\n.new-pmd .c-img-s,.new-pmd .c-img-l,.new-pmd .c-img-w,.new-pmd .c-img-x,.new-pmd .c-img-y,.new-pmd .c-img-v,.new-pmd .c-img-z{height:0;overflow:hidden}\\n.new-pmd .c-img-s{padding-bottom:100%}\\n.new-pmd .c-img-l{padding-bottom:133.33333333%}\\n.new-pmd .c-img-w{padding-bottom:56.25%}\\n.new-pmd .c-img-x{padding-bottom:75%}\\n.new-pmd .c-img-y{padding-bottom:66.66666667%}\\n.new-pmd .c-img-v{padding-bottom:116.66666667%}\\n.new-pmd .c-img-z{padding-bottom:62.5%}\\n.new-pmd .c-img-radius{border-radius:6px}\\n.new-pmd .c-img-radius-s{border-radius:2px}\\n.new-pmd .c-img-radius-small{border-radius:2px}\\n.new-pmd .c-img-radius-large{border-radius:12px}\\n.new-pmd .c-img-radius-middle{border-radius:4px}\\n.new-pmd .c-img-radius-left{border-top-left-radius:6px;border-bottom-left-radius:6px}\\n.new-pmd .c-img-radius-right{border-top-right-radius:6px;border-bottom-right-radius:6px}\\n.new-pmd .c-img-radius-left-s{border-top-left-radius:2px;border-bottom-left-radius:2px}\\n.new-pmd .c-img-radius-right-s{border-top-right-radius:2px;border-bottom-right-radius:2px}\\n.new-pmd .c-img-radius-left-l{border-top-left-radius:12px;border-bottom-left-radius:12px}\\n.new-pmd .c-img-radius-right-l{border-top-right-radius:12px;border-bottom-right-radius:12px}\\n.new-pmd .c-img-mask{position:absolute;top:0;left:0;z-index:2;width:100%;height:100%;background-image:radial-gradient(circle,rgba(0,0,0,0),rgba(0,0,0,.04));background-image:-ms-radial-gradient(circle,rgba(0,0,0,0),rgba(0,0,0,.04))}\\n.new-pmd .c-img-border{content:\\'\\';position:absolute;top:0;left:0;bottom:0;right:0;border:1px solid rgba(0,0,0,.05)}\\n.new-pmd .c-img-circle{border-radius:100%;overflow:hidden}\\n.new-pmd .c-input{display:inline-block;font:13px/21px Arial,sans-serif;color:#333;border:1px solid #D7D9E0;padding:0 8px;height:28px;line-height:28px\\\\9;border-radius:6px;font-size:13px;outline:0;box-sizing:content-box;-webkit-box-sizing:content-box;-moz-box-sizing:content-box;vertical-align:top;overflow:hidden}\\n.new-pmd .c-input:hover{box-shadow:none;-webkit-box-shadow:none;-moz-box-shadow:none;-o-box-shadow:none}\\n.new-pmd .c-input .c-icon{float:right;margin-top:5px;font-size:16px;color:#9195A3}\\n.new-pmd .c-input .c-icon-left{float:left;margin-right:4px}\\n.new-pmd .c-input input{float:left;height:26px;padding:0;margin-top:1px;font-size:13px;border:0;outline:0}\\n.new-pmd .c-input input::-webkit-input-placeholder{color:#9195A3}\\n.new-pmd .c-input input::-ms-input-placeholder{color:#9195A3}\\n.new-pmd .c-input input::-moz-placeholder{color:#9195A3}\\n.new-pmd .c-input::-webkit-input-placeholder{color:#9195A3}\\n.new-pmd .c-input::-ms-input-placeholder{color:#9195A3}\\n.new-pmd .c-input::-moz-placeholder{color:#9195A3}\\n.new-pmd .c-input{width:398px}\\n.new-pmd .c-input input{width:378px}\\n.new-pmd .c-input-xmini{width:158px}\\n.new-pmd .c-input-xmini input{width:138px}\\n.new-pmd .c-input-mini{width:206px}\\n.new-pmd .c-input-mini input{width:186px}\\n.new-pmd .c-input-small{width:350px}\\n.new-pmd .c-input-small input{width:330px}\\n.new-pmd .c-input-large{width:446px}\\n.new-pmd .c-input-large input{width:426px}\\n.new-pmd .c-input-xlarge{width:734px}\\n.new-pmd .c-input-xlarge input{width:714px}\\n.new-pmd .c-input12{width:542px}\\n.new-pmd .c-input12 input{width:522px}\\n.new-pmd .c-input20{width:926px}\\n.new-pmd .c-input20 input{width:906px}\\n.new-pmd .c-radio,.new-pmd .c-checkbox{display:inline-block;position:relative;white-space:nowrap;outline:0;line-height:1;vertical-align:middle;cursor:pointer;width:16px;height:16px}\\n.new-pmd .c-radio-inner,.new-pmd .c-checkbox-inner{display:inline-block;position:relative;width:16px;height:16px;line-height:16px;text-align:center;top:0;left:0;background-color:#fff;color:#D7D9E0}\\n.new-pmd .c-radio-input,.new-pmd .c-checkbox-input{position:absolute;top:0;bottom:0;left:0;right:0;z-index:1;opacity:0;filter:alpha(opacity=0) \\\\9;user-select:none;margin:0;padding:0;width:100%;height:100%;cursor:pointer;zoom:1}\\n.new-pmd .c-radio-inner-i,.new-pmd .c-checkbox-inner-i{display:none;font-size:16px}\\n.new-pmd .c-radio-inner-bg,.new-pmd .c-checkbox-inner-bg{font-size:16px;position:absolute;top:0;left:0;z-index:1}\\n.new-pmd .c-radio-checked .c-radio-inner-i,.new-pmd .c-checkbox-checked .c-checkbox-inner-i{color:#4E71F2;display:inline-block}\\n.new-pmd .c-textarea{font:13px/21px Arial,sans-serif;color:#333;border:1px solid #D7D9E0;padding:8px 12px;border-radius:12px;resize:none;outline:0}\\n.new-pmd .c-textarea::-webkit-input-placeholder{color:#9195A3}\\n.new-pmd .c-textarea::-ms-input-placeholder{color:#9195A3}\\n.new-pmd .c-textarea::-moz-placeholder{color:#9195A3}\\n.new-pmd .c-table{width:100%;border-spacing:0;border-collapse:collapse}\\n.new-pmd .c-table th,.new-pmd .c-table td{padding-left:10px;border-bottom:1px solid #f3f3f3;text-align:left;font-size:13px;line-height:1.54}\\n.new-pmd .cr-content .c-table th:first-child,.new-pmd .cr-content .c-table td:first-child{padding-left:0}\\n.new-pmd .c-table th{padding-top:4px;padding-bottom:4px;border-color:#f0f0f0;font-weight:400;white-space:nowrap;color:#666;background-color:#fafafa}\\n.new-pmd .c-table td{padding-top:6.5px;padding-bottom:6.5px}\\n.new-pmd .c-table-hasimg td{padding-top:10px;padding-bottom:10px}\\n.new-pmd .c-table a,.new-pmd .c-table em{text-decoration:none}\\n.new-pmd .c-table a:hover,.new-pmd .c-table a:hover em{text-decoration:underline}\\n.new-pmd .c-table a.c-icon:hover{text-decoration:none}\\n.new-pmd .c-table .c-btn:hover,.new-pmd .c-table .c-btn:hover em{text-decoration:none}\\n.new-pmd .c-table-nohihead th{background-color:transparent}\\n.new-pmd .c-table-noborder td{border-bottom:0}\\n.new-pmd .c-tabs{font-size:14px;border-radius:12px;color:#222}\\n.new-pmd .c-tabs-nav{color:#626675;background:#f5f5f6;border-radius:12px 12px 0 0;list-style:none;height:52px;margin:0;padding:0 12px}\\n.new-pmd .c-tabs-nav-li{position:relative;display:inline-block;list-style:none;line-height:40px;height:40px;margin-right:32px;cursor:pointer}\\n.new-pmd .c-tabs-nav-li:last-child{margin-right:0}\\n.new-pmd .c-tabs-nav-selected{color:#222}\\n.new-pmd .c-tabs-nav-selected::after{content:\\'\\';position:absolute;bottom:0;height:2px;border-radius:1px;width:100%;left:0;z-index:1;background:#222}\\n.new-pmd .c-tabs-content{padding:14px 16px;background:#fff;border-radius:12px;margin-top:-12px;box-shadow:0 2px 3px 0 rgba(0,0,0,.1);-webkit-box-shadow:0 2px 3px 0 rgba(0,0,0,.1);-moz-box-shadow:0 2px 3px 0 rgba(0,0,0,.1);-o-box-shadow:0 2px 3px 0 rgba(0,0,0,.1)}\\n.new-pmd .c-tabs-nav-icon{display:inline-block;width:18px;height:18px;line-height:18px;border-radius:4px;margin-right:8px;background-size:contain;margin-top:11px;vertical-align:top}\\n.new-pmd .c-tabs-nav-icon img{width:18px;height:18px}\\n.new-pmd .c-tabs.c-sub-tabs .c-tabs-nav{height:29px;line-height:29px;border-bottom:1px solid #f2f2f2;background:#fff}\\n.new-pmd .c-tabs.c-sub-tabs .c-tabs-content{box-shadow:none;-webkit-box-shadow:none;-moz-box-shadow:none;-o-box-shadow:none;margin-top:0;border-radius:0}\\n.new-pmd .c-tabs.c-sub-tabs .c-tabs-nav-li{height:29px;line-height:29px}\\n.new-pmd .c-tabs.c-sub-tabs .c-tabs-nav-icon{position:relative;margin-top:5px}\\n.new-pmd .c-tabs.c-sub-tabs .c-tabs-nav-icon::after{content:\\'\\';position:absolute;top:0;left:0;bottom:0;right:0;border:1px solid rgba(0,0,0,.03);border-radius:4px}\\n.new-pmd .c-line-clamp1{overflow:hidden;text-overflow:ellipsis;white-space:nowrap}\\n.new-pmd .c-font-sigma{font:36px/60px Arial,sans-serif}\\n.new-pmd .c-font-large{font:18px/22px Arial,sans-serif}\\n.new-pmd .c-font-big{font:18px/22px Arial,sans-serif}\\n.new-pmd .c-font-special{font:16px/26px Arial,sans-serif}\\n.new-pmd .c-font-medium{font:14px/22px Arial,sans-serif}\\n.new-pmd .c-font-middle{font:14px/22px Arial,sans-serif}\\n.new-pmd .c-font-normal{font:13px/21px Arial,sans-serif}\\n.new-pmd .c-font-small{font:12px/20px Arial,sans-serif}\\n.new-pmd .c-font-family{font-family:Arial,sans-serif}\\n.new-pmd .c-color-t{color:#222}\\n.new-pmd .c-color-text{color:#333}\\n.new-pmd .c-color-gray{color:#626675}\\n.new-pmd .c-color-gray2{color:#9195A3}\\n.new-pmd .c-color-visited{color:#771CAA}\\n.new-pmd .c-color-link{color:#222}\\n.new-pmd .c-color-orange{color:#f60}\\n.new-pmd .c-color-green{color:#00B198}\\n.new-pmd .c-color-ad{color:#77A9F9}\\n.new-pmd .c-color-red{color:#F73131}\\n.new-pmd .c-color-red:visited{color:#F73131}\\n.new-pmd .c-color-warn{color:#FF7900}\\n.new-pmd .c-color-warn:visited{color:#FF7900}\\n.new-pmd .c-color-link{color:#2440B3}\\n.new-pmd .c-select{position:relative;display:inline-block;width:96px;box-sizing:border-box;-webkit-box-sizing:border-box;-moz-box-sizing:border-box;vertical-align:middle;color:#222;font:13px/21px Arial,sans-serif}\\n.new-pmd .c-select-selection{display:block;height:30px;line-height:29px;box-sizing:border-box;-webkit-box-sizing:border-box;-moz-box-sizing:border-box;padding:0 26px 0 10px;background-color:#fff;border-radius:6px;border:1px solid #D7D9E0;outline:0;user-select:none;cursor:pointer;position:relative;overflow:hidden;text-overflow:ellipsis;white-space:nowrap}\\n.new-pmd .c-select-arrow,.new-pmd .c-select-arrow-up{position:absolute;top:-1px;right:10px;color:#9195A3;font-size:16px}\\n.new-pmd .c-select-dropdown{display:none;position:absolute;padding-top:4px;top:25px;z-index:999;left:0;width:94px;box-sizing:content-box;-webkit-box-sizing:content-box;-moz-box-sizing:content-box;background:#fff;border-radius:0 0 6px 6px;border:1px solid #D7D9E0;border-top:0;zoom:1}\\n.new-pmd .c-select-split{border-top:1px solid #f5f5f5;margin:0 5px}\\n.new-pmd .c-select-dropdown-list{padding:0;margin:5px 0 0;list-style:none}\\n.new-pmd .c-select-dropdown-list.c-select-scroll{max-height:207px;overflow-y:auto;overflow-x:hidden;margin-right:5px;margin-bottom:9px}\\n.new-pmd .c-select-dropdown-list.c-select-scroll::-webkit-scrollbar{width:2px}\\n.new-pmd .c-select-dropdown-list.c-select-scroll::-webkit-scrollbar-track{width:2px;background:#f5f5f6;border-radius:1px}\\n.new-pmd .c-select-dropdown-list.c-select-scroll::-webkit-scrollbar-thumb{width:2px;height:58px;background-color:#4e71f2;border-radius:1px}\\n.new-pmd .c-select-dropdown-list.c-select-scroll .c-select-item:last-child{margin:0}\\n.new-pmd .c-select-item{margin:0 0 4px;padding:0 10px;clear:both;white-space:nowrap;list-style:none;cursor:pointer;box-sizing:border-box;-webkit-box-sizing:border-box;-moz-box-sizing:border-box}\\n.new-pmd .c-select-item:hover{color:#315EFB}\\n.new-pmd .c-select-item-selected{color:#315EFB}\\n.new-pmd .c-select-arrow-up{display:none}\\n.new-pmd .c-select-visible .c-select-selection{border-radius:6px 6px 0 0}\\n.new-pmd .c-select-visible .c-select-dropdown{display:block}\\n.new-pmd .c-select-visible .c-select-arrow{display:none}\\n.new-pmd .c-select-visible .c-select-arrow-up{display:inline-block}\\n.new-pmd .c-frame{margin-bottom:18px}\\n.new-pmd .c-offset{padding-left:10px}\\n.new-pmd .c-link{color:#2440B3;text-decoration:none;cursor:pointer}\\n.new-pmd .c-link:hover{text-decoration:underline;color:#315EFB}\\n.new-pmd .c-link:visited{color:#771CAA}\\n.new-pmd .c-gray{color:#626675}\\n.new-pmd.c-container{width:560px;word-wrap:break-word;word-break:break-all;color:#333;font-size:13px;line-height:21px}\\n.new-pmd.c-container .c-container{width:auto;font-size:13px;line-height:21px}\\n.new-pmd .c-title{font:18px/22px Arial,sans-serif;font-weight:400;margin-bottom:4px}\\n.new-pmd .c-abstract{font:13px/21px Arial,sans-serif;color:#333}\\n.new-pmd .cr-title{font:14px/22px Arial,sans-serif;color:#222;font-weight:400}\\n.new-pmd .cr-title-sub{float:right;font-weight:400;font-size:13px}\\n.new-pmd .c-vline{display:inline-block;width:0;height:12px;margin:0 3px;border-left:1px solid #ddd}\\n.new-pmd .c-border{border-radius:12px;border:0;margin:0 -16px;padding:12px 16px;width:auto;box-shadow:0 2px 5px 0 rgba(0,0,0,.1);-webkit-box-shadow:0 2px 5px 0 rgba(0,0,0,.1);-moz-box-shadow:0 2px 5px 0 rgba(0,0,0,.1);-o-box-shadow:0 2px 5px 0 rgba(0,0,0,.1)}\\n.new-pmd .c-capsule-tip{display:inline-block;background:#F73131;border-radius:7px;padding:0 4px;height:13px;font-size:11px;line-height:14px;color:#fff;text-align:center}\\n.c-group-wrapper{box-shadow:0 2px 10px 0 rgba(0,0,0,.1);border-radius:12px;margin-left:-16px;margin-right:-16px}\\n.c-group-wrapper .result-op{padding:0 16px 11px;width:560px!important;border:0}\\n.c-group-wrapper .result-op[id=\"1\"]{padding-top:16px}\\n.c-group-wrapper .result-op:not(:last-child){margin-bottom:0!important}\\n.c-group-wrapper .result-op:last-child{padding-bottom:13px}\\n.c-group-wrapper .result-op .c-group-title{font-size:14px!important;line-height:14px;font-weight:400;margin-bottom:4px}\\n.c-group-wrapper .result-op .c-group-title a{text-decoration:none;color:#222;line-height:24px}\\n.c-group-wrapper .result-op .c-group-title .c-group-arrow-icon{font-size:13px;line-height:13px;color:#c4c7ce;margin-left:-4px}\\n#container.sam_newgrid{font:13px/21px Arial,sans-serif}\\n#container.sam_newgrid td,#container.sam_newgrid th{font:13px/21px Arial,sans-serif}\\n#container.sam_newgrid #content_left{width:560px}\\n.container_l.sam_newgrid{width:1088px}\\n.container_l.sam_newgrid #content_right{width:368px}\\n.container_l.sam_newgrid .cr-content{width:368px}\\n.container_l.sam_newgrid .cr-content .c-span-last-s{margin-right:16px}\\n.container_l.sam_newgrid .cr-content-narrow .c-span-last-s{margin-right:0}\\n.container_s.sam_newgrid{width:944px}\\n.container_s.sam_newgrid .cr-content{width:272px}\\n.container_s.sam_newgrid #content_right{width:272px}\\n.c-onlyshow-toppic{width:100%;margin-top:-97px;padding-top:97px}\\n.soutu-input{padding-left:55px!important}\\n.soutu-input-image{position:absolute;left:1px;top:1px;height:28px;width:49px;z-index:1;padding:0;background:#e6e6e6;border:1px solid #e6e6e6}\\n.soutu-input-thumb{height:28px;width:28px;min-width:1px}\\n.soutu-input-close{position:absolute;right:0;top:0;cursor:pointer;display:block;width:22px;height:28px}\\n.soutu-input-close::after{content:\" \";position:absolute;right:3px;top:50%;cursor:pointer;margin-top:-7px;display:block;width:14px;height:14px;background:url(http://s1.bdstatic.com/r/www/cache/static/soutu/img/soutu_icons_new_8abaf8a.png) no-repeat -163px 0}\\n.soutu-input-image:hover .soutu-input-close::after{background-position:-215px 2px}\\n.fb-hint{margin-top:5px;transition-duration:.9s;opacity:0;display:none;color:red}\\n.fb-img{display:none}\\n.fb-hint-tip{height:44px;line-height:24px;background-color:#38f;color:#fff;box-sizing:border-box;width:269px;font-size:16px;padding:10px;padding-left:14px;position:absolute;top:-65px;right:-15px;border-radius:3px;z-index:299}\\n.fb-hint-tip::before{content:\"\";width:0;height:0;display:block;position:absolute;border-left:8px solid transparent;border-right:8px solid transparent;border-top:8px solid #38f;bottom:-8px;right:25px}\\n.fb-mask,.fb-mask-light{position:fixed;top:0;left:0;bottom:0;right:0;z-index:296;background-color:#000;filter:alpha(opacity=60);background-color:rgba(0,0,0,.6)}\\n.fb-mask-light{background-color:#fff;filter:alpha(opacity=0);background-color:rgba(255,255,255,0)}\\n.fb-success .fb-success-text{text-align:center;color:#333;font-size:13px;margin-bottom:14px}\\n.fb-success-text.fb-success-text-title{color:#3b6;font-size:16px;margin-bottom:16px}\\n.fb-success-text-title i{width:16px;height:16px;margin-right:5px}\\n.fb-list-container{box-sizing:border-box;padding:4px 8px;position:absolute;top:0;left:0;bottom:0;right:0;z-index:298;display:block;width:100%;cursor:pointer;margin-top:-5px;margin-left:-5px}\\n.fb-list-container-hover{background-color:#fff;border:2px #38f solid}\\n.fb-list-container-first{box-sizing:border-box;padding-left:10px;padding-top:5px;position:absolute;top:0;left:0;bottom:0;right:0;z-index:297;display:block;width:100%;cursor:pointer;margin-top:-5px;margin-left:-5px;border:3px #f5f5f5 dashed;border-radius:3px}\\n.fb-des-content{font-size:13px!important;color:#000}\\n.fb-des-content::-webkit-input-placeholder{font-size:13px!important;color:#9a9a9a}\\n.fb-des-content:-moz-placeholder{font-size:13px!important;color:#9a9a9a}\\n.fb-des-content::-moz-placeholder{font-size:13px!important;color:#9a9a9a}\\n.fb-des-content:-ms-input-placeholder{font-size:13px!important;color:#9a9a9a}\\n.fb-btn,.fb-btn:visited{color:#333!important}\\n.fb-select{position:relative;background-color:#fff;border:1px solid #ccc}\\n.fb-select i{position:absolute;right:2px;top:7px}\\n.fb-type{width:350px;box-sizing:border-box;height:28px;font-size:13px;line-height:28px;border:0;word-break:normal;word-wrap:normal;position:relative;appearance:none;-moz-appearance:none;-webkit-appearance:none;display:inline-block;vertical-align:middle;line-height:normal;color:#333;background-color:transparent;border-radius:0;overflow:hidden;outline:0;padding-left:5px}\\n.fb-type::-ms-expand{display:none}\\n.fb-btn{display:inline-block;padding:0 14px;margin:0;height:24px;line-height:25px;font-size:13px;filter:chroma(color=#000000);*zoom:1;border:1px solid #d8d8d8;cursor:pointer;font-family:inherit;font-weight:400;text-align:center;vertical-align:middle;background-color:#f9f9f9;overflow:hidden;outline:0}\\n.fb-btn:hover{border-color:#388bff}\\n.fb-btn:active{border-color:#a2a6ab;background-color:#f0f0f0;box-shadow:inset 1px 1px 1px #c7c7c7;-webkit-box-shadow:inset 1px 1px 1px #c7c7c7;-moz-box-shadow:inset 1px 1px 1px #c7c7c7;-o-box-shadow:inset 1px 1px 1px #c7c7c7}\\na.fb-btn{text-decoration:none}\\nbutton.fb-btn{height:26px;_line-height:18px;*overflow:visible}\\nbutton.fb-btn::-moz-focus-inner{padding:0;border:0}\\n.fb-btn .c-icon{margin-top:5px}\\n.fb-btn-primary,.fb-btn-primary:visited{color:#fff!important}\\n.fb-btn-primary{background-color:#388bff;_width:82px;border-color:#3c8dff #408ffe #3680e6}\\n.fb-btn-primary:hover{border-color:#2678ec #2575e7 #1c6fe2 #2677e7;background-color:#388bff;background-image:url(data:image/png;\\n\\t\\tbase64,iVBORw0KGgoAAAANSUhEUgAAAAEAAAACCAMAAACuX0YVAAAABlBMVEVnpv85i/9PO5r4AAAAD0lEQVR42gEEAPv/AAAAAQAFAAIros7PAAAAAElFTkSuQmCC);background-repeat:repeat-x;box-shadow:1px 1px 1px rgba(0,0,0,.4);-webkit-box-shadow:1px 1px 1px rgba(0,0,0,.4);-moz-box-shadow:1px 1px 1px rgba(0,0,0,.4);-o-box-shadow:1px 1px 1px rgba(0,0,0,.4)}\\n.fb-btn-primary:active{border-color:#178ee3 #1784d0 #177bbf #1780ca;background-color:#388bff;background-image:none;box-shadow:inset 1px 1px 1px rgba(0,0,0,.15);-webkit-box-shadow:inset 1px 1px 1px rgba(0,0,0,.15);-moz-box-shadow:inset 1px 1px 1px rgba(0,0,0,.15);-o-box-shadow:inset 1px 1px 1px rgba(0,0,0,.15)}\\n.fb-feedback-right-dialog{position:fixed;z-index:299;bottom:0;right:0}\\n.fb-feedback-list-dialog,.fb-feedback-list-dialog-left{position:absolute;z-index:299}\\n.fb-feedback-list-dialog:before{content:\"\";width:0;height:0;display:block;position:absolute;top:15px;left:-6px;border-top:8px solid transparent;border-bottom:8px solid transparent;border-right:8px solid #fff}\\n.fb-feedback-list-dialog-left:before{content:\"\";width:0;height:0;display:block;position:absolute;top:15px;right:-6px;border-top:8px solid transparent;border-bottom:8px solid transparent;border-left:8px solid #fff}\\n.fb-header{padding-left:20px;padding-right:20px;margin-top:14px;text-align:left;-moz-user-select:none}\\n.fb-header .fb-close{color:#e0e0e0}\\n.fb-close{text-decoration:none;margin-top:2px;float:right;font-size:20px;font-weight:700;line-height:18px;color:#666;text-shadow:0 1px 0 #fff}\\n.fb-photo-block{display:none}\\n.fb-photo-block-title{font-size:13px;color:#333;padding-top:10px}\\n.fb-photo-block-title-span{color:#999}\\n.fb-photo-sub-block{margin-top:10px;margin-bottom:10px;width:60px;text-align:center}\\n.fb-photo-sub-block-hide{display:none}\\n.fb-photo-update-block{overflow:hidden}\\n.fb-photo-update-item-block{width:100px;height:100px;background:red;border:solid 1px #ccc;margin-top:10px;float:left;margin-right:20px;position:relative;background:url(http://s1.bdstatic.com/r/www/cache/static/global/img/feedback_add_photo_69ff822.png);background-repeat:no-repeat;background-size:contain;background-position:center center;background-size:24px 24px}\\n.fb-photo-block-title-ex{font-size:13px;float:right}\\n.fb-photo-block-title-ex img{vertical-align:text-top;margin-right:4px}\\n.fb-photo-block-title-span{margin-left:4px;color:#999}\\n.fb-photo-update-item-show-img{width:100%;height:100%;display:none}\\n.fb-photo-update-item-close{width:13px;height:13px;position:absolute;top:-6px;right:-6px;display:none}\\n.fb-photo-block input{display:none}\\n.fb-photo-update-hide{display:none}\\n.fb-photo-update-item-block{width:60px;height:60px;border:solid 1px #ccc;float:left}\\n.fb-photo-block-example{position:absolute;top:0;left:0;display:none;background-color:#fff;padding:14px;padding-top:0;width:392px}\\n.fb-photo-block-example-header{padding-top:14px;overflow:hidden}\\n.fb-photo-block-example-header p{float:left}\\n.fb-photo-block-example-header img{float:right;width:13px;height:13px}\\n.fb-photo-block-example-img img{margin:0 auto;margin-top:14px;display:block;width:200px}\\n.fb-photo-block-example-title{text-align:center}\\n.fb-photo-block-example-title-big{font-size:14px;color:#333}\\n.fb-photo-block-example-title-small{font-size:13px;color:#666}\\n.fb-header a.fb-close:hover{text-decoration:none}\\n.fb-photo-block-upinfo{width:100%}\\n.fb-header-tips{font-size:16px;margin:0;color:#333;text-rendering:optimizelegibility}\\n.fb-body{margin-bottom:0;padding:20px;padding-top:10px;overflow:hidden;text-align:left}\\n.fb-modal,.fb-success,.fb-vertify{background-color:#fff;cursor:default;top:100%;left:100%;width:390px;overflow:hidden;border:1px solid #999;*border:1px solid #ddd;font-size:13px;line-height:1.54}\\n.fb-textarea textarea{width:350px;height:64px;padding:4px;margin:10px 0;vertical-align:top;resize:none;overflow:auto;box-sizing:border-box;display:inline-block;border:1px solid #ccc;-webkit-border-radius:0;-moz-border-radius:0;border-radius:0;-webkit-box-shadow:inset 0 1px 1px rgba(0,0,0,.075);-moz-box-shadow:inset 0 1px 1px rgba(0,0,0,.075);box-shadow:inset 0 1px 1px rgba(0,0,0,.075);-webkit-transition:border linear .2s,box-shadow linear .2s;-moz-transition:border linear .2s,box-shadow linear .2s;-ms-transition:border linear .2s,box-shadow linear .2s;-o-transition:border linear .2s,box-shadow linear .2s;transition:border linear .2s,box-shadow linear .2s}\\n.fb-selected{display:none;width:12px;height:12px;background:url(data:image/png;base64,iVBORw0KGgoAAAANSUhEUgAAAAcAAAAFCAYAAACJmvbYAAAABGdBTUEAALGPC/xhBQAAACBjSFJNAAB6JgAAgIQAAPoAAACA6AAAdTAAAOpgAAA6mAAAF3CculE8AAAABmJLR0QAAAAAAAD5Q7t/AAAACXBIWXMAABYlAAAWJQFJUiTwAAAAJklEQVQI12NgwAEsuv/8xy9h3vX7P6oEKp/BHCqA0yhzdB0MDAwAFXkTK5la4mAAAAAASUVORK5CYII=) no-repeat 2px 3px}\\n.fb-guide{padding-top:10px;color:#9a9a9a;margin-left:-20px;padding-left:20px;border-right-width:0;margin-right:-20px;padding-right:25px;margin-bottom:-20px;padding-bottom:15px}\\n.fb-footer{padding-top:10px;text-align:left}\\n.fb-block{overflow:hidden;position:relative}\\n.fb-block .fb-email{height:28px;line-height:26px;width:350px;border:1px solid #ccc;padding:4px;padding-top:0;box-sizing:border-box;padding-bottom:0;display:inline-block;font-family:\\'Helvetica Neue\\',Helvetica,Arial,sans-serif;vertical-align:middle!important;-webkit-border-radius:0;-moz-border-radius:0;border-radius:0;-webkit-box-shadow:inset 0 1px 1px rgba(0,0,0,.075);-moz-box-shadow:inset 0 1px 1px rgba(0,0,0,.075);box-shadow:inset 0 1px 1px rgba(0,0,0,.075);-webkit-transition:border linear .2s,box-shadow linear .2s;-moz-transition:border linear .2s,box-shadow linear .2s;-ms-transition:border linear .2s,box-shadow linear .2s;-o-transition:border linear .2s,box-shadow linear .2s;transition:border linear .2s,box-shadow linear .2s}\\n.fb-email{font-size:13px!important;color:#000}\\n.fb-email::-webkit-input-placeholder{font-size:13px!important;color:#9a9a9a}\\n.fb-email:-moz-placeholder{font-size:13px!important;color:#9a9a9a}\\n.fb-email::-moz-placeholder{font-size:13px!important;color:#9a9a9a}\\n.fb-email:-ms-input-placeholder{font-size:13px!important;color:#9a9a9a}\\n.fb-cut-block{height:15px;padding-bottom:10px}\\n.fb-canvas-block{height:172px;border:1px solid #ccc;margin-bottom:10px;position:relative;overflow:hidden;width:100%;background-position:center;box-sizing:border-box}\\n.fb-canvas-block img{width:350px;position:absolute}\\n.fb-canvas-block img[src=\"\"]{opacity:0}\\n.fb-cut-input{width:14px;height:14px;margin:0;margin-right:10px;display:inline-block;border:1px solid #ccc}\\n.fb-cut-btn{width:60px!important}\\n#fb_tips_span{vertical-align:middle}\\n#fb_popwindow{display:block;left:457px;top:69.5px;position:absolute;width:450px;z-index:999999;background:none repeat scroll 0 0 #fff;border:1px solid #999;border-radius:3px;box-shadow:0 0 9px #999;padding:0}\\n#feedback_dialog_content{text-align:center}\\n#fb_right_post_save:hover{background-image:url(data:image/png;\\n\\t\\tbase64,iVBORw0KGgoAAAANSUhEUgAAAAEAAAACCAMAAACuX0YVAAAABlBMVEVnpv85i/9PO5r4AAAAD0lEQVR42gEEAPv/AAAAAQAFAAIros7PAAAAAElFTkSuQmCC);background-repeat:repeat-x;box-shadow:1px 1px 1px rgba(0,0,0,.4);-webkit-box-shadow:1px 1px 1px rgba(0,0,0,.4);-moz-box-shadow:1px 1px 1px rgba(0,0,0,.4);-o-box-shadow:1px 1px 1px rgba(0,0,0,.4)}\\n.fb-select-icon{position:absolute;bottom:6px;right:5px;width:16px;height:16px;box-sizing:content-box;background-position:center center;background-repeat:no-repeat;background-size:7px 4px;-webkit-background-size:7px 4px;background-image:url(data:image/png;base64,iVBORw0KGgoAAAANSUhEUgAAAAcAAAAECAYAAABCxiV9AAAABGdBTUEAALGPC/xhBQAAACBjSFJNAAB6JgAAgIQAAPoAAACA6AAAdTAAAOpgAAA6mAAAF3CculE8AAAABmJLR0QAAAAAAAD5Q7t/AAAACXBIWXMAAAsSAAALEgHS3X78AAAAKElEQVQI12Ps7Or6z4ADMDIwMDBgU1BeVsbICOMgKygvK2PEMAbdBAAhxA08t5Q3VgAAAABJRU5ErkJggg==)}\\n.fb-select-shorter{position:relative;min-height:28px}\\n.fb-type-container{line-height:28px;position:absolute;top:28px;width:100%;background-color:#fff;border:1px solid #ccc;z-index:300;margin-left:-1px;display:none}\\n.fb-type-item,.fb-type-selected{height:28px;line-height:30px;padding-left:4px}\\n.fb-type-item:hover{background:#f5F5F5}\\n.fb-checkbox{position:relative;border-bottom:1px solid #eee;height:34px;line-height:35px}\\n.fb-checkbox:last-child{border-bottom:0}\\n.fb-list-wrapper{margin-top:-10px}\\n.fb-textarea-sug textarea{margin-top:0}\\n@media screen and (min-width:1921px){.slowmsg{left:50%!important;-webkit-transform:translateX(-50%);-ms-transform:translateX(-50%);transform:translateX(-50%)}\\n.wrapper_l #head{-webkit-transform-style:preserve-3d;transform-style:preserve-3d}\\n.head_wrapper{width:1196px;margin:0 auto;position:relative;-webkit-transform:translate3d(-52px,0,1px);transform:translate3d(-52px,0,1px)}\\n.head_wrapper #u{right:-66px}\\n#head .headBlock{-webkit-box-sizing:border-box;box-sizing:border-box;margin-left:auto;margin-right:auto;width:1196px;padding-left:121px;-webkit-transform:translate3d(-52px,0,0);transform:translate3d(-52px,0,0)}\\n#s_tab.s_tab{padding-left:0}\\n#s_tab.s_tab .s_tab_inner{display:block;-webkit-box-sizing:border-box;box-sizing:border-box;padding-left:77px;width:1212px;margin:0 auto}\\n#con-at .result-op{margin-left:auto;margin-right:auto;-webkit-transform:translateX(-60px);-ms-transform:translateX(-60px);transform:translateX(-60px)}\\n#wrapper_wrapper{margin-left:-72px}\\n#container{-webkit-box-sizing:border-box;box-sizing:border-box;width:1212px;margin:0 auto}\\n.wrapper_new #foot .foot-inner{width:1212px;margin:0 auto}\\n.wrapper_new #foot .foot-inner #help{padding-left:140px!important}\\n#container.sam_newgrid{margin:0 auto;width:1088px;padding-left:158px;-webkit-box-sizing:content-box;box-sizing:content-box}}\\n@font-face{font-family:cicons;font-weight:400;font-style:normal;src:url(//m.baidu.com/se/static/font/cicon.eot?t=1623728965458#);src:url(//m.baidu.com/se/static/font/cicon.eot?t=1623728965458#iefix) format(\\'embedded-opentype\\'),url(//m.baidu.com/se/static/font/cicon.woff?t=1623728965458#) format(\\'woff\\'),url(//m.baidu.com/se/static/font/cicon.ttf?t=1623728965458#) format(\\'truetype\\'),url(//m.baidu.com/se/static/font/cicon.svg?t=1623728965458#cicons) format(\\'svg\\')}\\n@font-face{font-family:cIconfont;font-weight:400;font-style:normal;src:url(http://s1.bdstatic.com/r/www/cache/static/global/font/iconfont.eot);src:url(http://s1.bdstatic.com/r/www/cache/static/global/font/iconfont.eot?#iefix) format(\\'embedded-opentype\\'),url(http://s1.bdstatic.com/r/www/cache/static/global/font/iconfont.woff2) format(\\'woff2\\'),url(http://s1.bdstatic.com/r/www/cache/static/global/font/iconfont.woff) format(\\'woff\\'),url(http://s1.bdstatic.com/r/www/cache/static/global/font/iconfont.ttf) format(\\'truetype\\'),url(http://s1.bdstatic.com/r/www/cache/static/global/font/iconfont_5c52667.svg#iconfont) format(\\'svg\\')}\\nhtml{font-size:100px}\\nhtml body{font-size:.14rem;font-size:14px}\\n[data-pmd] a{color:#333;text-decoration:none;-webkit-tap-highlight-color:rgba(23,23,23,.1)}\\n[data-pmd] .c-icon{display:inline;width:auto;height:auto;vertical-align:baseline;overflow:auto}\\n[data-pmd] .c-row-tile{position:relative;margin:0 -9px}\\n[data-pmd] .c-row-tile .c-row{padding:0 9px}\\n[data-pmd] .c-row :last-child,[data-pmd] .c-row-tile :last-child{margin-right:0}\\n[data-pmd] .c-row *,[data-pmd] .c-row-tile *{-webkit-box-sizing:border-box;box-sizing:border-box}\\n[data-pmd] .c-icon{font-family:cicons!important;font-style:normal;-webkit-font-smoothing:antialiased}\\n[data-pmd] .c-result{padding:0;margin:0;background:0 0;border:0 none}\\n[data-pmd] .c-blocka{display:block}\\n[data-pmd] a .c-title,[data-pmd] a.c-title{font:18px/26px Arial,Helvetica,sans-serif;color:#000}\\n[data-pmd] a:visited .c-title,[data-pmd] a:visited.c-title{color:#999}\\n[data-pmd] .sfa-view a:visited .c-title,[data-pmd] .sfa-view a:visited.c-title,[data-pmd] .sfa-view .c-title{color:#000;font:18px/26px Arial,Helvetica,sans-serif}\\n[data-pmd] .c-title-noclick,[data-pmd] .c-title{font:18px/26px Arial,Helvetica,sans-serif;color:#999}\\n[data-pmd] .c-title-nowrap{padding-right:33px;width:100%;position:relative;white-space:nowrap;box-sizing:border-box}\\n[data-pmd] .c-title-nowrap .c-text{display:inline-block;vertical-align:middle}\\n[data-pmd] .c-title-nowrap .c-title-text{display:inline-block;max-width:100%;white-space:nowrap;overflow:hidden;text-overflow:ellipsis;vertical-align:bottom}\\n[data-pmd] .c-font-sigma{font:22px/30px Arial,Helvetica,sans-serif}\\n[data-pmd] .c-font-large{font:18px/26px Arial,Helvetica,sans-serif}\\n[data-pmd] .c-font-big{font:18px/26px Arial,Helvetica,sans-serif}\\n[data-pmd] .c-font-medium{font:14px/22px Arial,Helvetica,sans-serif}\\n[data-pmd] .c-font-normal{font:13px/21px Arial,Helvetica,sans-serif}\\n[data-pmd] .c-font-small{font:12px/20px Arial,Helvetica,sans-serif}\\n[data-pmd] .c-font-tiny{font:12px/20px Arial,Helvetica,sans-serif}\\n[data-pmd] .c-price{font:18px/26px Arial,Helvetica,sans-serif;color:#f60}\\n[data-pmd] .c-title-wrap{display:block}\\n[data-pmd] .c-title-nowrap{display:none}\\n@media (min-width:376px){[data-pmd] .c-title{display:block;max-width:100%;white-space:nowrap;overflow:hidden;text-overflow:ellipsis;vertical-align:middle}\\n[data-pmd] .c-title-nowrap{display:block;overflow:visible}\\n[data-pmd] .c-title-wrap{display:none}}\\n[data-pmd] .c-abstract{color:#555}\\n[data-pmd] .c-showurl{color:#999;font:13px/21px Arial,Helvetica,sans-serif}\\n[data-pmd] .c-gray{color:#999;font:13px/21px Arial,Helvetica,sans-serif}\\n[data-pmd] .c-moreinfo{color:#555;text-align:right;font:13px/21px Arial,Helvetica,sans-serif}\\n[data-pmd] .c-foot-icon{display:inline-block;position:relative;top:.02rem;background:url(//m.baidu.com/static/search/sprite.png) no-repeat;-webkit-background-size:1.9rem 1.42rem;background-size:1.9rem 1.42rem}\\n[data-pmd] .c-foot-icon-16{width:.16rem;height:.13rem}\\n[data-pmd] .c-foot-icon-16-aladdin{display:none;background-position:0 -.98rem}\\n[data-pmd] .c-foot-icon-16-lightapp{background-position:-.2rem -.98rem}\\n[data-pmd] .c-visited,[data-pmd] .c-visited .c-title,[data-pmd] .c-visited.c-title{color:#999!important}\\n[data-pmd] .c-container{margin:8px 0;padding:10px 9px 15px;background-color:#fff;width:auto;color:#555;font:13px/21px Arial,Helvetica,sans-serif;word-break:break-word;word-wrap:break-word;border:0 none}\\n[data-pmd] .c-container-tight{padding:10px 9px 15px;background-color:#fff;width:auto;color:#555;font:13px/21px Arial,Helvetica,sans-serif;word-break:break-word;word-wrap:break-word;border:0 none}\\n[data-pmd] .c-container-tile{margin:0;padding:0}\\n[data-pmd] .c-span-middle{display:-webkit-box;display:-moz-box;display:-ms-flexbox;display:-webkit-flex;display:flex;-webkit-box-orient:vertical;-moz-box-orient:vertical;-webkit-box-direction:normal;-moz-box-direction:normal;-webkit-flex-direction:column;-ms-flex-direction:column;flex-direction:column;-moz-box-pack:center;-webkit-box-pack:center;-ms-flex-pack:center;-webkit-justify-content:center;justify-content:center}\\n[data-pmd] .c-line-clamp2,[data-pmd] .c-line-clamp3,[data-pmd] .c-line-clamp4,[data-pmd] .c-line-clamp5{display:-webkit-box;-webkit-box-orient:vertical;overflow:hidden;text-overflow:ellipsis;margin-bottom:4px;white-space:normal}\\n[data-pmd] .c-line-clamp2{-webkit-line-clamp:2}\\n[data-pmd] .c-line-clamp3{-webkit-line-clamp:3}\\n[data-pmd] .c-line-clamp4{-webkit-line-clamp:4}\\n[data-pmd] .c-line-clamp5{-webkit-line-clamp:5}\\n[data-pmd] .c-line-clamp1{display:block;overflow:hidden;text-overflow:ellipsis;white-space:nowrap}\\n[data-pmd] .c-line-top{border-top:1px solid #eee}\\n[data-pmd] .c-line-dotted-top{border-top:1px dotted #eee}\\n[data-pmd] .c-line-bottom{border-bottom:1px solid #eee}\\n[data-pmd] .c-line-dotted-bottom{border-bottom:1px dotted #eee}\\n[data-pmd] .c-color{color:#555}\\n[data-pmd] .c-color-gray-a{color:#666}\\n[data-pmd] .c-color-gray{color:#999}\\n[data-pmd] .c-color-link{color:#000}\\n[data-pmd] .c-color-noclick{color:#999}\\n[data-pmd] .c-color-url{color:#999}\\n[data-pmd] .c-color-red{color:#e43}\\n[data-pmd] .c-color-red:visited{color:#e43}\\n[data-pmd] .c-color-orange{color:#f60}\\n[data-pmd] .c-color-orange:visited{color:#f60}\\n[data-pmd] .c-color-icon-special{color:#b4b4b4}\\n[data-pmd] .c-color-split{color:#eee}\\n[data-pmd] .c-bg-color-white{background-color:#fff}\\n[data-pmd] .c-bg-color-black{background-color:#000}\\n[data-pmd] .se-page-bd .c-bg-color-gray{background-color:#f1f1f1}\\n[data-pmd] .sfa-view .c-bg-color-gray{background-color:#f2f2f2}\\n[data-pmd] .c-gap-top-zero{margin-top:0}\\n[data-pmd] .c-gap-right-zero{margin-right:0}\\n[data-pmd] .c-gap-bottom-zero{margin-bottom:0}\\n[data-pmd] .c-gap-left-zero{margin-left:0}\\n[data-pmd] .c-gap-top{margin-top:8px}\\n[data-pmd] .c-gap-right{margin-right:8px}\\n[data-pmd] .c-gap-bottom{margin-bottom:8px}\\n[data-pmd] .c-gap-left{margin-left:8px}\\n[data-pmd] .c-gap-top-small{margin-top:4px}\\n[data-pmd] .c-gap-right-small{margin-right:4px}\\n[data-pmd] .c-gap-bottom-small{margin-bottom:4px}\\n[data-pmd] .c-gap-left-small{margin-left:4px}\\n[data-pmd] .c-gap-top-large{margin-top:12px}\\n[data-pmd] .c-gap-right-large{margin-right:12px}\\n[data-pmd] .c-gap-bottom-large{margin-bottom:12px}\\n[data-pmd] .c-gap-left-large{margin-left:12px}\\n[data-pmd] .c-gap-left-middle{margin-left:8px}\\n[data-pmd] .c-gap-right-middle{margin-right:8px}\\n[data-pmd] .c-gap-inner-top-zero{padding-top:0}\\n[data-pmd] .c-gap-inner-right-zero{padding-right:0}\\n[data-pmd] .c-gap-inner-bottom-zero{padding-bottom:0}\\n[data-pmd] .c-gap-inner-left-zero{padding-left:0}\\n[data-pmd] .c-gap-inner-top{padding-top:8px}\\n[data-pmd] .c-gap-inner-right{padding-right:8px}\\n[data-pmd] .c-gap-inner-bottom{padding-bottom:8px}\\n[data-pmd] .c-gap-inner-left{padding-left:8px}\\n[data-pmd] .c-gap-inner-top-small{padding-top:4px}\\n[data-pmd] .c-gap-inner-right-small{padding-right:4px}\\n[data-pmd] .c-gap-inner-bottom-small{padding-bottom:4px}\\n[data-pmd] .c-gap-inner-left-small{padding-left:4px}\\n[data-pmd] .c-gap-inner-top-large{padding-top:12px}\\n[data-pmd] .c-gap-inner-right-large{padding-right:12px}\\n[data-pmd] .c-gap-inner-bottom-large{padding-bottom:12px}\\n[data-pmd] .c-gap-inner-left-large{padding-left:12px}\\n[data-pmd] .c-gap-inner-left-middle{padding-left:8px}\\n[data-pmd] .c-gap-inner-right-middle{padding-right:8px}\\n[data-pmd] .c-img{position:relative;display:block;width:100%;border:0 none;background:#f7f7f7 url(//m.baidu.com/static/search/image_default.png) center center no-repeat;margin:4px 0}\\n[data-pmd] .c-img img{width:100%}\\n[data-pmd] .c-img .c-img-text{position:absolute;left:0;bottom:0;width:100%;height:.16rem;background:rgba(51,51,51,.4);font-size:.12rem;line-height:1.33333333;color:#fff;text-align:center}\\n[data-pmd] .c-img-s,[data-pmd] .c-img-l,[data-pmd] .c-img-w,[data-pmd] .c-img-x,[data-pmd] .c-img-y,[data-pmd] .c-img-v,[data-pmd] .c-img-z{height:0;overflow:hidden}\\n[data-pmd] .c-img-s{padding-bottom:100%}\\n[data-pmd] .c-img-l{padding-bottom:133.33333333%}\\n[data-pmd] .c-img-w{padding-bottom:56.25%}\\n[data-pmd] .c-img-x{padding-bottom:75%}\\n[data-pmd] .c-img-y{padding-bottom:66.66666667%}\\n[data-pmd] .c-img-v{padding-bottom:33.33333333%}\\n[data-pmd] .c-img-z{padding-bottom:40%}\\n[data-pmd] .c-table{width:100%;border-collapse:collapse;border-spacing:0;color:#000}\\n[data-pmd] .c-table th{color:#999}\\n[data-pmd] .c-table th,[data-pmd] .c-table td{border-bottom:1px solid #eee;text-align:left;font-weight:400;padding:8px 0}\\n[data-pmd] .c-table-hihead th{padding:0;border-bottom:0 none;background-color:#f6f6f6;line-height:.37rem}\\n[data-pmd] .c-table-hihead div{background-color:#f6f6f6}\\n[data-pmd] .c-table-hihead th:first-child div{margin-left:-9px;padding-left:9px}\\n[data-pmd] .c-table-hihead th:last-child div{margin-right:-9px;padding-right:9px}\\n[data-pmd] .c-table-noborder th,[data-pmd] .c-table-noborder td{border-bottom:0 none}\\n[data-pmd] .c-table-slink tbody{color:#555;border-bottom:1px solid #eee}\\n[data-pmd] .c-table-slink tbody th{border-bottom:1px solid #eee;padding:0}\\n[data-pmd] .c-table-slink tbody td{border-bottom:0;padding:0}\\n[data-pmd] .c-table-slink tbody td .c-slink-auto{margin:5px 0}\\n[data-pmd] .c-table-slink tbody tr:first-child th,[data-pmd] .c-table-slink tbody tr:first-child td{padding:8px 0}\\n[data-pmd] .c-table-slink tbody tr:nth-child(2) th,[data-pmd] .c-table-slink tbody tr:nth-child(2) td{padding-top:8px}\\n[data-pmd] .c-table-slink tbody tr th,[data-pmd] .c-table-slink tbody tr td{padding-bottom:4px}\\n[data-pmd] .c-table-slink tbody tr:last-child th,[data-pmd] .c-table-slink tbody tr:last-child td{padding-bottom:8px}\\n[data-pmd] .c-table-abstract tbody{color:#555;border-bottom:1px solid #eee}\\n[data-pmd] .c-table-abstract tbody th{border-bottom:1px solid #eee;padding:0}\\n[data-pmd] .c-table-abstract tbody td{border-bottom:0;padding:0}\\n[data-pmd] .c-table-abstract tbody tr:first-child th,[data-pmd] .c-table-abstract tbody tr:nth-child(2) th,[data-pmd] .c-table-abstract tbody tr:first-child td,[data-pmd] .c-table-abstract tbody tr:nth-child(2) td{padding-top:8px}\\n[data-pmd] .c-table-abstract tbody tr th,[data-pmd] .c-table-abstract tbody tr td{padding-bottom:8px}\\n[data-pmd] .c-table-abstract .c-table-gray{color:#999;font:12px/20px Arial,Helvetica,sans-serif}\\n[data-pmd] .c-table-shaft th{color:#999}\\n[data-pmd] .c-table-shaft td,[data-pmd] .c-table-shaft th{border-right:1px solid #eee;text-align:center}\\n[data-pmd] .c-table-shaft td:last-child,[data-pmd] .c-table-shaft th:last-child{border-right:0}\\n[data-pmd] .c-table-shaft tr:last-child td{border-bottom:0}\\n[data-pmd] .c-slink{width:auto;display:-webkit-box;-webkit-box-orient:horizontal;-webkit-box-direction:normal;-webkit-box-pack:justify;-webkit-box-align:stretch;-webkit-box-lines:single;display:-webkit-flex;-webkit-flex-direction:row;-webkit-justify-content:space-between;-webkit-align-items:stretch;-webkit-align-content:flex-start;-webkit-flex-wrap:nowrap}\\n[data-pmd] .c-slink a,[data-pmd] .c-slink .c-slink-elem{position:relative;display:block;-webkit-box-flex:1;-webkit-flex:1 1 auto;width:16.66666667%;height:.32rem;line-height:2.28571429;padding:0 .06rem;font-size:.14rem;text-align:center;text-decoration:none;color:#666;overflow:hidden;text-overflow:ellipsis;white-space:nowrap}\\n[data-pmd] .c-slink a:first-child::before,[data-pmd] .c-slink .c-slink-elem:first-child::before,[data-pmd] .c-slink a::after,[data-pmd] .c-slink .c-slink-elem::after{content:\"\";width:1px;height:.1rem;background-color:#eee;position:absolute;top:.11rem;right:0}\\n[data-pmd] .c-slink a:first-child::before,[data-pmd] .c-slink .c-slink-elem:first-child::before{left:0}\\n[data-pmd] .c-slink-strong{margin-bottom:1px}\\n[data-pmd] .c-slink-strong:last-child{margin-bottom:0}\\n[data-pmd] .c-slink-strong:last-child a,[data-pmd] .c-slink-strong:last-child .c-slink-elem{border-bottom:1px solid #eee}\\n[data-pmd] .c-slink-strong a,[data-pmd] .c-slink-strong .c-slink-elem{height:.3rem;margin-right:1px;line-height:.3rem;background-color:#f5f5f5}\\n[data-pmd] .c-slink-strong a:last-child,[data-pmd] .c-slink-strong .c-slink-elem:last-child{margin-right:0}\\n[data-pmd] .c-slink-strong a:first-child::before,[data-pmd] .c-slink-strong .c-slink-elem:first-child::before,[data-pmd] .c-slink-strong a::after,[data-pmd] .c-slink-strong .c-slink-elem::after{display:none}\\n[data-pmd] .c-slink-new{display:block;width:100%;height:.3rem;line-height:.3rem;background-color:#f5f5f5;font-size:.14rem;color:#000;text-align:center;text-decoration:none;overflow:hidden;text-overflow:ellipsis;white-space:nowrap;padding:0 .08rem;border-radius:.03rem;vertical-align:middle;outline:0;-webkit-tap-highlight-color:rgba(0,0,0,0)}\\n[data-pmd] .c-slink-new:visited{color:#000}\\n[data-pmd] .c-slink-new:active{background-color:#e5e5e5}\\n[data-pmd] .c-slink-new-strong{display:block;width:100%;background-color:#f5f5f5;font-size:.14rem;color:#000;text-align:center;text-decoration:none;overflow:hidden;text-overflow:ellipsis;white-space:nowrap;padding:0 .08rem;border-radius:.03rem;vertical-align:middle;outline:0;-webkit-tap-highlight-color:rgba(0,0,0,0);height:.3rem;line-height:.3rem}\\n[data-pmd] .c-slink-new-strong:visited{color:#000}\\n[data-pmd] .c-slink-new-strong:active{background-color:#e5e5e5}\\n[data-pmd] .c-slink-auto{display:inline-block;max-width:100%;height:.3rem;line-height:.3rem;background-color:#f5f5f5;font-size:.14rem;color:#000;text-align:center;text-decoration:none;overflow:hidden;text-overflow:ellipsis;white-space:nowrap;padding:0 .1rem;border-radius:3px;vertical-align:middle;outline:0;-webkit-tap-highlight-color:rgba(0,0,0,0)}\\n[data-pmd] .c-slink-auto:active{background-color:#e5e5e5}\\n[data-pmd] .c-slink-auto:visited{color:#000}\\n[data-pmd] .c-text{display:inline-block;height:14px;padding:0 2px;margin-bottom:2px;text-decoration:none;vertical-align:middle;color:#fff;font-size:10px;line-height:15px;font-style:normal;font-weight:400;overflow:hidden;border-radius:2px}\\n[data-pmd] .c-text-danger{background-color:#f13f40}\\n[data-pmd] .c-text-public{background-color:#2b99ff}\\n[data-pmd] .c-text-box{display:inline-block;padding:1px 2px;margin-bottom:2px;text-decoration:none;vertical-align:middle;font-size:10px;line-height:11px;height:10px;font-style:normal;font-weight:400;overflow:hidden;-webkit-box-sizing:content-box;box-sizing:content-box;border-radius:2px}\\n[data-pmd] .c-text-box-gray{color:#999;border:1px solid #e3e3e3}\\n[data-pmd] .c-text-box-orange{color:#f60;border:1px solid #f3d9c5}\\n[data-pmd] .c-text-box-pink{color:#ff4683;border:1px solid #ffc7da}\\n[data-pmd] .c-text-box-red{color:#f13f40;border:1px solid #efb9b9}\\n[data-pmd] .c-text-box-blue{color:#2b99ff;border:1px solid #b3d4f3}\\n[data-pmd] .c-text-box-green{color:#65b12c;border:1px solid #d7efc6}\\n[data-pmd] .c-text-box-yellow{color:#faa90e;border:1px solid #feecc9}\\n[data-pmd] .c-text-info{display:inline;color:#999;font-style:normal;font-weight:400;font-family:sans-serif}\\n[data-pmd] .c-index{display:inline-block;height:15px;margin:0 5px 3px 0;text-align:center;vertical-align:middle;color:#999;font-size:14px;line-height:15px;overflow:hidden}\\n[data-pmd] .c-index-hot-common{font-size:12px;color:#fff;width:16px}\\n[data-pmd] .c-index-hot,[data-pmd] .c-index-hot1{background-color:#ff2d46;font-size:12px;color:#fff;width:16px}\\n[data-pmd] .c-index-hot2{background-color:#ff7f49;font-size:12px;color:#fff;width:16px}\\n[data-pmd] .c-index-hot3{background-color:#ffaa3b;font-size:12px;color:#fff;width:16px}\\n[data-pmd] .c-btn{display:inline-block;padding:0 .08rem;width:100%;height:.3rem;font:13px/21px Arial,Helvetica,sans-serif;line-height:.28rem;text-decoration:none;text-align:center;color:#000;background-color:#fff;border:1px solid #707379;border-radius:3px;vertical-align:middle;overflow:hidden;outline:0;-webkit-tap-highlight-color:rgba(0,0,0,0)}\\n[data-pmd] .c-btn:visited{color:#000}\\n[data-pmd] .c-btn:active{border-color:#707379;background-color:#f2f2f2}\\n[data-pmd] .c-btn .c-icon{position:relative;top:-1px;vertical-align:middle;font-size:14px;margin-right:4px}\\n[data-pmd] .c-btn-small{display:inline-block;padding:0 .08rem;width:100%;height:.3rem;line-height:.28rem;font-size:12px;font-weight:400;text-decoration:none;text-align:center;color:#000;background-color:#fff;border:1px solid #707379;border-radius:3px;vertical-align:middle;overflow:hidden;outline:0;-webkit-tap-highlight-color:rgba(0,0,0,0)}\\n[data-pmd] .c-btn-small:visited{color:#000}\\n[data-pmd] .c-btn-small:active{border-color:#707379;background-color:#f2f2f2}\\n[data-pmd] .c-btn-small .c-icon{position:relative;top:-1px;vertical-align:middle;font-size:14px;margin-right:4px}\\n@media screen and (max-width:360px){[data-pmd] .c-btn{padding:0 .05rem}}\\n@media screen and (max-width:375px){[data-pmd] .c-btn-small{padding:0 .02rem}}\\n[data-pmd] .c-btn-primary{background-color:#f8f8f8;border-color:#d0d0d0;border-bottom-color:#b2b2b2;-webkit-box-shadow:0 1px 1px 0 #e1e1e1;box-shadow:0 1px 1px 0 #e1e1e1}\\n[data-pmd] .c-btn-primary .c-icon{color:#02aaf8}\\n[data-pmd] .c-btn-disable{color:#999;background-color:#fff;border-color:#f1f1f1}\\n[data-pmd] .c-btn-disable:visited{color:#999}\\n[data-pmd] .c-btn-disable:active{border-color:#f1f1f1}\\n[data-pmd] .c-btn-disable .c-icon{color:#999}\\n[data-pmd] .c-btn-weak{height:.3rem;line-height:.3rem;border-width:0}\\n[data-pmd] .c-btn-weak:active{background-color:#f2f2f2}\\n[data-pmd] .c-btn-weak-auto{width:auto;height:.3rem;line-height:.3rem;border-width:0}\\n[data-pmd] .c-btn-weak-auto:active{background-color:#f2f2f2}\\n[data-pmd] .c-btn-weak-gray{height:.3rem;line-height:.3rem;background-color:#f8f8f8;border-width:0}\\n[data-pmd] .c-btn-weak-gray:active{background-color:#e5e5e5}\\n[data-pmd] .c-btn-pills{height:.2rem;padding:0 .08rem;border-width:0;border-radius:.2rem;line-height:.2rem;font-size:10px;background-color:rgba(0,0,0,.4);color:#fff;width:auto;word-spacing:-3px;letter-spacing:0}\\n[data-pmd] .c-btn-pills span{position:relative;top:1px}\\n[data-pmd] .c-btn-pills::selection{color:#fff}\\n[data-pmd] .c-btn-pills:visited{color:#fff}\\n[data-pmd] .c-btn-pills:active{background-color:rgba(0,0,0,.4);color:#fff}\\n[data-pmd] .c-btn-pills .c-icon{font-size:10px;top:1px;margin-right:4px}\\n[data-pmd] .c-btn-circle{height:.3rem;width:.3rem;border-radius:50%;color:#fff;background-color:rgba(0,0,0,.4);border:0;padding:0;line-height:.3rem;text-align:center;vertical-align:middle;white-space:nowrap}\\n[data-pmd] .c-btn-circle:active{color:#fff;background-color:rgba(0,0,0,.4)}\\n[data-pmd] .c-btn-circle .c-icon{top:0;margin:0;display:block;font-size:14px;color:#fff}\\n[data-pmd] .c-btn-circle-big{height:.3rem;width:.3rem;border-radius:50%;background-color:rgba(0,0,0,.4);border:0;padding:0;line-height:.3rem;text-align:center;vertical-align:middle;white-space:nowrap;height:.48rem;width:.48rem;line-height:.48rem;font-size:18px;color:#fff}\\n[data-pmd] .c-btn-circle-big:active{color:#fff;background-color:rgba(0,0,0,.4)}\\n[data-pmd] .c-btn-circle-big .c-icon{top:0;margin:0;display:block;font-size:14px;color:#fff}\\n[data-pmd] .c-btn-circle-big .c-icon{font-size:24px}\\n[data-pmd] .c-input{word-break:normal;word-wrap:normal;-webkit-appearance:none;appearance:none;display:inline-block;padding:0 .08rem;width:100%;height:.3rem;vertical-align:middle;line-height:normal;font-size:.14rem;color:#000;background-color:#fff;border:1px solid #eee;border-radius:1px;overflow:hidden;outline:0}\\n[data-pmd] .c-input::-webkit-input-placeholder{color:#999;border-color:#eee}\\n[data-pmd] .c-input:focus{border-color:#000}\\n[data-pmd] .c-input:focus .c-icon{color:#dbdbdb}\\n[data-pmd] .c-input:disabled{color:#999;border-color:#f1f1f1}\\n[data-pmd] .c-dropdown{position:relative;background-color:#fff}\\n[data-pmd] .c-dropdown::before{font-family:cicons;content:\"\\\\e73c\";display:inline-block;position:absolute;bottom:0;right:.08rem;color:#555;font-size:.14rem;height:.3rem;line-height:.3rem}\\n[data-pmd] .c-dropdown>label{display:block;color:#999;background-color:#fff;width:100%;height:.26rem}\\n[data-pmd] .c-dropdown>select{word-break:normal;word-wrap:normal;position:relative;-webkit-appearance:none;appearance:none;display:inline-block;padding:0 .24rem 0 .08rem;width:100%;height:.3rem;vertical-align:middle;line-height:normal;font-size:.14rem;color:#000;background-color:transparent;border:1px solid #eee;border-radius:0;overflow:hidden;outline:0}\\n[data-pmd] .c-dropdown>select:focus{border-color:#000}\\n[data-pmd] .c-dropdown-disable{background-color:#fff}\\n[data-pmd] .c-dropdown-disable::before{color:#999}\\n[data-pmd] .c-dropdown-disable>label{color:#999}\\n[data-pmd] .c-dropdown-disable>select{color:#999;border-color:#f1f1f1}\\n[data-pmd] .c-btn-shaft{border:1px solid #f1f1f1;text-overflow:ellipsis;white-space:nowrap}\\n[data-pmd] .c-btn-shaft:active{border-color:#f1f1f1}\\n[data-pmd] .c-tab-select{background-color:#f5f5f5;height:.38rem;line-height:.38rem;font-size:.14rem;color:#000;text-align:center}\\n[data-pmd] .c-tab-select .c-icon{display:inline-block;font-size:.14rem;color:#555}\\n[data-pmd] .c-tab-select .c-span12{text-align:left}\\n[data-pmd] .c-tab-select .c-span12 .c-icon{position:absolute;right:0;bottom:0}\\n@-webkit-keyframes c-loading-rotation{from{-webkit-transform:rotate(1deg)}\\nto{-webkit-transform:rotate(360deg)}}\\n[data-pmd] .c-loading,[data-pmd] .c-loading-zbios{text-align:center}\\n[data-pmd] .c-loading i{display:block;position:relative;font-size:.3rem;width:.54rem;height:.54rem;line-height:.52rem;color:#f3f3f3;margin:auto}\\n[data-pmd] .c-loading i::before{content:\"\";display:block;position:absolute;width:.5rem;height:.5rem;margin:auto;border-radius:50%;border:.02rem solid #f3f3f3;border-top-color:#ddd;-webkit-transform-origin:50% 50%;-webkit-animation:c-loading-rotation 1s ease 0s infinite normal}\\n[data-pmd] .c-loading-zbios i{display:block;position:relative;font-size:.48rem;width:.54rem;height:.54rem;line-height:.54rem;color:#f3f3f3;margin:auto;-webkit-transform-origin:50% 50%;-webkit-animation:c-loading-rotation .5s linear 0s infinite normal}\\n[data-pmd] .c-loading p,[data-pmd] .c-loading-zbios p{color:#999;margin-top:.08rem;text-indent:.5em}\\n[data-pmd] .c-tabs{position:relative}\\n[data-pmd] .c-tabs-nav{position:relative;min-width:100%;height:.38rem;padding:0 9px;font-size:.14rem;white-space:nowrap;background-color:#f5f5f5;display:-webkit-box;-webkit-box-orient:horizontal;-webkit-box-direction:normal;-webkit-box-pack:justify;-webkit-box-align:stretch;-webkit-box-lines:single;display:-webkit-flex;-webkit-flex-direction:row;-webkit-justify-content:space-between;-webkit-align-items:stretch;-webkit-align-content:flex-start;-webkit-flex-wrap:nowrap;-webkit-user-select:none!important;user-select:none!important;-khtml-user-select:none!important;-webkit-touch-callout:none!important}\\n[data-pmd] .c-tabs-nav *{-webkit-box-sizing:border-box;box-sizing:border-box}\\n[data-pmd] .c-tabs-nav-li{display:block;-webkit-box-flex:1;-webkit-flex:1 1 auto;width:16.66666667%;list-style:none;text-decoration:none;height:.38rem;line-height:.38rem;color:#555;text-align:center;text-overflow:ellipsis;white-space:nowrap;overflow:hidden;-webkit-tap-highlight-color:rgba(0,0,0,0)}\\n[data-pmd] .c-tabs-nav .c-tabs-nav-selected{color:#000;border-bottom:1px solid #000}\\n[data-pmd] .c-tabs-nav-bottom{border-top:1px solid #f1f1f1;padding:0}\\n[data-pmd] .c-tabs-nav-bottom .c-tabs-nav-li{color:#999}\\n[data-pmd] .c-tabs-nav-bottom .c-tabs-nav-icon{display:none}\\n[data-pmd] .c-tabs-nav-bottom .c-tabs-nav-selected{position:relative;top:-1px;height:.38rem;line-height:.39rem;color:#000;background-color:#fff;border-bottom:1px solid #000;border-top-color:#fff}\\n[data-pmd] .c-tabs-nav-bottom .c-tabs-nav-selected:first-child{margin-left:-1px}\\n[data-pmd] .c-tabs-nav-bottom .c-tabs-nav-selected .c-tabs-nav-icon{display:inline-block;width:.15rem;height:.15rem}\\n[data-pmd] .c-tabs-nav-view{position:relative;height:.38rem;background-color:#f5f5f5;overflow:hidden}\\n[data-pmd] .c-tabs-nav-view .c-tabs-nav{display:block}\\n[data-pmd] .c-tabs-nav-view .c-tabs-nav .c-tabs-nav-li{display:inline-block;width:auto;padding:0 .17rem}\\n[data-pmd] .c-tabs-nav-toggle{position:absolute;top:0;right:0;z-index:9;display:block;text-align:center;width:.38rem;height:.38rem;border-left:1px solid #eee;background-color:#f5f5f5}\\n[data-pmd] .c-tabs-nav-toggle::before{display:inline-block;font-family:cicons;content:\"\\\\e73c\";font-size:.12rem;color:#333;line-height:.36rem}\\n[data-pmd] .c-tabs-nav-layer{position:absolute;top:0;z-index:8;width:100%;background-color:#f5f5f5;border-bottom:1px solid #eee}\\n[data-pmd] .c-tabs-nav-layer p{color:#999;height:.39rem;line-height:.39rem;padding:0 .17rem;border-bottom:1px solid #eee}\\n[data-pmd] .c-tabs-nav-layer-ul .c-tabs-nav-li{display:inline-block;width:16.66666667%;padding:0}\\n[data-pmd] .c-tabs-nav-layer-ul .c-tabs-nav-selected{color:#000}\\n[data-pmd] .c-tabs2 .c-tabs-view-content{overflow:hidden}\\n[data-pmd] .c-tabs2 .c-tabs-content{position:relative;float:left;display:none}\\n[data-pmd] .c-tabs2 .c-tabs-selected{display:block}\\n[data-pmd] .c-tabs2 .c-tabs-view-content-anim{transition:height .3s cubic-bezier(0.7,0,.3,1);-webkit-transition:height .3s cubic-bezier(0.7,0,.3,1);-moz-transition:height .3s cubic-bezier(0.7,0,.3,1);-o-transition:height .3s cubic-bezier(0.7,0,.3,1);transform:translate3d(0,0,0);-webkit-transform:translate3d(0,0,0);-moz-transition:translate3d(0,0,0);-o-transition:translate3d(0,0,0)}\\n[data-pmd] .c-tabs2 .c-tabs-stopanimate{transition:none;-webkit-transition:none;transform:none;-webkit-transform:none;-moz-transition:none;-o-transition:none}\\n[data-pmd] .c-tabs2 .c-tabs-tabcontent{transition:transform .3s cubic-bezier(0.7,0,.3,1);-webkit-transition:transform .3s cubic-bezier(0.7,0,.3,1);-moz-transition:transform .3s cubic-bezier(0.7,0,.3,1);-o-transition:transform .3s cubic-bezier(0.7,0,.3,1);transform:translate3d(0,0,0);-webkit-transform:translate3d(0,0,0);-moz-transition:translate3d(0,0,0);-o-transition:translate3d(0,0,0)}\\n[data-pmd] .c-tabs-animation .c-tabs-view-content{margin:0 -.17rem;overflow:hidden}\\n[data-pmd] .c-tabs-animation .c-tabs-content{position:relative;padding-left:.17rem;padding-right:.17rem;box-sizing:border-box;float:left;display:none}\\n[data-pmd] .c-tabs-animation .c-tabs-selected{display:block}\\n[data-pmd] .c-tabs-animation .c-tabs-view-content-anim{transition:height .3s cubic-bezier(0.7,0,.3,1);-webkit-transition:height .3s cubic-bezier(0.7,0,.3,1);-moz-transition:height .3s cubic-bezier(0.7,0,.3,1);-o-transition:height .3s cubic-bezier(0.7,0,.3,1);transform:translate3d(0,0,0);-webkit-transform:translate3d(0,0,0);-moz-transition:translate3d(0,0,0);-o-transition:translate3d(0,0,0)}\\n[data-pmd] .c-tabs-animation .c-tabs-stopanimate{transition:none;-webkit-transition:none;transform:none;-webkit-transform:none;-moz-transition:none;-o-transition:none}\\n[data-pmd] .c-tabs-animation .c-tabs-tabcontent{transition:transform .3s cubic-bezier(0.7,0,.3,1);-webkit-transition:transform .3s cubic-bezier(0.7,0,.3,1);-moz-transition:transform .3s cubic-bezier(0.7,0,.3,1);-o-transition:transform .3s cubic-bezier(0.7,0,.3,1);transform:translate3d(0,0,0);-webkit-transform:translate3d(0,0,0);-moz-transition:translate3d(0,0,0);-o-transition:translate3d(0,0,0)}\\n[data-pmd] .c-scroll-wrapper,[data-pmd] .c-scroll-wrapper-new{position:relative;overflow:hidden}\\n[data-pmd] .c-scroll-wrapper-new .c-scroll-touch{padding-left:9px;padding-right:9px}\\n[data-pmd] .c-scroll-parent-gap{padding:0 .11rem 0 9px}\\n[data-pmd] .c-scroll-parent-gap .c-scroll-element-gap{padding-right:.1rem}\\n[data-pmd] .c-scroll-indicator-wrapper{text-align:center;height:6px}\\n[data-pmd] .c-scroll-indicator-wrapper .c-scroll-indicator{vertical-align:top}\\n[data-pmd] .c-scroll-indicator{display:inline-block;position:relative;height:6px}\\n[data-pmd] .c-scroll-indicator .c-scroll-dotty{position:absolute;width:6px;height:6px;border-radius:50%;background-color:#999}\\n[data-pmd] .c-scroll-indicator .c-scroll-dotty-now{background-color:#999}\\n[data-pmd] .c-scroll-indicator span{display:block;float:left;width:6px;height:6px;border-radius:50%;background-color:#e1e1e1;margin-right:.07rem}\\n[data-pmd] .c-scroll-indicator span:last-child{margin-right:0}\\n[data-pmd] .c-scroll-touch{position:relative;overflow-x:auto;-webkit-overflow-scrolling:touch;padding-bottom:.3rem;margin-top:-.3rem;-webkit-transform:translateY(0.3rem);transform:translateY(0.3rem)}\\n[data-pmd] .c-location-wrap{overflow:hidden;padding:0 .15rem;background-color:#f7f7f7}\\n[data-pmd] .c-location-header-tips{font-size:.13rem}\\n[data-pmd] .c-location-header-btn{padding-top:.08rem;-webkit-box-flex:0;-webkit-flex:none}\\n[data-pmd] .c-location-header-btn div{display:inline-block}\\n[data-pmd] .c-location-header-btn-reload:after{content:\"\";display:inline-block;overflow:hidden;width:1px;height:.1rem;margin:0 .08rem;background-color:#ccc}\\n[data-pmd] .c-location-header-btn-788{display:none}\\n[data-pmd] .c-location-header-btn-in,[data-pmd] .c-location-header-btn-reload{color:#333}\\n[data-pmd] .c-location-header-btn .c-icon{color:#666;vertical-align:top}\\n[data-pmd] .c-location-header-tips{color:#999}\\n[data-pmd] .c-location-header-tips-err{color:#c00}\\n[data-pmd] .c-location-header-tips-success{color:#38f}\\n[data-pmd] .c-location-header-btn-reload-ing .c-location-header-btn-787{display:none}\\n[data-pmd] .c-location-header-btn-reload-ing .c-location-header-btn-788{display:inline-block;color:#999;-webkit-animation-name:c_location_rotate;-webkit-animation-duration:1.5s;-webkit-animation-iteration-count:infinite;-webkit-animation-timing-function:linear}\\n[data-pmd] .c-location-header-btn-reload-ing{color:#999}\\n@-webkit-keyframes c_location_rotate{from{-webkit-transform:rotate(0deg)}\\nto{-webkit-transform:rotate(360deg)}}\\n@keyframes c_location_rotate{from{transform:rotate(0deg)}\\nto{transform:rotate(360deg)}}\\n[data-pmd] .c-location-header-btn-in-active,[data-pmd] .c-location-header-btn-in-active .c-icon{color:#38f}\\n[data-pmd] .c-location-form{position:relative}\\n[data-pmd] .c-location-form .c-input{padding-right:.7rem}\\n[data-pmd] .c-location-input-close{position:absolute;z-index:10;top:1px;right:.37rem;display:none;width:.36rem;height:.36rem;line-height:.36rem;text-align:center;color:#ddd;font-size:.16rem}\\n[data-pmd] .c-location-form .c-input:focus{border-color:#ddd #eee #eee #ddd;background-color:#fff}\\n[data-pmd] .c-location-sub{position:absolute;z-index:10;top:1px;right:1px;width:.36rem;height:.36rem;border-left:1px solid #eee;line-height:.36rem;text-align:center;background-color:#fafafa}\\n[data-pmd] .c-location-body{display:none;padding-bottom:.14rem}\\n[data-pmd] .c-location-down{display:none;border:1px solid #eee;border-top:0;background-color:#fff;-webkit-tap-highlight-color:rgba(0,0,0,0)}\\n[data-pmd] .c-location-down-tips{height:.38rem;padding-left:.12rem;line-height:.38rem;background-color:#fafafa}\\n[data-pmd] .c-location-down-tips-close{padding-right:.12rem}\\n[data-pmd] .c-location-down-tips-close:before{content:\"\";display:inline-block;width:1px;height:.1rem;margin-right:.08rem;background-color:#ddd}\\n[data-pmd] .c-location-down ul{list-style:none}\\n[data-pmd] .c-location-down li{padding:.04rem .12rem;border-top:1px solid #eee}\\n[data-pmd] .c-navs{position:relative}\\n[data-pmd] .c-navs-bar{position:relative;min-width:100%;height:40px;white-space:nowrap;display:-webkit-box;-webkit-box-orient:horizontal;-webkit-box-direction:normal;-webkit-box-pack:justify;-webkit-box-align:stretch;-webkit-box-lines:single;display:-webkit-flex;-webkit-flex-direction:row;-webkit-justify-content:space-between;-webkit-align-items:stretch;-webkit-align-content:flex-start;-webkit-flex-wrap:nowrap}\\n[data-pmd] .c-navs .c-row-tile{border-bottom:1px solid #f1f1f1}\\n[data-pmd] .c-navs-sub .c-navs-bar{height:38px}\\n[data-pmd] .c-navs-bar *{-webkit-box-sizing:border-box;box-sizing:border-box}\\n[data-pmd] .c-navs-bar-li{display:block;-webkit-box-flex:1;-webkit-flex:1 1 auto;width:16.66666667%;height:40px;line-height:40px;list-style:none;text-decoration:none;color:#666;text-align:center;font-size:15px;-webkit-tap-highlight-color:transparent;padding:0 17px}\\n[data-pmd] .c-navs-sub .c-navs-bar-li{height:38px;line-height:38px}\\n[data-pmd] .c-navs-bar-li span{height:100%;display:inline-block;max-width:100%;text-overflow:ellipsis;white-space:nowrap;overflow:hidden}\\n[data-pmd] .c-navs-bar .c-navs-bar-selected span{color:#333;font-weight:700;border-bottom:2px solid #333}\\n[data-pmd] .c-navs-bar-view{position:relative;overflow:hidden}\\n[data-pmd] .c-navs-bar-view .c-navs-bar{display:block}\\n[data-pmd] .c-navs-bar-view .c-navs-bar .c-navs-bar-li{display:inline-block;width:auto;padding:0 17px}\\n[data-pmd] .c-navs-bar-toggle{position:absolute;top:0;right:0;width:34px;height:40px;background-color:#fff}\\n[data-pmd] .c-navs-sub .c-navs-bar-toggle{height:38px}\\n[data-pmd] .c-navs-bar-toggle i{width:0;height:0;right:17px;top:17px;border-right:5px solid transparent;border-top:5px solid #999;border-left:5px solid transparent;position:absolute}\\n[data-pmd] .c-navs-bar-layer{position:absolute;top:0;z-index:8;width:100%;background-color:#fff;overflow-x:hidden}\\n[data-pmd] .c-navs-bar-layer p{color:#999;padding:9px 17px 13px}\\n[data-pmd] .c-navs-sub .c-navs-bar-layer p{padding:8px 17px 13px}\\n[data-pmd] .c-navs-bar-layer .c-row{margin-bottom:17px}\\n[data-pmd] .c-navs-sub .c-navs-bar-toggle i{top:16px}\\n[data-pmd] .c-navs-bar-layer .c-navs-bar-toggle i{border-right:5px solid transparent;border-bottom:5px solid #999;border-left:5px solid transparent;border-top:0}\\n[data-pmd] .c-navs-bar-layer .c-navs-bar-li{height:33px;line-height:33px;text-align:center;font-size:14px;color:#333;width:33.33333333%;-webkit-box-flex:4;-webkit-flex:4 4 auto;padding-right:1.55367232%;padding-left:1.55367232%}\\n[data-pmd] .c-navs-bar-layer .c-span4.c-navs-bar-li span{display:inline-block;width:100%;border:1px solid #f1f1f1;border-bottom:1px solid #f1f1f1}\\n[data-pmd] .c-navs-bar-layer .c-span4.c-navs-bar-selected span{border:2px solid #333;line-height:31px}\\n[data-pmd] .c-navs-shadow{right:34px;position:absolute;top:0;width:10px;height:40px;background:-webkit-linear-gradient(left,rgba(255,255,255,0),#fff);background:linear-gradient(to right,rgba(255,255,255,0),#fff)}\\n[data-pmd] .c-navs-sub .c-navs-shadow{height:38px}\\n[data-pmd] .c-navs-bar-mask{position:absolute;z-index:7;top:0;left:0;background:rgba(0,0,0,.65);height:1024px;width:100%}\\n[data-pmd] .c-navs-sub .c-navs-bar-li span{border-bottom:0;font-size:14px}\\na{color:#2440b3;text-decoration:none}\\na em{color:#f73131;text-decoration:none}\\na:hover{text-decoration:underline;color:#315efb}\\na:hover em{text-decoration:underline}\\na:visited{color:#771caa}\\na:active{color:#f73131;text-decoration:none}\\na:active em{text-decoration:none}\\nem{color:#f73131}\\nbody{min-width:1116px}\\n#content_right a{text-decoration:none}\\n#content_right a:hover{text-decoration:underline}\\n.new-pmd .kuaizhao:hover{text-decoration:underline;color:#626675}\\n#container.sam_newgrid .c-container .t,#container.sam_newgrid .c-container .c-title{font-size:18px;line-height:22px}\\n#rs .new-pmd .inc-rs-new-title{line-height:14px}\\n#rs .new-pmd .new-inc-rs-table{width:704px;border-collapse:collapse;margin-bottom:-9px}\\n#rs .new-pmd .new-inc-rs-table td{width:16px}\\n#rs .new-pmd .new-inc-rs-table th{width:224px;line-height:26px}\\n#rs .new-inc-rs-item{width:224px;overflow:hidden;display:inline-block;text-overflow:ellipsis;vertical-align:top;margin-top:2px}\\n.new-pmd .c-recommend{padding-bottom:10px}\\n.new-pmd .c-recommend .recommend-line-height-new{line-height:1.8}\\n.new-pmd .c-recommend .recommend-line-one{height:24px;overflow:hidden}\\n.new-pmd .c-recommend .recommend-line-one .recommend-item-a{display:inline-block;height:24px;line-height:24px;padding:0 6px;background:#F5F5F6;border-radius:6px;text-decoration:none}\\n.new-pmd .c-recommend .recommend-line-one .recommend-item-a:hover{background-color:#F0F0F1}\\n.new-pmd .c-recommend .recommend-icon-bear-circle-new{width:14px;height:15px;line-height:16px;text-align:center;color:#fff;background-color:#91B9F7;margin-bottom:-6px;border-radius:4px;overflow:visible;padding-left:2px;padding-top:1px}\\n.new-pmd .recommend-none-border{border-top:0;margin-bottom:-4px;padding-bottom:8px;border-color:#f2f2f2}\\n.new-pmd .recommend-a-gap{padding-top:3px;padding-bottom:4px;padding-right:6px;padding-left:6px;border-radius:6px}\\n.new-pmd .recommend-a-gap:hover{text-decoration:underline}\\n.new-pmd .new-url-right-icon{position:relative;top:-3px;font-size:16px}\\n.selected-search-box{z-index:300;position:absolute;cursor:pointer;border:0;background:#FFF;box-shadow:0 2px 10px 0 rgba(0,0,0,.1);border-radius:6px;padding:10px 15px 9px 16px}\\n.selected-search-box a,.selected-search-box a:hover,.selected-search-box a:visited{text-decoration:none;color:#333;line-height:13px;height:13px;overflow:hidden}\\n.selected-search-box i{float:left;margin-left:8px;color:#4E6EF2;font-size:14px;width:14px;height:14px;vertical-align:middle;font-weight:bolder}\\n.selected-search-box span{padding-top:20px;margin-top:-20px;overflow:hidden;float:left;font-family:Arial,MicrosoftYaHei;font-size:13px;line-height:13px;max-width:156px;white-space:nowrap;text-overflow:ellipsis;vertical-align:text-bottom}\\n.guide-info-new{cursor:pointer;z-index:999;height:34px;padding:0 15px;min-width:120px;background-color:rgba(98,102,117,.8);box-shadow:0 2px 10px 0 rgba(0,0,0,.1);border-radius:6px;text-align:left;position:absolute;line-height:35px;white-space:nowrap}\\n.guide-close{color:#D7D9E0;margin-left:8px;display:inline-block!important;height:34px;text-align:center;vertical-align:top;font-size:13px!important}\\n.guide-close:hover{color:#fff!important}\\n.guide-arrow-bottom{top:-11px;right:10px;background:url(http://s1.bdstatic.com/r/www/cache/static/global/img/arrow-bottom_a44a0c6.png) no-repeat 0 0}\\n.guide-arrow-bottom{position:absolute;opacity:.8;height:11px;width:11px;background-size:11px 11px}\\n.guide-text{display:inline-block;vertical-align:top;font-size:13px;font-family:Arial,sans-serif;color:#fff;margin-right:-5px}\\n.color222{color:#222}\\n#seth{display:inline;behavior:url(#default#homepage)}\\n#setf{display:inline}\\n#sekj{margin-left:14px}\\n#st,#sekj{display:none}\\n.s_ipt_wr{border:1px solid #b6b6b6;border-color:#7b7b7b #b6b6b6 #b6b6b6 #7b7b7b;background:#fff;display:inline-block;vertical-align:top;width:539px;margin-right:0;border-right-width:0;border-color:#b8b8b8 transparent #ccc #b8b8b8;overflow:hidden}\\n.wrapper_s .s_ipt_wr{width:439px}\\n.wrapper_s .s_ipt{width:434px}\\n.wrapper_s .s_ipt_tip{width:434px}\\n.s_ipt_wr:hover,.s_ipt_wr.ipthover{border-color:#999 transparent #b3b3b3 #999}\\n.s_ipt_wr.iptfocus{border-color:#4791ff transparent #4791ff #4791ff}\\n.s_ipt_tip{color:#aaa;position:absolute;z-index:-10;font:16px/22px arial;height:32px;line-height:32px;padding-left:7px;overflow:hidden;width:526px}\\n.s_ipt{width:526px;height:22px;font:16px/18px arial;line-height:22px;margin:6px 0 0 7px;padding:0;background:transparent;border:0;outline:0;-webkit-appearance:none}\\n#kw{position:relative}\\n#u .username i{background-position:-408px -144px}\\n.bdpfmenu,.usermenu{border:1px solid #d1d1d1;position:absolute;width:105px;top:36px;z-index:302;box-shadow:1px 1px 5px #d1d1d1;-webkit-box-shadow:1px 1px 5px #d1d1d1;-moz-box-shadow:1px 1px 5px #d1d1d1;-o-box-shadow:1px 1px 5px #d1d1d1}\\n.bdpfmenu{font-size:12px;background-color:#fff}\\n.bdpfmenu a,.usermenu a{display:block;text-align:left;margin:0!important;padding:0 9px;line-height:26px;text-decoration:none}\\n.briiconsbg{background-repeat:no-repeat;background-size:300px 18px;background-image:url(http://s1.bdstatic.com/r/www/cache/static/home/img/icons_0c37e9b.png);background-image:url(http://s1.bdstatic.com/r/www/cache/static/home/img/icons_809ae65.gif)\\\\9}\\n#u{z-index:301;position:absolute;right:0;top:0;margin:21px 9px 5px 0;padding:0}\\n.wrapper_s #u{margin-right:3px}\\n#u a{text-decoration:underline;color:#333;margin:0 7px}\\n.wrapper_s #u a{margin-right:0 6px}\\n#u div a{text-decoration:none}\\n#u a:hover{text-decoration:underline}\\n#u .back_org{color:#666;float:left;display:inline-block;height:24px;line-height:24px}\\n#u .bri{display:inline-block;width:24px;height:24px;float:left;line-height:24px;color:transparent;background:url(http://s1.bdstatic.com/r/www/cache/static/home/img/icons_0c37e9b.png) no-repeat 4px 3px;background-size:300px 18px;background-image:url(http://s1.bdstatic.com/r/www/cache/static/home/img/icons_809ae65.gif)\\\\9;overflow:hidden}\\n#u .bri:hover,#u .bri.brihover{background-position:-18px 3px}\\n#mCon #imeSIcon{background-position:-408px -144px;margin-left:0}\\n#mCon span{color:#333}\\n.bdpfmenu a:link,.bdpfmenu a:visited,#u .usermenu a:link,#u .usermenu a:visited{background:#fff;color:#333}\\n.bdpfmenu a:hover,.bdpfmenu a:active,#u .usermenu a:hover,#u .usermenu a:active{background:#38f;text-decoration:none;color:#fff}\\n.bdpfmenu{width:70px}\\n.usermenu{width:68px;right:8px}\\n#wrapper .bdnuarrow{width:0;height:0;font-size:0;line-height:0;display:block;position:absolute;top:-10px;left:50%;margin-left:-5px}\\n#wrapper .bdnuarrow em,#wrapper .bdnuarrow i{width:0;height:0;font-size:0;line-height:0;display:block;position:absolute;border:5px solid transparent;border-style:dashed dashed solid}\\n#wrapper .bdnuarrow em{border-bottom-color:#d8d8d8;top:-1px}\\n#wrapper .bdnuarrow i{border-bottom-color:#fff;top:0}\\n#prefpanel{background:#fafafa;display:none;opacity:0;position:fixed;_position:absolute;top:-359px;z-index:500;width:100%;min-width:960px;border-bottom:1px solid #ebebeb}\\n#prefpanel form{_width:850px}\\n#kw_tip{cursor:default;display:none;margin-top:1px}\\n#bds-message-wrapper{top:43px}\\n.quickdelete-wrap{position:relative}\\n.quickdelete-wrap input{width:500px}\\n.wrapper_l .quickdelete-wrap input{width:500px}\\n.wrapper_s .quickdelete-wrap input{width:402px}\\ninput::-ms-clear{display:none}\\n.quickdelete{width:32px;height:32px;background:url(http://s1.bdstatic.com/r/www/cache/static/global/img/quickdelete_33e3eb8.png) no-repeat;background-position:10px 10px;position:absolute;display:block}\\n.quickdelete:hover{background-position:10px -24px}\\n#lh a{margin-left:25px}\\n.bdbriwrapper-tuiguang{display:none!important}\\n.soutu-input{padding-left:55px!important}\\n.soutu-input-image{position:absolute;left:1px;top:1px;height:28px;width:49px;z-index:1;padding:0;background:#e6e6e6;border:1px solid #e6e6e6}\\n.soutu-input-thumb{height:28px;width:28px;min-width:1px}\\n.soutu-input-close{position:absolute;right:0;top:0;cursor:pointer;display:block;width:22px;height:28px}\\n.soutu-input-close::after{content:\" \";position:absolute;right:3px;top:50%;cursor:pointer;margin-top:-7px;display:block;width:14px;height:14px;background:url(http://s1.bdstatic.com/r/www/cache/static/soutu/img/soutu_icons_new_8abaf8a.png) no-repeat -163px 0}\\n.soutu-input-image:hover .soutu-input-close::after{background-position:-215px 2px}\\n.fb-hint{margin-top:5px;transition-duration:.9s;opacity:0;display:none;color:red}\\n.fb-img{display:none}\\n.fb-hint-tip{height:44px;line-height:24px;background-color:#38f;color:#fff;box-sizing:border-box;width:269px;font-size:16px;padding:10px;padding-left:14px;position:absolute;top:-65px;right:-15px;border-radius:3px;z-index:299}\\n.fb-hint-tip::before{content:\"\";width:0;height:0;display:block;position:absolute;border-left:8px solid transparent;border-right:8px solid transparent;border-top:8px solid #38f;bottom:-8px;right:25px}\\n.fb-mask,.fb-mask-light{position:fixed;top:0;left:0;bottom:0;right:0;z-index:296;background-color:#000;filter:alpha(opacity=60);background-color:rgba(0,0,0,.6)}\\n.fb-mask-light{background-color:#fff;filter:alpha(opacity=0);background-color:rgba(255,255,255,0)}\\n.fb-success .fb-success-text{text-align:center;color:#333;font-size:13px;margin-bottom:14px}\\n.fb-success-text.fb-success-text-title{color:#3b6;font-size:16px;margin-bottom:16px}\\n.fb-success-text-title i{width:16px;height:16px;margin-right:5px}\\n.fb-list-container{box-sizing:border-box;padding:4px 8px;position:absolute;top:0;left:0;bottom:0;right:0;z-index:298;display:block;width:100%;cursor:pointer;margin-top:-5px;margin-left:-5px}\\n.fb-list-container-hover{background-color:#fff;border:2px #38f solid}\\n.fb-list-container-first{box-sizing:border-box;padding-left:10px;padding-top:5px;position:absolute;top:0;left:0;bottom:0;right:0;z-index:297;display:block;width:100%;cursor:pointer;margin-top:-5px;margin-left:-5px;border:3px #f5f5f5 dashed;border-radius:3px}\\n.fb-des-content{font-size:13px!important;color:#000}\\n.fb-des-content::-webkit-input-placeholder{font-size:13px!important;color:#9a9a9a}\\n.fb-des-content:-moz-placeholder{font-size:13px!important;color:#9a9a9a}\\n.fb-des-content::-moz-placeholder{font-size:13px!important;color:#9a9a9a}\\n.fb-des-content:-ms-input-placeholder{font-size:13px!important;color:#9a9a9a}\\n.fb-btn,.fb-btn:visited{color:#333!important}\\n.fb-select{position:relative;background-color:#fff;border:1px solid #ccc}\\n.fb-select i{position:absolute;right:2px;top:7px}\\n.fb-type{width:350px;box-sizing:border-box;height:28px;font-size:13px;line-height:28px;border:0;word-break:normal;word-wrap:normal;position:relative;appearance:none;-moz-appearance:none;-webkit-appearance:none;display:inline-block;vertical-align:middle;line-height:normal;color:#333;background-color:transparent;border-radius:0;overflow:hidden;outline:0;padding-left:5px}\\n.fb-type::-ms-expand{display:none}\\n.fb-btn{display:inline-block;padding:0 14px;margin:0;height:24px;line-height:25px;font-size:13px;filter:chroma(color=#000000);*zoom:1;border:1px solid #d8d8d8;cursor:pointer;font-family:inherit;font-weight:400;text-align:center;vertical-align:middle;background-color:#f9f9f9;overflow:hidden;outline:0}\\n.fb-btn:hover{border-color:#388bff}\\n.fb-btn:active{border-color:#a2a6ab;background-color:#f0f0f0;box-shadow:inset 1px 1px 1px #c7c7c7;-webkit-box-shadow:inset 1px 1px 1px #c7c7c7;-moz-box-shadow:inset 1px 1px 1px #c7c7c7;-o-box-shadow:inset 1px 1px 1px #c7c7c7}\\na.fb-btn{text-decoration:none}\\nbutton.fb-btn{height:26px;_line-height:18px;*overflow:visible}\\nbutton.fb-btn::-moz-focus-inner{padding:0;border:0}\\n.fb-btn .c-icon{margin-top:5px}\\n.fb-btn-primary,.fb-btn-primary:visited{color:#fff!important}\\n.fb-btn-primary{background-color:#388bff;_width:82px;border-color:#3c8dff #408ffe #3680e6}\\n.fb-btn-primary:hover{border-color:#2678ec #2575e7 #1c6fe2 #2677e7;background-color:#388bff;background-image:url(data:image/png;\\n\\t\\tbase64,iVBORw0KGgoAAAANSUhEUgAAAAEAAAACCAMAAACuX0YVAAAABlBMVEVnpv85i/9PO5r4AAAAD0lEQVR42gEEAPv/AAAAAQAFAAIros7PAAAAAElFTkSuQmCC);background-repeat:repeat-x;box-shadow:1px 1px 1px rgba(0,0,0,.4);-webkit-box-shadow:1px 1px 1px rgba(0,0,0,.4);-moz-box-shadow:1px 1px 1px rgba(0,0,0,.4);-o-box-shadow:1px 1px 1px rgba(0,0,0,.4)}\\n.fb-btn-primary:active{border-color:#178ee3 #1784d0 #177bbf #1780ca;background-color:#388bff;background-image:none;box-shadow:inset 1px 1px 1px rgba(0,0,0,.15);-webkit-box-shadow:inset 1px 1px 1px rgba(0,0,0,.15);-moz-box-shadow:inset 1px 1px 1px rgba(0,0,0,.15);-o-box-shadow:inset 1px 1px 1px rgba(0,0,0,.15)}\\n.fb-feedback-right-dialog{position:fixed;z-index:299;bottom:0;right:0}\\n.fb-feedback-list-dialog,.fb-feedback-list-dialog-left{position:absolute;z-index:299}\\n.fb-feedback-list-dialog:before{content:\"\";width:0;height:0;display:block;position:absolute;top:15px;left:-6px;border-top:8px solid transparent;border-bottom:8px solid transparent;border-right:8px solid #fff}\\n.fb-feedback-list-dialog-left:before{content:\"\";width:0;height:0;display:block;position:absolute;top:15px;right:-6px;border-top:8px solid transparent;border-bottom:8px solid transparent;border-left:8px solid #fff}\\n.fb-header{padding-left:20px;padding-right:20px;margin-top:14px;text-align:left;-moz-user-select:none}\\n.fb-header .fb-close{color:#e0e0e0}\\n.fb-close{text-decoration:none;margin-top:2px;float:right;font-size:20px;font-weight:700;line-height:18px;color:#666;text-shadow:0 1px 0 #fff}\\n.fb-photo-block{display:none}\\n.fb-photo-block-title{font-size:13px;color:#333;padding-top:10px}\\n.fb-photo-block-title-span{color:#999}\\n.fb-photo-sub-block{margin-top:10px;margin-bottom:10px;width:60px;text-align:center}\\n.fb-photo-sub-block-hide{display:none}\\n.fb-photo-update-block{overflow:hidden}\\n.fb-photo-update-item-block{width:100px;height:100px;background:red;border:solid 1px #ccc;margin-top:10px;float:left;margin-right:20px;position:relative;background:url(http://s1.bdstatic.com/r/www/cache/static/global/img/feedback_add_photo_69ff822.png);background-repeat:no-repeat;background-size:contain;background-position:center center;background-size:24px 24px}\\n.fb-photo-block-title-ex{font-size:13px;float:right}\\n.fb-photo-block-title-ex img{vertical-align:text-top;margin-right:4px}\\n.fb-photo-block-title-span{margin-left:4px;color:#999}\\n.fb-photo-update-item-show-img{width:100%;height:100%;display:none}\\n.fb-photo-update-item-close{width:13px;height:13px;position:absolute;top:-6px;right:-6px;display:none}\\n.fb-photo-block input{display:none}\\n.fb-photo-update-hide{display:none}\\n.fb-photo-update-item-block{width:60px;height:60px;border:solid 1px #ccc;float:left}\\n.fb-photo-block-example{position:absolute;top:0;left:0;display:none;background-color:#fff;padding:14px;padding-top:0;width:392px}\\n.fb-photo-block-example-header{padding-top:14px;overflow:hidden}\\n.fb-photo-block-example-header p{float:left}\\n.fb-photo-block-example-header img{float:right;width:13px;height:13px}\\n.fb-photo-block-example-img img{margin:0 auto;margin-top:14px;display:block;width:200px}\\n.fb-photo-block-example-title{text-align:center}\\n.fb-photo-block-example-title-big{font-size:14px;color:#333}\\n.fb-photo-block-example-title-small{font-size:13px;color:#666}\\n.fb-header a.fb-close:hover{text-decoration:none}\\n.fb-photo-block-upinfo{width:100%}\\n.fb-header-tips{font-size:16px;margin:0;color:#333;text-rendering:optimizelegibility}\\n.fb-body{margin-bottom:0;padding:20px;padding-top:10px;overflow:hidden;text-align:left}\\n.fb-modal,.fb-success,.fb-vertify{background-color:#fff;cursor:default;top:100%;left:100%;width:390px;overflow:hidden;border:1px solid #999;*border:1px solid #ddd;font-size:13px;line-height:1.54}\\n.fb-textarea textarea{width:350px;height:64px;padding:4px;margin:10px 0;vertical-align:top;resize:none;overflow:auto;box-sizing:border-box;display:inline-block;border:1px solid #ccc;-webkit-border-radius:0;-moz-border-radius:0;border-radius:0;-webkit-box-shadow:inset 0 1px 1px rgba(0,0,0,.075);-moz-box-shadow:inset 0 1px 1px rgba(0,0,0,.075);box-shadow:inset 0 1px 1px rgba(0,0,0,.075);-webkit-transition:border linear .2s,box-shadow linear .2s;-moz-transition:border linear .2s,box-shadow linear .2s;-ms-transition:border linear .2s,box-shadow linear .2s;-o-transition:border linear .2s,box-shadow linear .2s;transition:border linear .2s,box-shadow linear .2s}\\n.fb-selected{display:none;width:12px;height:12px;background:url(data:image/png;base64,iVBORw0KGgoAAAANSUhEUgAAAAcAAAAFCAYAAACJmvbYAAAABGdBTUEAALGPC/xhBQAAACBjSFJNAAB6JgAAgIQAAPoAAACA6AAAdTAAAOpgAAA6mAAAF3CculE8AAAABmJLR0QAAAAAAAD5Q7t/AAAACXBIWXMAABYlAAAWJQFJUiTwAAAAJklEQVQI12NgwAEsuv/8xy9h3vX7P6oEKp/BHCqA0yhzdB0MDAwAFXkTK5la4mAAAAAASUVORK5CYII=) no-repeat 2px 3px}\\n.fb-guide{padding-top:10px;color:#9a9a9a;margin-left:-20px;padding-left:20px;border-right-width:0;margin-right:-20px;padding-right:25px;margin-bottom:-20px;padding-bottom:15px}\\n.fb-footer{padding-top:10px;text-align:left}\\n.fb-block{overflow:hidden;position:relative}\\n.fb-block .fb-email{height:28px;line-height:26px;width:350px;border:1px solid #ccc;padding:4px;padding-top:0;box-sizing:border-box;padding-bottom:0;display:inline-block;font-family:\\'Helvetica Neue\\',Helvetica,Arial,sans-serif;vertical-align:middle!important;-webkit-border-radius:0;-moz-border-radius:0;border-radius:0;-webkit-box-shadow:inset 0 1px 1px rgba(0,0,0,.075);-moz-box-shadow:inset 0 1px 1px rgba(0,0,0,.075);box-shadow:inset 0 1px 1px rgba(0,0,0,.075);-webkit-transition:border linear .2s,box-shadow linear .2s;-moz-transition:border linear .2s,box-shadow linear .2s;-ms-transition:border linear .2s,box-shadow linear .2s;-o-transition:border linear .2s,box-shadow linear .2s;transition:border linear .2s,box-shadow linear .2s}\\n.fb-email{font-size:13px!important;color:#000}\\n.fb-email::-webkit-input-placeholder{font-size:13px!important;color:#9a9a9a}\\n.fb-email:-moz-placeholder{font-size:13px!important;color:#9a9a9a}\\n.fb-email::-moz-placeholder{font-size:13px!important;color:#9a9a9a}\\n.fb-email:-ms-input-placeholder{font-size:13px!important;color:#9a9a9a}\\n.fb-cut-block{height:15px;padding-bottom:10px}\\n.fb-canvas-block{height:172px;border:1px solid #ccc;margin-bottom:10px;position:relative;overflow:hidden;width:100%;background-position:center;box-sizing:border-box}\\n.fb-canvas-block img{width:350px;position:absolute}\\n.fb-canvas-block img[src=\"\"]{opacity:0}\\n.fb-cut-input{width:14px;height:14px;margin:0;margin-right:10px;display:inline-block;border:1px solid #ccc}\\n.fb-cut-btn{width:60px!important}\\n#fb_tips_span{vertical-align:middle}\\n#fb_popwindow{display:block;left:457px;top:69.5px;position:absolute;width:450px;z-index:999999;background:none repeat scroll 0 0 #fff;border:1px solid #999;border-radius:3px;box-shadow:0 0 9px #999;padding:0}\\n#feedback_dialog_content{text-align:center}\\n#fb_right_post_save:hover{background-image:url(data:image/png;\\n\\t\\tbase64,iVBORw0KGgoAAAANSUhEUgAAAAEAAAACCAMAAACuX0YVAAAABlBMVEVnpv85i/9PO5r4AAAAD0lEQVR42gEEAPv/AAAAAQAFAAIros7PAAAAAElFTkSuQmCC);background-repeat:repeat-x;box-shadow:1px 1px 1px rgba(0,0,0,.4);-webkit-box-shadow:1px 1px 1px rgba(0,0,0,.4);-moz-box-shadow:1px 1px 1px rgba(0,0,0,.4);-o-box-shadow:1px 1px 1px rgba(0,0,0,.4)}\\n.fb-select-icon{position:absolute;bottom:6px;right:5px;width:16px;height:16px;box-sizing:content-box;background-position:center center;background-repeat:no-repeat;background-size:7px 4px;-webkit-background-size:7px 4px;background-image:url(data:image/png;base64,iVBORw0KGgoAAAANSUhEUgAAAAcAAAAECAYAAABCxiV9AAAABGdBTUEAALGPC/xhBQAAACBjSFJNAAB6JgAAgIQAAPoAAACA6AAAdTAAAOpgAAA6mAAAF3CculE8AAAABmJLR0QAAAAAAAD5Q7t/AAAACXBIWXMAAAsSAAALEgHS3X78AAAAKElEQVQI12Ps7Or6z4ADMDIwMDBgU1BeVsbICOMgKygvK2PEMAbdBAAhxA08t5Q3VgAAAABJRU5ErkJggg==)}\\n.fb-select-shorter{position:relative;min-height:28px}\\n.fb-type-container{line-height:28px;position:absolute;top:28px;width:100%;background-color:#fff;border:1px solid #ccc;z-index:300;margin-left:-1px;display:none}\\n.fb-type-item,.fb-type-selected{height:28px;line-height:30px;padding-left:4px}\\n.fb-type-item:hover{background:#f5F5F5}\\n.fb-checkbox{position:relative;border-bottom:1px solid #eee;height:34px;line-height:35px}\\n.fb-checkbox:last-child{border-bottom:0}\\n.fb-list-wrapper{margin-top:-10px}\\n.fb-textarea-sug textarea{margin-top:0}</style>\\n\\n\\n\\t\\t\\n\\r\\n<noscript>\\r\\n\\t<meta http-equiv=\"refresh\" content=\"0; url=/s?wd=asyncio&oq=asyncio&ie=utf-8&rsv_pq=f7a917d100110472&rsv_t=2fbaJm2o90J8hDOp0loIo8F%2BbsCqF0vARWutBXlg0vDK8%2BDqBaQnNa3UzyQ&rqlang=cn&nojs=1&bqid=f7a917d100110472\"/>\\r\\n</noscript>\\r\\n\\n\\n<script>\\n\\tvar hashMatch = document.location.href.match(/#+(.*wd=[^&].+)/);\\n\\n\\tif (hashMatch && hashMatch[0] && hashMatch[1]) {\\n\\t\\tdocument.location.replace(\"http://\"+location.host+\"/s?\"+hashMatch[1]);\\n\\t}\\n\\tvar bds = {\\n\\t\\tcomm:{\\n        \\tloginAction : []\\n\\t\\t},\\n\\t\\tse:{},\\n\\t\\tsu:{\\n\\t\\t\\t\\turdata:[],\\n\\t\\t\\turSendClick:function(){}\\n\\t\\t},\\n\\t\\tutil:{},\\n\\t\\tuse:{},\\n\\t\\t_base64:{\\n\\t\\t\\tdomain : \"http://b1.bdstatic.com/\",\\n\\t\\t\\tb64Exp : -1,\\n\\t\\t\\tpdc : -1\\n\\t\\t}\\n\\t};\\n\\n\\t//防止从结果页打开的页面中通过opener.xxx来影响百度页面\\n\\tvar isOldIE = /msie [6-8]\\\\b/.test(navigator.userAgent.toLowerCase());\\n\\tif (!isOldIE) {\\n\\t\\tvar al_arr=[];\\n\\t\\tvar selfOpen = window.open;eval(\"var open = selfOpen;\");\\n\\t\\tvar isIE=navigator.userAgent.indexOf(\"MSIE\")!=-1&&!window.opera;\\n\\t\\tvar E = bds.ecom= {};\\n\\t\\tdocument.cookie=\\'ISWR=;domain=.baidu.com;path=/;expires=Fri, 02-Jan-1970 00:00:00 GMT\\';\\n\\t\\tvar detectIntervals = [{status: 18, time: 6000 }, {status: 17, time: 10000 }];\\n\\n\\t\\tdetectIntervals.forEach(function (detect) {\\n\\t\\t\\tsetTimeout(function() {\\n\\t\\t\\t\\tvar lefter = document.getElementById(\\'content_left\\');\\n\\t\\t\\t\\tvar rsnum = document.getElementsByClassName(\\'result\\').length;\\n\\t\\t\\t\\tvar contentno = document.getElementsByClassName(\\'content_none\\').length;\\n\\t\\t\\t\\tif (!lefter && !rsnum && !contentno) {\\n\\t\\t\\t\\t\\tvar date = new Date();\\n\\t\\t\\t\\t\\tdate.setTime(date.getTime() + 5 * 60 * 1000);\\n\\t\\t\\t\\t\\tdocument.cookie = \\'ISWR=\\' + detect.status + \\';domain=.baidu.com;path=/;expires=\\' + date.toGMTString() + \\';\\';\\n\\t\\t\\t\\t}\\n\\t\\t\\t}, detect.time);\\n\\t\\t});\\n\\t}\\n\\n</script>\\n\\n<script>\\nbds.util.domain = (function(){\\n    var list = {\"graph.baidu.com\": \"http://graph.baidu.com\",\"p.qiao.baidu.com\":\"http://p.qiao.baidu.com\",\"vse.baidu.com\":\"http://vse.baidu.com\",\"hdpreload.baidu.com\":\"http://hdpreload.baidu.com\",\"lcr.open.baidu.com\":\"//pcrec.baidu.com\",\"kankan.baidu.com\":\"http://kankan.baidu.com\",\"xapp.baidu.com\":\"http://xapp.baidu.com\",\"dr.dh.baidu.com\":\"http://dr.dh.baidu.com\",\"xiaodu.baidu.com\":\"http://xiaodu.baidu.com\",\"sensearch.baidu.com\":\"http://sensearch.baidu.com\",\"s1.bdstatic.com\":\"http://s1.bdstatic.com\",\"olime.baidu.com\":\"http://olime.baidu.com\",\"app.baidu.com\":\"http://app.baidu.com\",\"i.baidu.com\":\"http://i.baidu.com\",\"c.baidu.com\":\"http://c.baidu.com\",\"sclick.baidu.com\":\"http://sclick.baidu.com\",\"nsclick.baidu.com\":\"http://nsclick.baidu.com\",\"sestat.baidu.com\":\"http://sestat.baidu.com\",\"eclick.baidu.com\":\"http://eclick.baidu.com\",\"api.map.baidu.com\":\"http://api.map.baidu.com\",\"ecma.bdimg.com\":\"http://ecma.bdimg.com\",\"ecmb.bdimg.com\":\"http://ecmb.bdimg.com\",\"t1.baidu.com\":\"http://t1.baidu.com\",\"t2.baidu.com\":\"http://t2.baidu.com\",\"t3.baidu.com\":\"http://t3.baidu.com\",\"t10.baidu.com\":\"http://t10.baidu.com\",\"t11.baidu.com\":\"http://t11.baidu.com\",\"t12.baidu.com\":\"http://t12.baidu.com\",\"i7.baidu.com\":\"http://i7.baidu.com\",\"i8.baidu.com\":\"http://i8.baidu.com\",\"i9.baidu.com\":\"http://i9.baidu.com\",\"b1.bdstatic.com\":\"http://b1.bdstatic.com\",\"ss.bdimg.com\":\"http://ss.bdimg.com\",\"opendata.baidu.com\":\"http://opendata.baidu.com\",\"api.open.baidu.com\":\"http://api.open.baidu.com\",\"tag.baidu.com\":\"http://tag.baidu.com\",\"f3.baidu.com\":\"http://f3.baidu.com\",\"s.share.baidu.com\":\"http://s.share.baidu.com\",\"bdimg.share.baidu.com\":\"http://bdimg.share.baidu.com\",\"1.su.bdimg.com\":\"http://1.su.bdimg.com\",\"2.su.bdimg.com\":\"http://2.su.bdimg.com\",\"3.su.bdimg.com\":\"http://3.su.bdimg.com\",\"4.su.bdimg.com\":\"http://4.su.bdimg.com\",\"5.su.bdimg.com\":\"http://5.su.bdimg.com\",\"6.su.bdimg.com\":\"http://6.su.bdimg.com\",\"7.su.bdimg.com\":\"http://7.su.bdimg.com\",\"8.su.bdimg.com\":\"http://8.su.bdimg.com\"}\\n\\r\\n\\n    var get = function(url) {\\n        if(location.protocol === \"http\") {\\n            return url;\\n        }\\n        var reg = /^(http[s]?:\\\\/\\\\/)?([^\\\\/]+)(.*)/,\\n        matches = url.match(reg);\\n        url = list.hasOwnProperty(matches[2])&&(list[matches[2]] + matches[3]) || url;\\n        return url;\\n    },\\n    set = function(kdomain,vdomain) {\\n        list[kdomain] = vdomain;\\n    };\\n    return {\\n        get : get,\\n        set : set\\n    }\\n})();\\n</script>\\n\\n\\n\\n\\n<script type=\"text/javascript\" data-for=\"result\">function G(n){return document.getElementById(n)}function ns_c_pj(n,e){var t=encodeURIComponent(window.document.location.href),i=\"\",s=\"\",o=\"\",r=bds&&bds.comm&&bds.comm.did?bds.comm.did:\"\";wd=bds.comm.queryEnc,nsclickDomain=bds&&bds.util&&bds.util.domain?bds.util.domain.get(\"http://nsclick.baidu.com\"):\"http://nsclick.baidu.com\",img=window[\"BD_PS_C\"+(new Date).getTime()]=new Image,src=\"\";for(v in n){switch(v){case\"title\":s=encodeURIComponent(n[v].replace(/<[^<>]+>/g,\"\"));break;case\"url\":s=encodeURIComponent(n[v]);\\nbreak;default:s=n[v]}i+=v+\"=\"+s+\"&\"}if(o=\"&mu=\"+t,src=nsclickDomain+\"/v.gif?pid=201&\"+(e||\"\")+i+\"path=\"+t+\"&wd=\"+wd+\"&rsv_sid=\"+(bds.comm.ishome&&bds.comm.indexSid?bds.comm.indexSid:bds.comm.sid)+\"&rsv_did=\"+r+\"&t=\"+(new Date).getTime(),\"undefined\"!=typeof Cookie&&\"undefined\"!=typeof Cookie.get)Cookie.get(\"H_PS_SKIN\")&&\"0\"!=Cookie.get(\"H_PS_SKIN\")&&(src+=\"&rsv_skin=1\");else{var c=\"\";try{c=parseInt(document.cookie.match(new RegExp(\"(^| )H_PS_SKIN=([^;]*)(;|$)\"))[2])}catch(a){}c&&\"0\"!=c&&(src+=\"&rsv_skin=1\")\\n}return img.src=src,!0}function ns_c(n,e){return e===!0?ns_c_pj(n,\"pj=www&rsv_sample=1&\"):ns_c_pj(n,\"pj=www&\")}window.A||(window.bds=window.bds||{},bds.util=bds.util||{},bds.util.getWinWidth=function(){return window.document.documentElement.clientWidth},bds.util.setContainerWidth=function(){var n=G(\"container\"),e=G(\"wrapper\"),t=function(n,e){e.className=e.className.replace(n,\"\")},i=function(n,e){e.className=(e.className+\" \"+n).replace(/^\\\\s+/g,\"\")},s=function(n,e){return n.test(e.className)},o=1217;\\nbds.util.getWinWidth()<o?(n&&(t(/\\\\bcontainer_l\\\\b/g,n),s(/\\\\bcontainer_s\\\\b/,n)||i(\"container_s\",n)),e&&(t(/\\\\bwrapper_l\\\\b/g,e),s(/\\\\bwrapper_s\\\\b/,e)||i(\"wrapper_s\",e)),bds.comm.containerSize=\"s\"):(n&&(t(/\\\\bcontainer_s\\\\b/g,n),s(/\\\\bcontainer_l\\\\b/,n)||i(\"container_l\",n)),e&&(t(/\\\\bwrapper_s\\\\b/g,e),s(/\\\\bwrapper_l\\\\b/,e)||i(\"wrapper_l\",e)),bds.comm.containerSize=\"l\")},function(){var n=[],e=!1,t=function(n,e){try{n.call(e)}catch(t){}},i=function(){this.ids=[],this.has=!0,this.list=[],this.logs=[],this.loadTimes=[],this.groupData=[],this.mergeFns=[],this._currentContainer=null\\n};window.A=bds.aladdin={},t(i,window.A),bds.ready=function(i){\"function\"==typeof i&&(e?t(i):n.push(i))},bds.doReady=function(){for(e=!0;n.length;)t(n.shift())},bds.clearReady=function(){e=!1,n=[]},A.__reset=i;var s=function(){var n=document.getElementsByTagName(\"script\");return function(){var e=n[n.length-1];window.currentScriptElem&&(e=window.currentScriptElem);for(var t=e;t;){if(t.className&&/(?:^|\\\\s)result(?:-op)?(?:$|\\\\s)/.test(t.className)&&(tplname=t.getAttribute(\"tpl\")))return t;t=t.parentNode\\n}}}(),o=function(n,e,t){var i;if(n.initIndex?i=A.groupData[n.initIndex-1]:(i={container:n,data:{},handlers:[]},n.initIndex=A.groupData.length+1,A.groupData.push(i)),\"function\"==typeof e)i.handlers.push(e);else if(\"object\"==typeof e)for(var s in e)e.hasOwnProperty(s)&&(i.data[s]=e[s]);else i.data[e]=t};A.init=A.setup=function(n,e){if(void 0!==n&&null!==n){var t=A._currentContainer||s();t&&o(t,n,e)}},A.merge=function(n,e){A.mergeFns.push({tplName:n,fn:e})}}());</script>\\n\\n\\n\\t\\t\\n\\t<script data-for=\"result\">\\n    (function() {\\n        var perfkey = \\'headEnd\\';\\n        if (!perfkey) {\\n            return;\\n        }\\n        if (!window.__perf_www_datas) {\\n            window.__perf_www_datas = {};\\n        }\\n        var t = performance && performance.now && performance.now();\\n        window.__perf_www_datas[perfkey] = t;\\n    })();\\n</script>\\n\\n\\t</head>\\n\\t\\n\\n\\t<body link=\"#0000cc\">\\n\\t\\t\\n\\n\\n\\t\\t\\n\\t\\t<div id=\"wrapper\" class=\"wrapper_l wrapper_new\">\\n\\t\\t\\n\\t\\t\\t\\n\\n\\t\\t\\t\\n\\n\\t\\t\\t\\n\\n<script>if(window.bds&&bds.util&&bds.util.setContainerWidth){bds.util.setContainerWidth(1280);}</script><div id=\"head\"><div class=\"head_wrapper\"><div class=\"s_form\"><div class=\"s_form_wrapper\"><style>.index-logo-srcnew {display: none;}@media (-webkit-min-device-pixel-ratio: 2),(min--moz-device-pixel-ratio: 2),(-o-min-device-pixel-ratio: 2),(min-device-pixel-ratio: 2){.index-logo-src {display: none;}.index-logo-srcnew {display: inline;}}</style><div id=\"lg\"><img hidefocus=\"true\" src=\"//www.baidu.com/img/bd_logo1.png\" width=\"270\" height=\"129\"></div><a href=\"/\" id=\"result_logo\"  onmousedown=\"return c({\\'fm\\':\\'tab\\',\\'tab\\':\\'logo\\'})\"><img class=\\'index-logo-src\\' src=\"//www.baidu.com/img/flexible/logo/pc/result.png\" alt=\"到百度首页\" title=\"到百度首页\"><img class=\\'index-logo-srcnew\\' src=\"//www.baidu.com/img/flexible/logo/pc/result@2.png\" alt=\"到百度首页\" title=\"到百度首页\"><img class=\\'index-logo-peak\\' src=\"//www.baidu.com/img/flexible/logo/pc/peak-result.png\" alt=\"到百度首页\" title=\"到百度首页\"></a><form id=\"form\" name=\"f\" action=\"/s\" class=\"fm \"><input type=\"hidden\" name=\"ie\" value=\"utf-8\"><input type=\"hidden\" name=\"f\" value=\"8\"><input type=\"hidden\" name=\"rsv_bp\" value=\"1\"><input type=hidden name=ch value=\"\"><input type=hidden name=tn value=\"baidu\"><input type=hidden name=bar value=\"\"><span class=\"bg s_ipt_wr\"><input id=\"kw\" name=\"wd\" class=\"s_ipt\" value=\"asyncio\" maxlength=\"255\" autocomplete=\"off\"></span><span class=\"bg s_btn_wr\"><input type=\"submit\" id=\"su\" value=\"百度一下\" class=\"bg s_btn\"></span><span class=\"tools\"><span id=\"mHolder\"><div id=\"mCon\"><span>输入法</span></div><ul id=\"mMenu\"><li><a href=\"javascript:;\" name=\"ime_hw\">手写</a></li><li><a href=\"javascript:;\" name=\"ime_py\">拼音</a></li><li class=\"ln\"></li><li><a href=\"javascript:;\" name=\"ime_cl\">关闭</a></li></ul></span></span><input type=\"hidden\" name=\"oq\" value=\"asyncio\"><input type=\"hidden\" name=\"rsv_pq\" value=\"f7a917d100110472\"><input type=\"hidden\" name=\"rsv_t\" value=\"2fbaJm2o90J8hDOp0loIo8F+bsCqF0vARWutBXlg0vDK8+DqBaQnNa3UzyQ\"><input type=\"hidden\" name=\"rqlang\" value=\"cn\"></form><div id=\"m\"></div></div></div><div id=\"u\"><a class=\"toindex\" href=\"/\">百度首页</a><a href=\"javascript:;\" name=\"tj_settingicon\" class=\"pf\">设置<i class=\"c-icon c-icon-triangle-down\"></i></a><a href=\"https://passport.baidu.com/v2/?login&tpl=mn&u=http%3A%2F%2Fwww.baidu.com%2F\" name=\"tj_login\" class=\"lb\" onclick=\"return false;\">登录</a><div class=\"bdpfmenu\"></div></div><div id=\"u1\"><a href=\"https://voice.baidu.com/act/newpneumonia/newpneumonia/?from=osari_pc_1\" name=\"tj_trvirus\" id=\"virus-2020\" class=\"mnav sp\">抗击肺炎</a><a href=\"http://news.baidu.com\" name=\"tj_trnews\" class=\"mnav\">新闻</a><a href=\"https://www.hao123.com\" name=\"tj_trhao123\" class=\"mnav\">hao123</a><a href=\"http://map.baidu.com\" name=\"tj_trmap\" class=\"mnav\">地图</a><a href=\"http://v.baidu.com\" name=\"tj_trvideo\" class=\"mnav\">视频</a><a href=\"http://tieba.baidu.com\" name=\"tj_trtieba\" class=\"mnav\">贴吧</a><a href=\"http://xueshu.baidu.com\" name=\"tj_trxueshu\" class=\"mnav\">学术</a><a href=\"https://passport.baidu.com/v2/?login&tpl=mn&u=http%3A%2F%2Fwww.baidu.com%2F\" name=\"tj_login\" class=\"lb\" onclick=\"return false;\">登录</a><a href=\"http://www.baidu.com/gaoji/preferences.html\" name=\"tj_settingicon\" class=\"pf\">设置</a><a href=\"http://www.baidu.com/more/\" name=\"tj_briicon\" class=\"bri\" style=\"display: block;\">更多产品</a></div></div></div>\\n\\n\\n<script>\\r\\n/**\\r\\n * @description 图片base64加载\\r\\n * @author lizhouquan\\r\\n */\\r\\n\\r\\n\\r\\nbds.base64 = (function () {\\r\\n\\t//获取base64前置参数\\r\\n\\tvar _opt = bds._base64;\\r\\n\\r\\n\\t//内部数据;\\r\\n    var _containerAllId = \"container\",\\r\\n        _containerLeftId = \"content_left\",\\r\\n        _containerRightId = \"content_right\",\\r\\n\\t\\t_BOTTAGLSNAME = \"BASE64_BOTTAG\",\\r\\n        _domain = bds._base64.domain,   //base64图片服务域名\\r\\n        _imgWatch = [],             //图片加载观察list，如果没有onload，进行容错\\r\\n        _domLoaded = [],            //标识对应dom是否已下载\\r\\n        _data = [],                 //暂存请求回调数据\\r\\n        _dataLoaded = [],        //数据是否返回\\r\\n        _finish = [],            //是否已完成渲染\\r\\n        _hasSpImg = false,          //是否有左侧模板sp_img走base64加载\\r\\n        _expGroup = 0,              //左侧实验组\\r\\n        _reqTime = 0,              //请求开始时间\\r\\n        _reqEnd = 0,               //请求返回时间 - 右侧\\r\\n        _reqEndL = 0,               //请求返回时间 - 左侧\\r\\n        _rsst = 0,              \\t//请求开始时间 - 测速\\r\\n        _rest = 0,               \\t//请求返回时间 - 测速\\r\\n        _dt = 1,                   //domain类型\\r\\n\\t\\t_loadState = {},\\t\\t   //记录imglist的状态\\r\\n\\t\\t_hasPreload = 0,\\t\\t   //记录页面是否开启preload\\r\\n        _ispdc = false;            //是否开启了性能统计\\r\\n\\r\\n\\t//异步下发起下次搜索时重置变量\\r\\n\\tvar preXhrs = [],$ = window.$;\\r\\n\\tif($) {\\r\\n\\t\\t$(window).on(\"swap_begin\",function(){\\r\\n\\t\\t\\t_imgWatch = [];             //图片加载观察list，如果没有onload，进行容错\\r\\n\\t\\t\\t_domLoaded = [];            //标识对应dom是否已下载\\r\\n\\t\\t\\t_data = [];                 //暂存请求回调数据\\r\\n\\t\\t\\t_dataLoaded = [];        //数据是否返回\\r\\n\\t\\t\\t_finish = [];            //是否已完成渲染\\r\\n\\t\\t\\t_hasSpImg = false;          //是否有左侧模板sp_img走base64加载\\r\\n\\t\\t\\t_expGroup = 0;              //左侧实验组\\r\\n\\t\\t\\t_reqTime = 0;              //请求开始时间\\r\\n\\t\\t\\t_reqEnd = 0;               //请求返回时间 - 右侧\\r\\n\\t\\t\\t_reqEndL = 0;               //请求返回时间 - 左侧\\r\\n\\t\\t\\t_rsst = 0;                  //请求开始时间 - 测速\\r\\n\\t\\t\\t_rest = 0;                  //请求返回时间 - 测速\\r\\n\\t\\t\\t_dt = 1;                   //domain类型\\r\\n\\t\\t\\t_ispdc = false;            //是否开启了性能统计\\r\\n\\r\\n\\t\\t\\t//停止正在执行的base64回调操作\\r\\n\\t\\t\\tfor(var i = 0 ; i < preXhrs.length; i++) {\\r\\n\\t\\t\\t\\tpreXhrs[i].abort();\\r\\n\\t\\t\\t}\\r\\n\\t\\t});\\r\\n\\t}\\r\\n\\r\\n\\r\\n    //初始化方法\\r\\n    var init = function(imgRight,imgLeft,isPreload){\\r\\n        var imgArr = imgRight || [], imgArr2 = imgLeft || [];\\r\\n        if(window.__IS_IMG_PREFETCH){\\r\\n            //异步base64去重\\r\\n            function filter(img){\\r\\n                return !window.__IS_IMG_PREFETCH.hasOwnProperty(img);\\r\\n            }\\r\\n            imgArr=$.grep(imgArr,filter);\\r\\n            imgArr2=$.grep(imgArr2,filter);\\r\\n        }\\r\\n\\t\\tif(window.__IMG_PRELOAD && isPreload) {\\r\\n\\t\\t\\t//定义loadState，防止callback乱序\\r\\n\\t\\t\\t_loadState[\"cbr\"] = 0;\\r\\n\\t\\t\\t_loadState[\"cbpr\"] = 0;\\r\\n\\r\\n\\t\\t\\t_hasPreload = 1; //标记页面中有预取\\r\\n\\r\\n\\t\\t\\tvar imgPreloadList = window.__IMG_PRELOAD = {};\\r\\n\\t\\t\\tfor(var i = 0; i < imgArr.length; i++) {\\r\\n\\t\\t\\t   \\tif(!imgPreloadList.hasOwnProperty(imgArr[i])) {\\r\\n\\t\\t\\t\\t\\twindow.__IMG_PRELOAD[imgArr[i]] = true;\\r\\n\\t\\t\\t\\t}\\r\\n\\t\\t\\t}\\r\\n\\t\\t} else if(window.__IMG_PRELOAD && !isPreload) {\\r\\n\\t\\t\\t//同步base64右侧去重\\r\\n\\t\\t\\tvar tmpArr = [];\\r\\n\\t\\t\\tfor(var i = 0; i < imgArr.length; i++){\\r\\n\\t\\t\\t   \\tif(!window.__IMG_PRELOAD.hasOwnProperty(imgArr[i])) {\\r\\n\\t\\t\\t\\t\\ttmpArr.push(imgArr[i]);\\r\\n\\t\\t\\t\\t}\\r\\n\\t\\t\\t}\\r\\n\\t\\t\\timgArr = tmpArr;\\r\\n\\t\\t\\t//TODO\\r\\n\\t\\t\\t//提取出函数\\r\\n\\t\\t}\\r\\n\\t\\tif(_opt.b64Exp) {\\r\\n\\t\\t\\t_expGroup = _opt.b64Exp;\\r\\n\\t\\t\\tif(_expGroup == 1){\\r\\n\\t\\t\\t\\t_domain = \"http://b2.bdstatic.com/\"; /*base64 new domain sample deploy*/\\r\\n\\t\\t\\t\\t_dt = 2;\\r\\n\\t\\t\\t}\\r\\n\\t\\t}\\r\\n        _ispdc= _opt.pdc>0 ? true : false;\\r\\n\\t\\t_reqTime = new Date()*1;\\r\\n\\t\\tif(_expGroup==2){\\r\\n\\t\\t\\t//左右分别发请求\\r\\n\\t\\t\\tif(imgArr2.length>0){\\r\\n\\t\\t\\t\\t_hasSpImg = true;\\r\\n\\t\\t\\t\\tloadJs(_domain + \"image?imglist=\" + imgArr2.join(\",\") + \"&cb=bds.base64.cbl\");\\r\\n\\t\\t\\t}\\r\\n\\t\\t\\tif(!isPreload) {\\r\\n\\t\\t\\t\\tcbl({});\\r\\n\\t\\t\\t}\\r\\n\\t\\t}\\r\\n\\t\\tif(imgArr.length>0){\\r\\n\\t\\t\\t//发送请求\\r\\n\\t\\t\\tif(isPreload) {\\r\\n\\t\\t\\t\\tloadJs(_domain + \"image?imglist=\" + imgArr.join(\",\") + \"&cb=bds.base64.cbpr\");\\r\\n\\t\\t\\t} else {\\r\\n\\t\\t\\t\\tloadJs(_domain + \"image?imglist=\" + imgArr.join(\",\") + \"&cb=bds.base64.cbr\");\\r\\n\\t\\t\\t}\\r\\n\\t\\t\\tif(_ispdc){\\r\\n                if(bds.ready){\\r\\n                    bds.ready(function(){\\r\\n                        setTimeout(function(){\\r\\n                            var _bottag = botTag.get();\\r\\n                            var logstr = \"dt=\" + _dt + \"&time=\" + ((_reqEnd>0)?(_reqEnd-_reqTime):0) + \"&bot=\" + _bottag + \"&rcount=\" + imgArr.length;\\r\\n                            window._B64_REQ_LOG = ((_reqEnd>0)?(_reqEnd-_reqTime):0) + \"_\" + imgArr.length;\\r\\n                            if(_expGroup==2 && _reqEndL>0){\\r\\n                                var _apics = document.getElementById(\"ala_img_pics\");\\r\\n                                var _lcount = (_apics&&_apics.children)?_apics.children.length:0;\\r\\n                                logstr += \"&time2=\" + (_reqEndL-_reqTime) + \"&lcount=\" + _lcount;\\r\\n                            }\\r\\n                            if(Math.random()*100<10){\\r\\n                                sendLog(logstr);\\r\\n                            }\\r\\n                        }, 2000);\\r\\n                    });\\r\\n                }\\r\\n\\t\\t\\t}\\r\\n\\t\\t} else {\\r\\n\\t\\t\\tif(!isPreload) {\\r\\n\\t\\t\\t\\tcbr({});\\r\\n\\t\\t\\t}\\r\\n\\t\\t}\\r\\n\\t\\tif(imgArr.length>0 || imgArr2.length>0){\\r\\n\\t\\t\\tif(!isPreload) {\\r\\n\\t\\t\\t\\twatchReq(imgArr.length);\\r\\n\\t\\t\\t}\\r\\n\\t\\t}\\r\\n    };\\r\\n\\r\\n    //异步加载js\\r\\n    function crc32 (str) {\\r\\n        if(typeof str==\"string\"){\\r\\n            var i,crc=0,j=0;\\r\\n            for(i=0;i<str.length;i++){\\r\\n                j=i%20+1;\\r\\n                crc+=str.charCodeAt(i)<<j;\\r\\n            }\\r\\n            return Math.abs(crc);\\r\\n        }\\r\\n        return 0;\\r\\n    }\\r\\n    var loadJs = function (url) {\\r\\n        var matchs = url.match(/.*(bds\\\\.base64\\\\.cb[rl])/);\\r\\n        if(!matchs){\\r\\n            return;\\r\\n        }\\r\\n        var imglist=url.match(/imglist=([^&]*)/);\\r\\n        if(!imglist||!imglist[1]){\\r\\n            return;\\r\\n        }\\r\\n        //see b64_base_popstate.js, this just sync result page\\r\\n        callback_name=crc32(imglist[1].replace(/,/g,\"\"));\\r\\n        callback_name=\"cb_\"+(callback_name+\"\").substr(Math.max(0,callback_name.length-8),8)+\"_0\";\\r\\n        window[callback_name]=function(data){\\r\\n            if(matchs[1] == \"bds.base64.cbr\") {\\r\\n                cbr(data);\\r\\n            }else if(matchs[1] == \"bds.base64.cbl\") {\\r\\n                cbl(data);\\r\\n            }\\r\\n            window[callback_name]=null;\\r\\n        };\\r\\n        var url = matchs[0].replace(/bds\\\\.base64\\\\.cb[rl]/,callback_name);\\r\\n\\r\\n        var a = document.createElement(\"script\");\\r\\n        a.setAttribute(\"type\", \"text/javascript\");\\r\\n        a.setAttribute(\"src\", url);\\r\\n        a.setAttribute(\"defer\", \"defer\");\\r\\n        a.setAttribute(\"async\", \"true\");\\r\\n        document.getElementsByTagName(\"head\")[0].appendChild(a);\\r\\n    };\\r\\n\\r\\n    //图片回填\\r\\n    var imgLoad = function(data,side){\\r\\n        if(_finish[side]){\\r\\n            return;\\r\\n        }\\r\\n        _finish[side] = true;\\r\\n\\t\\tif(side==\"right\"){\\r\\n\\t\\t\\tbotTag.ot(false); //设置超时标记减1.\\r\\n\\t\\t}\\r\\n        //获取所有图片，通过data-base64-id属性获取需要回填的图片\\r\\n        var imgs = document.getElementById(_expGroup!=1?((side==\"left\")?_containerLeftId:_containerRightId):_containerAllId).getElementsByTagName(\"IMG\");\\r\\n        for(var i=0;i<imgs.length;i++){\\r\\n            var b64Id = imgs[i].getAttribute(\"data-b64-id\");\\r\\n            if(b64Id){\\r\\n                var find = false;\\r\\n\\t\\t\\t\\tif(data.hasOwnProperty(b64Id)) {\\r\\n                    setSrc(imgs[i],data[b64Id]);\\r\\n\\t\\t\\t\\t\\tfind = true;\\r\\n\\t\\t\\t\\t}\\r\\n                if(!find){\\r\\n                    //小容错\\r\\n                    failover(imgs[i]);\\r\\n                }\\r\\n            }\\r\\n        }\\r\\n        fail_ie7();\\r\\n    };\\r\\n    function fail_ie7(){\\r\\n        //外层容错 IE7\\r\\n        setTimeout(function(){\\r\\n            for( var i=0; i<_imgWatch.length; i++ ){\\r\\n                var n = _imgWatch[i];\\r\\n                if(!n.loaded){\\r\\n                    failover(n.obj);\\r\\n                }\\r\\n            }\\r\\n            _imgWatch=[];\\r\\n        },200);\\r\\n    }\\r\\n    function setSrc(img,data){\\r\\n        try{\\r\\n            img.onerror = function(){\\r\\n                failover(this);\\r\\n            };\\r\\n\\r\\n            //标记监视，供容错检查\\r\\n            _imgWatch.push({\\r\\n                obj:img,\\r\\n                loaded:false\\r\\n            });\\r\\n\\r\\n            img.onload = function(){\\r\\n                //标记已加载\\r\\n                for( var i=0; i<_imgWatch.length; i++ ){\\r\\n                    var m = _imgWatch[i];\\r\\n                    if(m.obj == this){\\r\\n                        m.loaded = true;\\r\\n                    }\\r\\n                }\\r\\n            };\\r\\n            img.src = \"data:image\\\\/jpeg;base64,\" + data;\\r\\n        }catch(e){\\r\\n            //触发exception\\r\\n            failover(img);\\r\\n        }\\r\\n    }\\r\\n\\r\\n    //容错，回填原始src\\r\\n    var failover = function(img){\\r\\n        if(img.getAttribute(\"data-b64-id\")!=null && img.getAttribute(\"data-b64-id\")!=\"\" && img.getAttribute(\"data-src\")!=null){\\r\\n            img.src = img.getAttribute(\"data-src\");\\r\\n        }\\r\\n    };\\r\\n\\r\\n    var watchReq = function(len){\\r\\n        var wt = 1250;\\r\\n        if(len<6){\\r\\n            wt = 1000;\\r\\n        }else if(len>10){\\r\\n            wt = 1500;\\r\\n        }\\r\\n        setTimeout(function(){\\r\\n            if( !_dataLoaded[\"right\"] ){\\r\\n                var imgs = document.getElementById(_containerRightId).getElementsByTagName(\"IMG\");\\r\\n                for(var i=0;i<imgs.length;i++){\\r\\n                    failover(imgs[i]);\\r\\n                }\\r\\n\\t\\t\\t\\t_finish[\"right\"] = true;\\r\\n\\t\\t\\t\\t//设置超时标记\\r\\n\\t\\t\\t\\tbotTag.ot(true);\\r\\n            }\\r\\n\\t\\t\\tsetTimeout(function(){\\r\\n\\t\\t\\t\\tif(_hasSpImg && !_dataLoaded[\"left\"]){\\r\\n                \\tvar imgs = document.getElementById(_containerLeftId).getElementsByTagName(\"IMG\");\\r\\n                \\tfor(var i=0;i<imgs.length;i++){\\r\\n                    \\tfailover(imgs[i]);\\r\\n               \\t\\t}\\r\\n\\t\\t\\t\\t\\t_finish[\"left\"] = true;\\r\\n            \\t}\\r\\n\\t\\t\\t},500);\\r\\n        },wt);\\r\\n    };\\r\\n\\r\\n\\t/**\\r\\n\\t * base64网速检测标记\\r\\n\\t *   超时次数变量 BOT\\r\\n\\t *   初始：0\\r\\n\\t *   范围：0-6\\r\\n\\t *   变换规则：\\r\\n\\t *       每次超时，BOT +1;\\r\\n\\t * \\t\\t 每次正常：BOT -1;\\r\\n\\t *       到达边界值时，不再继续增加/减少\\r\\n\\t *\\t 如何使用：（未上线）\\r\\n\\t *   \\t BOT大于3时，设置cookie: B64_BOT=1，VUI针对本次请求，读cookie，如果B64_BOT=1，关闭base64服务\\r\\n\\t *       当BOT小于3时，设置cookie: B64_BOT=0，VUI正常开启base64服务。\\r\\n\\t */\\r\\n\\tvar botTag = {\\r\\n\\t\\tot : function(isInc){\\r\\n\\t\\t\\tvar _bottag = botTag.get();\\r\\n\\t\\t\\tif(isInc){\\r\\n\\t\\t\\t\\tif(_bottag<6){\\r\\n\\t\\t\\t\\t\\t_bottag++;\\r\\n\\t\\t\\t\\t}\\r\\n\\t\\t\\t}else{\\r\\n\\t\\t\\t\\tif(_bottag>0){\\r\\n\\t\\t\\t\\t\\t_bottag--;\\r\\n\\t\\t\\t\\t}\\r\\n\\t\\t\\t}\\r\\n\\t\\t\\tif( _bottag>=2 ){\\r\\n\\t\\t\\t\\tvar date = new Date();\\r\\n\\t\\t\\t\\tdate.setTime(date.getTime() + 24*3600*1000*5);\\r\\n\\t\\t\\t\\t//此处设置cookie\\r\\n\\t\\t\\t\\tdocument.cookie = \"B64_BOT=1; expires=\" + date.toGMTString();\\r\\n\\t\\t\\t\\t//_bottag = 0;\\r\\n\\t\\t\\t}else if( _bottag<1 ){\\r\\n\\t\\t\\t    if(document.cookie.match(\\'B64_BOT=1\\')){\\r\\n\\t\\t\\t\\t\\tdocument.cookie = \"B64_BOT=0;\";\\r\\n\\t\\t\\t\\t}\\r\\n\\t\\t\\t}\\r\\n\\t\\t\\ttry{\\r\\n\\t\\t\\t\\tif(window.localStorage){\\r\\n\\t\\t\\t\\t\\twindow.localStorage[_BOTTAGLSNAME] = _bottag;\\r\\n\\t\\t\\t\\t}\\r\\n\\t\\t\\t}catch(e){}\\r\\n\\t\\t},\\r\\n\\t\\tget : function(){\\r\\n\\t\\t\\ttry{\\r\\n\\t\\t\\t\\tif(window.localStorage){\\r\\n\\t\\t\\t\\t\\tvar _bottag = window.localStorage[_BOTTAGLSNAME];\\r\\n\\t\\t\\t\\t\\t\\t_bottag = _bottag?parseInt(_bottag):0;\\r\\n\\t\\t\\t\\t}else{\\r\\n\\t\\t\\t\\t\\treturn 0;\\r\\n\\t\\t\\t\\t}\\r\\n\\t\\t\\t\\treturn _bottag;\\r\\n\\t\\t\\t}catch(e){\\r\\n\\t\\t\\t\\treturn 0;\\r\\n\\t\\t\\t}\\r\\n\\t\\t}\\r\\n\\t};\\r\\n\\r\\n    //请求回调方法 - 右侧\\r\\n    var cbr = function(data){\\r\\n        _reqEnd = new Date()*1;\\r\\n        if(_ispdc && bds.comm && _reqTime>0 && _reqEnd>0){\\r\\n            bds.comm.cusval = \"b64_\" + _dt + \"_\" + ( _reqEnd - _reqTime );\\r\\n        }\\r\\n\\t\\t_loadState[\"cbr\"] = 1;\\r\\n        callback(data, \"right\");\\r\\n    };\\r\\n\\r\\n    //请求回调方法 - 左侧\\r\\n    var cbl = function(data){\\r\\n\\t\\t_reqEndL = new Date()*1;\\r\\n        callback(data, \"left\");\\r\\n    };\\r\\n\\r\\n    //请求回调方法 - 预取\\r\\n    var cbpr = function(data){\\r\\n\\t\\t_loadState[\"cbpr\"] = 1;\\r\\n        callback(data, \"right\");\\r\\n    };\\r\\n\\r\\n\\tvar callback = function(data, side){\\r\\n\\t\\t_dataLoaded[side] = _hasPreload ? (_loadState.cbpr && _loadState.cbr) : true;\\r\\n\\r\\n\\t\\tif(data) {\\r\\n\\t\\t\\tif(_data[side] === undefined) {_data[side] = {}};\\r\\n\\t\\t\\tfor(var key in data) {\\r\\n\\t\\t\\t\\tif(data.hasOwnProperty(key)) {\\r\\n\\t\\t\\t\\t\\t_data[side][key] = data[key];\\r\\n\\t\\t\\t\\t}\\r\\n\\t\\t\\t}\\r\\n        }\\r\\n        if(_domLoaded[side] && _dataLoaded[side]){\\r\\n            imgLoad(_data[side], side);\\r\\n        }\\r\\n    };\\r\\n\\r\\n    //设置Dom加载完成\\r\\n    var setDomLoad = function(side){\\r\\n        _domLoaded[side] = true;\\r\\n        if(_dataLoaded[side]){\\r\\n            imgLoad(_data[side],side);\\r\\n        }\\r\\n    };\\r\\n\\r\\n\\tvar predictImg = false; //右侧base64图片是否预取\\r\\n\\r\\n\\t//发送日志\\r\\n    var sendLog = function (src) {\\r\\n        var loghost = \"http://nsclick.baidu.com/v.gif?pid=315&rsv_yc_log=3&\";\\r\\n\\r\\n        var n = \"b64log__\" + (new Date()).getTime(),\\r\\n            c = window[n] = new Image();\\r\\n            c.onload = (c.onerror = function () {\\r\\n                window[n] = null;\\r\\n            });\\r\\n        c.src = loghost + src + \"&_t=\" + new Date()*1; //LOG统计地址\\r\\n        c = null; //释放变量c，避免产生内存泄漏的可能\\r\\n    };\\r\\n\\r\\n\\r\\n\\t//定义测速函数:\\r\\n\\t//请求回调 - 测速\\r\\n\\tcbs = function(data){\\r\\n\\t\\t_rest = new Date()*1;\\r\\n\\t\\tif( (_rest - _rsst) < 1500 ){\\r\\n\\t\\t\\tbotTag.ot(false);\\r\\n\\t\\t}else{\\r\\n\\t\\t\\tbotTag.ot(true);\\r\\n\\t\\t}\\r\\n\\t};\\r\\n\\r\\n\\t//测试速度\\r\\n\\tts = function(){\\r\\n\\t\\t_expGroup = 3;\\r\\n\\t\\t_rsst = new Date()*1;\\r\\n\\t\\tloadJs(_domain + \"image?imglist=1241886729_3226161681_58,1072899117_2953388635_58,2469877062_2085031320_58,155831992_309216365_58,2539127170_1607411613_58,1160777122_283857721_58,1577144716_3149119526_58,2339041784_1038484334_58&cb=bds.base64.cbs\");\\r\\n\\t};\\r\\n\\r\\n    return {\\r\\n        init : init,\\r\\n        cbl : cbl,\\r\\n        cbr : cbr,\\r\\n        cbpr : cbpr,\\r\\n        setDomLoad : setDomLoad,\\r\\n\\t\\tcbs : cbs,\\r\\n\\t\\tts : ts,\\r\\n\\t\\tpredictImg : predictImg\\r\\n    }\\r\\n})();\\r\\n\\r\\n</script>\\r\\n\\n<script>\\n/* 图片预取、base64预取代码 */\\n\\n</script>\\n\\n\\t\\t\\t\\n\\n<!--cxy_all+baidu+b96b7d860ac3b5dcb5eae5777e1dbf29+0000000000000000000000000000000000000000202978-->\\r\\n\\r\\n\\r\\n\\r\\n\\r\\n\\r\\n\\r\\n\\r\\n\\r\\n\\r\\n\\r\\n\\r\\n\\r\\n\\r\\n\\r\\n\\r\\n\\r\\n\\r\\n\\r\\n\\r\\n\\r\\n\\r\\n\\r\\n\\r\\n\\r\\n\\r\\n\\r\\n\\r\\n\\r\\n\\r\\n\\r\\n\\r\\n\\r\\n\\r\\n\\r\\n\\r\\n\\r\\n\\r\\n\\r\\n\\r\\n\\r\\n\\r\\n\\r\\n\\r\\n\\r\\n\\r\\n\\r\\n\\r\\n\\r\\n\\r\\n\\r\\n\\r\\n\\r\\n\\r\\n\\r\\n\\t\\r\\n\\r\\n\\r\\n\\r\\n\\r\\n\\r\\n\\r\\n                    \\r\\n\\r\\n\\r\\n\\r\\n\\r\\n    \\n\\n\\n\\n\\n\\n\\n\\n\\n\\t\\t\\t\\t\\t\\t\\t\\t\\t\\t\\n\\n\\t\\t\\n\\n\\n\\n\\n\\n\\n\\n\\t\\t\\t\\n\\n\\n\\n\\n\\n\\n\\n\\n\\n\\n\\n\\n\\n\\n\\n\\n\\n\\n\\n\\n\\n\\n\\n\\n\\n\\n\\n\\t\\t\\t\\n\\n\\n            \\n\\t            \\n                                                     <div class=\"s_tab\" id=\"s_tab\"><div class=\"s_tab_inner\"><b class=\"cur-tab\">网页</b><a href=\"https://www.baidu.com/s?rtt=1&bsst=1&cl=2&tn=news&ie=utf-8&word=asyncio\" wdfield=\"word\"  onmousedown=\"return c({\\'fm\\':\\'tab\\',\\'tab\\':\\'news\\'})\" sync=\"true\" class=\"s-tab-item s-tab-news\">资讯</a><a href=\"/sf/vsearch?pd=video&tn=vsearch&lid=f7a917d100110472&ie=utf-8&wd=asyncio&rsv_spt=7&rsv_bp=1&f=8&oq=asyncio&rsv_pq=f7a917d100110472&rsv_t=d13cMJoygz%2F6S9WA%2Bl57AgruQA5JkrrBphuU%2BCoVIY4NzNOYBnWxfUExBO4\"  onmousedown=\"return c({\\'fm\\':\\'tab\\',\\'tab\\':\\'video\\'})\"  class=\"s-tab-item s-tab-video\">视频</a><a href=\"http://image.baidu.com/i?tn=baiduimage&ps=1&ct=201326592&lm=-1&cl=2&nc=1&ie=utf-8&word=asyncio\" wdfield=\"word\"  onmousedown=\"return c({\\'fm\\':\\'tab\\',\\'tab\\':\\'pic\\'})\"  class=\"s-tab-item s-tab-pic\">图片</a><a href=\"http://zhidao.baidu.com/q?ct=17&pn=0&tn=ikaslist&rn=10&fr=wwwt&ie=utf-8&word=asyncio\" wdfield=\"word\"  onmousedown=\"return c({\\'fm\\':\\'tab\\',\\'tab\\':\\'zhidao\\'})\"  class=\"s-tab-item s-tab-zhidao\">知道</a><a href=\"http://wenku.baidu.com/search?lm=0&od=0&ie=utf-8&word=asyncio\" wdfield=\"word\"  onmousedown=\"return c({\\'fm\\':\\'tab\\',\\'tab\\':\\'wenku\\'})\"  class=\"s-tab-item s-tab-wenku\">文库</a><a href=\"http://tieba.baidu.com/f?fr=wwwt&ie=utf-8&kw=asyncio\" wdfield=\"kw\"  onmousedown=\"return c({\\'fm\\':\\'tab\\',\\'tab\\':\\'tieba\\'})\"  class=\"s-tab-item s-tab-tieba\">贴吧</a><a href=\"https://map.baidu.com/?newmap=1&ie=utf-8&s=s%26wd%3Dasyncio\"  onmousedown=\"return c({\\'fm\\':\\'tab\\',\\'tab\\':\\'map\\'})\"  class=\"s-tab-item s-tab-map\">地图</a><a href=\"https://b2b.baidu.com/s?fr=wwwt&q=asyncio\" wdfield=\"q\"  onmousedown=\"return c({\\'fm\\':\\'tab\\',\\'tab\\':\\'b2b\\'})\"  class=\"s-tab-item s-tab-b2b\">采购</a><a href=\"http://www.baidu.com/more/\"  onmousedown=\"return c({\\'fm\\':\\'tab\\',\\'tab\\':\\'more\\'})\"  class=\"s-tab-item s-tab-more\">更多</a></div>\\n</div>\\n\\n\\n\\t\\t\\t\\t\\n    \\n\\t\\t\\t\\t\\n<div id=\"content_style\">\\n    \\n\\t\\n\\t\\t\\t\\n\\t\\n\\t\\t<!--47b7c7f9c43df831ab8e426012f79bd3-->\\n\\t\\t<!--[if IE 8]>\\n\\t\\t<style>\\n\\t\\t   .c-input input{padding-top:4px;}\\n\\t\\t   .baozhang-new-v2{background-image: url(http://s1.bdstatic.com/r/www/cache/static/global/img/pc-bao-2-small_f609346.png);background-repeat:no-repeat;width:42px;height:15px;top:0;}\\n\\t\\t   .c-trust-as.baozhang-new-v2 i{background:none;}\\n\\t\\t   .baozhang-new-v2 + .c-trust-as a{top:0!important;}\\n\\t\\t</style>\\n\\t\\t<![endif]-->\\n\\t\\t\\n\\t\\t\\t<style>\\n\\t\\t\\t    \\t\\t\\t\\t\\t\\t\\t\\t\\t\\t\\t .opr-toplist1-title{position:relative;margin-bottom:.5px}.opr-toplist1-table .opr-toplist1-right{text-align:right;white-space:nowrap}.opr-toplist1-table .c-index{min-width:14px;width:auto}.opr-toplist1-from{text-align:right}.opr-toplist1-from a{text-decoration:none}.opr-toplist1-new{position:relative;top:1px}.opr-toplist1-st{margin-bottom:2px;margin-left:3px}.opr-toplist1-update{float:right}.opr-toplist1-refresh{font-size:13px;font-weight:400;text-decoration:none}.opr-toplist1-refresh .opr-toplist1-icon{background:url(//www.baidu.com/aladdin/tpl/right_toplist1/refresh.png) 0 0/100% 100% no-repeat;margin-left:3px;width:16px;height:16px}.container_s .opr-toplist1-right-hot{display:none}.opr-toplist1-cut{white-space:nowrap;text-overflow:ellipsis;overflow:hidden;vertical-align:middle;display:inline-block}.container_s .opr-toplist1-cut{max-width:217px}.container_l .opr-toplist1-cut{max-width:247px}.opr-toplist1-hot-refresh-icon{font-size:16px;height:18px;width:18px;margin-right:2px;color:#4E6EF2}.toplist1-hot-normal{color:#626675;background-image:url(https://t9.baidu.com/it/u=989233051,2337699629&fm=179&app=35&f=PNG?w=18&h=18)}@media only screen and (-webkit-min-device-pixel-ratio:2){.toplist1-hot-normal{width:18px!important;color:#626675;background-image:url(https://t9.baidu.com/it/u=2109628096,2261509067&fm=179&app=35&f=PNG?w=36&h=36&s=4AAA3C62C9CBC1221CD5D1DA0300C0B1)}}.toplist1-right-num{float:right;padding-right:0}.toplist1-td{padding-top:5px!important;padding-bottom:5px!important;border:none!important;height:20px;line-height:20px!important}.toplist1-hot{display:inline-block;width:16px;height:22px;line-height:22px;*line-height:23px;float:left;font-size:16px;background:0 0;margin-right:4px}.toplist1-hot-top{color:#fff}.opr-toplist1-subtitle{max-width:260px;white-space:nowrap;text-overflow:ellipsis;overflow:hidden;vertical-align:middle;display:inline-block;-webkit-line-clamp:1}.container_s .toplist1-right-num{display:none}.container_s .toplist1-tr{white-space:nowrap;text-overflow:ellipsis;overflow:hidden}.opr-toplist1-link a:link{color:#2440B3}.opr-toplist1-link a:visited{color:#771CAA}.opr-toplist1-link a:hover{color:#315EFB}.opr-toplist1-link a:active{color:#F73131}.opr-toplist1-m-b-5{margin-bottom:5px}.opr-toplist1-link .opr-toplist1-color-t:link{color:#222}.opr-toplist1-table .opr-toplist1-link .opr-toplist1-color-t:hover{color:#315EFB;text-decoration:none}.opr-toplist1-link a:hover .opr-toplist1-hot-refresh-icon{color:#315EFB}.opr-toplist1-label{margin-left:3px}.opr-toplist1-one-font{position:relative;left:-1px}\\n\\t\\t\\t\\t\\t\\t\\t\\t    \\t\\t\\t</style>\\n\\t\\t\\n\\n\\t\\t                \\t\\n</div>\\n\\n\\t            \\n    \\n\\n\\t           \\t<div id=\"wrapper_wrapper\">\\n\\t\\t\\t\\t\\n\\t <script id=\"head_script\">\\n        bds.comm.newagile = \"1\";\\n        bds.comm.jsversion = \"006\";\\n \\t\\tbds.comm.domain = \"http://www.baidu.com\";\\n        bds.comm.ubsurl = \"http://sclick.baidu.com/w.gif\";\\n        bds.comm.tn = \"baidu\";\\n        bds.comm.tng = \"organic\";\\n        bds.comm.queryEnc = \"asyncio\";\\n        bds.comm.queryId = \"f7a917d100110472\";\\n        bds.comm.inter = \"\";\\n        bds.comm.resTemplateName = \"baidu\";\\n        bds.comm.sugHost = \"http://suggestion.baidu.com/su\";\\n        bds.comm.ishome = 0;\\n        bds.comm.query = \"asyncio\";\\n        bds.comm.qid = \"f7a917d100110472\";\\n        bds.comm.eqid = \"f7a917d1001104720000000660caee3d\";\\t\\n        bds.comm._se_click_track_flag = \"\";\\t\\n        bds.comm.cid = \"0\";\\n\\n        bds.comm.sid = \"34099_33848_33607\";\\n        bds.comm.sampleval = [];\\n        bds.comm.stoken = \"\";\\n        bds.comm.serverTime = \"1623911997\";\\n        bds.comm.user = \"\";\\n        bds.comm.username = \"\";\\n        bds.comm.isUserLogin = \"0\";\\n        bds.comm.userid = bds.comm.isUserLogin;\\n\\t\\tbds.comm.__rdNum = \"7831\";\\n        bds.comm.useFavo = \"\";\\n        bds.comm.pinyin = \"asyncio\";\\n        bds.comm.favoOn = \"\";\\n        bds.comm.speedInfo = \"[{\\\\\"ModuleId\\\\\":9537,\\\\\"TimeCost\\\\\":150.5,\\\\\"TimeSelf\\\\\":18.44},{\\\\\"ModuleId\\\\\":9540,\\\\\"TimeCost\\\\\":-1,\\\\\"TimeSelf\\\\\":-1,\\\\\"Idc\\\\\":\\\\\"5\\\\\"},{\\\\\"ModuleId\\\\\":9527,\\\\\"TimeCost\\\\\":119.36,\\\\\"TimeSelf\\\\\":27.92,\\\\\"isHitCache\\\\\":true,\\\\\"SubProcess\\\\\":[{\\\\\"ProcessId\\\\\":9531,\\\\\"TimeCost\\\\\":0,\\\\\"isHitCache\\\\\":true},{\\\\\"ProcessId\\\\\":9536,\\\\\"TimeCost\\\\\":11.22,\\\\\"isHitCache\\\\\":false},{\\\\\"ProcessId\\\\\":9535,\\\\\"TimeCost\\\\\":22.48,\\\\\"isHitCache\\\\\":false},{\\\\\"ProcessId\\\\\":9532,\\\\\"TimeCost\\\\\":68.96}]}]\";\\n        bds.comm.topHijack = null;\\n        bds.comm.isDebug = false;\\n\\t\\t\\n        \\n        \\n        \\n        \\n                                                                                                                                                            \\n        bds.comm.iaurl=[\"https:\\\\/\\\\/docs.python.org\\\\/3\\\\/library\\\\/asyncio.html\",\"https:\\\\/\\\\/www.cnblogs.com\\\\/ghl666\\\\/p\\\\/11317829.html\",\"https:\\\\/\\\\/blog.csdn.net\\\\/weixin_39643613\\\\/article\\\\/details\\\\/109168894\"];\\n\\n\\t\\tbds.comm.curResultNum = \"10\";\\n    \\tbds.comm.rightResultExist = false;\\n    \\tbds.comm.protectNum = 0;\\n    \\tbds.comm.zxlNum = 0;\\n        bds.comm.pageNum = parseInt(\\'3\\')||1;\\n\\n\\t\\t\\n        bds.comm.pageSize = parseInt(\\'10\\')||10;\\n\\tbds.comm.encTn = \\'d13cMJoygz/6S9WA+l57AgruQA5JkrrBphuU+CoVIY4NzNOYBnWxfUExBO4\\';\\t\\t\\n        bds.se.mon = {\\'loadedItems\\':[],\\'load\\':function(){},\\'srvt\\':-1};\\n        try {\\n            bds.se.mon.srvt = parseInt(document.cookie.match(new RegExp(\"(^| )BDSVRTM=([^;]*)(;|$)\"))[2]);\\n            document.cookie=\"BDSVRTM=;expires=Sat, 01 Jan 2000 00:00:00 GMT\";\\n        }catch(e){\\n            bds.se.mon.srvt=-1;\\n        }\\n\\n        bdUser        = bds.comm.user?bds.comm.user:null;\\n        bdQuery       = bds.comm.query;\\n        bdUseFavo     = bds.comm.useFavo;\\n        bdFavoOn      = bds.comm.favoOn;\\n        bdCid         = bds.comm.cid;\\n        bdSid         = bds.comm.sid;\\n        bdServerTime  = bds.comm.serverTime;\\n        bdQid         = bds.comm.queryId;\\n        bdstoken      = bds.comm.stoken;\\n\\t\\t_eclipse = \"1\";\\t\\n        login_success = [];\\n\\n        bds.comm.seinfo = {\\'fm\\':\\'se\\',\\'T\\':\\'1623911997\\',\\'y\\':\\'74F6BE7F\\',\\'rsv_cache\\': (bds.se.mon.srvt>0)?0:1 };\\n        bds.comm.cgif = \"http://c.baidu.com/c.gif?t=0&q=asyncio&p=0&pn=3\";\\n\\n\\t\\tbds.comm.upn = null;\\n                    bds.comm.urlRecFlag = \"0\";\\n                bds.comm.asyncRecFlagMap = {\"1\":1,\"2\":1,\"3\":1,\"4\":1,\"5\":1,\"6\":1,\"7\":1,\"8\":1,\"9\":1,\"10\":1};\\n\\n                    bds.comm.bfe_sample=null;\\n                \\n\\t\\t(function() {\\n\\t\\t\\tif(bds&&bds.util&&bds.util.domain) {\\n\\t\\t\\t\\tvar domainUtil = bds.util.domain;\\n                var list = {\"graph.baidu.com\": \"http://graph.baidu.com\",\"p.qiao.baidu.com\":\"http://p.qiao.baidu.com\",\"vse.baidu.com\":\"http://vse.baidu.com\",\"hdpreload.baidu.com\":\"http://hdpreload.baidu.com\",\"lcr.open.baidu.com\":\"//pcrec.baidu.com\",\"kankan.baidu.com\":\"http://kankan.baidu.com\",\"xapp.baidu.com\":\"http://xapp.baidu.com\",\"dr.dh.baidu.com\":\"http://dr.dh.baidu.com\",\"xiaodu.baidu.com\":\"http://xiaodu.baidu.com\",\"sensearch.baidu.com\":\"http://sensearch.baidu.com\",\"s1.bdstatic.com\":\"http://s1.bdstatic.com\",\"olime.baidu.com\":\"http://olime.baidu.com\",\"app.baidu.com\":\"http://app.baidu.com\",\"i.baidu.com\":\"http://i.baidu.com\",\"c.baidu.com\":\"http://c.baidu.com\",\"sclick.baidu.com\":\"http://sclick.baidu.com\",\"nsclick.baidu.com\":\"http://nsclick.baidu.com\",\"sestat.baidu.com\":\"http://sestat.baidu.com\",\"eclick.baidu.com\":\"http://eclick.baidu.com\",\"api.map.baidu.com\":\"http://api.map.baidu.com\",\"ecma.bdimg.com\":\"http://ecma.bdimg.com\",\"ecmb.bdimg.com\":\"http://ecmb.bdimg.com\",\"t1.baidu.com\":\"http://t1.baidu.com\",\"t2.baidu.com\":\"http://t2.baidu.com\",\"t3.baidu.com\":\"http://t3.baidu.com\",\"t10.baidu.com\":\"http://t10.baidu.com\",\"t11.baidu.com\":\"http://t11.baidu.com\",\"t12.baidu.com\":\"http://t12.baidu.com\",\"i7.baidu.com\":\"http://i7.baidu.com\",\"i8.baidu.com\":\"http://i8.baidu.com\",\"i9.baidu.com\":\"http://i9.baidu.com\",\"b1.bdstatic.com\":\"http://b1.bdstatic.com\",\"ss.bdimg.com\":\"http://ss.bdimg.com\",\"opendata.baidu.com\":\"http://opendata.baidu.com\",\"api.open.baidu.com\":\"http://api.open.baidu.com\",\"tag.baidu.com\":\"http://tag.baidu.com\",\"f3.baidu.com\":\"http://f3.baidu.com\",\"s.share.baidu.com\":\"http://s.share.baidu.com\",\"bdimg.share.baidu.com\":\"http://bdimg.share.baidu.com\",\"1.su.bdimg.com\":\"http://1.su.bdimg.com\",\"2.su.bdimg.com\":\"http://2.su.bdimg.com\",\"3.su.bdimg.com\":\"http://3.su.bdimg.com\",\"4.su.bdimg.com\":\"http://4.su.bdimg.com\",\"5.su.bdimg.com\":\"http://5.su.bdimg.com\",\"6.su.bdimg.com\":\"http://6.su.bdimg.com\",\"7.su.bdimg.com\":\"http://7.su.bdimg.com\",\"8.su.bdimg.com\":\"http://8.su.bdimg.com\"}\\n\\r\\n;\\n\\t\\t\\t\\tfor(var i in list) {\\n\\t\\t\\t\\t\\tdomainUtil.set(i,list[i]);\\n\\t\\t\\t\\t}\\n\\t\\t\\t}\\n\\t\\t})();\\n\\n                        bds.comm.samContentNewStyle = 1;\\n                    </script>\\n<script type=\"application/json\" id=\"httpsdomain-data\" data-for=\"result-data\">\\n    {\"graph.baidu.com\": \"http://graph.baidu.com\",\"p.qiao.baidu.com\":\"http://p.qiao.baidu.com\",\"vse.baidu.com\":\"http://vse.baidu.com\",\"hdpreload.baidu.com\":\"http://hdpreload.baidu.com\",\"lcr.open.baidu.com\":\"//pcrec.baidu.com\",\"kankan.baidu.com\":\"http://kankan.baidu.com\",\"xapp.baidu.com\":\"http://xapp.baidu.com\",\"dr.dh.baidu.com\":\"http://dr.dh.baidu.com\",\"xiaodu.baidu.com\":\"http://xiaodu.baidu.com\",\"sensearch.baidu.com\":\"http://sensearch.baidu.com\",\"s1.bdstatic.com\":\"http://s1.bdstatic.com\",\"olime.baidu.com\":\"http://olime.baidu.com\",\"app.baidu.com\":\"http://app.baidu.com\",\"i.baidu.com\":\"http://i.baidu.com\",\"c.baidu.com\":\"http://c.baidu.com\",\"sclick.baidu.com\":\"http://sclick.baidu.com\",\"nsclick.baidu.com\":\"http://nsclick.baidu.com\",\"sestat.baidu.com\":\"http://sestat.baidu.com\",\"eclick.baidu.com\":\"http://eclick.baidu.com\",\"api.map.baidu.com\":\"http://api.map.baidu.com\",\"ecma.bdimg.com\":\"http://ecma.bdimg.com\",\"ecmb.bdimg.com\":\"http://ecmb.bdimg.com\",\"t1.baidu.com\":\"http://t1.baidu.com\",\"t2.baidu.com\":\"http://t2.baidu.com\",\"t3.baidu.com\":\"http://t3.baidu.com\",\"t10.baidu.com\":\"http://t10.baidu.com\",\"t11.baidu.com\":\"http://t11.baidu.com\",\"t12.baidu.com\":\"http://t12.baidu.com\",\"i7.baidu.com\":\"http://i7.baidu.com\",\"i8.baidu.com\":\"http://i8.baidu.com\",\"i9.baidu.com\":\"http://i9.baidu.com\",\"b1.bdstatic.com\":\"http://b1.bdstatic.com\",\"ss.bdimg.com\":\"http://ss.bdimg.com\",\"opendata.baidu.com\":\"http://opendata.baidu.com\",\"api.open.baidu.com\":\"http://api.open.baidu.com\",\"tag.baidu.com\":\"http://tag.baidu.com\",\"f3.baidu.com\":\"http://f3.baidu.com\",\"s.share.baidu.com\":\"http://s.share.baidu.com\",\"bdimg.share.baidu.com\":\"http://bdimg.share.baidu.com\",\"1.su.bdimg.com\":\"http://1.su.bdimg.com\",\"2.su.bdimg.com\":\"http://2.su.bdimg.com\",\"3.su.bdimg.com\":\"http://3.su.bdimg.com\",\"4.su.bdimg.com\":\"http://4.su.bdimg.com\",\"5.su.bdimg.com\":\"http://5.su.bdimg.com\",\"6.su.bdimg.com\":\"http://6.su.bdimg.com\",\"7.su.bdimg.com\":\"http://7.su.bdimg.com\",\"8.su.bdimg.com\":\"http://8.su.bdimg.com\"}\\n\\r\\n\\n</script>\\n\\n<script type=\"application/json\" id=\"query-data\" data-for=\"result-data\">{\"query\":\"asyncio\",\"tn\":\"baidu\",\"qid\":\"f7a917d100110472\",\"encTn\":\"d13cMJoygz\\\\/6S9WA+l57AgruQA5JkrrBphuU+CoVIY4NzNOYBnWxfUExBO4\",\"queryEnc\":\"asyncio\",\"inter\":\"\",\"ubsurl\":\"http:\\\\/\\\\/sclick.baidu.com\\\\/w.gif\",\"cid\":\"0\"}</script>\\n\\n<script type=\"application/json\" id=\"sample-data\" data-for=\"result-data\">{\"sampleval\": [],\"sid\": \"34099_33848_33607\"}</script>\\n<script type=\"application/json\" id=\"user-data\" data-for=\"result-data\">{\"user\":null,\"username\":\"\",\"isLogin\":0,\"userPortrait\":\"\"}</script>\\n\\n<script type=\"application/json\" id=\"peak-style-data\" data-for=\"result-data\">{\"isHit\": \"\",\"mode\": \"\",\"color\": \"\"}</script>\\n<script type=\"application/json\" id=\"conf-data\" data-for=\"result-data\">{\"staticDomain\": \"https://pss.bdstatic.com\",\"env\": \"prod\"}</script>\\n\\t\\t<script>\\nif( bds.ready && document.cookie.match(\\'B64_BOT=1\\') ){\\n    bds.ready(function(){\\n\\t    setTimeout(function(){\\n\\t\\t\\tif( bds.base64 && bds.base64.ts ){\\n\\t\\t\\t\\tbds.base64.ts();\\n\\t\\t\\t}\\n\\t\\t},2000)\\n\\t})\\n}\\n</script>\\n\\n\\t\\n\\t            <div id=\"container\" class=\"container_s sam_newgrid\" data-w=\"1280\">\\n\\t                <script>\\n\\t                    bds.util.setContainerWidth(1280);\\n\\t                    bds.ready(function(){\\n\\t                        $(window).on(\"resize\",function(){\\n\\t                            bds.util.setContainerWidth();\\n\\t                            bds.event.trigger(\"se.window_resize\");\\n\\t                        });\\n\\t                        bds.util.setContainerWidth();\\n\\t                    });\\n\\t                </script>\\n\\t\\t\\t\\n\\t\\t\\t\\n\\t<script data-for=\"result\">\\n    (function() {\\n        var perfkey = \\'resultStart\\';\\n        if (!perfkey) {\\n            return;\\n        }\\n        if (!window.__perf_www_datas) {\\n            window.__perf_www_datas = {};\\n        }\\n        var t = performance && performance.now && performance.now();\\n        window.__perf_www_datas[perfkey] = t;\\n    })();\\n</script>\\n\\n\\t\\t\\t\\n\\n\\t\\n\\t\\n\\t    <div id=\"content_right\" class=\"cr-offset\">\\n\\t\\t\\t\\n\\t\\t\\t\\n\\n\\n\\t\\t\\t\\n        <table cellpadding=\"0\" cellspacing=\"0\"><tr>\\n            <td align=\"left\">\\n\\t        \\n\\t\\n\\t\\n            \\n\\t\\n\\n            <div id=\"con-ar\" class=result_hidden>\\n                                                                    \\t\\t\\t\\t\\t\\t\\n\\t\\t\\t\\t\\t\\t\\t\\t\\t\\t\\t\\t\\n        \\t\\t\\t\\t\\t\\t\\t\\t\\t\\t\\t\\t\\t\\t\\t\\t\\t\\t\\t\\t\\t\\t\\t\\t\\n\\t\\t\\t\\t\\t\\t\\t<div class=\"result-op xpath-log\" tpl=\"right_toplist1\" data-click=\\'{\"fm\":\"alxr\",\"p1\":1,\"mu\":\"http:\\\\/\\\\/www.baidu.com\",\"rsv_stl\":0,\"rsv_srcid\":20811}\\'>\\n\\n\\n\\n\\n\\n\\n\\n\\n\\n\\n\\n\\n\\n\\n\\n\\n\\n\\n\\n\\n\\n\\n\\n\\n\\n\\n\\n\\n\\n\\n\\n\\n\\n\\n\\n\\n\\n\\n\\n\\n\\n\\n\\n\\n\\n                                                                                                                                                                                                                                                                                                                                                                                                                                                                                                                                                                                                                                                                                                                                                                                                                                                                                                                                                                                                                                                                                                                                                                                                                                                                                                                                                                                                                                                                                                                                                                                                                                                                                                                                                                                                                                                                                                                                                                                                                                                                                                                                                                                                                                                                                                                                                                                                                                                                                                                                                                                                                                                                                                                                                                                                                                                                                                                                                                                                                                                                                                                                                                                                                                                                                                                                                                                                                                                                                                                                                                                                                                                                                                                                                                                                                                                                                                                                                                                                                                                                                                                                                                                                                                                                                                                                                                                                                                                                                                                                                                                                                                                                                                                                                                                                                                                                                                                                                                                                                                                                                                                                                                                                                                                                        \\n\\n\\n    \\n\\n\\n<div class=\"cr-content  new-pmd\">\\n    \\n<div class=\"FYB_RD\">\\n    <div class=\"cr-title c-gap-bottom-xsmall\" title=\"百度热搜\">\\n        <span class=\"c-color-t\">百度热搜</span>\\n                                                <div class=\"opr-toplist1-update opr-toplist1-link\" data-click=\"{fm:\\'beha\\'}\" style=\"position:relative;top:-1px;\">\\n                    <a class=\"OP_LOG_BTN toplist-refresh-btn c-font-normal c-color-gray2\" href=\"javascript:void(0);\" style=\"text-decoration:none;\">\\n                        <i class=\"c-icon opr-toplist1-hot-refresh-icon\">&#xe619;</i><span>换一换</span>\\n                    </a>\\n                </div>\\n                        </div>\\n    <table class=\"c-table opr-toplist1-table\">\\n                        <tbody >\\n                    <tr class=\"toplist1-tr\">\\n                                                                                                                                                                                                            \\n                                                                                                                                                            <td class=\"toplist1-td opr-toplist1-link\">\\n                                        <span class=\"toplist1-hot c-index-single  toplist1-hot-top toplist1-hot-0 c-index-single-hot1 \" style=\"opacity:1;\">\\n                        1\\n                    </span>\\n                    <a target=\"_blank\" title=\"神舟十二号载人飞船发射成功\" href=\"/s?wd=%E7%A5%9E%E8%88%9F%E5%8D%81%E4%BA%8C%E5%8F%B7%E8%BD%BD%E4%BA%BA%E9%A3%9E%E8%88%B9%E5%8F%91%E5%B0%84%E6%88%90%E5%8A%9F&ie=utf-8&rsv_cq=asyncio&rsv_dl=0_right_fyb_pchot_20811_01&rsv_pq=f7a917d100110472&oq=asyncio&rsv_t=8cf6R6ohdmWUAxMr9jm0OPXDEaL9bUPyI3n%2FH8gNFSbwq9qdseE8qKFGd%2Bk&rsf=696194a3ebf10ff0798eeb8a55b0eeff_1_10_1\" class=\"c-font-medium c-color-t opr-toplist1-subtitle\">\\n                        神舟十二号载人飞船发射成功\\n                    </a>\\n                                                                    <span class=\"c-text c-text-bao opr-toplist1-label\">爆</span>\\n                                    </td>\\n                <td class=\"toplist1-right-num toplist1-td c-color-gray\" style=\"line-height:20px;position:relative;top:2px;\">499万</td>\\n            </tr>\\n                                    <tr class=\"toplist1-tr\">\\n                                                                                                                                                                                                            \\n                                                                                                                                                            <td class=\"toplist1-td opr-toplist1-link\">\\n                                        <span class=\"toplist1-hot c-index-single  toplist1-hot-top toplist1-hot-1 c-index-single-hot2 \" style=\"opacity:1;\">\\n                        2\\n                    </span>\\n                    <a target=\"_blank\" title=\"神舟十二号载人飞船升空瞬间\" href=\"/s?wd=%E7%A5%9E%E8%88%9F%E5%8D%81%E4%BA%8C%E5%8F%B7%E8%BD%BD%E4%BA%BA%E9%A3%9E%E8%88%B9%E5%8D%87%E7%A9%BA%E7%9E%AC%E9%97%B4&ie=utf-8&rsv_cq=asyncio&rsv_dl=0_right_fyb_pchot_20811_01&rsv_pq=f7a917d100110472&oq=asyncio&rsv_t=612d630UYSW%2FxyOTwbUZQIXj3t7nrebG7m8UQIRVWr4eRPYiWTM0SHhTR8I&rsf=696194a3ebf10ff0798eeb8a55b0eeff_1_10_2\" class=\"c-font-medium c-color-t opr-toplist1-subtitle\">\\n                        神舟十二号载人飞船升空瞬间\\n                    </a>\\n                                                                    <span class=\"c-text c-text-fei opr-toplist1-label\">沸</span>\\n                                    </td>\\n                <td class=\"toplist1-right-num toplist1-td c-color-gray\" style=\"line-height:20px;position:relative;top:2px;\">481万</td>\\n            </tr>\\n                                    <tr class=\"toplist1-tr\">\\n                                                                                                                                                                                                            \\n                                                                                                                                                            <td class=\"toplist1-td opr-toplist1-link\">\\n                                        <span class=\"toplist1-hot c-index-single  toplist1-hot-top toplist1-hot-2 c-index-single-hot3 \" style=\"opacity:1;\">\\n                        3\\n                    </span>\\n                    <a target=\"_blank\" title=\"神舟十二号与地球同框啦\" href=\"/s?wd=%E7%A5%9E%E8%88%9F%E5%8D%81%E4%BA%8C%E5%8F%B7%E4%B8%8E%E5%9C%B0%E7%90%83%E5%90%8C%E6%A1%86%E5%95%A6&ie=utf-8&rsv_cq=asyncio&rsv_dl=0_right_fyb_pchot_20811_01&rsv_pq=f7a917d100110472&oq=asyncio&rsv_t=060brmZBTaoY0I6iewyuW8gMOJRD0RpD1yjoAfgcF%2B23lJA3pzghRcn6la8&rsf=696194a3ebf10ff0798eeb8a55b0eeff_1_10_3\" class=\"c-font-medium c-color-t opr-toplist1-subtitle\">\\n                        神舟十二号与地球同框啦\\n                    </a>\\n                                                                    <span class=\"c-text c-text-hot opr-toplist1-label\">热</span>\\n                                    </td>\\n                <td class=\"toplist1-right-num toplist1-td c-color-gray\" style=\"line-height:20px;position:relative;top:2px;\">474万</td>\\n            </tr>\\n                                    <tr class=\"toplist1-tr\">\\n                                                                                                                                                                                                            \\n                                                                                                                                                            <td class=\"toplist1-td opr-toplist1-link\">\\n                                        <span class=\"toplist1-hot c-index-single toplist1-hot-normal \" style=\"opacity:1;\">\\n                        4\\n                    </span>\\n                    <a target=\"_blank\" title=\"14岁“猪坚强”因年老衰竭去世\" href=\"/s?wd=14%E5%B2%81%E2%80%9C%E7%8C%AA%E5%9D%9A%E5%BC%BA%E2%80%9D%E5%9B%A0%E5%B9%B4%E8%80%81%E8%A1%B0%E7%AB%AD%E5%8E%BB%E4%B8%96&ie=utf-8&rsv_cq=asyncio&rsv_dl=0_right_fyb_pchot_20811_01&rsv_pq=f7a917d100110472&oq=asyncio&rsv_t=cc8dHvD6uQR6Bfv%2BkyK5asj7H3bBJG8EJxDB6%2FJACd5DrOgFwUp%2FLiG0ZFM&rsf=696194a3ebf10ff0798eeb8a55b0eeff_1_10_4\" class=\"c-font-medium c-color-t opr-toplist1-subtitle\">\\n                        14岁“猪坚强”因年老衰竭去世\\n                    </a>\\n                                    </td>\\n                <td class=\"toplist1-right-num toplist1-td c-color-gray\" style=\"line-height:20px;position:relative;top:2px;\">469万</td>\\n            </tr>\\n                                    <tr class=\"toplist1-tr\">\\n                                                                                                                                                                                                            \\n                                                                                                                                                            <td class=\"toplist1-td opr-toplist1-link\">\\n                                        <span class=\"toplist1-hot c-index-single toplist1-hot-normal \" style=\"opacity:1;\">\\n                        5\\n                    </span>\\n                    <a target=\"_blank\" title=\"神舟十二号宣传片发布\" href=\"/s?wd=%E7%A5%9E%E8%88%9F%E5%8D%81%E4%BA%8C%E5%8F%B7%E5%AE%A3%E4%BC%A0%E7%89%87%E5%8F%91%E5%B8%83&ie=utf-8&rsv_cq=asyncio&rsv_dl=0_right_fyb_pchot_20811_01&rsv_pq=f7a917d100110472&oq=asyncio&rsv_t=0261hiQe3gM5CFn5VRq4wFV0wjoXsjpabPIh%2F8pUw0fPUlf7vU1kT3cD%2FGo&rsf=696194a3ebf10ff0798eeb8a55b0eeff_1_10_5\" class=\"c-font-medium c-color-t opr-toplist1-subtitle\">\\n                        神舟十二号宣传片发布\\n                    </a>\\n                                                                    <span class=\"c-text c-text-new opr-toplist1-label\">新</span>\\n                                    </td>\\n                <td class=\"toplist1-right-num toplist1-td c-color-gray\" style=\"line-height:20px;position:relative;top:2px;\">453万</td>\\n            </tr>\\n                                    <tr class=\"toplist1-tr\">\\n                                                                                                                                                                                                            \\n                                                                                                                                                            <td class=\"toplist1-td opr-toplist1-link\">\\n                                        <span class=\"toplist1-hot c-index-single toplist1-hot-normal \" style=\"opacity:1;\">\\n                        6\\n                    </span>\\n                    <a target=\"_blank\" title=\"俄美就战略稳定发表联合声明\" href=\"/s?wd=%E4%BF%84%E7%BE%8E%E5%B0%B1%E6%88%98%E7%95%A5%E7%A8%B3%E5%AE%9A%E5%8F%91%E8%A1%A8%E8%81%94%E5%90%88%E5%A3%B0%E6%98%8E&ie=utf-8&rsv_cq=asyncio&rsv_dl=0_right_fyb_pchot_20811_01&rsv_pq=f7a917d100110472&oq=asyncio&rsv_t=1805Q3BwBFrjRJy6sXPoVUMGfjpNJmn0tL2PFbFdnlCaWOGaQForZA2n1qQ&rsf=696194a3ebf10ff0798eeb8a55b0eeff_1_10_6\" class=\"c-font-medium c-color-t opr-toplist1-subtitle\">\\n                        俄美就战略稳定发表联合声明\\n                    </a>\\n                                    </td>\\n                <td class=\"toplist1-right-num toplist1-td c-color-gray\" style=\"line-height:20px;position:relative;top:2px;\">445万</td>\\n            </tr>\\n                                    <tr class=\"toplist1-tr\">\\n                                                                                                                                                                                                            \\n                                                                                                                                                            <td class=\"toplist1-td opr-toplist1-link\">\\n                                        <span class=\"toplist1-hot c-index-single toplist1-hot-normal \" style=\"opacity:1;\">\\n                        7\\n                    </span>\\n                    <a target=\"_blank\" title=\"台北议员:全台民众一起陪双北坐牢\" href=\"/s?wd=%E5%8F%B0%E5%8C%97%E8%AE%AE%E5%91%98%3A%E5%85%A8%E5%8F%B0%E6%B0%91%E4%BC%97%E4%B8%80%E8%B5%B7%E9%99%AA%E5%8F%8C%E5%8C%97%E5%9D%90%E7%89%A2&ie=utf-8&rsv_cq=asyncio&rsv_dl=0_right_fyb_pchot_20811_01&rsv_pq=f7a917d100110472&oq=asyncio&rsv_t=3341CZD4ZFHSzqfqAiNESeZ%2FBb7FHxOOOB1P2vDv5ANyTvSjXQiVh0UpWn4&rsf=696194a3ebf10ff0798eeb8a55b0eeff_1_10_7\" class=\"c-font-medium c-color-t opr-toplist1-subtitle\">\\n                        台北议员:全台民众一起陪双北坐牢\\n                    </a>\\n                                    </td>\\n                <td class=\"toplist1-right-num toplist1-td c-color-gray\" style=\"line-height:20px;position:relative;top:2px;\">432万</td>\\n            </tr>\\n                                    <tr class=\"toplist1-tr\">\\n                                                                                                                                                                                                            \\n                                                                                                                                                            <td class=\"toplist1-td opr-toplist1-link\">\\n                                        <span class=\"toplist1-hot c-index-single toplist1-hot-normal \" style=\"opacity:1;\">\\n                        8\\n                    </span>\\n                    <a target=\"_blank\" title=\"外交部就美欧峰会涉华声明回应\" href=\"/s?wd=%E5%A4%96%E4%BA%A4%E9%83%A8%E5%B0%B1%E7%BE%8E%E6%AC%A7%E5%B3%B0%E4%BC%9A%E6%B6%89%E5%8D%8E%E5%A3%B0%E6%98%8E%E5%9B%9E%E5%BA%94&ie=utf-8&rsv_cq=asyncio&rsv_dl=0_right_fyb_pchot_20811_01&rsv_pq=f7a917d100110472&oq=asyncio&rsv_t=9a07wf3uaa0RUikYwyxlc1%2BAhgrex4uemgEmfuY7gDQg%2FMI6y3fkn8Z1cjY&rsf=696194a3ebf10ff0798eeb8a55b0eeff_1_10_8\" class=\"c-font-medium c-color-t opr-toplist1-subtitle\">\\n                        外交部就美欧峰会涉华声明回应\\n                    </a>\\n                                    </td>\\n                <td class=\"toplist1-right-num toplist1-td c-color-gray\" style=\"line-height:20px;position:relative;top:2px;\">415万</td>\\n            </tr>\\n                                    <tr class=\"toplist1-tr\">\\n                                                                                                                                                                                                            \\n                                                                                                                                                            <td class=\"toplist1-td opr-toplist1-link\">\\n                                        <span class=\"toplist1-hot c-index-single toplist1-hot-normal \" style=\"opacity:1;\">\\n                        9\\n                    </span>\\n                    <a target=\"_blank\" title=\"广东新增4例本土确诊病例\" href=\"/s?wd=%E5%B9%BF%E4%B8%9C%E6%96%B0%E5%A2%9E4%E4%BE%8B%E6%9C%AC%E5%9C%9F%E7%A1%AE%E8%AF%8A%E7%97%85%E4%BE%8B&ie=utf-8&rsv_cq=asyncio&rsv_dl=0_right_fyb_pchot_20811_01&rsv_pq=f7a917d100110472&oq=asyncio&rsv_t=e169EYnOvgiQp8s6rB76wgzcx4zd2QqonN%2BtseSmFWqoSxXkcBnVnyVfK2A&rsf=696194a3ebf10ff0798eeb8a55b0eeff_1_10_9\" class=\"c-font-medium c-color-t opr-toplist1-subtitle\">\\n                        广东新增4例本土确诊病例\\n                    </a>\\n                                    </td>\\n                <td class=\"toplist1-right-num toplist1-td c-color-gray\" style=\"line-height:20px;position:relative;top:2px;\">407万</td>\\n            </tr>\\n                                    <tr class=\"toplist1-tr\">\\n                                                                                                                                                                                                            \\n                                                                                                                                                            <td class=\"toplist1-td opr-toplist1-link\">\\n                                        <span class=\"toplist1-hot c-index-single toplist1-hot-normal opr-toplist1-one-font\" style=\"opacity:1;\">\\n                        10\\n                    </span>\\n                    <a target=\"_blank\" title=\"尼泊尔大坝决堤 1名中国公民遇难\" href=\"/s?wd=%E5%B0%BC%E6%B3%8A%E5%B0%94%E5%A4%A7%E5%9D%9D%E5%86%B3%E5%A0%A4+1%E5%90%8D%E4%B8%AD%E5%9B%BD%E5%85%AC%E6%B0%91%E9%81%87%E9%9A%BE&ie=utf-8&rsv_cq=asyncio&rsv_dl=0_right_fyb_pchot_20811_01&rsv_pq=f7a917d100110472&oq=asyncio&rsv_t=5094FSD7JQ7lZrp6dHp3nxB7h%2Fbb%2B4Vy4JPk9so9QktVfsHZ%2Fd3owraYxMg&rsf=696194a3ebf10ff0798eeb8a55b0eeff_1_10_10\" class=\"c-font-medium c-color-t opr-toplist1-subtitle\">\\n                        尼泊尔大坝决堤 1名中国公民遇难\\n                    </a>\\n                                    </td>\\n                <td class=\"toplist1-right-num toplist1-td c-color-gray\" style=\"line-height:20px;position:relative;top:2px;\">398万</td>\\n            </tr>\\n                </tbody>\\n                                <tbody style=\"display:none\">\\n                    <tr class=\"toplist1-tr\">\\n                                                                                                                                                                                                            \\n                                                                                                                                                            <td class=\"toplist1-td opr-toplist1-link\">\\n                                        <span class=\"toplist1-hot c-index-single toplist1-hot-normal opr-toplist1-one-font\" style=\"opacity:1;\">\\n                        11\\n                    </span>\\n                    <a target=\"_blank\" title=\"香港苹果日报总编辑罗伟光等被捕\" href=\"/s?wd=%E9%A6%99%E6%B8%AF%E8%8B%B9%E6%9E%9C%E6%97%A5%E6%8A%A5%E6%80%BB%E7%BC%96%E8%BE%91%E7%BD%97%E4%BC%9F%E5%85%89%E7%AD%89%E8%A2%AB%E6%8D%95&ie=utf-8&rsv_cq=asyncio&rsv_dl=0_right_fyb_pchot_20811_01&rsv_pq=f7a917d100110472&oq=asyncio&rsv_t=85f60IQ8MlUVmV1DXbR84vUrZXru6CLBVkutP7J%2Fi01oFl86qmzOQbBmwuM&rsf=696194a3ebf10ff0798eeb8a55b0eeff_11_20_11\" class=\"c-font-medium c-color-t opr-toplist1-subtitle\">\\n                        香港苹果日报总编辑罗伟光等被捕\\n                    </a>\\n                                    </td>\\n                <td class=\"toplist1-right-num toplist1-td c-color-gray\" style=\"line-height:20px;position:relative;top:2px;\">373万</td>\\n            </tr>\\n                                    <tr class=\"toplist1-tr\">\\n                                                                                                                                                                                                            \\n                                                                                                                                                            <td class=\"toplist1-td opr-toplist1-link\">\\n                                        <span class=\"toplist1-hot c-index-single toplist1-hot-normal opr-toplist1-one-font\" style=\"opacity:1;\">\\n                        12\\n                    </span>\\n                    <a target=\"_blank\" title=\"百岁翻译界泰斗许渊冲逝世\" href=\"/s?wd=%E7%99%BE%E5%B2%81%E7%BF%BB%E8%AF%91%E7%95%8C%E6%B3%B0%E6%96%97%E8%AE%B8%E6%B8%8A%E5%86%B2%E9%80%9D%E4%B8%96&ie=utf-8&rsv_cq=asyncio&rsv_dl=0_right_fyb_pchot_20811_01&rsv_pq=f7a917d100110472&oq=asyncio&rsv_t=7c20%2BjkbNyS120QHPrwYE6O8L8IFN9VxcIsmT44oNBQSDRv33YlnhWKaH%2BU&rsf=696194a3ebf10ff0798eeb8a55b0eeff_11_20_12\" class=\"c-font-medium c-color-t opr-toplist1-subtitle\">\\n                        百岁翻译界泰斗许渊冲逝世\\n                    </a>\\n                                    </td>\\n                <td class=\"toplist1-right-num toplist1-td c-color-gray\" style=\"line-height:20px;position:relative;top:2px;\">360万</td>\\n            </tr>\\n                                    <tr class=\"toplist1-tr\">\\n                                                                                                                                                                                                            \\n                                                                                                                                                            <td class=\"toplist1-td opr-toplist1-link\">\\n                                        <span class=\"toplist1-hot c-index-single toplist1-hot-normal opr-toplist1-one-font\" style=\"opacity:1;\">\\n                        13\\n                    </span>\\n                    <a target=\"_blank\" title=\"国家统计局回应三孩政策\" href=\"/s?wd=%E5%9B%BD%E5%AE%B6%E7%BB%9F%E8%AE%A1%E5%B1%80%E5%9B%9E%E5%BA%94%E4%B8%89%E5%AD%A9%E6%94%BF%E7%AD%96&ie=utf-8&rsv_cq=asyncio&rsv_dl=0_right_fyb_pchot_20811_01&rsv_pq=f7a917d100110472&oq=asyncio&rsv_t=5d6auoWKx%2BW53EejT%2BI%2FV3tv5bwl8cytyReS41a%2FPQmtmSn9KChCQGND6%2F0&rsf=696194a3ebf10ff0798eeb8a55b0eeff_11_20_13\" class=\"c-font-medium c-color-t opr-toplist1-subtitle\">\\n                        国家统计局回应三孩政策\\n                    </a>\\n                                                                    <span class=\"c-text c-text-hot opr-toplist1-label\">热</span>\\n                                    </td>\\n                <td class=\"toplist1-right-num toplist1-td c-color-gray\" style=\"line-height:20px;position:relative;top:2px;\">358万</td>\\n            </tr>\\n                                    <tr class=\"toplist1-tr\">\\n                                                                                                                                                                                                            \\n                                                                                                                                                            <td class=\"toplist1-td opr-toplist1-link\">\\n                                        <span class=\"toplist1-hot c-index-single toplist1-hot-normal opr-toplist1-one-font\" style=\"opacity:1;\">\\n                        14\\n                    </span>\\n                    <a target=\"_blank\" title=\"中方决定对比利时一议员实施制裁\" href=\"/s?wd=%E4%B8%AD%E6%96%B9%E5%86%B3%E5%AE%9A%E5%AF%B9%E6%AF%94%E5%88%A9%E6%97%B6%E4%B8%80%E8%AE%AE%E5%91%98%E5%AE%9E%E6%96%BD%E5%88%B6%E8%A3%81&ie=utf-8&rsv_cq=asyncio&rsv_dl=0_right_fyb_pchot_20811_01&rsv_pq=f7a917d100110472&oq=asyncio&rsv_t=05e4uZEqitkZSBsdqmPjIILpqhZkEmJQVdQunadWD4hiif3FZlMkFfu07H8&rsf=696194a3ebf10ff0798eeb8a55b0eeff_11_20_14\" class=\"c-font-medium c-color-t opr-toplist1-subtitle\">\\n                        中方决定对比利时一议员实施制裁\\n                    </a>\\n                                    </td>\\n                <td class=\"toplist1-right-num toplist1-td c-color-gray\" style=\"line-height:20px;position:relative;top:2px;\">323万</td>\\n            </tr>\\n                                    <tr class=\"toplist1-tr\">\\n                                                                                                                                                                                                            \\n                                                                                                                                                            <td class=\"toplist1-td opr-toplist1-link\">\\n                                        <span class=\"toplist1-hot c-index-single toplist1-hot-normal opr-toplist1-one-font\" style=\"opacity:1;\">\\n                        15\\n                    </span>\\n                    <a target=\"_blank\" title=\"重庆禁止公办普通高中招收复读生\" href=\"/s?wd=%E9%87%8D%E5%BA%86%E7%A6%81%E6%AD%A2%E5%85%AC%E5%8A%9E%E6%99%AE%E9%80%9A%E9%AB%98%E4%B8%AD%E6%8B%9B%E6%94%B6%E5%A4%8D%E8%AF%BB%E7%94%9F&ie=utf-8&rsv_cq=asyncio&rsv_dl=0_right_fyb_pchot_20811_01&rsv_pq=f7a917d100110472&oq=asyncio&rsv_t=24762dphqeNgjS2fTPdOtp5tRxYQkwue3IdniM8tCNK1U1dlgQk1uW%2FYN74&rsf=696194a3ebf10ff0798eeb8a55b0eeff_11_20_15\" class=\"c-font-medium c-color-t opr-toplist1-subtitle\">\\n                        重庆禁止公办普通高中招收复读生\\n                    </a>\\n                                    </td>\\n                <td class=\"toplist1-right-num toplist1-td c-color-gray\" style=\"line-height:20px;position:relative;top:2px;\">314万</td>\\n            </tr>\\n                                    <tr class=\"toplist1-tr\">\\n                                                                                                                                                                                                            \\n                                                                                                                                                            <td class=\"toplist1-td opr-toplist1-link\">\\n                                        <span class=\"toplist1-hot c-index-single toplist1-hot-normal opr-toplist1-one-font\" style=\"opacity:1;\">\\n                        16\\n                    </span>\\n                    <a target=\"_blank\" title=\"安徽淮南一救护车撞上信号灯杆\" href=\"/s?wd=%E5%AE%89%E5%BE%BD%E6%B7%AE%E5%8D%97%E4%B8%80%E6%95%91%E6%8A%A4%E8%BD%A6%E6%92%9E%E4%B8%8A%E4%BF%A1%E5%8F%B7%E7%81%AF%E6%9D%86&ie=utf-8&rsv_cq=asyncio&rsv_dl=0_right_fyb_pchot_20811_01&rsv_pq=f7a917d100110472&oq=asyncio&rsv_t=59d5r6Lrcd%2FsM3T2FLlD6uYkdydWmgAEyxT9ZumhDFF7phemdzL82AkFpQc&rsf=696194a3ebf10ff0798eeb8a55b0eeff_11_20_16\" class=\"c-font-medium c-color-t opr-toplist1-subtitle\">\\n                        安徽淮南一救护车撞上信号灯杆\\n                    </a>\\n                                                                    <span class=\"c-text c-text-new opr-toplist1-label\">新</span>\\n                                    </td>\\n                <td class=\"toplist1-right-num toplist1-td c-color-gray\" style=\"line-height:20px;position:relative;top:2px;\">305万</td>\\n            </tr>\\n                                    <tr class=\"toplist1-tr\">\\n                                                                                                                                                                                                            \\n                                                                                                                                                            <td class=\"toplist1-td opr-toplist1-link\">\\n                                        <span class=\"toplist1-hot c-index-single toplist1-hot-normal opr-toplist1-one-font\" style=\"opacity:1;\">\\n                        17\\n                    </span>\\n                    <a target=\"_blank\" title=\"NBA官方回应詹姆斯炮轰\" href=\"/s?wd=NBA%E5%AE%98%E6%96%B9%E5%9B%9E%E5%BA%94%E8%A9%B9%E5%A7%86%E6%96%AF%E7%82%AE%E8%BD%B0&ie=utf-8&rsv_cq=asyncio&rsv_dl=0_right_fyb_pchot_20811_01&rsv_pq=f7a917d100110472&oq=asyncio&rsv_t=f7bdDDpaar0yqtVZ9c1xjJoxcMfaW%2FlSJhQZgjW7rhvIiARwa9dS73N6Ijk&rsf=696194a3ebf10ff0798eeb8a55b0eeff_11_20_17\" class=\"c-font-medium c-color-t opr-toplist1-subtitle\">\\n                        NBA官方回应詹姆斯炮轰\\n                    </a>\\n                                    </td>\\n                <td class=\"toplist1-right-num toplist1-td c-color-gray\" style=\"line-height:20px;position:relative;top:2px;\">293万</td>\\n            </tr>\\n                                    <tr class=\"toplist1-tr\">\\n                                                                                                                                                                                                            \\n                                                                                                                                                            <td class=\"toplist1-td opr-toplist1-link\">\\n                                        <span class=\"toplist1-hot c-index-single toplist1-hot-normal opr-toplist1-one-font\" style=\"opacity:1;\">\\n                        18\\n                    </span>\\n                    <a target=\"_blank\" title=\"潘石屹卖了SOHO中国\" href=\"/s?wd=%E6%BD%98%E7%9F%B3%E5%B1%B9%E5%8D%96%E4%BA%86SOHO%E4%B8%AD%E5%9B%BD&ie=utf-8&rsv_cq=asyncio&rsv_dl=0_right_fyb_pchot_20811_01&rsv_pq=f7a917d100110472&oq=asyncio&rsv_t=4b0dalrwbS8EVGgEzAmu60r7teOuaIbH7QgfRluxYvcbrMLQaZvXuaXYNRc&rsf=696194a3ebf10ff0798eeb8a55b0eeff_11_20_18\" class=\"c-font-medium c-color-t opr-toplist1-subtitle\">\\n                        潘石屹卖了SOHO中国\\n                    </a>\\n                                    </td>\\n                <td class=\"toplist1-right-num toplist1-td c-color-gray\" style=\"line-height:20px;position:relative;top:2px;\">285万</td>\\n            </tr>\\n                                    <tr class=\"toplist1-tr\">\\n                                                                                                                                                                                                            \\n                                                                                                                                                            <td class=\"toplist1-td opr-toplist1-link\">\\n                                        <span class=\"toplist1-hot c-index-single toplist1-hot-normal opr-toplist1-one-font\" style=\"opacity:1;\">\\n                        19\\n                    </span>\\n                    <a target=\"_blank\" title=\"多机位看火箭震撼“穿日”\" href=\"/s?wd=%E5%A4%9A%E6%9C%BA%E4%BD%8D%E7%9C%8B%E7%81%AB%E7%AE%AD%E9%9C%87%E6%92%BC%E2%80%9C%E7%A9%BF%E6%97%A5%E2%80%9D&ie=utf-8&rsv_cq=asyncio&rsv_dl=0_right_fyb_pchot_20811_01&rsv_pq=f7a917d100110472&oq=asyncio&rsv_t=6bb6lhYYDhQp31n71%2FSq5zAA8zdILczL4wrQBegghLS0uzCCmciyaRWbOno&rsf=696194a3ebf10ff0798eeb8a55b0eeff_11_20_19\" class=\"c-font-medium c-color-t opr-toplist1-subtitle\">\\n                        多机位看火箭震撼“穿日”\\n                    </a>\\n                                    </td>\\n                <td class=\"toplist1-right-num toplist1-td c-color-gray\" style=\"line-height:20px;position:relative;top:2px;\">277万</td>\\n            </tr>\\n                                    <tr class=\"toplist1-tr\">\\n                                                                                                                                                                                                            \\n                                                                                                                                                            <td class=\"toplist1-td opr-toplist1-link\">\\n                                        <span class=\"toplist1-hot c-index-single toplist1-hot-normal \" style=\"opacity:1;\">\\n                        20\\n                    </span>\\n                    <a target=\"_blank\" title=\"俄罗斯1-0胜芬兰 收获欧洲杯首胜\" href=\"/s?wd=%E4%BF%84%E7%BD%97%E6%96%AF1-0%E8%83%9C%E8%8A%AC%E5%85%B0+%E6%94%B6%E8%8E%B7%E6%AC%A7%E6%B4%B2%E6%9D%AF%E9%A6%96%E8%83%9C&ie=utf-8&rsv_cq=asyncio&rsv_dl=0_right_fyb_pchot_20811_01&rsv_pq=f7a917d100110472&oq=asyncio&rsv_t=409cKT3ZHy%2Fq0LPUSV8W%2F7pgazHAhUeKvj5xYLmNJ6lVLu57FlpsIpRAVUg&rsf=696194a3ebf10ff0798eeb8a55b0eeff_11_20_20\" class=\"c-font-medium c-color-t opr-toplist1-subtitle\">\\n                        俄罗斯1-0胜芬兰 收获欧洲杯首胜\\n                    </a>\\n                                    </td>\\n                <td class=\"toplist1-right-num toplist1-td c-color-gray\" style=\"line-height:20px;position:relative;top:2px;\">267万</td>\\n            </tr>\\n                </tbody>\\n                                <tbody style=\"display:none\">\\n                    <tr class=\"toplist1-tr\">\\n                                                                                                                                                                                                            \\n                                                                                                                                                            <td class=\"toplist1-td opr-toplist1-link\">\\n                                        <span class=\"toplist1-hot c-index-single toplist1-hot-normal \" style=\"opacity:1;\">\\n                        21\\n                    </span>\\n                    <a target=\"_blank\" title=\"东京奥运或允许观众现场观赛\" href=\"/s?wd=%E4%B8%9C%E4%BA%AC%E5%A5%A5%E8%BF%90%E6%88%96%E5%85%81%E8%AE%B8%E8%A7%82%E4%BC%97%E7%8E%B0%E5%9C%BA%E8%A7%82%E8%B5%9B&ie=utf-8&rsv_cq=asyncio&rsv_dl=0_right_fyb_pchot_20811_01&rsv_pq=f7a917d100110472&oq=asyncio&rsv_t=91f1KfGyWtnK7wxu6sDcO3MHY5anTE9GZPua0aBubf22ggNeJ3Q2uu4j5Xw&rsf=696194a3ebf10ff0798eeb8a55b0eeff_21_30_21\" class=\"c-font-medium c-color-t opr-toplist1-subtitle\">\\n                        东京奥运或允许观众现场观赛\\n                    </a>\\n                                    </td>\\n                <td class=\"toplist1-right-num toplist1-td c-color-gray\" style=\"line-height:20px;position:relative;top:2px;\">255万</td>\\n            </tr>\\n                                    <tr class=\"toplist1-tr\">\\n                                                                                                                                                                                                            \\n                                                                                                                                                            <td class=\"toplist1-td opr-toplist1-link\">\\n                                        <span class=\"toplist1-hot c-index-single toplist1-hot-normal \" style=\"opacity:1;\">\\n                        22\\n                    </span>\\n                    <a target=\"_blank\" title=\"猪坚强原主人发声\" href=\"/s?wd=%E7%8C%AA%E5%9D%9A%E5%BC%BA%E5%8E%9F%E4%B8%BB%E4%BA%BA%E5%8F%91%E5%A3%B0&ie=utf-8&rsv_cq=asyncio&rsv_dl=0_right_fyb_pchot_20811_01&rsv_pq=f7a917d100110472&oq=asyncio&rsv_t=6246B4PKWlrVnaqPzCJOw4I3v2DQeWM4aP9TqSVC5gza1JAGO2T668GVNIg&rsf=696194a3ebf10ff0798eeb8a55b0eeff_21_30_22\" class=\"c-font-medium c-color-t opr-toplist1-subtitle\">\\n                        猪坚强原主人发声\\n                    </a>\\n                                                                    <span class=\"c-text c-text-new opr-toplist1-label\">新</span>\\n                                    </td>\\n                <td class=\"toplist1-right-num toplist1-td c-color-gray\" style=\"line-height:20px;position:relative;top:2px;\">244万</td>\\n            </tr>\\n                                    <tr class=\"toplist1-tr\">\\n                                                                                                                                                                                                            \\n                                                                                                                                                            <td class=\"toplist1-td opr-toplist1-link\">\\n                                        <span class=\"toplist1-hot c-index-single toplist1-hot-normal \" style=\"opacity:1;\">\\n                        23\\n                    </span>\\n                    <a target=\"_blank\" title=\"小象花式撒娇叫大象起床\" href=\"/s?wd=%E5%B0%8F%E8%B1%A1%E8%8A%B1%E5%BC%8F%E6%92%92%E5%A8%87%E5%8F%AB%E5%A4%A7%E8%B1%A1%E8%B5%B7%E5%BA%8A&ie=utf-8&rsv_cq=asyncio&rsv_dl=0_right_fyb_pchot_20811_01&rsv_pq=f7a917d100110472&oq=asyncio&rsv_t=b689itouXYWqIZcUMxfeFeBbFJjdt2AASlQv%2B99icMg%2Fk193vY%2BlKL8iiO4&rsf=696194a3ebf10ff0798eeb8a55b0eeff_21_30_23\" class=\"c-font-medium c-color-t opr-toplist1-subtitle\">\\n                        小象花式撒娇叫大象起床\\n                    </a>\\n                                    </td>\\n                <td class=\"toplist1-right-num toplist1-td c-color-gray\" style=\"line-height:20px;position:relative;top:2px;\">231万</td>\\n            </tr>\\n                                    <tr class=\"toplist1-tr\">\\n                                                                                                                                                                                                            \\n                                                                                                                                                            <td class=\"toplist1-td opr-toplist1-link\">\\n                                        <span class=\"toplist1-hot c-index-single toplist1-hot-normal \" style=\"opacity:1;\">\\n                        24\\n                    </span>\\n                    <a target=\"_blank\" title=\"山西铁矿事故致13死 13人被刑拘\" href=\"/s?wd=%E5%B1%B1%E8%A5%BF%E9%93%81%E7%9F%BF%E4%BA%8B%E6%95%85%E8%87%B413%E6%AD%BB+13%E4%BA%BA%E8%A2%AB%E5%88%91%E6%8B%98&ie=utf-8&rsv_cq=asyncio&rsv_dl=0_right_fyb_pchot_20811_01&rsv_pq=f7a917d100110472&oq=asyncio&rsv_t=69a4Wuq4ECNAhWP%2BQFyrQusV%2FNL1%2BxBJ9Vjha%2Bham%2FgwziElPfBDYAXmro4&rsf=696194a3ebf10ff0798eeb8a55b0eeff_21_30_24\" class=\"c-font-medium c-color-t opr-toplist1-subtitle\">\\n                        山西铁矿事故致13死 13人被刑拘\\n                    </a>\\n                                    </td>\\n                <td class=\"toplist1-right-num toplist1-td c-color-gray\" style=\"line-height:20px;position:relative;top:2px;\">225万</td>\\n            </tr>\\n                                    <tr class=\"toplist1-tr\">\\n                                                                                                                                                                                                            \\n                                                                                                                                                            <td class=\"toplist1-td opr-toplist1-link\">\\n                                        <span class=\"toplist1-hot c-index-single toplist1-hot-normal \" style=\"opacity:1;\">\\n                        25\\n                    </span>\\n                    <a target=\"_blank\" title=\"学生收麦子被指作秀 高校回应\" href=\"/s?wd=%E5%AD%A6%E7%94%9F%E6%94%B6%E9%BA%A6%E5%AD%90%E8%A2%AB%E6%8C%87%E4%BD%9C%E7%A7%80+%E9%AB%98%E6%A0%A1%E5%9B%9E%E5%BA%94&ie=utf-8&rsv_cq=asyncio&rsv_dl=0_right_fyb_pchot_20811_01&rsv_pq=f7a917d100110472&oq=asyncio&rsv_t=5c36Sp5IvTztcRM7%2B%2BGD%2F6c9VEeWq8sg3PMI4L7rFFhwasyYSk44WoVrjG8&rsf=696194a3ebf10ff0798eeb8a55b0eeff_21_30_25\" class=\"c-font-medium c-color-t opr-toplist1-subtitle\">\\n                        学生收麦子被指作秀 高校回应\\n                    </a>\\n                                    </td>\\n                <td class=\"toplist1-right-num toplist1-td c-color-gray\" style=\"line-height:20px;position:relative;top:2px;\">219万</td>\\n            </tr>\\n                                    <tr class=\"toplist1-tr\">\\n                                                                                                                                                                                                            \\n                                                                                                                                                            <td class=\"toplist1-td opr-toplist1-link\">\\n                                        <span class=\"toplist1-hot c-index-single toplist1-hot-normal \" style=\"opacity:1;\">\\n                        26\\n                    </span>\\n                    <a target=\"_blank\" title=\"航天员手上拎的小箱子是干啥用的\" href=\"/s?wd=%E8%88%AA%E5%A4%A9%E5%91%98%E6%89%8B%E4%B8%8A%E6%8B%8E%E7%9A%84%E5%B0%8F%E7%AE%B1%E5%AD%90%E6%98%AF%E5%B9%B2%E5%95%A5%E7%94%A8%E7%9A%84&ie=utf-8&rsv_cq=asyncio&rsv_dl=0_right_fyb_pchot_20811_01&rsv_pq=f7a917d100110472&oq=asyncio&rsv_t=9c05rJq21sfyJbU6IDvbXjNekur65xDv%2Bnv93LDwwPyhIreYDCC9ygh4sxo&rsf=696194a3ebf10ff0798eeb8a55b0eeff_21_30_26\" class=\"c-font-medium c-color-t opr-toplist1-subtitle\">\\n                        航天员手上拎的小箱子是干啥用的\\n                    </a>\\n                                    </td>\\n                <td class=\"toplist1-right-num toplist1-td c-color-gray\" style=\"line-height:20px;position:relative;top:2px;\">208万</td>\\n            </tr>\\n                        </tbody>    </table>\\n    </div>\\n<script data-compress=\"off\">\\n    //为阿拉丁单条结果实例创建数据\\n    //此标签用来准备注释，不需要添加 data-merge\\n A.setup({\\n        num:\\'3\\'\\n    });\\n</script>\\n\\n\\n</div>\\n</div>\\n\\t\\t\\t\\n\\t\\t\\t\\t\\t    \\t\\n    \\n</div>\\n\\n            \\n            \\n\\n\\n            \\n            \\n\\t\\n\\t\\n\\n            \\n            \\n<div>\\n</div>\\n\\n\\n            \\n        </td></tr></table>\\n    </div>\\n\\t\\t\\n\\n\\t\\n\\t\\n\\n\\r\\n\\t\\t\\t\\t\\r\\n\\r\\n\\r\\n\\r\\n\\r\\n\\r\\n\\r\\n<div class=\"head_nums_cont_outer OP_LOG new_head_nums_cont_outer\" ><div class=\"head_nums_cont_inner\" ><div class=\"search_tool_conter new_search_tool_conter\"><span class=\"c-gap-left-samll search_tool_close\"><i class=\"c-icon searchTool-up c-icon-chevron-top-gray-s\"></i>收起工具</span><span class=\"search_tool_tf \">时间不限<i class=\"c-icon c-icon-triangle-down\"></i></span><span class=\"search_tool_ft c-gap-left\">所有网页和文件<i class=\"c-icon c-icon-triangle-down\"></i></span><span class=\"search_tool_si c-gap-left\">站点内检索<i class=\"c-icon c-icon-triangle-down\"></i></span></div><div class=\"nums new_nums\"><div class=\"search_tool\" ><i class=\"c-icon searchTool-spanner c-icon-setting\"></i>搜索工具</div><span class=\"nums_text\">百度为您找到相关结果约5,280,000个</span></div></div></div>\\r\\n<script type=\"text/javascript\">\\r\\n\\tbds.comm.search_tool = {};\\r\\n\\tbds.comm.search_tool.sl_lang = \"\";\\r\\n\\tbds.comm.search_tool.st = \"\";\\r\\n\\tbds.comm.search_tool.et = \"\";\\r\\n\\tbds.comm.search_tool.stftype = \"\";\\r\\n\\tbds.comm.search_tool.ft = \"\";\\r\\n\\tbds.comm.search_tool.si = \"\";\\r\\n\\tbds.comm.search_tool.exact = \"\";\\r\\n\\tbds.comm.search_tool.oneDay = \"1623825597\";\\r\\n\\tbds.comm.search_tool.oneWeek = \"1623307197\";\\r\\n\\tbds.comm.search_tool.oneMonth = \"1621233597\";\\r\\n\\tbds.comm.search_tool.oneYear = \"1592375997\";\\r\\n\\tbds.comm.search_tool.thisDay = \"1623772800\";\\r\\n\\tbds.comm.search_tool.thisWeek = \"1623254400\";\\r\\n\\tbds.comm.search_tool.thisMonth = \"1621180800\";\\r\\n\\tbds.comm.search_tool.thisYear = \"1592323200\";\\r\\n\\tbds.comm.search_tool.actualResultLang = \"cn\";\\r\\n</script>\\r\\n\\r\\n\\n\\n\\n\\n\\n\\n\\n\\n\\n<div id=\"content_left\">\\n\\t\\n    \\n\\t\\n\\t\\t\\n\\n\\t\\n\\n\\t\\n\\t\\n\\t\\t\\t\\t\\n\\t\\t\\t\\t\\n\\t\\t\\t\\n\\t\\n\\n\\t\\n\\t\\n\\t\\t\\t\\t\\t\\t        \\t\\t\\t\\n\\t\\t\\t\\t\\t\\t\\n\\t            \\t\\t\\t\\n\\t\\t\\t\\t\\t\\t\\n\\n\\t\\t\\t\\n\\t\\t\\n        \\n\\t\\t\\n\\n\\t\\t\\t\\t\\n\\n\\t\\t\\n\\t\\t                        \\t\\t\\n\\t\\t\\t\\t\\t\\t\\t\\t\\t\\t\\t\\t\\t\\t\\n\\t\\t\\t\\t\\t\\t\\t\\t\\t\\t\\t\\t\\t\\t\\t\\t\\t\\t\\t\\t\\t\\t\\t\\t\\t\\t\\t\\t\\t\\t\\t\\t\\n\\t\\t\\t\\t\\t\\t\\t\\t\\t\\t\\t\\t\\t\\t\\t\\t\\t\\t\\t\\t\\t\\t\\t\\t\\t\\t\\t\\t\\t\\t<div class=\"result c-container new-pmd\" id=\"21\" srcid=\"1599\" tpl=\"se_com_default\"  data-click=\"{\\'rsv_bdr\\':\\'\\' }\"  ><h3 class=\"t c-title-en\" ><a\\n\\t        data-click=\"{\\n\\t\\t\\t\\'F\\':\\'778317EA\\',\\n\\t\\t\\t\\'F1\\':\\'9D73F1E4\\',\\n\\t\\t\\t\\'F2\\':\\'4CA6DE6B\\',\\n\\t\\t\\t\\'F3\\':\\'54E5243F\\',\\n\\t\\t\\t\\'T\\':\\'1623911997\\',\\n\\t\\t\\t\\t\\t\\t\\'y\\':\\'35FF3B54\\'\\n\\t\\t\\t\\t\\t\\t\\t\\t\\t\\t\\t\\t}\"\\n        href = \"http://www.baidu.com/link?url=EqwgVpg9laQ94l3eAMhNXczPU86oWPkEDnuSOWU50TkxWnR6s38ECnV_2564Sh4JQHm-eEUtLiijcqynL_r-cK\"\\n\\n\\t\\t            target=\"_blank\"\\n        \\n\\t\\t><em>asyncio</em> — Asynchronous I/O — Python 3.9.5 documentat...</a></h3><div class=\"c-abstract c-abstract-en\"><em>asyncio</em> is used as a foundation for multiple Python asynchronous frameworks that provide high-performance network and web-servers, database connection libraries, ...</div><style>.user-avatar {\\n\\tdisplay: flex;\\n\\tflex-direction: row;\\n\\talign-items: center;\\n\\tjustify-content: flex-start;\\n}</style><div class=\"f13 c-gap-top-xsmall se_st_footer user-avatar\"><a target=\"_blank\" href=\"http://www.baidu.com/link?url=EqwgVpg9laQ94l3eAMhNXczPU86oWPkEDnuSOWU50TkxWnR6s38ECnV_2564Sh4JQHm-eEUtLiijcqynL_r-cK\" class=\"c-showurl c-color-gray\" style=\"text-decoration:none;position:relative;\">docs.python.org/3/library/<b>asyn</b>...</a><div class=\"c-tools c-gap-left\" id=\"tools_15852164004045743595_21\" data-tools=\\'{\"title\":\"asyncio — Asynchronous I/O — Python 3.9.5 documentation\",\"url\":\"http://www.baidu.com/link?url=EqwgVpg9laQ94l3eAMhNXczPU86oWPkEDnuSOWU50TkxWnR6s38ECnV_2564Sh4JQHm-eEUtLiijcqynL_r-cK\"}\\'><i class=\"c-icon f13\" >&#xe62b;</i></div><span class=\"c-icons-outer\"><span class=\"c-icons-inner\"></span></span><style>.snapshoot, .snapshoot:visited {\\n        color: #9195A3!important;\\n    }\\n    .snapshoot:active, .snapshoot:hover {\\n        color: #626675!important;\\n    }</style><a data-click=\"{\\'rsv_snapshot\\':\\'1\\'}\" href=\"http://cache.baiducontent.com/c?m=c9vnMCjMF0qy8UOC47RKmTm4kVNpANVx_N6HoDDQx3DUYGhXYcry2dh_rCbPRit9s6kV6AjJNUHb5-JQXp3bwvGR8i6nPnix06uX1ef78mTu_Lq-VZJlQQJMKcZOJ97t&p=9277c64ad48611a05bed96655043c9&newp=81769a478d9f0ae609bd9b7d0d149f231610db2151d7d201298ffe0cc4241a1a1a3aecbf2c271104d1c778630bab495cebf037763d0034f1f689df08d2ecce7e74d46c7d21&s=eccbc87e4b5ce2fe&user=baidu&fm=sc&query=asyncio&qid=f7a917d100110472&p1=21\"\\n                        target=\"_blank\"\\n                    class=\"m c-gap-left c-color-gray kuaizhao snapshoot\">百度快照</a>&nbsp;-&nbsp;<a href=\"http://www.baidu.com/link?url=jSINgXfMul0nD31vSB0vbk4noroCTOHkvLzx52pf90ZCRVu2L3NK1tZALrJ5ujhloBFhk53VybYQxr2xK4G-mfBmaVAygD2wEubNqrqX8DbuegWwxKwwoNm1g3ZhNVqhFZKXeuKX82n0UWbUPjQWx4GSTuq5TbhsuubrjtWjElXCpfU3jfCNnvCknxGeZGlP6Z8f-2cWlDxpQRAFB3_epNrVzEljPT2vaT-iRKIhFAC\" target=\"_blank\" class=\"m\">翻译此页</a></div></div>\\n\\t\\t\\t\\t\\t        \\n\\t\\t\\t\\t\\n\\t\\t\\n\\t\\t\\t\\t\\t\\t\\n\\t        \\n        \\n\\t\\t\\n\\n\\t\\t\\t\\t\\n\\n\\t\\t\\n\\t\\t                        \\t\\t\\n\\t\\t\\t\\t\\t\\t\\t\\t\\t\\t\\t\\t\\t\\t\\n\\t\\t\\t\\t\\t\\t\\t\\t\\t\\t\\t\\t\\t\\t\\t\\t\\t\\t\\t\\t\\t\\t\\t\\t\\t\\t\\t\\t\\t\\t\\t\\t\\n\\t\\t\\t\\t\\t\\t\\t\\t\\t\\t\\t\\t\\t\\t\\t\\t\\t\\t\\t\\t\\t\\t\\t\\t\\t\\t\\t\\t\\t\\t<div class=\"result c-container new-pmd\" id=\"22\" srcid=\"1599\" tpl=\"se_com_default\"  data-click=\"{\\'rsv_bdr\\':\\'\\' }\"  ><h3 class=\"t\" ><a\\n\\t        data-click=\"{\\n\\t\\t\\t\\'F\\':\\'778317EA\\',\\n\\t\\t\\t\\'F1\\':\\'9D73F1E4\\',\\n\\t\\t\\t\\'F2\\':\\'4CA6DE6B\\',\\n\\t\\t\\t\\'F3\\':\\'54E5243F\\',\\n\\t\\t\\t\\'T\\':\\'1623911997\\',\\n\\t\\t\\t\\t\\t\\t\\'y\\':\\'FFD3FFFF\\'\\n\\t\\t\\t\\t\\t\\t\\t\\t\\t\\t\\t\\t}\"\\n        href = \"http://www.baidu.com/link?url=RBGcSFajas52tJ3UFWLiqyL80PAGvPWbtwG1traHY48j1EGCmd2iZo2RHTkvOJBv5e8lRmy630mY4OqaxD1mDq\"\\n\\n\\t\\t            target=\"_blank\"\\n        \\n\\t\\t><em>asyncio</em> - 百鬼之主 - 博客园</a></h3><div class=\"c-abstract\"><span class=\" newTimeFactor_before_abs c-color-gray2 m\">2019年8月7日&nbsp;</span><em>asyncio</em>的编程模型就是一个消息循环。我们从<em>asyncio</em>模块中直接获取一个EventLoop的引用,然后把需要执行的协程扔到EventLoop中执行,就实现了异步IO。 flask服务 f...</div><style>.user-avatar {\\n\\tdisplay: flex;\\n\\tflex-direction: row;\\n\\talign-items: center;\\n\\tjustify-content: flex-start;\\n}</style><div class=\"f13 c-gap-top-xsmall se_st_footer user-avatar\"><a target=\"_blank\" href=\"http://www.baidu.com/link?url=RBGcSFajas52tJ3UFWLiqyL80PAGvPWbtwG1traHY48j1EGCmd2iZo2RHTkvOJBv5e8lRmy630mY4OqaxD1mDq\" class=\"c-showurl c-color-gray\" style=\"text-decoration:none;position:relative;\">博客园</span></a><div class=\"c-tools c-gap-left\" id=\"tools_10297903114233071841_22\" data-tools=\\'{\"title\":\"asyncio - 百鬼之主 - 博客园\",\"url\":\"http://www.baidu.com/link?url=RBGcSFajas52tJ3UFWLiqyL80PAGvPWbtwG1traHY48j1EGCmd2iZo2RHTkvOJBv5e8lRmy630mY4OqaxD1mDq\"}\\'><i class=\"c-icon f13\" >&#xe62b;</i></div><span class=\"c-icons-outer\"><span class=\"c-icons-inner\"></span></span><style>.snapshoot, .snapshoot:visited {\\n        color: #9195A3!important;\\n    }\\n    .snapshoot:active, .snapshoot:hover {\\n        color: #626675!important;\\n    }</style><a data-click=\"{\\'rsv_snapshot\\':\\'1\\'}\" href=\"http://cache.baiducontent.com/c?m=T--Cl-6ioM1fVY7d_fwVcehE0CT-TxuImjDfR6k5kdL7Z4fv-AduTnZl0qS2fiPtNWnOph0LJZd7j-t2u0Ta0fG31NQhD-x4ZO6WKK6eQ5jzoNWh5UlLTFAjSZ5UHORd&p=c4769a478db114e42abd9b7d0e1588&newp=882a9646d58412a05aafdf661b5ccb231610db2151d6d5106b82c825d7331b001c3bbfb423291504d9c577600bae4f5aeffb3079370923a3dda5c91d9fb4c57479cf&s=9517fd0bf8faa655&user=baidu&fm=sc&query=asyncio&qid=f7a917d100110472&p1=22\"\\n                        target=\"_blank\"\\n                    class=\"m c-gap-left c-color-gray kuaizhao snapshoot\">百度快照</a></div></div>\\n\\t\\t\\t\\t\\t        \\n\\t\\t\\t\\t\\n\\t\\t\\n\\t\\t\\t\\t\\t\\t\\n\\t        \\n        \\n\\t\\t\\n\\n\\t\\t\\t\\t\\n\\n\\t\\t\\n\\t\\t                        \\t\\t\\n\\t\\t\\t\\t\\t\\t\\t\\t\\t\\t\\t\\t\\t\\t\\n\\t\\t\\t\\t\\t\\t\\t\\t\\t\\t\\t\\t\\t\\t\\t\\t\\t\\t\\t\\t\\t\\t\\t\\t\\t\\t\\t\\t\\t\\t\\t\\t\\n\\t\\t\\t\\t\\t\\t\\t\\t\\t\\t\\t\\t\\t\\t\\t\\t\\t\\t\\t\\t\\t\\t\\t\\t\\t\\t\\t\\t\\t\\t<div class=\"result c-container new-pmd\" id=\"23\" srcid=\"1599\" tpl=\"se_com_default\"  data-click=\"{\\'rsv_bdr\\':\\'\\' }\"  ><h3 class=\"t\" ><a\\n\\t        data-click=\"{\\n\\t\\t\\t\\'F\\':\\'778317EA\\',\\n\\t\\t\\t\\'F1\\':\\'9D73F1E4\\',\\n\\t\\t\\t\\'F2\\':\\'4CA6DE6B\\',\\n\\t\\t\\t\\'F3\\':\\'54E5243F\\',\\n\\t\\t\\t\\'T\\':\\'1623911997\\',\\n\\t\\t\\t\\t\\t\\t\\'y\\':\\'E6EE7FFF\\'\\n\\t\\t\\t\\t\\t\\t\\t\\t\\t\\t\\t\\t}\"\\n        href = \"http://www.baidu.com/link?url=ZneqwMo_njrhuKUF1CPP7EjMuzKLEwxt7CxNVqx8xmmc9FNABYu2B8sdOEbkbDz5S3s_ODo3vyUNxSus3PaLJmL_5LUlbRey0xT2rW4s-8m\"\\n\\n\\t\\t            target=\"_blank\"\\n        \\n\\t\\t><em>asyncio</em>_十年学会编程-CSDN博客</a></h3><div class=\"c-abstract\"><span class=\" newTimeFactor_before_abs c-color-gray2 m\">2020年10月19日&nbsp;</span><em>asyncio</em>是Python 3.4版本引入的标准库,直接内置了对异步IO的支持。 <em>asyncio</em>的编程模型就是一个消息循环。我们从<em>asyncio</em>模块中直接获取一个EventLoop的引用,然...</div><style>.user-avatar {\\n\\tdisplay: flex;\\n\\tflex-direction: row;\\n\\talign-items: center;\\n\\tjustify-content: flex-start;\\n}</style><div class=\"f13 c-gap-top-xsmall se_st_footer user-avatar\"><a target=\"_blank\" href=\"http://www.baidu.com/link?url=ZneqwMo_njrhuKUF1CPP7EjMuzKLEwxt7CxNVqx8xmmc9FNABYu2B8sdOEbkbDz5S3s_ODo3vyUNxSus3PaLJmL_5LUlbRey0xT2rW4s-8m\" class=\"c-showurl c-color-gray\" style=\"text-decoration:none;position:relative;\"><div class=\"c-img c-img-circle c-gap-right-xsmall\" style=\"display: inline-block;width: 16px;height: 16px;position: relative;top: 3px;vertical-align:top;\"><span class=\"c-img-border c-img-source-border c-img-radius-large\"></span><img src=\"https://ss1.baidu.com/6ONXsjip0QIZ8tyhnq/it/u=188955431,3893600750&amp;fm=195&amp;app=88&amp;f=JPEG?w=200&amp;h=200\"></div>CSDN技术社区</span></a><div class=\"c-tools c-gap-left\" id=\"tools_2598873512586861138_23\" data-tools=\\'{\"title\":\"asyncio_十年学会编程-CSDN博客\",\"url\":\"http://www.baidu.com/link?url=ZneqwMo_njrhuKUF1CPP7EjMuzKLEwxt7CxNVqx8xmmc9FNABYu2B8sdOEbkbDz5S3s_ODo3vyUNxSus3PaLJmL_5LUlbRey0xT2rW4s-8m\"}\\'><i class=\"c-icon f13\" >&#xe62b;</i></div><span class=\"c-icons-outer\"><span class=\"c-icons-inner\"></span></span><style>.snapshoot, .snapshoot:visited {\\n        color: #9195A3!important;\\n    }\\n    .snapshoot:active, .snapshoot:hover {\\n        color: #626675!important;\\n    }</style><a data-click=\"{\\'rsv_snapshot\\':\\'1\\'}\" href=\"http://cache.baiducontent.com/c?m=oI-BSXPpqUzQ5h3OYUXAxXfbrE6Zo_c2-CQohg0m83YaCzbIdlnwDGqKnTP-dn5gZKue13Ll9C36b2DIZ2DhS3AWw09PxhEbshmU0DirtVKxBi_uz0ZCY4ap8Y3gVEFLqOjjcvKmnqiMLL4vZzhBqa&p=9f33cf1c85cc43fe00bd9b7d0d1483&newp=8d759a46d6c10eee1fbe9b7c5a648c231610db2151d7d3146b82c825d7331b001c3bbfb423291505d3c77e6305a54d5ceaf13673330923a3dda5c91d9fb4c57479c76673&s=cfcd208495d565ef&user=baidu&fm=sc&query=asyncio&qid=f7a917d100110472&p1=23\"\\n                        target=\"_blank\"\\n                    class=\"m c-gap-left c-color-gray kuaizhao snapshoot\">百度快照</a></div></div>\\n\\t\\t\\t\\t\\t        \\n\\t\\t\\t\\t\\n\\t\\t\\n\\t\\t\\t\\t\\t\\t\\n\\t        \\n        \\n\\t\\t\\n\\n\\t\\t\\t\\t\\n\\n\\t\\t\\n\\t\\t                        \\t\\t\\n\\t\\t\\t\\t\\t\\t\\t\\t\\t\\t\\t\\t\\t\\t\\n\\t\\t\\t\\t\\t\\t\\t\\t\\t\\t\\t\\t\\t\\t\\t\\t\\t\\t\\t\\t\\t\\t\\t\\t\\t\\t\\t\\t\\t\\t\\t\\t\\n\\t\\t\\t\\t\\t\\t\\t\\t\\t\\t\\t\\t\\t\\t\\t\\t\\t\\t\\t\\t\\t\\t\\t\\t\\t\\t\\t\\t\\t\\t<div class=\"result c-container new-pmd\" id=\"24\" srcid=\"1599\" tpl=\"se_com_default\"  data-click=\"{\\'rsv_bdr\\':\\'\\' }\"  ><h3 class=\"t\" ><a\\n\\t        data-click=\"{\\n\\t\\t\\t\\'F\\':\\'778317EA\\',\\n\\t\\t\\t\\'F1\\':\\'9D73F1E4\\',\\n\\t\\t\\t\\'F2\\':\\'4CA6DE6B\\',\\n\\t\\t\\t\\'F3\\':\\'54E5243F\\',\\n\\t\\t\\t\\'T\\':\\'1623911997\\',\\n\\t\\t\\t\\t\\t\\t\\'y\\':\\'7BBACF9D\\'\\n\\t\\t\\t\\t\\t\\t\\t\\t\\t\\t\\t\\t}\"\\n        href = \"http://www.baidu.com/link?url=Cq2iPohbVzTvJ_PRHY2bivhGqGTaUZ3H-RfS3V9zNYVV-ZSeh_b30if6Y-4hCTAsq6_wu11d55GJFFMacZih3a\"\\n\\n\\t\\t            target=\"_blank\"\\n        \\n\\t\\t>怎么掌握<em>asyncio</em>? - 知乎</a></h3><div class=\"c-row c-gap-top-small\"><div class=\"general_image_pic c-span3\" style=\"position:relative;top:2px;\"><a class=\"c-img c-img3 c-img-radius-large\" style=\"height:85px\"\\n          href=\"http://www.baidu.com/link?url=Cq2iPohbVzTvJ_PRHY2bivhGqGTaUZ3H-RfS3V9zNYVV-ZSeh_b30if6Y-4hCTAsq6_wu11d55GJFFMacZih3a\"\\n                target=\"_blank\"\\n      ><img class=\"c-img c-img3 c-img-radius-large\" src=\"http://t8.baidu.com/it/u=2236738552,879848245&fm=218&app=92&f=JPEG?w=121&h=75&s=FB2B9C444E234C0D62AE68530300509B\"  style=\"height:85px;\" /><span class=\"c-img-border c-img-radius-large\"></span></a></div><div class=\"c-span9 c-span-last\"><div class=\"c-abstract\"><span class=\" newTimeFactor_before_abs c-color-gray2 m\">2018年12月19日&nbsp;</span>虽然后面主要的篇幅都是私货，但是前面部分也是值得读一下的……我快速给你过一下<em>asyncio</em>的概念，你结合...</div><style>.user-avatar {\\n\\tdisplay: flex;\\n\\tflex-direction: row;\\n\\talign-items: center;\\n\\tjustify-content: flex-start;\\n}</style><div class=\"f13 c-gap-top-xsmall se_st_footer user-avatar\"><a target=\"_blank\" href=\"http://www.baidu.com/link?url=Cq2iPohbVzTvJ_PRHY2bivhGqGTaUZ3H-RfS3V9zNYVV-ZSeh_b30if6Y-4hCTAsq6_wu11d55GJFFMacZih3a\" class=\"c-showurl c-color-gray\" style=\"text-decoration:none;position:relative;\"><div class=\"c-img c-img-circle c-gap-right-xsmall\" style=\"display: inline-block;width: 16px;height: 16px;position: relative;top: 3px;vertical-align:top;\"><span class=\"c-img-border c-img-source-border c-img-radius-large\"></span><img src=\"https://ss0.baidu.com/6ONWsjip0QIZ8tyhnq/it/u=493147230,3096476255&amp;fm=195&amp;app=88&amp;f=JPEG?w=200&amp;h=200\"></div>知乎</span></a><div class=\"c-tools c-gap-left\" id=\"tools_5610142833847034293_24\" data-tools=\\'{\"title\":\"怎么掌握asyncio? - 知乎\",\"url\":\"http://www.baidu.com/link?url=Cq2iPohbVzTvJ_PRHY2bivhGqGTaUZ3H-RfS3V9zNYVV-ZSeh_b30if6Y-4hCTAsq6_wu11d55GJFFMacZih3a\"}\\'><i class=\"c-icon f13\" >&#xe62b;</i></div><span class=\"c-icons-outer\"><span class=\"c-icons-inner\"></span></span><style>.snapshoot, .snapshoot:visited {\\n        color: #9195A3!important;\\n    }\\n    .snapshoot:active, .snapshoot:hover {\\n        color: #626675!important;\\n    }</style><a data-click=\"{\\'rsv_snapshot\\':\\'1\\'}\" href=\"http://cache.baiducontent.com/c?m=WdKEwpiXnz7bLj4bV2HWFuTUb_G4_u2hsEvi2zrmSSBFMkdXNbX7rKP1MxIAWGzfQhnMRkLqX1fXMfxmLSDZAVSdT6KgBCOXN_CQ7U07NTO&p=936cdf15d9c24be709be9b7c4e49&newp=8b2a970c86cc40a510afdf2b134492695d0fc20e38d0d401298ffe0cc4241a1a1a3aecbf2c27100ed3ce7b6d00a94f59e1f63d723d0034f1f689df08d2ecce7e66&s=e2c420d928d4bf8c&user=baidu&fm=sc&query=asyncio&qid=f7a917d100110472&p1=24\"\\n                        target=\"_blank\"\\n                    class=\"m c-gap-left c-color-gray kuaizhao snapshoot\">百度快照</a></div></div></div></div>\\n\\t\\t\\t\\t\\t        \\n\\t\\t\\t\\t\\n\\t\\t\\n\\t\\t\\t\\t\\t\\t\\n\\t        \\n        \\n\\t\\t\\n\\n\\t\\t\\t\\t\\n\\n\\t\\t\\n\\t\\t                        \\t\\t\\n\\t\\t\\t\\t\\t\\t\\t\\t\\t\\t\\t\\t\\t\\t\\n\\t\\t\\t\\t\\t\\t\\t\\t\\t\\t\\t\\t\\t\\t\\t\\t\\t\\t\\t\\t\\t\\t\\t\\t\\t\\t\\t\\t\\t\\t\\t\\t\\n\\t\\t\\t\\t\\t\\t\\t\\t\\t\\t\\t\\t\\t\\t\\t\\t\\t\\t\\t\\t\\t\\t\\t\\t\\t\\t\\t\\t\\t\\t<div class=\"result c-container new-pmd\" id=\"25\" srcid=\"1599\" tpl=\"se_com_default\"  data-click=\"{\\'rsv_bdr\\':\\'\\' }\"  ><h3 class=\"t\" ><a\\n\\t        data-click=\"{\\n\\t\\t\\t\\'F\\':\\'778317EA\\',\\n\\t\\t\\t\\'F1\\':\\'9D73F1E4\\',\\n\\t\\t\\t\\'F2\\':\\'4CA6DD6B\\',\\n\\t\\t\\t\\'F3\\':\\'54E5243F\\',\\n\\t\\t\\t\\'T\\':\\'1623911997\\',\\n\\t\\t\\t\\t\\t\\t\\'y\\':\\'1FBEBF5F\\'\\n\\t\\t\\t\\t\\t\\t\\t\\t\\t\\t\\t\\t}\"\\n        href = \"http://www.baidu.com/link?url=dla2yO1U3IhfDNYBO3Pk9nJRSeFc0WNy_thcX0uLnISzWIQpdcOLDnYEJdXSvsj-ocusRoT_c7Aq5nVZAu_vvK\"\\n\\n\\t\\t            target=\"_blank\"\\n        \\n\\t\\t><em>asyncio</em>_python协程系列-CSDN下载</a></h3><div class=\"c-row c-gap-top-small\"><div class=\"general_image_pic c-span3\" style=\"position:relative;top:2px;\"><a class=\"c-img c-img3 c-img-radius-large\" style=\"height:85px\"\\n          href=\"http://www.baidu.com/link?url=dla2yO1U3IhfDNYBO3Pk9nJRSeFc0WNy_thcX0uLnISzWIQpdcOLDnYEJdXSvsj-ocusRoT_c7Aq5nVZAu_vvK\"\\n                target=\"_blank\"\\n      ><img class=\"c-img c-img3 c-img-radius-large\" src=\"http://t8.baidu.com/it/u=200312633,3098006654&fm=218&app=92&f=JPEG?w=121&h=75&s=3AF348941846BE4F1CBEE7810300608B\"  style=\"height:85px;\" /><span class=\"c-img-border c-img-radius-large\"></span></a></div><div class=\"c-span9 c-span-last\"><div class=\"c-abstract\"><span class=\" newTimeFactor_before_abs c-color-gray2 m\">2020年9月23日&nbsp;</span>CSDN为您整理<em>asyncio</em>相关软件和工具、python协程系列是什么、<em>asyncio</em>文档资料的方面内容详细介绍,更多<em>asyncio</em>相关下载资源请访问CSDN下载。</div><style>.user-avatar {\\n\\tdisplay: flex;\\n\\tflex-direction: row;\\n\\talign-items: center;\\n\\tjustify-content: flex-start;\\n}</style><div class=\"f13 c-gap-top-xsmall se_st_footer user-avatar\"><a target=\"_blank\" href=\"http://www.baidu.com/link?url=dla2yO1U3IhfDNYBO3Pk9nJRSeFc0WNy_thcX0uLnISzWIQpdcOLDnYEJdXSvsj-ocusRoT_c7Aq5nVZAu_vvK\" class=\"c-showurl c-color-gray\" style=\"text-decoration:none;position:relative;\"><div class=\"c-img c-img-circle c-gap-right-xsmall\" style=\"display: inline-block;width: 16px;height: 16px;position: relative;top: 3px;vertical-align:top;\"><span class=\"c-img-border c-img-source-border c-img-radius-large\"></span><img src=\"https://ss0.baidu.com/6ONWsjip0QIZ8tyhnq/it/u=3807452327,1246828884&amp;fm=195&amp;app=88&amp;f=JPEG?w=200&amp;h=200\"></div>CSDN技术社区</span></a><div class=\"c-tools c-gap-left\" id=\"tools_8115488785344330178_25\" data-tools=\\'{\"title\":\"asyncio_python协程系列-CSDN下载\",\"url\":\"http://www.baidu.com/link?url=dla2yO1U3IhfDNYBO3Pk9nJRSeFc0WNy_thcX0uLnISzWIQpdcOLDnYEJdXSvsj-ocusRoT_c7Aq5nVZAu_vvK\"}\\'><i class=\"c-icon f13\" >&#xe62b;</i></div><span class=\"c-icons-outer\"><span class=\"c-icons-inner\"></span></span><style>.snapshoot, .snapshoot:visited {\\n        color: #9195A3!important;\\n    }\\n    .snapshoot:active, .snapshoot:hover {\\n        color: #626675!important;\\n    }</style><a data-click=\"{\\'rsv_snapshot\\':\\'1\\'}\" href=\"http://cache.baiducontent.com/c?m=UFr-yuoQXRXaFCkO2eRDYYh0qTqYWeZuqfmdIikoAw4vhMOgOT22LRXqk2S4zfZQvaNfOdwTL24c0_88o2CSep33ultejPOlK-YJRXYVa30f7C8q4xFrBxNzYPIa9X7-&p=882a9643938857b40be296285c53&newp=c36eda15d9c047b31bb3c7710f5692695d0fc20e38d6d001298ffe0cc4241a1a1a3aecbf2c27100ed3ce7b6d00a94f59e1f63d723d0034f1f689df08d2ecce7e33cb79&s=cfcd208495d565ef&user=baidu&fm=sc&query=asyncio&qid=f7a917d100110472&p1=25\"\\n                        target=\"_blank\"\\n                    class=\"m c-gap-left c-color-gray kuaizhao snapshoot\">百度快照</a></div></div></div></div>\\n\\t\\t\\t\\t\\t        \\n\\t\\t\\t\\t\\n\\t\\t\\n\\t\\t\\t\\t\\t\\t\\n\\t        \\n        \\n\\t\\t\\n\\n\\t\\t\\t\\t\\n\\n\\t\\t\\n\\t\\t                        \\t\\t\\n\\t\\t\\t\\t\\t\\t\\t\\t\\t\\t\\t\\t\\t\\t\\n\\t\\t\\t\\t\\t\\t\\t\\t\\t\\t\\t\\t\\t\\t\\t\\t\\t\\t\\t\\t\\t\\t\\t\\t\\t\\t\\t\\t\\t\\t\\t\\t\\n\\t\\t\\t\\t\\t\\t\\t\\t\\t\\t\\t\\t\\t\\t\\t\\t\\t\\t\\t\\t\\t\\t\\t\\t\\t\\t\\t\\t\\t\\t<div class=\"result c-container new-pmd\" id=\"26\" srcid=\"1599\" tpl=\"se_com_default\"  data-click=\"{\\'rsv_bdr\\':\\'\\' }\"  ><h3 class=\"t\" ><a\\n\\t        data-click=\"{\\n\\t\\t\\t\\'F\\':\\'778317EA\\',\\n\\t\\t\\t\\'F1\\':\\'9D73F1E4\\',\\n\\t\\t\\t\\'F2\\':\\'4CA6DE6B\\',\\n\\t\\t\\t\\'F3\\':\\'54E5243F\\',\\n\\t\\t\\t\\'T\\':\\'1623911997\\',\\n\\t\\t\\t\\t\\t\\t\\'y\\':\\'F73BFDFD\\'\\n\\t\\t\\t\\t\\t\\t\\t\\t\\t\\t\\t\\t}\"\\n        href = \"http://www.baidu.com/link?url=9GeKMD6NtRz-C6_cxoTy3HBAVnMDyjRhzpHWwa7Aym6zIcr_p2N00yApcubyKnE6Wx45quX06VBDe4k4eHZykK\"\\n\\n\\t\\t            target=\"_blank\"\\n        \\n\\t\\t>Python 的异步 IO:<em>Asyncio</em> 简介_loop</a></h3><div class=\"c-abstract\"><span class=\" newTimeFactor_before_abs c-color-gray2 m\">2018年12月2日&nbsp;</span>Python 的 <em>asyncio</em> 类似于 C++ 的 Boost.Asio。 异步IO,就是你发起一个 IO 操作,不用等它结束,可以继续做其他事情,当它结束时,你会得到通知。 <em>Asyncio</em> 是并发(c...</div><style>.user-avatar {\\n\\tdisplay: flex;\\n\\tflex-direction: row;\\n\\talign-items: center;\\n\\tjustify-content: flex-start;\\n}</style><div class=\"f13 c-gap-top-xsmall se_st_footer user-avatar\"><a target=\"_blank\" href=\"http://www.baidu.com/link?url=9GeKMD6NtRz-C6_cxoTy3HBAVnMDyjRhzpHWwa7Aym6zIcr_p2N00yApcubyKnE6Wx45quX06VBDe4k4eHZykK\" class=\"c-showurl c-color-gray\" style=\"text-decoration:none;position:relative;\">搜狐网</span></a><div class=\"c-tools c-gap-left\" id=\"tools_221366857969692153_26\" data-tools=\\'{\"title\":\"Python 的异步 IO:Asyncio 简介_loop\",\"url\":\"http://www.baidu.com/link?url=9GeKMD6NtRz-C6_cxoTy3HBAVnMDyjRhzpHWwa7Aym6zIcr_p2N00yApcubyKnE6Wx45quX06VBDe4k4eHZykK\"}\\'><i class=\"c-icon f13\" >&#xe62b;</i></div><span class=\"c-icons-outer\"><span class=\"c-icons-inner\"></span></span><style>.snapshoot, .snapshoot:visited {\\n        color: #9195A3!important;\\n    }\\n    .snapshoot:active, .snapshoot:hover {\\n        color: #626675!important;\\n    }</style><a data-click=\"{\\'rsv_snapshot\\':\\'1\\'}\" href=\"http://cache.baiducontent.com/c?m=HCltrZKvbNL91Z0JTJAVn6O4MBvU-L1_-m_4z8JHJ3UlHLPGfiEDws0nsiSrTpxrSTdfWhG3loTRUQhFC5t8hgnzsKOesNOecTr9ohls02uAP8p8CV53KiMB21Abgum9&p=9f759a46d6c52dfc57efc12c47648f&newp=976fc64ad4934eac58eb882c7f5591231610db2151d4d1136b82c825d7331b001c3bbfb423291504d9c577600bae4f5aeffb3079370923a3dda5c91d9fb4c57479&s=cfcd208495d565ef&user=baidu&fm=sc&query=asyncio&qid=f7a917d100110472&p1=26\"\\n                        target=\"_blank\"\\n                    class=\"m c-gap-left c-color-gray kuaizhao snapshoot\">百度快照</a></div></div>\\n\\t\\t\\t\\t\\t        \\n\\t\\t\\t\\t\\n\\t\\t\\n\\t\\t\\t\\t\\t\\t\\n\\t        \\n        \\n\\t\\t\\n\\n\\t\\t\\t\\t\\n\\n\\t\\t\\n\\t\\t                        \\t\\t\\n\\t\\t\\t\\t\\t\\t\\t\\t\\t\\t\\t\\t\\t\\t\\n\\t\\t\\t\\t\\t\\t\\t\\t\\t\\t\\t\\t\\t\\t\\t\\t\\t\\t\\t\\t\\t\\t\\t\\t\\t\\t\\t\\t\\t\\t\\t\\t\\n\\t\\t\\t\\t\\t\\t\\t\\t\\t\\t\\t\\t\\t\\t\\t\\t\\t\\t\\t\\t\\t\\t\\t\\t\\t\\t\\t\\t\\t\\t<div class=\"result c-container new-pmd\" id=\"27\" srcid=\"1599\" tpl=\"se_com_default\"  data-click=\"{\\'rsv_bdr\\':\\'\\' }\"  ><h3 class=\"t\" ><a\\n\\t        data-click=\"{\\n\\t\\t\\t\\'F\\':\\'778717EA\\',\\n\\t\\t\\t\\'F1\\':\\'9D73F1E4\\',\\n\\t\\t\\t\\'F2\\':\\'4CA6DD6B\\',\\n\\t\\t\\t\\'F3\\':\\'54E5243F\\',\\n\\t\\t\\t\\'T\\':\\'1623911997\\',\\n\\t\\t\\t\\t\\t\\t\\'y\\':\\'7EF7179E\\'\\n\\t\\t\\t\\t\\t\\t\\t\\t\\t\\t\\t\\t}\"\\n        href = \"http://www.baidu.com/link?url=XKFHI7kbApl3act2Juetlro3bgpWHxhiS9d-JWfSbz6dDbX2UdeU5OURFMkiX2Hht0U_1aSxXV9vjoEl3tmWR1ZqklEIEaPjav1fybvUE4u\"\\n\\n\\t\\t            target=\"_blank\"\\n        \\n\\t\\t>python3 <em>asyncio</em>官方文档中文版.pdf</a></h3><div class=\"c-row c-gap-top-small\"><div class=\"general_image_pic c-span3\" style=\"position:relative;top:2px;\"><a class=\"c-img c-img3 c-img-radius-large\" style=\"height:85px\"\\n          href=\"http://www.baidu.com/link?url=XKFHI7kbApl3act2Juetlro3bgpWHxhiS9d-JWfSbz6dDbX2UdeU5OURFMkiX2Hht0U_1aSxXV9vjoEl3tmWR1ZqklEIEaPjav1fybvUE4u\"\\n                target=\"_blank\"\\n      ><img class=\"c-img c-img3 c-img-radius-large\" src=\"http://t9.baidu.com/it/u=1246604563,1922961189&fm=218&app=92&f=JPG?w=121&h=75&s=1193A87E12EEC74D0C885A46020040F5\"  style=\"height:85px;\" /><span class=\"c-img-border c-img-radius-large\"></span></a></div><div class=\"c-span9 c-span-last\"><div class=\"c-abstract\"><span class=\" newTimeFactor_before_abs c-color-gray2 m\">2019年3月27日&nbsp;</span>python3 <em>asyncio</em>官方文档中文版.pdf,目录 首页 1. 事件循环基类 2. 事件循环 3. 任务和协程 4. 传输和协议 (基于回调的API ) 5. 流(Streams )(基于协程的API ) 6. 子进程 (Subproces...</div><style>.user-avatar {\\n\\tdisplay: flex;\\n\\tflex-direction: row;\\n\\talign-items: center;\\n\\tjustify-content: flex-start;\\n}</style><div class=\"f13 c-gap-top-xsmall se_st_footer user-avatar\"><a target=\"_blank\" href=\"http://www.baidu.com/link?url=XKFHI7kbApl3act2Juetlro3bgpWHxhiS9d-JWfSbz6dDbX2UdeU5OURFMkiX2Hht0U_1aSxXV9vjoEl3tmWR1ZqklEIEaPjav1fybvUE4u\" class=\"c-showurl c-color-gray\" style=\"text-decoration:none;position:relative;\">max.book118.com/html/2019/0327...</a><div class=\"c-tools c-gap-left\" id=\"tools_7635638780431181691_27\" data-tools=\\'{\"title\":\"python3 asyncio官方文档中文版.pdf\",\"url\":\"http://www.baidu.com/link?url=XKFHI7kbApl3act2Juetlro3bgpWHxhiS9d-JWfSbz6dDbX2UdeU5OURFMkiX2Hht0U_1aSxXV9vjoEl3tmWR1ZqklEIEaPjav1fybvUE4u\"}\\'><i class=\"c-icon f13\" >&#xe62b;</i></div><span class=\"c-icons-outer\"><span class=\"c-icons-inner\"></span></span><style>.snapshoot, .snapshoot:visited {\\n        color: #9195A3!important;\\n    }\\n    .snapshoot:active, .snapshoot:hover {\\n        color: #626675!important;\\n    }</style><a data-click=\"{\\'rsv_snapshot\\':\\'1\\'}\" href=\"http://cache.baiducontent.com/c?m=KWAhFHMwKwtNPFGW5s80rxAbwfJGUBZg-HGKvdxXEk5tIdCTM5lhl9brNd1ulpxmiBTGEg46wPNTt7xCXvBsfh57LgHoUDpyTFBMpias9W1XAB5Fz0dGINZXV9hQOyhL79FBU45phLRV8TiwFPXmbq&p=9e77c64ad49501e908e2977e0752bb&newp=882a9645dc8203fc57efcf2f5f5fbb231610db2151d7da01298ffe0cc4241a1a1a3aecbf2c271104d1c778630bab495cebf037763d0034f1f689df08d2ecce7e6eca&s=cfcd208495d565ef&user=baidu&fm=sc&query=asyncio&qid=f7a917d100110472&p1=27\"\\n                        target=\"_blank\"\\n                    class=\"m c-gap-left c-color-gray kuaizhao snapshoot\">百度快照</a></div></div></div></div>\\n\\t\\t\\t\\t\\t        \\n\\t\\t\\t\\t\\n\\t\\t\\n\\t\\t\\t\\t\\t\\t\\n\\t        \\n        \\n\\t\\t\\n\\n\\t\\t\\t\\t\\n\\n\\t\\t\\n\\t\\t                        \\t\\t\\n\\t\\t\\t\\t\\t\\t\\t\\t\\t\\t\\t\\t\\t\\t\\n\\t\\t\\t\\t\\t\\t\\t\\t\\t\\t\\t\\t\\t\\t\\t\\t\\t\\t\\t\\t\\t\\t\\t\\t\\t\\t\\t\\t\\t\\t\\t\\t\\n\\t\\t\\t\\t\\t\\t\\t\\t\\t\\t\\t\\t\\t\\t\\t\\t\\t\\t\\t\\t\\t\\t\\t\\t\\t\\t\\t\\t\\t\\t<div class=\"result c-container new-pmd\" id=\"28\" srcid=\"1599\" tpl=\"se_com_default\"  data-click=\"{\\'rsv_bdr\\':\\'\\' ,\\'rsv_cd\\':\\'safe:1|t:2\\'}\"  ><h3 class=\"t\" ><a\\n\\t        data-click=\"{\\n\\t\\t\\t\\'F\\':\\'778717EA\\',\\n\\t\\t\\t\\'F1\\':\\'9D73F1E4\\',\\n\\t\\t\\t\\'F2\\':\\'4CA6DE6B\\',\\n\\t\\t\\t\\'F3\\':\\'54E5243F\\',\\n\\t\\t\\t\\'T\\':\\'1623911997\\',\\n\\t\\t\\t\\t\\t\\t\\'y\\':\\'FFF3E7F4\\'\\n\\t\\t\\t\\t\\t\\t\\t\\t\\t\\t\\t\\t}\"\\n        href = \"http://www.baidu.com/link?url=1-fGYI9sVMYkGtKf1s4C4Pk55EXd3EqYJcbby9Q0-98-FiLPRA2lv1qnjq7mSw-j\"\\n\\n\\t\\t            target=\"_blank\"\\n        \\n\\t\\t><em>asyncio</em>: <em>asyncio</em> 是 Python 3.3 的 <em>asyncio</em> 模块</a></h3><div class=\"c-abstract\">pip install <em>asyncio</em>  <em>asyncio</em> requires Python 3.3 or later! The <em>asyncio</em> module is part of the Python standard library since Python 3.4. <em>asyncio</em> is a free software ...</div><style>.user-avatar {\\n\\tdisplay: flex;\\n\\tflex-direction: row;\\n\\talign-items: center;\\n\\tjustify-content: flex-start;\\n}</style><div class=\"f13 c-gap-top-xsmall se_st_footer user-avatar\"><a target=\"_blank\" href=\"http://www.baidu.com/link?url=1-fGYI9sVMYkGtKf1s4C4Pk55EXd3EqYJcbby9Q0-98-FiLPRA2lv1qnjq7mSw-j\" class=\"c-showurl c-color-gray\" style=\"text-decoration:none;position:relative;\">gitee.com/mirrors/<b>asyncio</b></a><div class=\"c-tools c-gap-left\" id=\"tools_8270098993482743615_28\" data-tools=\\'{\"title\":\"asyncio: asyncio 是 Python 3.3 的 asyncio 模块\",\"url\":\"http://www.baidu.com/link?url=1-fGYI9sVMYkGtKf1s4C4Pk55EXd3EqYJcbby9Q0-98-FiLPRA2lv1qnjq7mSw-j\"}\\'><i class=\"c-icon f13\" >&#xe62b;</i></div><span class=\"c-icons-outer\"><span class=\"c-icons-inner\"><span class=\"c-trust-as baozhang-new-v2 baozhang-new\" data_key=\"895003770535059917\" data-baostatus=\"2\" data-bao=\\'{\"baiduPromise\":[{\"content\":\"如遇虚假欺诈，助您维权\"}],\"contactBaidu\":{\"href\":\"https://baozhang.baidu.com/guarantee/m/?from=pslayer\"},\"landUrl\":{\"pc\":\"https://www.baidu.com/s?wd=%E6%B7%B1%E5%9C%B3%E5%B8%82%E5%A5%A5%E6%80%9D%E7%BD%91%E7%BB%9C%E7%A7%91%E6%8A%80%E6%9C%89%E9%99%90%E5%85%AC%E5%8F%B8@v&vmp_ec=085273f77e9cbfa21d027NcLQ6l2m4Gedc33=1=4bav208bd5s2ecdVpbJXb24Xf635c9033&vmp_ectm=1616674821&from=vs\",\"mobile\":\"https://v123.baidu.com/normal/?from=ps&cn=%E6%B7%B1%E5%9C%B3%E5%B8%82%E5%A5%A5%E6%80%9D%E7%BD%91%E7%BB%9C%E7%A7%91%E6%8A%80%E6%9C%89%E9%99%90%E5%85%AC%E5%8F%B8\"}}\\' hint-data=\\'{\"label\":\"深圳市奥思网络科技有限公司\",\"url\":\"https://www.baidu.com/s?wd=%E6%B7%B1%E5%9C%B3%E5%B8%82%E5%A5%A5%E6%80%9D%E7%BD%91%E7%BB%9C%E7%A7%91%E6%8A%80%E6%9C%89%E9%99%90%E5%85%AC%E5%8F%B8@v&vmp_ec=085273f77e9cbfa21d027NcLQ6l2m4Gedc33=1=4bav208bd5s2ecdVpbJXb24Xf635c9033&vmp_ectm=1616674821&from=vs\",\"hint\":[], \"text\": \"\\\\u8be5\\\\u4f01\\\\u4e1a\\\\u5df2\\\\u901a\\\\u8fc7\\\\u5b9e\\\\u540d\\\\u8ba4\\\\u8bc1\\\\uff0c\\\\u67e5\\\\u770b <a href=\\\\\"https://www.baidu.com/s?wd=%E6%B7%B1%E5%9C%B3%E5%B8%82%E5%A5%A5%E6%80%9D%E7%BD%91%E7%BB%9C%E7%A7%91%E6%8A%80%E6%9C%89%E9%99%90%E5%85%AC%E5%8F%B8@v&vmp_ec=085273f77e9cbfa21d027NcLQ6l2m4Gedc33=1=4bav208bd5s2ecdVpbJXb24Xf635c9033&vmp_ectm=1616674821&from=vs\\\\\" target=\\\\\"_blank\\\\\">\\\\u4f01\\\\u4e1a\\\\u6863\\\\u6848<\\\\/a>\\\\u3002<\\\\/br>\\\\u767e\\\\u5ea6\\\\u63a8\\\\u51fa <a href=\\\\\"http:\\\\/\\\\/baozhang.baidu.com\\\\/guarantee\\\\/?from=ps\\\\\" target=\\\\\"_blank\\\\\">\\\\u7f51\\\\u6c11\\\\u6743\\\\u76ca\\\\u4fdd\\\\u969c\\\\u8ba1\\\\u5212<\\\\/a>\\\\uff0c<a href=\\\\\"https:\\\\/\\\\/passport.baidu.com\\\\\" target=\\\\\"_blank\\\\\">\\\\u767b\\\\u5f55<\\\\/a> \\\\u641c\\\\u7d22\\\\u6709\\\\u4fdd\\\\u969c\\\\u3002\"}\\' hint-type=\"newBao\" ><i class=\"c-icon\"></i></span></span></span><style>.snapshoot, .snapshoot:visited {\\n        color: #9195A3!important;\\n    }\\n    .snapshoot:active, .snapshoot:hover {\\n        color: #626675!important;\\n    }</style><a data-click=\"{\\'rsv_snapshot\\':\\'1\\'}\" href=\"http://cache.baiducontent.com/c?m=i90cjbZmCw2T8ZONd96WRIZ9dLxUxRJfEiC0W31aUIIn6LWi0EYPQEV4jnmYH8ok7WUb1F-Q5NvjzauxZ5Ta15rPYABrGBjVhLyjgFcKfiK&p=89759a46d6c517e712be9b7c4864cd&newp=aa3ee715d9c041a900be9b7c5055bb231610db2151d7d21f6b82c825d7331b001c3bbfb423291504d9c577600bae4f5aeffb3079370923a3dda5c91d9fb4c57479d0&s=1aa48fc4880bb0c9&user=baidu&fm=sc&query=asyncio&qid=f7a917d100110472&p1=28\"\\n                        target=\"_blank\"\\n                    class=\"m c-gap-left c-color-gray kuaizhao snapshoot\">百度快照</a></div></div>\\n\\t\\t\\t\\t\\t        \\n\\t\\t\\t\\t\\n\\t\\t\\n\\t\\t\\t\\t\\t\\t\\n\\t        \\n        \\n\\t\\t\\n\\n\\t\\t\\t\\t\\n\\n\\t\\t\\n\\t\\t                        \\t\\t\\n\\t\\t\\t\\t\\t\\t\\t\\t\\t\\t\\t\\t\\t\\t\\n\\t\\t\\t\\t\\t\\t\\t\\t\\t\\t\\t\\t\\t\\t\\t\\t\\t\\t\\t\\t\\t\\t\\t\\t\\t\\t\\t\\t\\t\\t\\t\\t\\n\\t\\t\\t\\t\\t\\t\\t\\t\\t\\t\\t\\t\\t\\t\\t\\t\\t\\t\\t\\t\\t\\t\\t\\t\\t\\t\\t\\t\\t\\t<div class=\"result c-container new-pmd\" id=\"29\" srcid=\"1599\" tpl=\"se_com_default\"  data-click=\"{\\'rsv_bdr\\':\\'\\' }\"  ><h3 class=\"t\" ><a\\n\\t        data-click=\"{\\n\\t\\t\\t\\'F\\':\\'778317EA\\',\\n\\t\\t\\t\\'F1\\':\\'9D73F1E4\\',\\n\\t\\t\\t\\'F2\\':\\'4CA6DE6B\\',\\n\\t\\t\\t\\'F3\\':\\'54E5243F\\',\\n\\t\\t\\t\\'T\\':\\'1623911997\\',\\n\\t\\t\\t\\t\\t\\t\\'y\\':\\'B66EFEF7\\'\\n\\t\\t\\t\\t\\t\\t\\t\\t\\t\\t\\t\\t}\"\\n        href = \"http://www.baidu.com/link?url=RO2R-cLb-h7pAp8uwQJZTNi_Ff9YSpLvSdaX00Qm7jFf6R7uvlrBvRX3AjKNXqE-\"\\n\\n\\t\\t            target=\"_blank\"\\n        \\n\\t\\t><em>asyncio</em>_<em>asyncio</em>是什么、最新动态_服务器之家</a></h3><div class=\"c-abstract\"><span class=\" newTimeFactor_before_abs c-color-gray2 m\">2021年4月8日&nbsp;</span>本篇文章给大家详细分析了python中重要的<em>asyncio</em>模块相关知识点,有兴趣的朋友可以学习参考下。  python <em>asyncio</em> 2021-01-18 python并发2之使用<em>asyncio</em>处理并发  ...</div><style>.user-avatar {\\n\\tdisplay: flex;\\n\\tflex-direction: row;\\n\\talign-items: center;\\n\\tjustify-content: flex-start;\\n}</style><div class=\"f13 c-gap-top-xsmall se_st_footer user-avatar\"><a target=\"_blank\" href=\"http://www.baidu.com/link?url=RO2R-cLb-h7pAp8uwQJZTNi_Ff9YSpLvSdaX00Qm7jFf6R7uvlrBvRX3AjKNXqE-\" class=\"c-showurl c-color-gray\" style=\"text-decoration:none;position:relative;\">www.zzvips.com/tags/346...</a><div class=\"c-tools c-gap-left\" id=\"tools_11703099554367807300_29\" data-tools=\\'{\"title\":\"asyncio_asyncio是什么、最新动态_服务器之家\",\"url\":\"http://www.baidu.com/link?url=RO2R-cLb-h7pAp8uwQJZTNi_Ff9YSpLvSdaX00Qm7jFf6R7uvlrBvRX3AjKNXqE-\"}\\'><i class=\"c-icon f13\" >&#xe62b;</i></div><span class=\"c-icons-outer\"><span class=\"c-icons-inner\"></span></span><style>.snapshoot, .snapshoot:visited {\\n        color: #9195A3!important;\\n    }\\n    .snapshoot:active, .snapshoot:hover {\\n        color: #626675!important;\\n    }</style><a data-click=\"{\\'rsv_snapshot\\':\\'1\\'}\" href=\"http://cache.baiducontent.com/c?m=UFr-yuoQXRXaFCkO2eRDYQ6jC06JkewVF9FRevC0htqU1Nj2fIgjetx-5N8opV4xdbJtB8JaDCSZgNS5IcuYc-L0CNLca_j-r6D5Q8LDNC_&p=882a9645d2842df20be2963e5a4fbb&newp=8b2a9715d9c041ab0fb7ce3a4f4a8b231610db2151d4d2116b82c825d7331b001c3bbfb423291504d9c577600bae4f5aeffb3079370923a3dda5c91d9fb4c57479&s=cfcd208495d565ef&user=baidu&fm=sc&query=asyncio&qid=f7a917d100110472&p1=29\"\\n                        target=\"_blank\"\\n                    class=\"m c-gap-left c-color-gray kuaizhao snapshoot\">百度快照</a></div></div>\\n\\t\\t\\t\\t\\t        \\n\\t\\t\\t\\t\\n\\t\\t\\n\\t\\t\\t\\t\\t\\t\\n\\t        \\n        \\n\\t\\t\\n\\n\\t\\t\\t\\t\\n\\n\\t\\t\\n\\t\\t                        \\t\\t\\n\\t\\t\\t\\t\\t\\t\\t\\t\\t\\t\\t\\t\\t\\t\\n\\t\\t\\t\\t\\t\\t\\t\\t\\t\\t\\t\\t\\t\\t\\t\\t\\t\\t\\t\\t\\t\\t\\t\\t\\t\\t\\t\\t\\t\\t\\t\\t\\n\\t\\t\\t\\t\\t\\t\\t\\t\\t\\t\\t\\t\\t\\t\\t\\t\\t\\t\\t\\t\\t\\t\\t\\t\\t\\t\\t\\t\\t\\t<div class=\"result c-container new-pmd\" id=\"30\" srcid=\"1599\" tpl=\"se_com_default\"  data-click=\"{\\'rsv_bdr\\':\\'\\' }\"  ><h3 class=\"t\" ><a\\n\\t        data-click=\"{\\n\\t\\t\\t\\'F\\':\\'778717EA\\',\\n\\t\\t\\t\\'F1\\':\\'9D73F1E4\\',\\n\\t\\t\\t\\'F2\\':\\'4CA6DE6B\\',\\n\\t\\t\\t\\'F3\\':\\'54E5243F\\',\\n\\t\\t\\t\\'T\\':\\'1623911997\\',\\n\\t\\t\\t\\t\\t\\t\\'y\\':\\'D2DFE9EB\\'\\n\\t\\t\\t\\t\\t\\t\\t\\t\\t\\t\\t\\t}\"\\n        href = \"http://www.baidu.com/link?url=0dSpMEB4ZLfsodinBqYgCBwGLuj3BMIPO8iWAQWWCthk9dGUNIsNjqJhmmtZKg2i\"\\n\\n\\t\\t            target=\"_blank\"\\n        \\n\\t\\t><em>asyncio</em>异步IO--协程(Coroutine)与任务(Task)详解_慕课手记</a></h3><div class=\"c-abstract\"><span class=\" newTimeFactor_before_abs c-color-gray2 m\">2018年11月23日&nbsp;</span>说明:本文翻译自Coroutines and Tasks,主要介绍<em>asyncio</em>中用于处理协程和任务的方法和接口。在翻译过程中,译者在官方文档的基础上增加了部分样例代码和示意图表...</div><style>.user-avatar {\\n\\tdisplay: flex;\\n\\tflex-direction: row;\\n\\talign-items: center;\\n\\tjustify-content: flex-start;\\n}</style><div class=\"f13 c-gap-top-xsmall se_st_footer user-avatar\"><a target=\"_blank\" href=\"http://www.baidu.com/link?url=0dSpMEB4ZLfsodinBqYgCBwGLuj3BMIPO8iWAQWWCthk9dGUNIsNjqJhmmtZKg2i\" class=\"c-showurl c-color-gray\" style=\"text-decoration:none;position:relative;\">www.imooc.com/article/263...</a><div class=\"c-tools c-gap-left\" id=\"tools_15369818021598090010_30\" data-tools=\\'{\"title\":\"asyncio异步IO--协程(Coroutine)与任务(Task)详解_慕课手记 \",\"url\":\"http://www.baidu.com/link?url=0dSpMEB4ZLfsodinBqYgCBwGLuj3BMIPO8iWAQWWCthk9dGUNIsNjqJhmmtZKg2i\"}\\'><i class=\"c-icon f13\" >&#xe62b;</i></div><span class=\"c-icons-outer\"><span class=\"c-icons-inner\"></span></span><style>.snapshoot, .snapshoot:visited {\\n        color: #9195A3!important;\\n    }\\n    .snapshoot:active, .snapshoot:hover {\\n        color: #626675!important;\\n    }</style><a data-click=\"{\\'rsv_snapshot\\':\\'1\\'}\" href=\"http://cache.baiducontent.com/c?m=esJNT9aypjX5ILyQpF4sXFomuUBCM4xLPMeF1RaCO5dqe1ZgziNG7ZSl2O-GRG8TKIbxT7fBvLO6JeDb_n7WaC5K3Z2rqDPXPT5qf7rFh9m&p=9b769a4786cc42ae5bb6cf6f4e4f98&newp=823ec64ad49413ff57ee957d1e51c4231610db2151d7da176b82c825d7331b001c3bbfb423291504d9c577600bae4f5aeffb3079370923a3dda5c91d9fb4c57479df75&s=cfcd208495d565ef&user=baidu&fm=sc&query=asyncio&qid=f7a917d100110472&p1=30\"\\n                        target=\"_blank\"\\n                    class=\"m c-gap-left c-color-gray kuaizhao snapshoot\">百度快照</a></div></div>\\n\\t\\t\\t\\t\\t        \\n\\t\\t\\t\\t\\n\\t\\t\\n\\t\\t\\t\\t\\t\\t\\n\\t\\t\\t\\n\\t\\n\\t\\n\\t\\t\\t\\t\\n\\t\\n\\t\\n\\t\\n\\t\\n\\n\\t\\n\\t\\n\\n</div>\\n\\n\\t\\n        <div style=\"clear:both;height:0;\"></div>\\n\\t    \\n        \\n    <div id=\"rs\"><div class=\"new-pmd\"><div class=\"tt tt_normal c-color-t c-font-medium c-gap-bottom inc-rs-new-title\">相关搜索</div><table class=\"new-inc-rs-table\" cellpadding=\"0\"><tr><th><a class=\"c-font-medium new-inc-rs-item\" href=\"/s?wd=arm%E6%9E%B6%E6%9E%84%E5%92%8Cx86%E6%9E%B6%E6%9E%84&rsf=11630001&rsp=0&f=1&oq=asyncio&ie=utf-8&rsv_pq=f7a917d100110472&rsv_t=d13cMJoygz%2F6S9WA%2Bl57AgruQA5JkrrBphuU%2BCoVIY4NzNOYBnWxfUExBO4&rqlang=cn&rs_src=0&rsv_pq=f7a917d100110472&rsv_t=d13cMJoygz%2F6S9WA%2Bl57AgruQA5JkrrBphuU%2BCoVIY4NzNOYBnWxfUExBO4\">arm架构和x86架构</a></th><td></td><th><a class=\"c-font-medium new-inc-rs-item\" href=\"/s?wd=python%E5%A6%82%E4%BD%95%E5%AE%9E%E7%8E%B0%E5%BC%82%E6%AD%A5&rsf=11630004&rsp=1&f=1&oq=asyncio&ie=utf-8&rsv_pq=f7a917d100110472&rsv_t=d13cMJoygz%2F6S9WA%2Bl57AgruQA5JkrrBphuU%2BCoVIY4NzNOYBnWxfUExBO4&rqlang=cn&rs_src=0&rsv_pq=f7a917d100110472&rsv_t=d13cMJoygz%2F6S9WA%2Bl57AgruQA5JkrrBphuU%2BCoVIY4NzNOYBnWxfUExBO4\">python如何实现异步</a></th><td></td><th><a class=\"c-font-medium new-inc-rs-item\" href=\"/s?wd=golang%20socket%E6%A1%86%E6%9E%B6&rsf=11630001&rsp=2&f=1&oq=asyncio&ie=utf-8&rsv_pq=f7a917d100110472&rsv_t=d13cMJoygz%2F6S9WA%2Bl57AgruQA5JkrrBphuU%2BCoVIY4NzNOYBnWxfUExBO4&rqlang=cn&rs_src=0&rsv_pq=f7a917d100110472&rsv_t=d13cMJoygz%2F6S9WA%2Bl57AgruQA5JkrrBphuU%2BCoVIY4NzNOYBnWxfUExBO4\">golang socket框架</a></th></tr><tr><th><a class=\"c-font-medium new-inc-rs-item\" href=\"/s?wd=flask%20%E5%BC%82%E6%AD%A5&rsf=11630001&rsp=3&f=1&oq=asyncio&ie=utf-8&rsv_pq=f7a917d100110472&rsv_t=d13cMJoygz%2F6S9WA%2Bl57AgruQA5JkrrBphuU%2BCoVIY4NzNOYBnWxfUExBO4&rqlang=cn&rs_src=0&rsv_pq=f7a917d100110472&rsv_t=d13cMJoygz%2F6S9WA%2Bl57AgruQA5JkrrBphuU%2BCoVIY4NzNOYBnWxfUExBO4\">flask 异步</a></th><td></td><th><a class=\"c-font-medium new-inc-rs-item\" href=\"/s?wd=%E6%98%93%E8%AF%AD%E8%A8%80%E4%B8%8B%E8%BD%BD%E6%89%8B%E6%9C%BA%E7%89%88&rsf=11630001&rsp=4&f=1&oq=asyncio&ie=utf-8&rsv_pq=f7a917d100110472&rsv_t=d13cMJoygz%2F6S9WA%2Bl57AgruQA5JkrrBphuU%2BCoVIY4NzNOYBnWxfUExBO4&rqlang=cn&rs_src=0&rsv_pq=f7a917d100110472&rsv_t=d13cMJoygz%2F6S9WA%2Bl57AgruQA5JkrrBphuU%2BCoVIY4NzNOYBnWxfUExBO4\">易语言下载手机版</a></th><td></td><th><a class=\"c-font-medium new-inc-rs-item\" href=\"/s?wd=python%E5%BC%82%E6%AD%A5%E5%A4%84%E7%90%86&rsf=11630008&rsp=5&f=1&oq=asyncio&ie=utf-8&rsv_pq=f7a917d100110472&rsv_t=d13cMJoygz%2F6S9WA%2Bl57AgruQA5JkrrBphuU%2BCoVIY4NzNOYBnWxfUExBO4&rqlang=cn&rs_src=0&rsv_pq=f7a917d100110472&rsv_t=d13cMJoygz%2F6S9WA%2Bl57AgruQA5JkrrBphuU%2BCoVIY4NzNOYBnWxfUExBO4\">python异步处理</a></th></tr><tr><th><a class=\"c-font-medium new-inc-rs-item\" href=\"/s?wd=Python%20asyncio&rsf=11630028&rsp=6&f=1&oq=asyncio&ie=utf-8&rsv_pq=f7a917d100110472&rsv_t=d13cMJoygz%2F6S9WA%2Bl57AgruQA5JkrrBphuU%2BCoVIY4NzNOYBnWxfUExBO4&rqlang=cn&rs_src=0&rsv_pq=f7a917d100110472&rsv_t=d13cMJoygz%2F6S9WA%2Bl57AgruQA5JkrrBphuU%2BCoVIY4NzNOYBnWxfUExBO4\">Python asyncio</a></th><td></td><th><a class=\"c-font-medium new-inc-rs-item\" href=\"/s?wd=python3%20%E5%8D%8F%E7%A8%8B&rsf=11630001&rsp=7&f=1&oq=asyncio&ie=utf-8&rsv_pq=f7a917d100110472&rsv_t=d13cMJoygz%2F6S9WA%2Bl57AgruQA5JkrrBphuU%2BCoVIY4NzNOYBnWxfUExBO4&rqlang=cn&rs_src=0&rsv_pq=f7a917d100110472&rsv_t=d13cMJoygz%2F6S9WA%2Bl57AgruQA5JkrrBphuU%2BCoVIY4NzNOYBnWxfUExBO4\">python3 协程</a></th><td></td><th><a class=\"c-font-medium new-inc-rs-item\" href=\"/s?wd=python%20yield%E7%94%A8%E6%B3%95&rsf=11630001&rsp=8&f=1&oq=asyncio&ie=utf-8&rsv_pq=f7a917d100110472&rsv_t=d13cMJoygz%2F6S9WA%2Bl57AgruQA5JkrrBphuU%2BCoVIY4NzNOYBnWxfUExBO4&rqlang=cn&rs_src=0&rsv_pq=f7a917d100110472&rsv_t=d13cMJoygz%2F6S9WA%2Bl57AgruQA5JkrrBphuU%2BCoVIY4NzNOYBnWxfUExBO4\">python yield用法</a></th></tr></table></div></div>\\n\\n\\t\\t\\t\\n\\t<script data-for=\"result\">\\n    (function() {\\n        var perfkey = \\'resultEnd\\';\\n        if (!perfkey) {\\n            return;\\n        }\\n        if (!window.__perf_www_datas) {\\n            window.__perf_www_datas = {};\\n        }\\n        var t = performance && performance.now && performance.now();\\n        window.__perf_www_datas[perfkey] = t;\\n    })();\\n</script>\\n\\n\\n\\t\\t\\t\\n\\t\\t\\t</div>\\n\\t\\t\\t\\n\\n\\n\\t\\t\\t\\n\\t\\n\\t\\t<div id=\"page\" >\\n\\t\\t\\t<div class=\"page-inner\">\\n\\t\\t\\t\\t\\t\\t\\t\\t\\t\\t\\t\\t<a href=\"/s?wd=asyncio&pn=10&oq=asyncio&ie=utf-8&rsv_pq=f7a917d100110472&rsv_t=d13cMJoygz%2F6S9WA%2Bl57AgruQA5JkrrBphuU%2BCoVIY4NzNOYBnWxfUExBO4&rsv_page=-1&topic_pn=\" class=\"n\">&lt; 上一页</a><a href=\"/s?wd=asyncio&pn=0&oq=asyncio&ie=utf-8&rsv_pq=f7a917d100110472&rsv_t=d13cMJoygz%2F6S9WA%2Bl57AgruQA5JkrrBphuU%2BCoVIY4NzNOYBnWxfUExBO4&topic_pn=\"><span class=\"fk\"><i class=\"c-icon c-icon-bear-pn\"></i></span><span class=\"pc\">1</span></a><a href=\"/s?wd=asyncio&pn=10&oq=asyncio&ie=utf-8&rsv_pq=f7a917d100110472&rsv_t=d13cMJoygz%2F6S9WA%2Bl57AgruQA5JkrrBphuU%2BCoVIY4NzNOYBnWxfUExBO4&topic_pn=\"><span class=\"fk fkd\"><i class=\"c-icon c-icon-bear-pn\"></i></span><span class=\"pc\">2</span></a><strong><span class=\"fk fk_cur\"><i class=\"c-icon c-icon-bear-p\"></i></span><span class=\"pc\">3</span></strong><a href=\"/s?wd=asyncio&pn=30&oq=asyncio&ie=utf-8&rsv_pq=f7a917d100110472&rsv_t=d13cMJoygz%2F6S9WA%2Bl57AgruQA5JkrrBphuU%2BCoVIY4NzNOYBnWxfUExBO4&topic_pn=\"><span class=\"fk fkd\"><i class=\"c-icon c-icon-bear-pn\"></i></span><span class=\"pc\">4</span></a><a href=\"/s?wd=asyncio&pn=40&oq=asyncio&ie=utf-8&rsv_pq=f7a917d100110472&rsv_t=d13cMJoygz%2F6S9WA%2Bl57AgruQA5JkrrBphuU%2BCoVIY4NzNOYBnWxfUExBO4&topic_pn=\"><span class=\"fk\"><i class=\"c-icon c-icon-bear-pn\"></i></span><span class=\"pc\">5</span></a><a href=\"/s?wd=asyncio&pn=50&oq=asyncio&ie=utf-8&rsv_pq=f7a917d100110472&rsv_t=d13cMJoygz%2F6S9WA%2Bl57AgruQA5JkrrBphuU%2BCoVIY4NzNOYBnWxfUExBO4&topic_pn=\"><span class=\"fk fkd\"><i class=\"c-icon c-icon-bear-pn\"></i></span><span class=\"pc\">6</span></a><a href=\"/s?wd=asyncio&pn=60&oq=asyncio&ie=utf-8&rsv_pq=f7a917d100110472&rsv_t=d13cMJoygz%2F6S9WA%2Bl57AgruQA5JkrrBphuU%2BCoVIY4NzNOYBnWxfUExBO4&topic_pn=\"><span class=\"fk\"><i class=\"c-icon c-icon-bear-pn\"></i></span><span class=\"pc\">7</span></a><a href=\"/s?wd=asyncio&pn=70&oq=asyncio&ie=utf-8&rsv_pq=f7a917d100110472&rsv_t=d13cMJoygz%2F6S9WA%2Bl57AgruQA5JkrrBphuU%2BCoVIY4NzNOYBnWxfUExBO4&topic_pn=\"><span class=\"fk fkd\"><i class=\"c-icon c-icon-bear-pn\"></i></span><span class=\"pc\">8</span></a><a href=\"/s?wd=asyncio&pn=80&oq=asyncio&ie=utf-8&rsv_pq=f7a917d100110472&rsv_t=d13cMJoygz%2F6S9WA%2Bl57AgruQA5JkrrBphuU%2BCoVIY4NzNOYBnWxfUExBO4&topic_pn=\"><span class=\"fk\"><i class=\"c-icon c-icon-bear-pn\"></i></span><span class=\"pc\">9</span></a><a href=\"/s?wd=asyncio&pn=90&oq=asyncio&ie=utf-8&rsv_pq=f7a917d100110472&rsv_t=d13cMJoygz%2F6S9WA%2Bl57AgruQA5JkrrBphuU%2BCoVIY4NzNOYBnWxfUExBO4&topic_pn=\"><span class=\"fk fkd\"><i class=\"c-icon c-icon-bear-pn\"></i></span><span class=\"pc\">10</span></a><a href=\"/s?wd=asyncio&pn=30&oq=asyncio&ie=utf-8&rsv_pq=f7a917d100110472&rsv_t=d13cMJoygz%2F6S9WA%2Bl57AgruQA5JkrrBphuU%2BCoVIY4NzNOYBnWxfUExBO4&rsv_page=1&topic_pn=\" class=\"n\">下一页 &gt;</a>\\n\\t\\t\\t\\t\\t\\t\\t</div>\\n\\t\\t</div>\\n\\t\\t<div id=\"content_bottom\">\\n\\t\\t\\t\\n\\t\\t\\t\\n\\t\\t\\t\\n\\t\\t</div>\\n\\t\\n\\t\\n<script>\\ntry{document.cookie=\"WWW_ST=;expires=Sat, 01 Jan 2000 00:00:00 GMT\";}catch(e){}\\n</script>\\n\\n\\n\\t<div id=\"foot\"><div class=\"foot-inner\"><span id=\"help\" style=\"float:left;padding-left:121px\"><a href=\"http://help.baidu.com/question\" target=\"_blank\" onmousedown=\"return c({\\'fm\\':\\'behb\\',\\'tab\\':\\'help\\',\\'url\\':this.href,\\'title\\':this.innerHTML})\">帮助</a><a href=\"http://www.baidu.com/search/jubao.html\" target=\"_blank\" onmousedown=\"return c({\\'fm\\':\\'behb\\',\\'tab\\':\\'jubao\\',\\'url\\':this.href,\\'title\\':this.innerHTML})\">举报</a><a class=\"feedback\" onclick=\"return false;\" href=\"javascript:;\" target=\"_blank\" onmousedown=\"return ns_c({\\'fm\\':\\'behb\\',\\'tab\\':\\'feedback\\'})\">用户反馈</a></span></div></div>\\n\\t\\t\\n\\t\\t    \\n\\t<div class=\"c-tips-container new-pmd\" id=\"c-tips-container\"></div>\\n    \\t\\n\\t\\t\\t</div>\\n\\t\\t\\n\\t\\t</div>\\n\\t\\t\\n\\t\\t\\n\\n\\t\\t\\n\\n\\t</body>\\n\\n\\t\\n    <script type=\"text/javascript\">!function(){function e(e){if(!e)return!1;var n=document.cookie.indexOf(\"webbtest=1\")>-1;return n||Math.random()<e}function n(n){if(!e(o.sample[n.group]))return\"\";var r=o.logServer+\"?pid=\"+o.pid+\"&lid=\"+bds.comm.qid+\"&ts=\"+Date.now()+\"&type=except&group=\"+n.group+\"&info=\"+encodeURIComponent(JSON.stringify(n.info))+\"&dim=\"+encodeURIComponent(JSON.stringify(n.dim||{})),t=new Image;return t.src=r,r}function r(e){try{var r={info:{},dim:{},group:\"\"},o=r.info,t=e.target,i=navigator.connection||{};o.downlink=i.downlink,o.effectiveType=i.effectiveType,o.rtt=i.rtt,o.deviceMemory=navigator.deviceMemory||0,o.hardwareConcurrency=navigator.hardwareConcurrency||0;\\nvar a=t.localName||\"\",d=t.src||\"\";a&&\"script\"===a&&(r.group=\"jsnotfound\",o.msg=d,o.file=d,n(r))}catch(c){console.error(c)}}var o={pid:\"1_87\",sample:{jsnotfound:.02},logServer:\"https://sp1.baidu.com/5b1ZeDe5KgQFm2e88IuM_a/mwb2.gif\"};window.addEventListener&&window.addEventListener(\"error\",r,!0)}();</script>\\n\\t<script type=\"text/javascript\" src=\"http://s1.bdstatic.com/r/www/cache/static/jquery/jquery-1.10.2.min_65682a2.js\"></script>\\n\\t<script type=\"text/javascript\" src=\"http://s1.bdstatic.com/r/www/cache/static/lib/esl_2549dd2.js\"></script>\\n\\t\\n\\t\\t\\n\\t\\t<script type=\"text/javascript\">define(\"modules/monitor/log-send\",[\"require\",\"exports\"],function(e,o){\"use strict\";function t(e){if(!e)return!1;var o=document.cookie.indexOf(\"webbtest=1\")>-1;return o||Math.random()<e}function i(e){if(!e.group||!t(n.sample[e.group]))return\"\";var o=n.logServer+\"?pid=\"+n.pid+\"&lid=\"+bds.comm.qid+\"&ts=\"+Date.now()+\"&type=except&group=\"+e.group+\"&info=\"+encodeURIComponent(JSON.stringify(e.info))+\"&dim=\"+encodeURIComponent(JSON.stringify(e.dim||{})),i=new Image;return i.src=o,o}o.__esModule=!0,o.send=void 0;\\nvar n={pid:\"1_87\",sample:{jserror:.02},logServer:\"https://sp1.baidu.com/5b1ZeDe5KgQFm2e88IuM_a/mwb2.gif\"};o.send=i}),define(\"modules/monitor/js-except\",[\"require\",\"exports\",\"./log-send\"],function(e,o,t){\"use strict\";function i(e,o){if(o.indexOf(\"chrome-extension://\")>-1||o.indexOf(\"moz-extension://\")>-1)return!1;var t=e.toLowerCase();return\"script error.\"===t||\"script error\"===t?!1:!0}function n(e,o){try{var n={info:{},dim:{},group:\"\"},r=n.info,s=e.target||e.srcElement,a=navigator.connection||{};\\nif(r.downlink=a.downlink,r.effectiveType=a.effectiveType,r.rtt=a.rtt,r.deviceMemory=navigator.deviceMemory||0,r.hardwareConcurrency=navigator.hardwareConcurrency||0,s!==window&&\"onerror\"!==o)return;var c=e.error||{},m=c.stack||\"\";e.message&&i(e.message,m)&&(n.group=\"jserror\",r.msg=e.message,r.file=e.filename,r.ln=e.lineno,r.col=e.colno,r.stack=m.split(\"\\\\n\").slice(0,3).join(\"\\\\n\"),t.send(n))}catch(p){console.error(p)}}function r(){var e,o=!1,t=navigator.userAgent.toLowerCase(),i=t.match(/msie ([0-9]+)/);\\nif(i&&i[1]){if(e=parseInt(i[1],10),7>=e)return;9>=e&&(o=!0)}o?window.onerror=function(e,o,t,i){n({message:e,filename:o,lineno:t,colno:i},\"onerror\")}:window.addEventListener&&window.addEventListener(\"error\",n,!0)}o.__esModule=!0,o.listenerExcept=void 0,o.listenerExcept=r});var Cookie={set:function(e,o,t,i,n,r){document.cookie=e+\"=\"+(r?o:escape(o))+(n?\"; expires=\"+n.toGMTString():\"\")+(i?\"; path=\"+i:\"; path=/\")+(t?\"; domain=\"+t:\"\")},get:function(e,o){var t=document.cookie.match(new RegExp(\"(^| )\"+e+\"=([^;]*)(;|$)\"));\\nreturn null!=t?unescape(t[2]):o},clear:function(e,o,t){this.get(e)&&(document.cookie=e+\"=\"+(o?\"; path=\"+o:\"; path=/\")+(t?\"; domain=\"+t:\"\")+\";expires=Fri, 02-Jan-1970 00:00:00 GMT\")}};!function(){function save(e){var o=[];for(tmpName in options)options.hasOwnProperty(tmpName)&&\"duRobotState\"!==tmpName&&o.push(\\'\"\\'+tmpName+\\'\":\"\\'+options[tmpName]+\\'\"\\');var t=\"{\"+o.join(\",\")+\"}\";bds.comm.personalData?$.ajax({url:\"//www.baidu.com/ups/submit/addtips/?product=ps&tips=\"+encodeURIComponent(t)+\"&_r=\"+(new Date).getTime(),success:function(){writeCookie(),\"function\"==typeof e&&e()\\n}}):(writeCookie(),\"function\"==typeof e&&setTimeout(e,0))}function set(e,o){options[e]=o}function get(e){return options[e]}function writeCookie(){if(options.hasOwnProperty(\"sugSet\")){var e=\"0\"==options.sugSet?\"0\":\"3\";clearCookie(\"sug\"),Cookie.set(\"sug\",e,document.domain,\"/\",expire30y)}if(options.hasOwnProperty(\"sugStoreSet\")){var e=0==options.sugStoreSet?\"0\":\"1\";clearCookie(\"sugstore\"),Cookie.set(\"sugstore\",e,document.domain,\"/\",expire30y)}if(options.hasOwnProperty(\"isSwitch\")){var o={0:\"2\",1:\"0\",2:\"1\"},e=o[options.isSwitch];\\nclearCookie(\"ORIGIN\"),Cookie.set(\"ORIGIN\",e,document.domain,\"/\",expire30y)}if(options.hasOwnProperty(\"imeSwitch\")){var e=options.imeSwitch;clearCookie(\"bdime\"),Cookie.set(\"bdime\",e,document.domain,\"/\",expire30y)}}function writeBAIDUID(){var e,o,t,i=Cookie.get(\"BAIDUID\");/FG=(\\\\d+)/.test(i)&&(o=RegExp.$1),/SL=(\\\\d+)/.test(i)&&(t=RegExp.$1),/NR=(\\\\d+)/.test(i)&&(e=RegExp.$1),options.hasOwnProperty(\"resultNum\")&&(e=options.resultNum),options.hasOwnProperty(\"resultLang\")&&(t=options.resultLang),Cookie.set(\"BAIDUID\",i.replace(/:.*$/,\"\")+(\"undefined\"!=typeof t?\":SL=\"+t:\"\")+(\"undefined\"!=typeof e?\":NR=\"+e:\"\")+(\"undefined\"!=typeof o?\":FG=\"+o:\"\"),\".baidu.com\",\"/\",expire30y,!0)\\n}function clearCookie(e){Cookie.clear(e,\"/\"),Cookie.clear(e,\"/\",document.domain),Cookie.clear(e,\"/\",\".\"+document.domain),Cookie.clear(e,\"/\",\".baidu.com\")}function reset(e){options=defaultOptions,save(e)}var defaultOptions={sugSet:1,sugStoreSet:1,isSwitch:1,isJumpHttps:1,imeSwitch:0,resultNum:10,skinOpen:1,resultLang:0,duRobotState:\"000\"},options={},tmpName,expire30y=new Date;expire30y.setTime(expire30y.getTime()+94608e7);try{if(bds&&bds.comm&&bds.comm.personalData){if(\"string\"==typeof bds.comm.personalData&&(bds.comm.personalData=eval(\"(\"+bds.comm.personalData+\")\")),!bds.comm.personalData)return;\\nfor(tmpName in bds.comm.personalData)defaultOptions.hasOwnProperty(tmpName)&&bds.comm.personalData.hasOwnProperty(tmpName)&&\"SUCCESS\"==bds.comm.personalData[tmpName].ErrMsg&&(options[tmpName]=bds.comm.personalData[tmpName].value)}try{parseInt(options.resultNum)||delete options.resultNum,parseInt(options.resultLang)||\"0\"==options.resultLang||delete options.resultLang}catch(e){}writeCookie(),\"sugSet\"in options||(options.sugSet=3!=Cookie.get(\"sug\",3)?0:1),\"sugStoreSet\"in options||(options.sugStoreSet=Cookie.get(\"sugstore\",0));\\nvar BAIDUID=Cookie.get(\"BAIDUID\");\"resultNum\"in options||(options.resultNum=/NR=(\\\\d+)/.test(BAIDUID)&&RegExp.$1?parseInt(RegExp.$1):10),\"resultLang\"in options||(options.resultLang=/SL=(\\\\d+)/.test(BAIDUID)&&RegExp.$1?parseInt(RegExp.$1):0),\"isSwitch\"in options||(options.isSwitch=2==Cookie.get(\"ORIGIN\",0)?0:1==Cookie.get(\"ORIGIN\",0)?2:1),\"imeSwitch\"in options||(options.imeSwitch=Cookie.get(\"bdime\",0))}catch(e){}window.UPS={writeBAIDUID:writeBAIDUID,reset:reset,get:get,set:set,save:save}}(),function(){require([\"modules/monitor/js-except\"],function(e){e.listenerExcept()\\n});var e=\"http://s1.bdstatic.com/r/www/cache/static/plugins/every_cookie_4644b13.js\";(\"Mac68K\"==navigator.platform||\"MacPPC\"==navigator.platform||\"Macintosh\"==navigator.platform||\"MacIntel\"==navigator.platform)&&(e=\"http://s1.bdstatic.com/r/www/cache/static/plugins/every_cookie_mac_82990d4.js\"),setTimeout(function(){$.ajax({url:e,cache:!0,dataType:\"script\"})},0);var o=navigator&&navigator.userAgent?navigator.userAgent:\"\",t=document&&document.cookie?document.cookie:\"\",i=!!(o.match(/(msie [2-8])/i)||o.match(/windows.*safari/i)&&!o.match(/chrome/i)||o.match(/(linux.*firefox)/i)||o.match(/Chrome\\\\/29/i)||o.match(/mac os x.*firefox/i)||t.match(/\\\\bISSW=1/)||0==UPS.get(\"isSwitch\"));\\nbds&&bds.comm&&(bds.comm.supportis=!i,bds.comm.isui=!0),window.__restart_confirm_timeout=!0,window.__confirm_timeout=8e3,window.__disable_is_guide=!0,window.__disable_swap_to_empty=!0,window.__switch_add_mask=!0,bds.comm.newindex&&$(window).on(\"index_off\",function(){$(\\'<div class=\"c-tips-container\" id=\"c-tips-container\"></div>\\').insertAfter(\"#wrapper\"),window.__sample_dynamic_tab&&$(\"#s_tab\").remove()}),bds.comm&&bds.comm.ishome&&Cookie.get(\"H_PS_PSSID\")&&(bds.comm.indexSid=Cookie.get(\"H_PS_PSSID\"));\\nvar n=$(document).find(\"#s_tab\").find(\"a\");n&&n.length>0&&n.each(function(e,o){o.innerHTML&&o.innerHTML.match(/新闻/)&&(o.innerHTML=\"资讯\",o.href=\"//www.baidu.com/s?rtt=1&bsst=1&cl=2&tn=news&word=\",o.setAttribute(\"sync\",!0))})}();</script>\\n\\t\\t<script type=\"text/javascript\" src=\"http://s1.bdstatic.com/r/www/cache/static/bundles/polyfill_9354efa.js\"></script>\\n\\t\\t<script type=\"text/javascript\" src=\"http://s1.bdstatic.com/r/www/cache/static/global/js/all_async_search_226b9df.js\"></script>\\n\\n\\t\\t\\n\\t\\n<script>\\n    (function () {\\n        var searchMap = {\"bundles\": {\"search-ui-pc/core_bc8deea\":[\"search-ui-pc/WujiContainer/WujiContainer_44049ca\",\"search-ui-pc/WujiContainer/WujiComponent_fc3f1f4\",\"search-ui-pc/Title/Title_3a12162\",\"search-ui-pc/Row/Row_4c4cc86\",\"search-ui-pc/Row/Span_3ca144a\",\"search-ui-pc/Label/Label_7b66354\",\"search-ui-pc/Image/Image_d522e95\",\"search-ui-pc/Board/Board_b289a7a\",\"search-ui-pc/Link/Link_5ca41b1\",\"search-ui-pc/Slink/Slink_2793f4c\",\"search-ui-pc/SlinkItem/SlinkItem_5e5cd8e\"],\"search-ui-pc/enhance_259ebb0\":[\"search-ui-pc/Audio/Audio_89e2954\",\"search-ui-pc/Button/Button_f8fd730\",\"search-ui-pc/Calendar/Calendar_82c14a2\",\"search-ui-pc/Checkbox/Checkbox_2d3d654\",\"search-ui-pc/ImgContent/ImgContent_94e256b\",\"search-ui-pc/Input/Input_d84bb91\",\"search-ui-pc/More/More_2c88099\",\"search-ui-pc/Popup/Popup_39a702a\",\"search-ui-pc/Radio/Radio_f9d9077\",\"search-ui-pc/Radio/RadioGroup_62fbed8\",\"search-ui-pc/Scroll/Scroll_8309874\",\"search-ui-pc/ScrollVideo/ScrollVideo_271575a\",\"search-ui-pc/Select/Select_b9b0d16\",\"search-ui-pc/Source/Source_24008ea\",\"search-ui-pc/Star/Star_e1b45cd\",\"search-ui-pc/Swiper/Swiper_1730785\",\"search-ui-pc/Tab/Tab_3e9a2ef\",\"search-ui-pc/Tab/TabItem_c68d2f1\",\"search-ui-pc/TextLine/TextLine_68fd65e\",\"search-ui-pc/Toast/Toast_856293c\",\"search-ui-pc/Video/Video_595b504\",\"search-ui-pc/VideoArticle/VideoArticle_6bd0bf0\"]}, \"paths\": {\"search-ui-pc/core_bc8deea\":\"https://ss1.bdstatic.com/5eN1bjq8AAUYm2zgoY3K/cache/static/search-ui-pc/core_bc8deea\",\"search-ui-pc/enhance_259ebb0\":\"https://ss1.bdstatic.com/5eN1bjq8AAUYm2zgoY3K/cache/static/search-ui-pc/enhance_259ebb0\"}};\\n        var nodePlaceholder = \\'<!--23203d90a86424d62bf0de618427b62d-->\\';\\n        if (typeof nodePlaceholder === \\'string\\') {\\n            try {\\n                nodePlaceholder = JSON.parse(nodePlaceholder);\\n                require.config(nodePlaceholder);\\n                window.searchUiPcNode = processData(nodePlaceholder);\\n            }catch(e){}\\n        }\\n        require.config(searchMap);\\n        window.searchUiPc = processData(searchMap);\\n        function processData (config) {\\n            if (!config || !config.bundles) {\\n                return;\\n            }\\n            var bundles = config.bundles;\\n            var componentList = [];\\n            var list = {};\\n            for(var key in bundles) {\\n                componentList = componentList.concat(bundles[key]);\\n            }\\n            componentList.forEach(function (item, index) {\\n                var key = item.split(\\'_\\')[0];\\n                key = key.match(/^search-ui-pc\\\\/(.+)/)[1].replace(/\\\\//g, \\'_\\');\\n                list[key] = item;\\n            });\\n            return list;\\n        }\\n    })();\\n</script>\\n\\n\\t\\n\\t\\t\\n\\n\\n\\t\\n\\n\\t\\n\\t\\t\\n\\t\\t\\t\\t\\n\\t\\n\\n\\t\\n\\t<script>\\r\\n    A.merge(\"right_toplist1\",function(){A.setup(function(){var _this=this,$tb=_this.find(\"tbody\"),$refresh=_this.find(\".toplist-refresh-btn\"),$a=_this.find(\".FYB_RD tbody a\"),currentPage=0;if(_this.data.num>0)$refresh.on(\"click\",function(e){if(currentPage<_this.data.num-1)++currentPage;else currentPage=0;$tb.hide(),$tb.eq(currentPage).show(),e.preventDefault()});$a.each(function(i){$a.eq(i).attr(\"href\",$a.eq(i).attr(\"href\")+\"&rqid=\"+window.bds.comm.qid)});var pn=15,reRender=function(){var $tr=_this.find(\"tr\"),reg=new RegExp(\"(^|&)rsf=([^&]*)\",\"i\");$tb.each(function(i){$tb.eq(i).html($tr.slice(i*pn,Math.min((i+1)*pn),$tr.length-i*pn))}),_this.data.num=Math.ceil($tr.length/pn),$a.each(function(i){var new_href=$a.eq(i).attr(\"href\").replace(reg,function(value){var valueArr=value.slice(5).split(\"_\");if(valueArr[3]%15==0)valueArr[1]=valueArr[3]-14,valueArr[2]=valueArr[3];else if(valueArr[1]=valueArr[3]-valueArr[3]%15+1,valueArr[2]=valueArr[3]-valueArr[3]%15+15,valueArr[2]>$a.length)valueArr[2]=$a.length;return\"&rsf=\"+valueArr.join(\"_\")});$a.eq(i).attr(\"href\",new_href)})};$(window).on(\"swap_end\",function(e,cacheItem){if(1===$(\"#con-ar\").children(\".result-op\").length&&!$(\"#con-ar\").hasClass(\"nocontent\"))reRender()})});});\\r\\nbds.comm.resultPage = 1;\\r\\nbds._base64 = {\\r\\n     domain : \"http://b1.bdstatic.com/\",\\r\\n     b64Exp : -1,\\r\\n     pdc : 0\\r\\n};\\r\\nif(bds.comm.supportis){\\r\\n    window.__restart_confirm_timeout=true;\\r\\n    window.__confirm_timeout=8000;\\r\\n    window.__disable_is_guide=true;\\r\\n    window.__disable_swap_to_empty=true;\\r\\n}\\r\\ninitPreload({\\r\\n    \\'isui\\':true,\\r\\n    \\'index_form\\':\"#form\",\\r\\n    \\'index_kw\\':\"#kw\",\\r\\n    \\'result_form\\':\"#form\",\\r\\n    \\'result_kw\\':\"#kw\"\\r\\n});\\r\\n</script>\\r\\n\\n\\t\\n\\n\\t\\n<script type=\"text/javascript\">\\n(function () {\\n    bds.amd.addConfig({\"paths\":{\"search-ui/v2/core\":\"//www.baidu.com/cache/atom/search-ui/v2/core_4f18d6d\",\"search-ui/v2/few\":\"//www.baidu.com/cache/atom/search-ui/v2/few_708d2f8\",\"search-ui/v2/enhance\":\"//www.baidu.com/cache/atom/search-ui/v2/enhance_cd0044d\"},\"bundles\":{\"search-ui/v2/core\":[\"search-ui/v2/Aladdin/Aladdin\",\"search-ui/v2/Button/BtnLayout\",\"search-ui/v2/Button/Button\",\"search-ui/v2/Divider/Divider\",\"search-ui/v2/Footer/Footer\",\"search-ui/v2/Footer/MipIcon\",\"search-ui/v2/Icon/Icon\",\"search-ui/v2/Image/Image\",\"search-ui/v2/Image/ImageMask\",\"search-ui/v2/KgFooter/KgFooter\",\"search-ui/v2/KgHeader/KgHeader\",\"search-ui/v2/Label/Label\",\"search-ui/v2/Line/Line\",\"search-ui/v2/Link/Link\",\"search-ui/v2/List/List\",\"search-ui/v2/List/ListItem\",\"search-ui/v2/Loading/Loading\",\"search-ui/v2/More/More\",\"search-ui/v2/Navs/ListMore\",\"search-ui/v2/Navs/Navs\",\"search-ui/v2/Navs/NavsCommon\",\"search-ui/v2/Navs/NavsScroll\",\"search-ui/v2/Row/Row\",\"search-ui/v2/Row/Span\",\"search-ui/v2/Scroll/Scroll\",\"search-ui/v2/Scroll/ScrollAuto\",\"search-ui/v2/Scroll/ScrollInner\",\"search-ui/v2/Scroll/ScrollItem\",\"search-ui/v2/Share/Share\",\"search-ui/v2/Sigma/Sigma\",\"search-ui/v2/Sigma/SigmaFooter\",\"search-ui/v2/Slink/Slink\",\"search-ui/v2/Tabs/Tabs\",\"search-ui/v2/Tabs/TabsContent\",\"search-ui/v2/Tabs/TabsItem\",\"search-ui/v2/TextLine/TextLine\",\"search-ui/v2/Timespan/Timespan\",\"search-ui/v2/Title/Title\",\"search-ui/v2/Title/TitleBase\",\"search-ui/v2/TouchableFeedback/TouchableFeedback\",\"search-ui/v2/TouchableFeedback/TouchableStop\",\"search-ui/v2/util/async\",\"search-ui/v2/util/deviceUtil\",\"search-ui/v2/util/domUtil\",\"search-ui/v2/util/orientationMixin\",\"search-ui/v2/util/stopIOSDoubleTapMixin\",\"search-ui/v2/util/stopScrollThroughMixin\",\"search-ui/v2/TooltipFuncBtn/TooltipFuncBtn\",\"search-ui/v2/Tooltip/Tooltip\",\"search-ui/v2/Popup/Popup\",\"search-ui/v2/Motion/Transition\",\"search-ui/v2/Motion/animations\",\"search-ui/v2/Toast/Toast\",\"search-ui/v2/Toast/ToastPopup\"],\"search-ui/v2/few\":[\"search-ui/v2/Calendar/Calendar\",\"search-ui/v2/Calendar/CalendarMonthItem\",\"search-ui/v2/Calendar/Mask\",\"search-ui/v2/Carousel/Carousel\",\"search-ui/v2/Carousel/CarouselFrame\",\"search-ui/v2/Carousel/CarouselItem\",\"search-ui/v2/Carousel/Indicator\",\"search-ui/v2/Cascader/Cascader\",\"search-ui/v2/ErrorPage/ErrorPage\",\"search-ui/v2/FilterEnhanced/BottomLayout\",\"search-ui/v2/FilterEnhanced/Checkbox\",\"search-ui/v2/FilterEnhanced/CustomLayout\",\"search-ui/v2/FilterEnhanced/Filter\",\"search-ui/v2/FilterEnhanced/FilterEnhanced\",\"search-ui/v2/FilterEnhanced/FilterFrame\",\"search-ui/v2/FilterEnhanced/ListLayout\",\"search-ui/v2/FilterEnhanced/Mask\",\"search-ui/v2/FilterEnhanced/MultiCheckbox\",\"search-ui/v2/FilterEnhanced/MultiLayout\",\"search-ui/v2/FilterEnhanced/MultiRangeInput\",\"search-ui/v2/FilterEnhanced/store\",\"search-ui/v2/FilterEnhanced/TagLayout\",\"search-ui/v2/ImageViewer/asset/js/animate-config\",\"search-ui/v2/ImageViewer/asset/js/animate\",\"search-ui/v2/ImageViewer/asset/js/link\",\"search-ui/v2/ImageViewer/asset/js/store\",\"search-ui/v2/ImageViewer/asset/js/touch-helper\",\"search-ui/v2/ImageViewer/asset/js/util\",\"search-ui/v2/ImageViewer/ImageViewer\",\"search-ui/v2/ImageViewer/ImageViewerClose\",\"search-ui/v2/ImageViewer/ImageViewerContent\",\"search-ui/v2/ImageViewer/ImageViewerImg\",\"search-ui/v2/ImageViewer/ImageViewerInfo\",\"search-ui/v2/ImageViewer/ImageViewerItem\",\"search-ui/v2/ImageViewer/ImageViewerZoom\",\"search-ui/v2/Tombstone/ImgTombstone\",\"search-ui/v2/Tombstone/ImgTombstoneItem\",\"search-ui/v2/Tombstone/Tombstone\",\"search-ui/v2/Tombstone/TombstoneItem\",\"search-ui/v2/Waterfall/ImgItem\",\"search-ui/v2/Waterfall/Waterfall\"],\"search-ui/v2/enhance\":[\"search-ui/v2/AnimateIcon/Arrow\",\"search-ui/v2/AnimateIcon/Triangle\",\"search-ui/v2/Article/Article\",\"search-ui/v2/Article/ArticleExtInfo\",\"search-ui/v2/Audio/Audio\",\"search-ui/v2/Content/Content\",\"search-ui/v2/Dialog/Dialog\",\"search-ui/v2/Drawer/Drawer\",\"search-ui/v2/Dropdown/Dropdown\",\"search-ui/v2/Dropdown/DropdownEnhanced\",\"search-ui/v2/Filter/Filter\",\"search-ui/v2/Filter/FilterListPanel\",\"search-ui/v2/Filter/FilterMultiListPanel\",\"search-ui/v2/Filter/FilterNormal\",\"search-ui/v2/Filter/FilterRangeInput\",\"search-ui/v2/Filter/FilterThreeListPanel\",\"search-ui/v2/Filter/FilterTwoListPanel\",\"search-ui/v2/FilterSimple/FilterSimple\",\"search-ui/v2/FilterSimple/FilterTagLayout\",\"search-ui/v2/FilterSimple/FilterTagLayoutItem\",\"search-ui/v2/ImageViewerSimple/Base\",\"search-ui/v2/ImageViewerSimple/ImageViewerSimple\",\"search-ui/v2/ImageViewerSimple/Toolbar\",\"search-ui/v2/ImgContent/ImgContent\",\"search-ui/v2/InfiniteScroll/InfiniteScroll\",\"search-ui/v2/InfiniteScroll/InfiniteScrollBottomBar\",\"search-ui/v2/Input/Input\",\"search-ui/v2/Input/RangeInput\",\"search-ui/v2/LetterSort/LetterSort\",\"search-ui/v2/LetterSort/LetterSortToast\",\"search-ui/v2/ListArticle/ListArticle\",\"search-ui/v2/ListResult/ListResult\",\"search-ui/v2/Lottie/Lottie\",\"search-ui/v2/Mask/Mask\",\"search-ui/v2/Motion/Animation\",\"search-ui/v2/Motion/Flip\",\"search-ui/v2/NewsArticle/NewsArticle\",\"search-ui/v2/PageScroll/PageScroll\",\"search-ui/v2/PageScroll/PageScrollItem\",\"search-ui/v2/PageScrollImgs/PageScrollImgs\",\"search-ui/v2/PageScrollImgs/PageScrollImgsItem\",\"search-ui/v2/PageScrollVideo/PageScrollVideo\",\"search-ui/v2/PullRefresh/PullRefresh\",\"search-ui/v2/Rec/Rec\",\"search-ui/v2/ScrollArticle/ScrollArticle\",\"search-ui/v2/ScrollArticle/ScrollArticleItem\",\"search-ui/v2/ScrollImgs/ScrollImgs\",\"search-ui/v2/ScrollImgs/ScrollImgsItem\",\"search-ui/v2/ScrollTwo/ScrollTwo\",\"search-ui/v2/ScrollTwoFrame/ScrollTwoFrame\",\"search-ui/v2/ScrollVideo/ScrollVideo\",\"search-ui/v2/Selector/Selector\",\"search-ui/v2/Selector/SelectorMulti\",\"search-ui/v2/Selector/SelectorRadio\",\"search-ui/v2/Source/Source\",\"search-ui/v2/Spread/Spread\",\"search-ui/v2/SpreadEnhanced/Spread\",\"search-ui/v2/SpreadEnhanced/SpreadBottomBtn\",\"search-ui/v2/SpreadEnhanced/SpreadEnhanced\",\"search-ui/v2/SpreadEnhanced/SpreadRightBottomBtn\",\"search-ui/v2/SpreadEnhanced/SpreadTopBtn\",\"search-ui/v2/Stars/Stars\",\"search-ui/v2/StitchImgs/StitchImgs\",\"search-ui/v2/StitchImgs/StitchImgsFive\",\"search-ui/v2/StitchImgs/StitchImgsRevertTwo\",\"search-ui/v2/StitchImgs/StitchImgsThree\",\"search-ui/v2/StitchImgs/StitchImgsTwo\",\"search-ui/v2/StrongLink/StrongLink\",\"search-ui/v2/Switch/Switch\",\"search-ui/v2/Table/Table\",\"search-ui/v2/TableGrid/TableGrid\",\"search-ui/v2/TagGroup/TagGroup\",\"search-ui/v2/Tags/SpreadTags\",\"search-ui/v2/Tags/TagItem\",\"search-ui/v2/Tags/Tags\",\"search-ui/v2/Tags/TagsContent\",\"search-ui/v2/Tags/TagsItem\",\"search-ui/v2/Tags/TagsWrapper\",\"search-ui/v2/ToTop/ToTop\",\"search-ui/v2/Video/Video\",\"search-ui/v2/Video/VideoCol\",\"search-ui/v2/Video/VideoContent\",\"search-ui/v2/Video/VideoThumbnail\"]}});\\n})();\\n</script>\\n\\n\\t\\n    \\n        <div class=\"foot-async-script\">\\n            <script defer src=\"//hectorstatic.baidu.com/cd37ed75a9387c5b.js\"></script>\\n    </div>\\n    \\n\\n\\n\\t\\n\\t\\t<script type=\"text/javascript\">_WWW_SRV_T =181.75;</script>\\n\\t\\n\\t\\n\\n</html>\\n\\n<!--cxy_ex+1623911997+3211792858+d41d8cd98f00b204e9800998ecf8427e--><!--cxy_all+baidu+21dd247cfc19a50e6fe2a20db5057f90+0000000000000000000000000000000000000000323316-->'"
      ]
     },
     "execution_count": 97,
     "metadata": {},
     "output_type": "execute_result"
    }
   ],
   "source": [
    "url = \"http://www.baidu.com/s?wd=asyncio&pn=20\"\n",
    "page = requests.get(url).text\n",
    "page"
   ]
  },
  {
   "cell_type": "code",
   "execution_count": 98,
   "metadata": {},
   "outputs": [],
   "source": [
    "parsed_page = fromstring(page)"
   ]
  },
  {
   "cell_type": "code",
   "execution_count": 110,
   "metadata": {},
   "outputs": [],
   "source": [
    "link_xpath = \"//h3/a\"\n",
    "title_xpath = \"//h3/a[not (@class)]/descendant-or-self::*/text()\"\n",
    "title_link_xpath = \"//h3/a[not (@class)]/@href\"\n",
    "abstract_xpath = \"//div[contains(@class, 'c-abstract')]/descendant-or-self::*/text()\"\n",
    "datetime_xpath = \"//span[contains(@class, '_3wnyfua')]/descendant-or-self::*/text()\"\n",
    "image_src_xpath = \"//span[contains(@class, 'c-img-border')]//preceding-sibling::img/@src\""
   ]
  },
  {
   "cell_type": "code",
   "execution_count": 103,
   "metadata": {},
   "outputs": [],
   "source": [
    "search_result_xpath = \"//div[contains(@class, 'result') and contains(@class, 'new-pmd')]\""
   ]
  },
  {
   "cell_type": "code",
   "execution_count": 114,
   "metadata": {},
   "outputs": [],
   "source": [
    "search_divs = parsed_page.xpath(title_link_xpath)"
   ]
  },
  {
   "cell_type": "code",
   "execution_count": 116,
   "metadata": {},
   "outputs": [
    {
     "data": {
      "text/plain": [
       "['http://www.baidu.com/link?url=EqwgVpg9laQ94l3eAMhNXczPU86oWPkEDnuSOWU50TkxWnR6s38ECnV_2564Sh4JQHm-eEUtLiijcqynL_r-cK',\n",
       " 'http://www.baidu.com/link?url=RBGcSFajas52tJ3UFWLiqyL80PAGvPWbtwG1traHY48j1EGCmd2iZo2RHTkvOJBv5e8lRmy630mY4OqaxD1mDq',\n",
       " 'http://www.baidu.com/link?url=ZneqwMo_njrhuKUF1CPP7EjMuzKLEwxt7CxNVqx8xmmc9FNABYu2B8sdOEbkbDz5S3s_ODo3vyUNxSus3PaLJmL_5LUlbRey0xT2rW4s-8m',\n",
       " 'http://www.baidu.com/link?url=Cq2iPohbVzTvJ_PRHY2bivhGqGTaUZ3H-RfS3V9zNYVV-ZSeh_b30if6Y-4hCTAsq6_wu11d55GJFFMacZih3a',\n",
       " 'http://www.baidu.com/link?url=dla2yO1U3IhfDNYBO3Pk9nJRSeFc0WNy_thcX0uLnISzWIQpdcOLDnYEJdXSvsj-ocusRoT_c7Aq5nVZAu_vvK',\n",
       " 'http://www.baidu.com/link?url=9GeKMD6NtRz-C6_cxoTy3HBAVnMDyjRhzpHWwa7Aym6zIcr_p2N00yApcubyKnE6Wx45quX06VBDe4k4eHZykK',\n",
       " 'http://www.baidu.com/link?url=XKFHI7kbApl3act2Juetlro3bgpWHxhiS9d-JWfSbz6dDbX2UdeU5OURFMkiX2Hht0U_1aSxXV9vjoEl3tmWR1ZqklEIEaPjav1fybvUE4u',\n",
       " 'http://www.baidu.com/link?url=1-fGYI9sVMYkGtKf1s4C4Pk55EXd3EqYJcbby9Q0-98-FiLPRA2lv1qnjq7mSw-j',\n",
       " 'http://www.baidu.com/link?url=RO2R-cLb-h7pAp8uwQJZTNi_Ff9YSpLvSdaX00Qm7jFf6R7uvlrBvRX3AjKNXqE-',\n",
       " 'http://www.baidu.com/link?url=0dSpMEB4ZLfsodinBqYgCBwGLuj3BMIPO8iWAQWWCthk9dGUNIsNjqJhmmtZKg2i']"
      ]
     },
     "execution_count": 116,
     "metadata": {},
     "output_type": "execute_result"
    }
   ],
   "source": [
    "search_divs"
   ]
  },
  {
   "cell_type": "code",
   "execution_count": 108,
   "metadata": {},
   "outputs": [
    {
     "data": {
      "text/plain": [
       "['asyncio',\n",
       " ' — Asynchronous I/O — Python 3.9.5 documentat...',\n",
       " 'asyncio',\n",
       " ' - 百鬼之主 - 博客园',\n",
       " 'asyncio',\n",
       " '_十年学会编程-CSDN博客',\n",
       " '怎么掌握',\n",
       " 'asyncio',\n",
       " '? - 知乎',\n",
       " 'asyncio',\n",
       " '_python协程系列-CSDN下载',\n",
       " 'Python 的异步 IO:',\n",
       " 'Asyncio',\n",
       " ' 简介_loop',\n",
       " 'python3 ',\n",
       " 'asyncio',\n",
       " '官方文档中文版.pdf',\n",
       " 'asyncio',\n",
       " ': ',\n",
       " 'asyncio',\n",
       " ' 是 Python 3.3 的 ',\n",
       " 'asyncio',\n",
       " ' 模块',\n",
       " 'asyncio',\n",
       " '_',\n",
       " 'asyncio',\n",
       " '是什么、最新动态_服务器之家',\n",
       " 'asyncio',\n",
       " '异步IO--协程(Coroutine)与任务(Task)详解_慕课手记']"
      ]
     },
     "execution_count": 108,
     "metadata": {},
     "output_type": "execute_result"
    }
   ],
   "source": [
    "search_divs[0].xpath(title_xpath)"
   ]
  },
  {
   "cell_type": "code",
   "execution_count": 109,
   "metadata": {},
   "outputs": [
    {
     "data": {
      "text/plain": [
       "['asyncio',\n",
       " ' — Asynchronous I/O — Python 3.9.5 documentat...',\n",
       " 'asyncio',\n",
       " ' - 百鬼之主 - 博客园',\n",
       " 'asyncio',\n",
       " '_十年学会编程-CSDN博客',\n",
       " '怎么掌握',\n",
       " 'asyncio',\n",
       " '? - 知乎',\n",
       " 'asyncio',\n",
       " '_python协程系列-CSDN下载',\n",
       " 'Python 的异步 IO:',\n",
       " 'Asyncio',\n",
       " ' 简介_loop',\n",
       " 'python3 ',\n",
       " 'asyncio',\n",
       " '官方文档中文版.pdf',\n",
       " 'asyncio',\n",
       " ': ',\n",
       " 'asyncio',\n",
       " ' 是 Python 3.3 的 ',\n",
       " 'asyncio',\n",
       " ' 模块',\n",
       " 'asyncio',\n",
       " '_',\n",
       " 'asyncio',\n",
       " '是什么、最新动态_服务器之家',\n",
       " 'asyncio',\n",
       " '异步IO--协程(Coroutine)与任务(Task)详解_慕课手记']"
      ]
     },
     "execution_count": 109,
     "metadata": {},
     "output_type": "execute_result"
    }
   ],
   "source": [
    "search_divs[1].xpath(title_xpath)"
   ]
  },
  {
   "cell_type": "code",
   "execution_count": 163,
   "metadata": {},
   "outputs": [],
   "source": [
    "def gen(value):\n",
    "    for v in [value,value,value]:\n",
    "        yield v\n",
    "\n",
    "gens = []\n",
    "\n",
    "for i in range(5):\n",
    "    gens.append(gen(i))\n",
    "    "
   ]
  },
  {
   "cell_type": "code",
   "execution_count": 164,
   "metadata": {},
   "outputs": [
    {
     "data": {
      "text/plain": [
       "[<generator object gen at 0x10d242228>,\n",
       " <generator object gen at 0x10d2422a0>,\n",
       " <generator object gen at 0x10d242318>,\n",
       " <generator object gen at 0x10d242390>,\n",
       " <generator object gen at 0x10d242408>]"
      ]
     },
     "execution_count": 164,
     "metadata": {},
     "output_type": "execute_result"
    }
   ],
   "source": [
    "gens"
   ]
  },
  {
   "cell_type": "code",
   "execution_count": 165,
   "metadata": {},
   "outputs": [
    {
     "ename": "ValueError",
     "evalue": "too many values to unpack (expected 3)",
     "output_type": "error",
     "traceback": [
      "\u001b[0;31m---------------------------------------------------------------------------\u001b[0m",
      "\u001b[0;31mValueError\u001b[0m                                Traceback (most recent call last)",
      "\u001b[0;32m<ipython-input-165-3b8635cc1cb6>\u001b[0m in \u001b[0;36m<module>\u001b[0;34m\u001b[0m\n\u001b[0;32m----> 1\u001b[0;31m \u001b[0ma\u001b[0m\u001b[0;34m,\u001b[0m \u001b[0mb\u001b[0m\u001b[0;34m,\u001b[0m \u001b[0mc\u001b[0m \u001b[0;34m=\u001b[0m \u001b[0mgens\u001b[0m\u001b[0;34m\u001b[0m\u001b[0;34m\u001b[0m\u001b[0m\n\u001b[0m",
      "\u001b[0;31mValueError\u001b[0m: too many values to unpack (expected 3)"
     ]
    }
   ],
   "source": [
    "# a, b, c = gens"
   ]
  },
  {
   "cell_type": "code",
   "execution_count": 158,
   "metadata": {},
   "outputs": [
    {
     "data": {
      "text/plain": [
       "0"
      ]
     },
     "execution_count": 158,
     "metadata": {},
     "output_type": "execute_result"
    }
   ],
   "source": [
    "a.__next__()"
   ]
  },
  {
   "cell_type": "code",
   "execution_count": 153,
   "metadata": {},
   "outputs": [],
   "source": [
    "from itertools import zip_longest"
   ]
  },
  {
   "cell_type": "code",
   "execution_count": 166,
   "metadata": {},
   "outputs": [
    {
     "data": {
      "text/plain": [
       "[(0, 1, 2, 3, 4), (0, 1, 2, 3, 4), (0, 1, 2, 3, 4)]"
      ]
     },
     "execution_count": 166,
     "metadata": {},
     "output_type": "execute_result"
    }
   ],
   "source": [
    "list(zip_longest(*gens))"
   ]
  },
  {
   "cell_type": "code",
   "execution_count": 167,
   "metadata": {},
   "outputs": [
    {
     "name": "stdout",
     "output_type": "stream",
     "text": [
      "1 4\n",
      "2 5\n",
      "3 6\n"
     ]
    }
   ],
   "source": [
    "for a,b in zip((1,2,3),[4,5,6]):\n",
    "    print(a,b)"
   ]
  },
  {
   "cell_type": "code",
   "execution_count": 5,
   "metadata": {},
   "outputs": [],
   "source": [
    "from pydantic import BaseModel\n",
    "from typing import Optional, List\n",
    "from datetime import datetime, date"
   ]
  },
  {
   "cell_type": "code",
   "execution_count": 6,
   "metadata": {},
   "outputs": [],
   "source": [
    "class TimeRange(BaseModel):\n",
    "    past_days: Optional[int]\n",
    "    date_before: Optional[date]\n",
    "    date_after: Optional[date]"
   ]
  },
  {
   "cell_type": "code",
   "execution_count": 7,
   "metadata": {},
   "outputs": [
    {
     "data": {
      "text/plain": [
       "\u001b[0;31mInit signature:\u001b[0m \u001b[0mdate\u001b[0m\u001b[0;34m(\u001b[0m\u001b[0mself\u001b[0m\u001b[0;34m,\u001b[0m \u001b[0;34m/\u001b[0m\u001b[0;34m,\u001b[0m \u001b[0;34m*\u001b[0m\u001b[0margs\u001b[0m\u001b[0;34m,\u001b[0m \u001b[0;34m**\u001b[0m\u001b[0mkwargs\u001b[0m\u001b[0;34m)\u001b[0m\u001b[0;34m\u001b[0m\u001b[0;34m\u001b[0m\u001b[0m\n",
       "\u001b[0;31mDocstring:\u001b[0m      date(year, month, day) --> date object\n",
       "\u001b[0;31mFile:\u001b[0m           ~/anaconda3/lib/python3.7/datetime.py\n",
       "\u001b[0;31mType:\u001b[0m           type\n",
       "\u001b[0;31mSubclasses:\u001b[0m     datetime\n"
      ]
     },
     "metadata": {},
     "output_type": "display_data"
    }
   ],
   "source": [
    "date?"
   ]
  },
  {
   "cell_type": "code",
   "execution_count": 14,
   "metadata": {},
   "outputs": [],
   "source": [
    "tr_dict = {\n",
    "    'date_after': '2021-01-01',\n",
    "    'date_before': '2021-06-01',\n",
    "}"
   ]
  },
  {
   "cell_type": "code",
   "execution_count": 15,
   "metadata": {},
   "outputs": [
    {
     "data": {
      "text/plain": [
       "TimeRange(past_days=None, date_before=datetime.date(2021, 6, 1), date_after=datetime.date(2021, 1, 1))"
      ]
     },
     "execution_count": 15,
     "metadata": {},
     "output_type": "execute_result"
    }
   ],
   "source": [
    "TimeRange.parse_obj(tr_dict)"
   ]
  },
  {
   "cell_type": "code",
   "execution_count": 16,
   "metadata": {},
   "outputs": [],
   "source": [
    "from dateutil.parser import parse"
   ]
  },
  {
   "cell_type": "code",
   "execution_count": 17,
   "metadata": {},
   "outputs": [
    {
     "data": {
      "text/plain": [
       "datetime.datetime(2003, 12, 20, 0, 0)"
      ]
     },
     "execution_count": 17,
     "metadata": {},
     "output_type": "execute_result"
    }
   ],
   "source": [
    "parse(\"201203\")"
   ]
  },
  {
   "cell_type": "code",
   "execution_count": 18,
   "metadata": {},
   "outputs": [
    {
     "ename": "TypeError",
     "evalue": "can't compare datetime.datetime to datetime.date",
     "output_type": "error",
     "traceback": [
      "\u001b[0;31m---------------------------------------------------------------------------\u001b[0m",
      "\u001b[0;31mTypeError\u001b[0m                                 Traceback (most recent call last)",
      "\u001b[0;32m<ipython-input-18-09a94047de7f>\u001b[0m in \u001b[0;36m<module>\u001b[0;34m\u001b[0m\n\u001b[0;32m----> 1\u001b[0;31m \u001b[0mdate\u001b[0m\u001b[0;34m(\u001b[0m\u001b[0;36m2012\u001b[0m\u001b[0;34m,\u001b[0m\u001b[0;36m1\u001b[0m\u001b[0;34m,\u001b[0m\u001b[0;36m2\u001b[0m\u001b[0;34m)\u001b[0m\u001b[0;34m>\u001b[0m\u001b[0mparse\u001b[0m\u001b[0;34m(\u001b[0m\u001b[0;34m\"201203\"\u001b[0m\u001b[0;34m)\u001b[0m\u001b[0;34m\u001b[0m\u001b[0;34m\u001b[0m\u001b[0m\n\u001b[0m",
      "\u001b[0;31mTypeError\u001b[0m: can't compare datetime.datetime to datetime.date"
     ]
    }
   ],
   "source": [
    "date(2012,1,2)>parse(\"201203\")"
   ]
  },
  {
   "cell_type": "code",
   "execution_count": 34,
   "metadata": {},
   "outputs": [],
   "source": [
    "url = \"http://www.tianqihoubao.com/lishi/wuhan/20170201.html\""
   ]
  },
  {
   "cell_type": "code",
   "execution_count": 20,
   "metadata": {},
   "outputs": [],
   "source": [
    "import re"
   ]
  },
  {
   "cell_type": "code",
   "execution_count": 36,
   "metadata": {},
   "outputs": [
    {
     "data": {
      "text/plain": [
       "'20170201'"
      ]
     },
     "execution_count": 36,
     "metadata": {},
     "output_type": "execute_result"
    }
   ],
   "source": [
    "date_str = re.findall(\"\\d{6,8}\", url)[0]\n",
    "date_str"
   ]
  },
  {
   "cell_type": "code",
   "execution_count": 41,
   "metadata": {},
   "outputs": [
    {
     "data": {
      "text/plain": [
       "'02'"
      ]
     },
     "execution_count": 41,
     "metadata": {},
     "output_type": "execute_result"
    }
   ],
   "source": [
    "date_str[4:6]"
   ]
  },
  {
   "cell_type": "code",
   "execution_count": 26,
   "metadata": {},
   "outputs": [],
   "source": [
    "date_pattern = re.compile(\"\\d{6}\")"
   ]
  },
  {
   "cell_type": "code",
   "execution_count": 28,
   "metadata": {},
   "outputs": [
    {
     "data": {
      "text/plain": [
       "[]"
      ]
     },
     "execution_count": 28,
     "metadata": {},
     "output_type": "execute_result"
    }
   ],
   "source": [
    "date_pattern.findall('a')"
   ]
  },
  {
   "cell_type": "code",
   "execution_count": 29,
   "metadata": {},
   "outputs": [
    {
     "ename": "TypeError",
     "evalue": "function missing required argument 'day' (pos 3)",
     "output_type": "error",
     "traceback": [
      "\u001b[0;31m---------------------------------------------------------------------------\u001b[0m",
      "\u001b[0;31mTypeError\u001b[0m                                 Traceback (most recent call last)",
      "\u001b[0;32m<ipython-input-29-ff80d529c3cb>\u001b[0m in \u001b[0;36m<module>\u001b[0;34m\u001b[0m\n\u001b[0;32m----> 1\u001b[0;31m \u001b[0mdate\u001b[0m\u001b[0;34m(\u001b[0m\u001b[0;36m2012\u001b[0m\u001b[0;34m,\u001b[0m\u001b[0;36m1\u001b[0m\u001b[0;34m)\u001b[0m\u001b[0;34m\u001b[0m\u001b[0;34m\u001b[0m\u001b[0m\n\u001b[0m",
      "\u001b[0;31mTypeError\u001b[0m: function missing required argument 'day' (pos 3)"
     ]
    }
   ],
   "source": [
    "date(2012,1)"
   ]
  },
  {
   "cell_type": "code",
   "execution_count": 33,
   "metadata": {},
   "outputs": [
    {
     "data": {
      "text/plain": [
       "True"
      ]
     },
     "execution_count": 33,
     "metadata": {},
     "output_type": "execute_result"
    }
   ],
   "source": [
    "datetime(int(date_str[:4]), int(date_str[-1]),1) < datetime.now()"
   ]
  },
  {
   "cell_type": "code",
   "execution_count": 37,
   "metadata": {},
   "outputs": [
    {
     "data": {
      "text/plain": [
       "1"
      ]
     },
     "execution_count": 37,
     "metadata": {},
     "output_type": "execute_result"
    }
   ],
   "source": [
    "int('01')"
   ]
  },
  {
   "cell_type": "code",
   "execution_count": 42,
   "metadata": {},
   "outputs": [
    {
     "data": {
      "text/plain": [
       "'武'"
      ]
     },
     "execution_count": 42,
     "metadata": {},
     "output_type": "execute_result"
    }
   ],
   "source": [
    "\"武汉历史天气预报\"[0:1]"
   ]
  },
  {
   "cell_type": "code",
   "execution_count": 43,
   "metadata": {},
   "outputs": [],
   "source": [
    "p = re.compile('\\d{6,8}')"
   ]
  },
  {
   "cell_type": "code",
   "execution_count": 44,
   "metadata": {},
   "outputs": [
    {
     "data": {
      "text/plain": [
       "['20170201']"
      ]
     },
     "execution_count": 44,
     "metadata": {},
     "output_type": "execute_result"
    }
   ],
   "source": [
    "p.findall(url)"
   ]
  },
  {
   "cell_type": "code",
   "execution_count": 45,
   "metadata": {},
   "outputs": [],
   "source": [
    "d1 = datetime(2020,12,1)\n",
    "d2 = datetime(2021,2,1)\n",
    "d3 = datetime.now()"
   ]
  },
  {
   "cell_type": "code",
   "execution_count": 47,
   "metadata": {},
   "outputs": [
    {
     "data": {
      "text/plain": [
       "True"
      ]
     },
     "execution_count": 47,
     "metadata": {},
     "output_type": "execute_result"
    }
   ],
   "source": [
    "d1 <= d2 <= d3"
   ]
  },
  {
   "cell_type": "code",
   "execution_count": 48,
   "metadata": {},
   "outputs": [],
   "source": [
    "s = \"暴雨\\r\\n                                        /中雨\""
   ]
  },
  {
   "cell_type": "code",
   "execution_count": 52,
   "metadata": {},
   "outputs": [
    {
     "data": {
      "text/plain": [
       "'暴雨/中雨'"
      ]
     },
     "execution_count": 52,
     "metadata": {},
     "output_type": "execute_result"
    }
   ],
   "source": [
    "s.replace(\"\\r\\n \", \"\").replace(\" \", \"\")"
   ]
  },
  {
   "cell_type": "code",
   "execution_count": 53,
   "metadata": {},
   "outputs": [],
   "source": [
    "def relative_url_distance(a, b):\n",
    "    pass"
   ]
  },
  {
   "cell_type": "code",
   "execution_count": 87,
   "metadata": {},
   "outputs": [],
   "source": [
    "u1 = \"http://www.tianqihoubao.com/lishi/\"\n",
    "u2 = \"http://www.tianqihoubao.com/lishi//wuhan/month//201603.html\""
   ]
  },
  {
   "cell_type": "code",
   "execution_count": 59,
   "metadata": {},
   "outputs": [
    {
     "data": {
      "text/plain": [
       "True"
      ]
     },
     "execution_count": 59,
     "metadata": {},
     "output_type": "execute_result"
    }
   ],
   "source": [
    "u2.startswith(u1)"
   ]
  },
  {
   "cell_type": "code",
   "execution_count": 84,
   "metadata": {},
   "outputs": [],
   "source": [
    "pu1 = re.compile(u1)"
   ]
  },
  {
   "cell_type": "code",
   "execution_count": 89,
   "metadata": {},
   "outputs": [
    {
     "data": {
      "text/plain": [
       "<re.Match object; span=(0, 34), match='http://www.tianqihoubao.com/lishi/'>"
      ]
     },
     "execution_count": 89,
     "metadata": {},
     "output_type": "execute_result"
    }
   ],
   "source": [
    "match = pu1.search(u2)\n",
    "match"
   ]
  },
  {
   "cell_type": "code",
   "execution_count": 90,
   "metadata": {},
   "outputs": [],
   "source": [
    "start, end = match.span()"
   ]
  },
  {
   "cell_type": "code",
   "execution_count": 97,
   "metadata": {},
   "outputs": [
    {
     "data": {
      "text/plain": [
       "'/wuhan/month//201603.html'"
      ]
     },
     "execution_count": 97,
     "metadata": {},
     "output_type": "execute_result"
    }
   ],
   "source": [
    "u2[end:]"
   ]
  },
  {
   "cell_type": "code",
   "execution_count": 96,
   "metadata": {},
   "outputs": [
    {
     "data": {
      "text/plain": [
       "['', 'wuhan', 'month', '', '201603.html']"
      ]
     },
     "execution_count": 96,
     "metadata": {},
     "output_type": "execute_result"
    }
   ],
   "source": [
    "u2[end:].split(\"/\")"
   ]
  },
  {
   "cell_type": "code",
   "execution_count": 100,
   "metadata": {},
   "outputs": [
    {
     "data": {
      "text/plain": [
       "['', 'wuhan', 'month', '', '201603.html']"
      ]
     },
     "execution_count": 100,
     "metadata": {},
     "output_type": "execute_result"
    }
   ],
   "source": [
    "re.split(\"/\", u2[end:])"
   ]
  },
  {
   "cell_type": "code",
   "execution_count": 76,
   "metadata": {},
   "outputs": [
    {
     "data": {
      "text/plain": [
       "True"
      ]
     },
     "execution_count": 76,
     "metadata": {},
     "output_type": "execute_result"
    }
   ],
   "source": [
    "0 < float('inf')"
   ]
  },
  {
   "cell_type": "code",
   "execution_count": 104,
   "metadata": {},
   "outputs": [
    {
     "data": {
      "text/plain": [
       "3"
      ]
     },
     "execution_count": 104,
     "metadata": {},
     "output_type": "execute_result"
    }
   ],
   "source": [
    "len([s for s in u2[end:].split(\"/\") if len(s)])"
   ]
  },
  {
   "cell_type": "code",
   "execution_count": 111,
   "metadata": {},
   "outputs": [
    {
     "data": {
      "text/plain": [
       "3"
      ]
     },
     "execution_count": 111,
     "metadata": {},
     "output_type": "execute_result"
    }
   ],
   "source": [
    "len(list(filter(len, u2[end:].split(\"/\"))))"
   ]
  },
  {
   "cell_type": "code",
   "execution_count": 112,
   "metadata": {},
   "outputs": [
    {
     "data": {
      "text/plain": [
       "3"
      ]
     },
     "execution_count": 112,
     "metadata": {},
     "output_type": "execute_result"
    }
   ],
   "source": [
    "len([s for s in u2[end:].split(\"/\") if len(s) > 0])"
   ]
  },
  {
   "cell_type": "code",
   "execution_count": 126,
   "metadata": {},
   "outputs": [],
   "source": [
    "u3 = \"'http://www.tianqihoubao.com/lishi/jingzhou.html'\""
   ]
  },
  {
   "cell_type": "code",
   "execution_count": 124,
   "metadata": {},
   "outputs": [],
   "source": [
    "def calculate_depth(url, start_url_pattern) -> float:\n",
    "        \"\"\" Calculate depth relative to the start url \"\"\"\n",
    "        common_root_matched = start_url_pattern.search(url)\n",
    "        print(common_root_matched)\n",
    "        if common_root_matched is None:\n",
    "            # current url has no common root with the start url\n",
    "            return float('inf')\n",
    "        else:\n",
    "            _, end = common_root_matched.span()\n",
    "            relative_url = url[end:]\n",
    "            depth = len([s for s in relative_url.split(\"/\")\n",
    "                         if len(s) > 0])\n",
    "            return depth"
   ]
  },
  {
   "cell_type": "code",
   "execution_count": 127,
   "metadata": {},
   "outputs": [
    {
     "name": "stdout",
     "output_type": "stream",
     "text": [
      "<re.Match object; span=(1, 35), match='http://www.tianqihoubao.com/lishi/'>\n"
     ]
    },
    {
     "data": {
      "text/plain": [
       "1"
      ]
     },
     "execution_count": 127,
     "metadata": {},
     "output_type": "execute_result"
    }
   ],
   "source": [
    "calculate_depth(u3, pu1)"
   ]
  },
  {
   "cell_type": "code",
   "execution_count": 115,
   "metadata": {},
   "outputs": [
    {
     "data": {
      "text/plain": [
       "'http://www.tianqihoubao.com/lishi//wuhan/month//201603.html'"
      ]
     },
     "execution_count": 115,
     "metadata": {},
     "output_type": "execute_result"
    }
   ],
   "source": [
    "u2"
   ]
  },
  {
   "cell_type": "code",
   "execution_count": null,
   "metadata": {},
   "outputs": [],
   "source": []
  }
 ],
 "metadata": {
  "kernelspec": {
   "display_name": "Python 3",
   "language": "python",
   "name": "python3"
  },
  "language_info": {
   "codemirror_mode": {
    "name": "ipython",
    "version": 3
   },
   "file_extension": ".py",
   "mimetype": "text/x-python",
   "name": "python",
   "nbconvert_exporter": "python",
   "pygments_lexer": "ipython3",
   "version": "3.7.7"
  }
 },
 "nbformat": 4,
 "nbformat_minor": 4
}
